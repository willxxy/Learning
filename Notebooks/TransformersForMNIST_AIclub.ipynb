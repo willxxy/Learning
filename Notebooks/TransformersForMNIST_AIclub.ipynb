{
  "nbformat": 4,
  "nbformat_minor": 0,
  "metadata": {
    "colab": {
      "name": "TransformersForMNIST_AIclub.ipynb",
      "provenance": [],
      "collapsed_sections": []
    },
    "kernelspec": {
      "name": "python3",
      "display_name": "Python 3"
    },
    "language_info": {
      "name": "python"
    },
    "accelerator": "GPU",
    "widgets": {
      "application/vnd.jupyter.widget-state+json": {
        "9157bf74996b498bb567e8cbde585d14": {
          "model_module": "@jupyter-widgets/controls",
          "model_name": "HBoxModel",
          "model_module_version": "1.5.0",
          "state": {
            "_view_name": "HBoxView",
            "_dom_classes": [],
            "_model_name": "HBoxModel",
            "_view_module": "@jupyter-widgets/controls",
            "_model_module_version": "1.5.0",
            "_view_count": null,
            "_view_module_version": "1.5.0",
            "box_style": "",
            "layout": "IPY_MODEL_223808ddddf3489a87fed3d18606c46b",
            "_model_module": "@jupyter-widgets/controls",
            "children": [
              "IPY_MODEL_52b9ca3dfae447d684f10c33f1b56216",
              "IPY_MODEL_d746a1c1e219408a8ca1e884f4c1cc61",
              "IPY_MODEL_7d8e23442a704da3aa1c69b391c8cbe6"
            ]
          }
        },
        "223808ddddf3489a87fed3d18606c46b": {
          "model_module": "@jupyter-widgets/base",
          "model_name": "LayoutModel",
          "model_module_version": "1.2.0",
          "state": {
            "_view_name": "LayoutView",
            "grid_template_rows": null,
            "right": null,
            "justify_content": null,
            "_view_module": "@jupyter-widgets/base",
            "overflow": null,
            "_model_module_version": "1.2.0",
            "_view_count": null,
            "flex_flow": null,
            "width": null,
            "min_width": null,
            "border": null,
            "align_items": null,
            "bottom": null,
            "_model_module": "@jupyter-widgets/base",
            "top": null,
            "grid_column": null,
            "overflow_y": null,
            "overflow_x": null,
            "grid_auto_flow": null,
            "grid_area": null,
            "grid_template_columns": null,
            "flex": null,
            "_model_name": "LayoutModel",
            "justify_items": null,
            "grid_row": null,
            "max_height": null,
            "align_content": null,
            "visibility": null,
            "align_self": null,
            "height": null,
            "min_height": null,
            "padding": null,
            "grid_auto_rows": null,
            "grid_gap": null,
            "max_width": null,
            "order": null,
            "_view_module_version": "1.2.0",
            "grid_template_areas": null,
            "object_position": null,
            "object_fit": null,
            "grid_auto_columns": null,
            "margin": null,
            "display": null,
            "left": null
          }
        },
        "52b9ca3dfae447d684f10c33f1b56216": {
          "model_module": "@jupyter-widgets/controls",
          "model_name": "HTMLModel",
          "model_module_version": "1.5.0",
          "state": {
            "_view_name": "HTMLView",
            "style": "IPY_MODEL_e4b2deb04313459cad55126ddfab5bdc",
            "_dom_classes": [],
            "description": "",
            "_model_name": "HTMLModel",
            "placeholder": "​",
            "_view_module": "@jupyter-widgets/controls",
            "_model_module_version": "1.5.0",
            "value": "",
            "_view_count": null,
            "_view_module_version": "1.5.0",
            "description_tooltip": null,
            "_model_module": "@jupyter-widgets/controls",
            "layout": "IPY_MODEL_aed1cc43245a4c438b3ea69f3ffcaf96"
          }
        },
        "d746a1c1e219408a8ca1e884f4c1cc61": {
          "model_module": "@jupyter-widgets/controls",
          "model_name": "FloatProgressModel",
          "model_module_version": "1.5.0",
          "state": {
            "_view_name": "ProgressView",
            "style": "IPY_MODEL_4c1ed949bc5748d2b4006d19b9d8b779",
            "_dom_classes": [],
            "description": "",
            "_model_name": "FloatProgressModel",
            "bar_style": "success",
            "max": 9912422,
            "_view_module": "@jupyter-widgets/controls",
            "_model_module_version": "1.5.0",
            "value": 9912422,
            "_view_count": null,
            "_view_module_version": "1.5.0",
            "orientation": "horizontal",
            "min": 0,
            "description_tooltip": null,
            "_model_module": "@jupyter-widgets/controls",
            "layout": "IPY_MODEL_79bedd3dc9b74507bf8b4377d1d0bcb5"
          }
        },
        "7d8e23442a704da3aa1c69b391c8cbe6": {
          "model_module": "@jupyter-widgets/controls",
          "model_name": "HTMLModel",
          "model_module_version": "1.5.0",
          "state": {
            "_view_name": "HTMLView",
            "style": "IPY_MODEL_4fe649a878f844549226dc79215753e2",
            "_dom_classes": [],
            "description": "",
            "_model_name": "HTMLModel",
            "placeholder": "​",
            "_view_module": "@jupyter-widgets/controls",
            "_model_module_version": "1.5.0",
            "value": " 9913344/? [00:00&lt;00:00, 22695202.87it/s]",
            "_view_count": null,
            "_view_module_version": "1.5.0",
            "description_tooltip": null,
            "_model_module": "@jupyter-widgets/controls",
            "layout": "IPY_MODEL_9b5b4440f72b46b3aba4cff5aceb0512"
          }
        },
        "e4b2deb04313459cad55126ddfab5bdc": {
          "model_module": "@jupyter-widgets/controls",
          "model_name": "DescriptionStyleModel",
          "model_module_version": "1.5.0",
          "state": {
            "_view_name": "StyleView",
            "_model_name": "DescriptionStyleModel",
            "description_width": "",
            "_view_module": "@jupyter-widgets/base",
            "_model_module_version": "1.5.0",
            "_view_count": null,
            "_view_module_version": "1.2.0",
            "_model_module": "@jupyter-widgets/controls"
          }
        },
        "aed1cc43245a4c438b3ea69f3ffcaf96": {
          "model_module": "@jupyter-widgets/base",
          "model_name": "LayoutModel",
          "model_module_version": "1.2.0",
          "state": {
            "_view_name": "LayoutView",
            "grid_template_rows": null,
            "right": null,
            "justify_content": null,
            "_view_module": "@jupyter-widgets/base",
            "overflow": null,
            "_model_module_version": "1.2.0",
            "_view_count": null,
            "flex_flow": null,
            "width": null,
            "min_width": null,
            "border": null,
            "align_items": null,
            "bottom": null,
            "_model_module": "@jupyter-widgets/base",
            "top": null,
            "grid_column": null,
            "overflow_y": null,
            "overflow_x": null,
            "grid_auto_flow": null,
            "grid_area": null,
            "grid_template_columns": null,
            "flex": null,
            "_model_name": "LayoutModel",
            "justify_items": null,
            "grid_row": null,
            "max_height": null,
            "align_content": null,
            "visibility": null,
            "align_self": null,
            "height": null,
            "min_height": null,
            "padding": null,
            "grid_auto_rows": null,
            "grid_gap": null,
            "max_width": null,
            "order": null,
            "_view_module_version": "1.2.0",
            "grid_template_areas": null,
            "object_position": null,
            "object_fit": null,
            "grid_auto_columns": null,
            "margin": null,
            "display": null,
            "left": null
          }
        },
        "4c1ed949bc5748d2b4006d19b9d8b779": {
          "model_module": "@jupyter-widgets/controls",
          "model_name": "ProgressStyleModel",
          "model_module_version": "1.5.0",
          "state": {
            "_view_name": "StyleView",
            "_model_name": "ProgressStyleModel",
            "description_width": "",
            "_view_module": "@jupyter-widgets/base",
            "_model_module_version": "1.5.0",
            "_view_count": null,
            "_view_module_version": "1.2.0",
            "bar_color": null,
            "_model_module": "@jupyter-widgets/controls"
          }
        },
        "79bedd3dc9b74507bf8b4377d1d0bcb5": {
          "model_module": "@jupyter-widgets/base",
          "model_name": "LayoutModel",
          "model_module_version": "1.2.0",
          "state": {
            "_view_name": "LayoutView",
            "grid_template_rows": null,
            "right": null,
            "justify_content": null,
            "_view_module": "@jupyter-widgets/base",
            "overflow": null,
            "_model_module_version": "1.2.0",
            "_view_count": null,
            "flex_flow": null,
            "width": null,
            "min_width": null,
            "border": null,
            "align_items": null,
            "bottom": null,
            "_model_module": "@jupyter-widgets/base",
            "top": null,
            "grid_column": null,
            "overflow_y": null,
            "overflow_x": null,
            "grid_auto_flow": null,
            "grid_area": null,
            "grid_template_columns": null,
            "flex": null,
            "_model_name": "LayoutModel",
            "justify_items": null,
            "grid_row": null,
            "max_height": null,
            "align_content": null,
            "visibility": null,
            "align_self": null,
            "height": null,
            "min_height": null,
            "padding": null,
            "grid_auto_rows": null,
            "grid_gap": null,
            "max_width": null,
            "order": null,
            "_view_module_version": "1.2.0",
            "grid_template_areas": null,
            "object_position": null,
            "object_fit": null,
            "grid_auto_columns": null,
            "margin": null,
            "display": null,
            "left": null
          }
        },
        "4fe649a878f844549226dc79215753e2": {
          "model_module": "@jupyter-widgets/controls",
          "model_name": "DescriptionStyleModel",
          "model_module_version": "1.5.0",
          "state": {
            "_view_name": "StyleView",
            "_model_name": "DescriptionStyleModel",
            "description_width": "",
            "_view_module": "@jupyter-widgets/base",
            "_model_module_version": "1.5.0",
            "_view_count": null,
            "_view_module_version": "1.2.0",
            "_model_module": "@jupyter-widgets/controls"
          }
        },
        "9b5b4440f72b46b3aba4cff5aceb0512": {
          "model_module": "@jupyter-widgets/base",
          "model_name": "LayoutModel",
          "model_module_version": "1.2.0",
          "state": {
            "_view_name": "LayoutView",
            "grid_template_rows": null,
            "right": null,
            "justify_content": null,
            "_view_module": "@jupyter-widgets/base",
            "overflow": null,
            "_model_module_version": "1.2.0",
            "_view_count": null,
            "flex_flow": null,
            "width": null,
            "min_width": null,
            "border": null,
            "align_items": null,
            "bottom": null,
            "_model_module": "@jupyter-widgets/base",
            "top": null,
            "grid_column": null,
            "overflow_y": null,
            "overflow_x": null,
            "grid_auto_flow": null,
            "grid_area": null,
            "grid_template_columns": null,
            "flex": null,
            "_model_name": "LayoutModel",
            "justify_items": null,
            "grid_row": null,
            "max_height": null,
            "align_content": null,
            "visibility": null,
            "align_self": null,
            "height": null,
            "min_height": null,
            "padding": null,
            "grid_auto_rows": null,
            "grid_gap": null,
            "max_width": null,
            "order": null,
            "_view_module_version": "1.2.0",
            "grid_template_areas": null,
            "object_position": null,
            "object_fit": null,
            "grid_auto_columns": null,
            "margin": null,
            "display": null,
            "left": null
          }
        },
        "42a7aed76b7542578ac3160ea4e98042": {
          "model_module": "@jupyter-widgets/controls",
          "model_name": "HBoxModel",
          "model_module_version": "1.5.0",
          "state": {
            "_view_name": "HBoxView",
            "_dom_classes": [],
            "_model_name": "HBoxModel",
            "_view_module": "@jupyter-widgets/controls",
            "_model_module_version": "1.5.0",
            "_view_count": null,
            "_view_module_version": "1.5.0",
            "box_style": "",
            "layout": "IPY_MODEL_9b9c5f3184534302bd57e9d55637b2c4",
            "_model_module": "@jupyter-widgets/controls",
            "children": [
              "IPY_MODEL_e857d2759a6e4cf4a090ea9d9f89e316",
              "IPY_MODEL_a97f1f4acbe543b092f85bc861e1d7fa",
              "IPY_MODEL_48f6d2a72f644791b1819e18d7fbc7b6"
            ]
          }
        },
        "9b9c5f3184534302bd57e9d55637b2c4": {
          "model_module": "@jupyter-widgets/base",
          "model_name": "LayoutModel",
          "model_module_version": "1.2.0",
          "state": {
            "_view_name": "LayoutView",
            "grid_template_rows": null,
            "right": null,
            "justify_content": null,
            "_view_module": "@jupyter-widgets/base",
            "overflow": null,
            "_model_module_version": "1.2.0",
            "_view_count": null,
            "flex_flow": null,
            "width": null,
            "min_width": null,
            "border": null,
            "align_items": null,
            "bottom": null,
            "_model_module": "@jupyter-widgets/base",
            "top": null,
            "grid_column": null,
            "overflow_y": null,
            "overflow_x": null,
            "grid_auto_flow": null,
            "grid_area": null,
            "grid_template_columns": null,
            "flex": null,
            "_model_name": "LayoutModel",
            "justify_items": null,
            "grid_row": null,
            "max_height": null,
            "align_content": null,
            "visibility": null,
            "align_self": null,
            "height": null,
            "min_height": null,
            "padding": null,
            "grid_auto_rows": null,
            "grid_gap": null,
            "max_width": null,
            "order": null,
            "_view_module_version": "1.2.0",
            "grid_template_areas": null,
            "object_position": null,
            "object_fit": null,
            "grid_auto_columns": null,
            "margin": null,
            "display": null,
            "left": null
          }
        },
        "e857d2759a6e4cf4a090ea9d9f89e316": {
          "model_module": "@jupyter-widgets/controls",
          "model_name": "HTMLModel",
          "model_module_version": "1.5.0",
          "state": {
            "_view_name": "HTMLView",
            "style": "IPY_MODEL_c54a2496e9bc4b0580384fcbbae67772",
            "_dom_classes": [],
            "description": "",
            "_model_name": "HTMLModel",
            "placeholder": "​",
            "_view_module": "@jupyter-widgets/controls",
            "_model_module_version": "1.5.0",
            "value": "",
            "_view_count": null,
            "_view_module_version": "1.5.0",
            "description_tooltip": null,
            "_model_module": "@jupyter-widgets/controls",
            "layout": "IPY_MODEL_4b8c53b9be954fc1991625d02e82ca7c"
          }
        },
        "a97f1f4acbe543b092f85bc861e1d7fa": {
          "model_module": "@jupyter-widgets/controls",
          "model_name": "FloatProgressModel",
          "model_module_version": "1.5.0",
          "state": {
            "_view_name": "ProgressView",
            "style": "IPY_MODEL_373824326a8c43d09684d62e07c7d6fa",
            "_dom_classes": [],
            "description": "",
            "_model_name": "FloatProgressModel",
            "bar_style": "success",
            "max": 28881,
            "_view_module": "@jupyter-widgets/controls",
            "_model_module_version": "1.5.0",
            "value": 28881,
            "_view_count": null,
            "_view_module_version": "1.5.0",
            "orientation": "horizontal",
            "min": 0,
            "description_tooltip": null,
            "_model_module": "@jupyter-widgets/controls",
            "layout": "IPY_MODEL_314fef3e44cb4682a93ddd7403b1889a"
          }
        },
        "48f6d2a72f644791b1819e18d7fbc7b6": {
          "model_module": "@jupyter-widgets/controls",
          "model_name": "HTMLModel",
          "model_module_version": "1.5.0",
          "state": {
            "_view_name": "HTMLView",
            "style": "IPY_MODEL_9b725a5b56244341ab4f5f8efbb08d62",
            "_dom_classes": [],
            "description": "",
            "_model_name": "HTMLModel",
            "placeholder": "​",
            "_view_module": "@jupyter-widgets/controls",
            "_model_module_version": "1.5.0",
            "value": " 29696/? [00:00&lt;00:00, 903495.27it/s]",
            "_view_count": null,
            "_view_module_version": "1.5.0",
            "description_tooltip": null,
            "_model_module": "@jupyter-widgets/controls",
            "layout": "IPY_MODEL_2c60ae981239449ca5217ff87098e0aa"
          }
        },
        "c54a2496e9bc4b0580384fcbbae67772": {
          "model_module": "@jupyter-widgets/controls",
          "model_name": "DescriptionStyleModel",
          "model_module_version": "1.5.0",
          "state": {
            "_view_name": "StyleView",
            "_model_name": "DescriptionStyleModel",
            "description_width": "",
            "_view_module": "@jupyter-widgets/base",
            "_model_module_version": "1.5.0",
            "_view_count": null,
            "_view_module_version": "1.2.0",
            "_model_module": "@jupyter-widgets/controls"
          }
        },
        "4b8c53b9be954fc1991625d02e82ca7c": {
          "model_module": "@jupyter-widgets/base",
          "model_name": "LayoutModel",
          "model_module_version": "1.2.0",
          "state": {
            "_view_name": "LayoutView",
            "grid_template_rows": null,
            "right": null,
            "justify_content": null,
            "_view_module": "@jupyter-widgets/base",
            "overflow": null,
            "_model_module_version": "1.2.0",
            "_view_count": null,
            "flex_flow": null,
            "width": null,
            "min_width": null,
            "border": null,
            "align_items": null,
            "bottom": null,
            "_model_module": "@jupyter-widgets/base",
            "top": null,
            "grid_column": null,
            "overflow_y": null,
            "overflow_x": null,
            "grid_auto_flow": null,
            "grid_area": null,
            "grid_template_columns": null,
            "flex": null,
            "_model_name": "LayoutModel",
            "justify_items": null,
            "grid_row": null,
            "max_height": null,
            "align_content": null,
            "visibility": null,
            "align_self": null,
            "height": null,
            "min_height": null,
            "padding": null,
            "grid_auto_rows": null,
            "grid_gap": null,
            "max_width": null,
            "order": null,
            "_view_module_version": "1.2.0",
            "grid_template_areas": null,
            "object_position": null,
            "object_fit": null,
            "grid_auto_columns": null,
            "margin": null,
            "display": null,
            "left": null
          }
        },
        "373824326a8c43d09684d62e07c7d6fa": {
          "model_module": "@jupyter-widgets/controls",
          "model_name": "ProgressStyleModel",
          "model_module_version": "1.5.0",
          "state": {
            "_view_name": "StyleView",
            "_model_name": "ProgressStyleModel",
            "description_width": "",
            "_view_module": "@jupyter-widgets/base",
            "_model_module_version": "1.5.0",
            "_view_count": null,
            "_view_module_version": "1.2.0",
            "bar_color": null,
            "_model_module": "@jupyter-widgets/controls"
          }
        },
        "314fef3e44cb4682a93ddd7403b1889a": {
          "model_module": "@jupyter-widgets/base",
          "model_name": "LayoutModel",
          "model_module_version": "1.2.0",
          "state": {
            "_view_name": "LayoutView",
            "grid_template_rows": null,
            "right": null,
            "justify_content": null,
            "_view_module": "@jupyter-widgets/base",
            "overflow": null,
            "_model_module_version": "1.2.0",
            "_view_count": null,
            "flex_flow": null,
            "width": null,
            "min_width": null,
            "border": null,
            "align_items": null,
            "bottom": null,
            "_model_module": "@jupyter-widgets/base",
            "top": null,
            "grid_column": null,
            "overflow_y": null,
            "overflow_x": null,
            "grid_auto_flow": null,
            "grid_area": null,
            "grid_template_columns": null,
            "flex": null,
            "_model_name": "LayoutModel",
            "justify_items": null,
            "grid_row": null,
            "max_height": null,
            "align_content": null,
            "visibility": null,
            "align_self": null,
            "height": null,
            "min_height": null,
            "padding": null,
            "grid_auto_rows": null,
            "grid_gap": null,
            "max_width": null,
            "order": null,
            "_view_module_version": "1.2.0",
            "grid_template_areas": null,
            "object_position": null,
            "object_fit": null,
            "grid_auto_columns": null,
            "margin": null,
            "display": null,
            "left": null
          }
        },
        "9b725a5b56244341ab4f5f8efbb08d62": {
          "model_module": "@jupyter-widgets/controls",
          "model_name": "DescriptionStyleModel",
          "model_module_version": "1.5.0",
          "state": {
            "_view_name": "StyleView",
            "_model_name": "DescriptionStyleModel",
            "description_width": "",
            "_view_module": "@jupyter-widgets/base",
            "_model_module_version": "1.5.0",
            "_view_count": null,
            "_view_module_version": "1.2.0",
            "_model_module": "@jupyter-widgets/controls"
          }
        },
        "2c60ae981239449ca5217ff87098e0aa": {
          "model_module": "@jupyter-widgets/base",
          "model_name": "LayoutModel",
          "model_module_version": "1.2.0",
          "state": {
            "_view_name": "LayoutView",
            "grid_template_rows": null,
            "right": null,
            "justify_content": null,
            "_view_module": "@jupyter-widgets/base",
            "overflow": null,
            "_model_module_version": "1.2.0",
            "_view_count": null,
            "flex_flow": null,
            "width": null,
            "min_width": null,
            "border": null,
            "align_items": null,
            "bottom": null,
            "_model_module": "@jupyter-widgets/base",
            "top": null,
            "grid_column": null,
            "overflow_y": null,
            "overflow_x": null,
            "grid_auto_flow": null,
            "grid_area": null,
            "grid_template_columns": null,
            "flex": null,
            "_model_name": "LayoutModel",
            "justify_items": null,
            "grid_row": null,
            "max_height": null,
            "align_content": null,
            "visibility": null,
            "align_self": null,
            "height": null,
            "min_height": null,
            "padding": null,
            "grid_auto_rows": null,
            "grid_gap": null,
            "max_width": null,
            "order": null,
            "_view_module_version": "1.2.0",
            "grid_template_areas": null,
            "object_position": null,
            "object_fit": null,
            "grid_auto_columns": null,
            "margin": null,
            "display": null,
            "left": null
          }
        },
        "6c0403e5ac55487bbf4ac54519a54cae": {
          "model_module": "@jupyter-widgets/controls",
          "model_name": "HBoxModel",
          "model_module_version": "1.5.0",
          "state": {
            "_view_name": "HBoxView",
            "_dom_classes": [],
            "_model_name": "HBoxModel",
            "_view_module": "@jupyter-widgets/controls",
            "_model_module_version": "1.5.0",
            "_view_count": null,
            "_view_module_version": "1.5.0",
            "box_style": "",
            "layout": "IPY_MODEL_87d75ba1a57349d5bcfdedb0537f955a",
            "_model_module": "@jupyter-widgets/controls",
            "children": [
              "IPY_MODEL_98bebda94a4a4671bf4d8138f802c422",
              "IPY_MODEL_73acdb7d82b74f1189640ee2b1930e85",
              "IPY_MODEL_ff4ec7438e374f608dc3646e3fc2cd2e"
            ]
          }
        },
        "87d75ba1a57349d5bcfdedb0537f955a": {
          "model_module": "@jupyter-widgets/base",
          "model_name": "LayoutModel",
          "model_module_version": "1.2.0",
          "state": {
            "_view_name": "LayoutView",
            "grid_template_rows": null,
            "right": null,
            "justify_content": null,
            "_view_module": "@jupyter-widgets/base",
            "overflow": null,
            "_model_module_version": "1.2.0",
            "_view_count": null,
            "flex_flow": null,
            "width": null,
            "min_width": null,
            "border": null,
            "align_items": null,
            "bottom": null,
            "_model_module": "@jupyter-widgets/base",
            "top": null,
            "grid_column": null,
            "overflow_y": null,
            "overflow_x": null,
            "grid_auto_flow": null,
            "grid_area": null,
            "grid_template_columns": null,
            "flex": null,
            "_model_name": "LayoutModel",
            "justify_items": null,
            "grid_row": null,
            "max_height": null,
            "align_content": null,
            "visibility": null,
            "align_self": null,
            "height": null,
            "min_height": null,
            "padding": null,
            "grid_auto_rows": null,
            "grid_gap": null,
            "max_width": null,
            "order": null,
            "_view_module_version": "1.2.0",
            "grid_template_areas": null,
            "object_position": null,
            "object_fit": null,
            "grid_auto_columns": null,
            "margin": null,
            "display": null,
            "left": null
          }
        },
        "98bebda94a4a4671bf4d8138f802c422": {
          "model_module": "@jupyter-widgets/controls",
          "model_name": "HTMLModel",
          "model_module_version": "1.5.0",
          "state": {
            "_view_name": "HTMLView",
            "style": "IPY_MODEL_b60f8c22a3414bda8751cdb5f877b4c0",
            "_dom_classes": [],
            "description": "",
            "_model_name": "HTMLModel",
            "placeholder": "​",
            "_view_module": "@jupyter-widgets/controls",
            "_model_module_version": "1.5.0",
            "value": "",
            "_view_count": null,
            "_view_module_version": "1.5.0",
            "description_tooltip": null,
            "_model_module": "@jupyter-widgets/controls",
            "layout": "IPY_MODEL_2ee127f3ca3b4b44abdf41aa659a0523"
          }
        },
        "73acdb7d82b74f1189640ee2b1930e85": {
          "model_module": "@jupyter-widgets/controls",
          "model_name": "FloatProgressModel",
          "model_module_version": "1.5.0",
          "state": {
            "_view_name": "ProgressView",
            "style": "IPY_MODEL_f9f00f1ae5db407f95ddc71f18d27767",
            "_dom_classes": [],
            "description": "",
            "_model_name": "FloatProgressModel",
            "bar_style": "success",
            "max": 1648877,
            "_view_module": "@jupyter-widgets/controls",
            "_model_module_version": "1.5.0",
            "value": 1648877,
            "_view_count": null,
            "_view_module_version": "1.5.0",
            "orientation": "horizontal",
            "min": 0,
            "description_tooltip": null,
            "_model_module": "@jupyter-widgets/controls",
            "layout": "IPY_MODEL_7eed2b91ec824c0ba7cefc990a3ff0e3"
          }
        },
        "ff4ec7438e374f608dc3646e3fc2cd2e": {
          "model_module": "@jupyter-widgets/controls",
          "model_name": "HTMLModel",
          "model_module_version": "1.5.0",
          "state": {
            "_view_name": "HTMLView",
            "style": "IPY_MODEL_4f8df506fcef4d0181c8097cc6b1f8a7",
            "_dom_classes": [],
            "description": "",
            "_model_name": "HTMLModel",
            "placeholder": "​",
            "_view_module": "@jupyter-widgets/controls",
            "_model_module_version": "1.5.0",
            "value": " 1649664/? [00:00&lt;00:00, 4704851.95it/s]",
            "_view_count": null,
            "_view_module_version": "1.5.0",
            "description_tooltip": null,
            "_model_module": "@jupyter-widgets/controls",
            "layout": "IPY_MODEL_e5e0d61c362049a7b33354205de58514"
          }
        },
        "b60f8c22a3414bda8751cdb5f877b4c0": {
          "model_module": "@jupyter-widgets/controls",
          "model_name": "DescriptionStyleModel",
          "model_module_version": "1.5.0",
          "state": {
            "_view_name": "StyleView",
            "_model_name": "DescriptionStyleModel",
            "description_width": "",
            "_view_module": "@jupyter-widgets/base",
            "_model_module_version": "1.5.0",
            "_view_count": null,
            "_view_module_version": "1.2.0",
            "_model_module": "@jupyter-widgets/controls"
          }
        },
        "2ee127f3ca3b4b44abdf41aa659a0523": {
          "model_module": "@jupyter-widgets/base",
          "model_name": "LayoutModel",
          "model_module_version": "1.2.0",
          "state": {
            "_view_name": "LayoutView",
            "grid_template_rows": null,
            "right": null,
            "justify_content": null,
            "_view_module": "@jupyter-widgets/base",
            "overflow": null,
            "_model_module_version": "1.2.0",
            "_view_count": null,
            "flex_flow": null,
            "width": null,
            "min_width": null,
            "border": null,
            "align_items": null,
            "bottom": null,
            "_model_module": "@jupyter-widgets/base",
            "top": null,
            "grid_column": null,
            "overflow_y": null,
            "overflow_x": null,
            "grid_auto_flow": null,
            "grid_area": null,
            "grid_template_columns": null,
            "flex": null,
            "_model_name": "LayoutModel",
            "justify_items": null,
            "grid_row": null,
            "max_height": null,
            "align_content": null,
            "visibility": null,
            "align_self": null,
            "height": null,
            "min_height": null,
            "padding": null,
            "grid_auto_rows": null,
            "grid_gap": null,
            "max_width": null,
            "order": null,
            "_view_module_version": "1.2.0",
            "grid_template_areas": null,
            "object_position": null,
            "object_fit": null,
            "grid_auto_columns": null,
            "margin": null,
            "display": null,
            "left": null
          }
        },
        "f9f00f1ae5db407f95ddc71f18d27767": {
          "model_module": "@jupyter-widgets/controls",
          "model_name": "ProgressStyleModel",
          "model_module_version": "1.5.0",
          "state": {
            "_view_name": "StyleView",
            "_model_name": "ProgressStyleModel",
            "description_width": "",
            "_view_module": "@jupyter-widgets/base",
            "_model_module_version": "1.5.0",
            "_view_count": null,
            "_view_module_version": "1.2.0",
            "bar_color": null,
            "_model_module": "@jupyter-widgets/controls"
          }
        },
        "7eed2b91ec824c0ba7cefc990a3ff0e3": {
          "model_module": "@jupyter-widgets/base",
          "model_name": "LayoutModel",
          "model_module_version": "1.2.0",
          "state": {
            "_view_name": "LayoutView",
            "grid_template_rows": null,
            "right": null,
            "justify_content": null,
            "_view_module": "@jupyter-widgets/base",
            "overflow": null,
            "_model_module_version": "1.2.0",
            "_view_count": null,
            "flex_flow": null,
            "width": null,
            "min_width": null,
            "border": null,
            "align_items": null,
            "bottom": null,
            "_model_module": "@jupyter-widgets/base",
            "top": null,
            "grid_column": null,
            "overflow_y": null,
            "overflow_x": null,
            "grid_auto_flow": null,
            "grid_area": null,
            "grid_template_columns": null,
            "flex": null,
            "_model_name": "LayoutModel",
            "justify_items": null,
            "grid_row": null,
            "max_height": null,
            "align_content": null,
            "visibility": null,
            "align_self": null,
            "height": null,
            "min_height": null,
            "padding": null,
            "grid_auto_rows": null,
            "grid_gap": null,
            "max_width": null,
            "order": null,
            "_view_module_version": "1.2.0",
            "grid_template_areas": null,
            "object_position": null,
            "object_fit": null,
            "grid_auto_columns": null,
            "margin": null,
            "display": null,
            "left": null
          }
        },
        "4f8df506fcef4d0181c8097cc6b1f8a7": {
          "model_module": "@jupyter-widgets/controls",
          "model_name": "DescriptionStyleModel",
          "model_module_version": "1.5.0",
          "state": {
            "_view_name": "StyleView",
            "_model_name": "DescriptionStyleModel",
            "description_width": "",
            "_view_module": "@jupyter-widgets/base",
            "_model_module_version": "1.5.0",
            "_view_count": null,
            "_view_module_version": "1.2.0",
            "_model_module": "@jupyter-widgets/controls"
          }
        },
        "e5e0d61c362049a7b33354205de58514": {
          "model_module": "@jupyter-widgets/base",
          "model_name": "LayoutModel",
          "model_module_version": "1.2.0",
          "state": {
            "_view_name": "LayoutView",
            "grid_template_rows": null,
            "right": null,
            "justify_content": null,
            "_view_module": "@jupyter-widgets/base",
            "overflow": null,
            "_model_module_version": "1.2.0",
            "_view_count": null,
            "flex_flow": null,
            "width": null,
            "min_width": null,
            "border": null,
            "align_items": null,
            "bottom": null,
            "_model_module": "@jupyter-widgets/base",
            "top": null,
            "grid_column": null,
            "overflow_y": null,
            "overflow_x": null,
            "grid_auto_flow": null,
            "grid_area": null,
            "grid_template_columns": null,
            "flex": null,
            "_model_name": "LayoutModel",
            "justify_items": null,
            "grid_row": null,
            "max_height": null,
            "align_content": null,
            "visibility": null,
            "align_self": null,
            "height": null,
            "min_height": null,
            "padding": null,
            "grid_auto_rows": null,
            "grid_gap": null,
            "max_width": null,
            "order": null,
            "_view_module_version": "1.2.0",
            "grid_template_areas": null,
            "object_position": null,
            "object_fit": null,
            "grid_auto_columns": null,
            "margin": null,
            "display": null,
            "left": null
          }
        },
        "f3a8c9c65ff1479b95e69574f2e9322d": {
          "model_module": "@jupyter-widgets/controls",
          "model_name": "HBoxModel",
          "model_module_version": "1.5.0",
          "state": {
            "_view_name": "HBoxView",
            "_dom_classes": [],
            "_model_name": "HBoxModel",
            "_view_module": "@jupyter-widgets/controls",
            "_model_module_version": "1.5.0",
            "_view_count": null,
            "_view_module_version": "1.5.0",
            "box_style": "",
            "layout": "IPY_MODEL_16afcbb24c3d4879b138a0fcb19741f3",
            "_model_module": "@jupyter-widgets/controls",
            "children": [
              "IPY_MODEL_090e5c0bd9a443e18e59b9851a3315af",
              "IPY_MODEL_b9587f0b5c84461a94d70ab4c0836690",
              "IPY_MODEL_f68378c309974502aca53e466312face"
            ]
          }
        },
        "16afcbb24c3d4879b138a0fcb19741f3": {
          "model_module": "@jupyter-widgets/base",
          "model_name": "LayoutModel",
          "model_module_version": "1.2.0",
          "state": {
            "_view_name": "LayoutView",
            "grid_template_rows": null,
            "right": null,
            "justify_content": null,
            "_view_module": "@jupyter-widgets/base",
            "overflow": null,
            "_model_module_version": "1.2.0",
            "_view_count": null,
            "flex_flow": null,
            "width": null,
            "min_width": null,
            "border": null,
            "align_items": null,
            "bottom": null,
            "_model_module": "@jupyter-widgets/base",
            "top": null,
            "grid_column": null,
            "overflow_y": null,
            "overflow_x": null,
            "grid_auto_flow": null,
            "grid_area": null,
            "grid_template_columns": null,
            "flex": null,
            "_model_name": "LayoutModel",
            "justify_items": null,
            "grid_row": null,
            "max_height": null,
            "align_content": null,
            "visibility": null,
            "align_self": null,
            "height": null,
            "min_height": null,
            "padding": null,
            "grid_auto_rows": null,
            "grid_gap": null,
            "max_width": null,
            "order": null,
            "_view_module_version": "1.2.0",
            "grid_template_areas": null,
            "object_position": null,
            "object_fit": null,
            "grid_auto_columns": null,
            "margin": null,
            "display": null,
            "left": null
          }
        },
        "090e5c0bd9a443e18e59b9851a3315af": {
          "model_module": "@jupyter-widgets/controls",
          "model_name": "HTMLModel",
          "model_module_version": "1.5.0",
          "state": {
            "_view_name": "HTMLView",
            "style": "IPY_MODEL_4837720fbcf048d298b1b24d20fdcc8c",
            "_dom_classes": [],
            "description": "",
            "_model_name": "HTMLModel",
            "placeholder": "​",
            "_view_module": "@jupyter-widgets/controls",
            "_model_module_version": "1.5.0",
            "value": "",
            "_view_count": null,
            "_view_module_version": "1.5.0",
            "description_tooltip": null,
            "_model_module": "@jupyter-widgets/controls",
            "layout": "IPY_MODEL_021fd769b10d43edb081bad81daeaca1"
          }
        },
        "b9587f0b5c84461a94d70ab4c0836690": {
          "model_module": "@jupyter-widgets/controls",
          "model_name": "FloatProgressModel",
          "model_module_version": "1.5.0",
          "state": {
            "_view_name": "ProgressView",
            "style": "IPY_MODEL_e734d23c398741088100cf4cea271c2a",
            "_dom_classes": [],
            "description": "",
            "_model_name": "FloatProgressModel",
            "bar_style": "success",
            "max": 4542,
            "_view_module": "@jupyter-widgets/controls",
            "_model_module_version": "1.5.0",
            "value": 4542,
            "_view_count": null,
            "_view_module_version": "1.5.0",
            "orientation": "horizontal",
            "min": 0,
            "description_tooltip": null,
            "_model_module": "@jupyter-widgets/controls",
            "layout": "IPY_MODEL_16ae56ee74914a039794c08cde611333"
          }
        },
        "f68378c309974502aca53e466312face": {
          "model_module": "@jupyter-widgets/controls",
          "model_name": "HTMLModel",
          "model_module_version": "1.5.0",
          "state": {
            "_view_name": "HTMLView",
            "style": "IPY_MODEL_2881cca09a924ecd965d5e6d65d9c3ef",
            "_dom_classes": [],
            "description": "",
            "_model_name": "HTMLModel",
            "placeholder": "​",
            "_view_module": "@jupyter-widgets/controls",
            "_model_module_version": "1.5.0",
            "value": " 5120/? [00:00&lt;00:00, 128028.36it/s]",
            "_view_count": null,
            "_view_module_version": "1.5.0",
            "description_tooltip": null,
            "_model_module": "@jupyter-widgets/controls",
            "layout": "IPY_MODEL_0ae35f74f37148b785121d536037945b"
          }
        },
        "4837720fbcf048d298b1b24d20fdcc8c": {
          "model_module": "@jupyter-widgets/controls",
          "model_name": "DescriptionStyleModel",
          "model_module_version": "1.5.0",
          "state": {
            "_view_name": "StyleView",
            "_model_name": "DescriptionStyleModel",
            "description_width": "",
            "_view_module": "@jupyter-widgets/base",
            "_model_module_version": "1.5.0",
            "_view_count": null,
            "_view_module_version": "1.2.0",
            "_model_module": "@jupyter-widgets/controls"
          }
        },
        "021fd769b10d43edb081bad81daeaca1": {
          "model_module": "@jupyter-widgets/base",
          "model_name": "LayoutModel",
          "model_module_version": "1.2.0",
          "state": {
            "_view_name": "LayoutView",
            "grid_template_rows": null,
            "right": null,
            "justify_content": null,
            "_view_module": "@jupyter-widgets/base",
            "overflow": null,
            "_model_module_version": "1.2.0",
            "_view_count": null,
            "flex_flow": null,
            "width": null,
            "min_width": null,
            "border": null,
            "align_items": null,
            "bottom": null,
            "_model_module": "@jupyter-widgets/base",
            "top": null,
            "grid_column": null,
            "overflow_y": null,
            "overflow_x": null,
            "grid_auto_flow": null,
            "grid_area": null,
            "grid_template_columns": null,
            "flex": null,
            "_model_name": "LayoutModel",
            "justify_items": null,
            "grid_row": null,
            "max_height": null,
            "align_content": null,
            "visibility": null,
            "align_self": null,
            "height": null,
            "min_height": null,
            "padding": null,
            "grid_auto_rows": null,
            "grid_gap": null,
            "max_width": null,
            "order": null,
            "_view_module_version": "1.2.0",
            "grid_template_areas": null,
            "object_position": null,
            "object_fit": null,
            "grid_auto_columns": null,
            "margin": null,
            "display": null,
            "left": null
          }
        },
        "e734d23c398741088100cf4cea271c2a": {
          "model_module": "@jupyter-widgets/controls",
          "model_name": "ProgressStyleModel",
          "model_module_version": "1.5.0",
          "state": {
            "_view_name": "StyleView",
            "_model_name": "ProgressStyleModel",
            "description_width": "",
            "_view_module": "@jupyter-widgets/base",
            "_model_module_version": "1.5.0",
            "_view_count": null,
            "_view_module_version": "1.2.0",
            "bar_color": null,
            "_model_module": "@jupyter-widgets/controls"
          }
        },
        "16ae56ee74914a039794c08cde611333": {
          "model_module": "@jupyter-widgets/base",
          "model_name": "LayoutModel",
          "model_module_version": "1.2.0",
          "state": {
            "_view_name": "LayoutView",
            "grid_template_rows": null,
            "right": null,
            "justify_content": null,
            "_view_module": "@jupyter-widgets/base",
            "overflow": null,
            "_model_module_version": "1.2.0",
            "_view_count": null,
            "flex_flow": null,
            "width": null,
            "min_width": null,
            "border": null,
            "align_items": null,
            "bottom": null,
            "_model_module": "@jupyter-widgets/base",
            "top": null,
            "grid_column": null,
            "overflow_y": null,
            "overflow_x": null,
            "grid_auto_flow": null,
            "grid_area": null,
            "grid_template_columns": null,
            "flex": null,
            "_model_name": "LayoutModel",
            "justify_items": null,
            "grid_row": null,
            "max_height": null,
            "align_content": null,
            "visibility": null,
            "align_self": null,
            "height": null,
            "min_height": null,
            "padding": null,
            "grid_auto_rows": null,
            "grid_gap": null,
            "max_width": null,
            "order": null,
            "_view_module_version": "1.2.0",
            "grid_template_areas": null,
            "object_position": null,
            "object_fit": null,
            "grid_auto_columns": null,
            "margin": null,
            "display": null,
            "left": null
          }
        },
        "2881cca09a924ecd965d5e6d65d9c3ef": {
          "model_module": "@jupyter-widgets/controls",
          "model_name": "DescriptionStyleModel",
          "model_module_version": "1.5.0",
          "state": {
            "_view_name": "StyleView",
            "_model_name": "DescriptionStyleModel",
            "description_width": "",
            "_view_module": "@jupyter-widgets/base",
            "_model_module_version": "1.5.0",
            "_view_count": null,
            "_view_module_version": "1.2.0",
            "_model_module": "@jupyter-widgets/controls"
          }
        },
        "0ae35f74f37148b785121d536037945b": {
          "model_module": "@jupyter-widgets/base",
          "model_name": "LayoutModel",
          "model_module_version": "1.2.0",
          "state": {
            "_view_name": "LayoutView",
            "grid_template_rows": null,
            "right": null,
            "justify_content": null,
            "_view_module": "@jupyter-widgets/base",
            "overflow": null,
            "_model_module_version": "1.2.0",
            "_view_count": null,
            "flex_flow": null,
            "width": null,
            "min_width": null,
            "border": null,
            "align_items": null,
            "bottom": null,
            "_model_module": "@jupyter-widgets/base",
            "top": null,
            "grid_column": null,
            "overflow_y": null,
            "overflow_x": null,
            "grid_auto_flow": null,
            "grid_area": null,
            "grid_template_columns": null,
            "flex": null,
            "_model_name": "LayoutModel",
            "justify_items": null,
            "grid_row": null,
            "max_height": null,
            "align_content": null,
            "visibility": null,
            "align_self": null,
            "height": null,
            "min_height": null,
            "padding": null,
            "grid_auto_rows": null,
            "grid_gap": null,
            "max_width": null,
            "order": null,
            "_view_module_version": "1.2.0",
            "grid_template_areas": null,
            "object_position": null,
            "object_fit": null,
            "grid_auto_columns": null,
            "margin": null,
            "display": null,
            "left": null
          }
        }
      }
    }
  },
  "cells": [
    {
      "cell_type": "markdown",
      "source": [
        "## Resources/references: \n",
        "\n",
        "* https://jalammar.github.io/illustrated-transformer/ - a nice guide\n",
        "* https://arxiv.org/abs/1706.03762 - Attention Is All You Need\n",
        "* http://nlp.seas.harvard.edu/2018/04/03/attention.html - The paper above illustrated in pytorch\n",
        "* https://nextjournal.com/gkoehler/pytorch-mnist - some helper functions for MNIST\n",
        "\n"
      ],
      "metadata": {
        "id": "isnXNHOdEw39"
      }
    },
    {
      "cell_type": "code",
      "execution_count": 1,
      "metadata": {
        "id": "Y6UDcDVLALms",
        "colab": {
          "base_uri": "https://localhost:8080/"
        },
        "outputId": "cc8fe092-3f79-4e56-c653-952d6698d8bc"
      },
      "outputs": [
        {
          "output_type": "stream",
          "name": "stdout",
          "text": [
            "Using cuda device\n"
          ]
        }
      ],
      "source": [
        "import torch as t\n",
        "import torch.nn as nn\n",
        "import torch.nn.functional as F\n",
        "import numpy as np\n",
        "\n",
        "import torchvision as tv\n",
        "\n",
        "import random\n",
        "\n",
        "from matplotlib import pyplot as plt\n",
        "\n",
        "device = \"cuda\" if t.cuda.is_available() else \"cpu\"\n",
        "print(\"Using {} device\".format(device))"
      ]
    },
    {
      "cell_type": "markdown",
      "source": [
        "Connect the notebook to your google drive so that we can save files."
      ],
      "metadata": {
        "id": "SjmYhTJWDN9-"
      }
    },
    {
      "cell_type": "code",
      "source": [
        "from google.colab import drive\n",
        "drive.mount('/content/gdrive')"
      ],
      "metadata": {
        "colab": {
          "base_uri": "https://localhost:8080/"
        },
        "id": "6hEf7fKqDD2n",
        "outputId": "bccc154d-a13d-4e9c-f120-b49b64af4aa9"
      },
      "execution_count": 2,
      "outputs": [
        {
          "output_type": "stream",
          "name": "stdout",
          "text": [
            "Mounted at /content/gdrive\n"
          ]
        }
      ]
    },
    {
      "cell_type": "markdown",
      "source": [
        "## Reproducibility\n",
        "\n",
        "Set up random seeds"
      ],
      "metadata": {
        "id": "strKnLH9A4HM"
      }
    },
    {
      "cell_type": "code",
      "source": [
        "random.seed(42)\n",
        "np.random.seed(42)\n",
        "t.random.manual_seed(42)"
      ],
      "metadata": {
        "colab": {
          "base_uri": "https://localhost:8080/"
        },
        "id": "aSU4ofuNA3ip",
        "outputId": "6ea9e129-d3c8-432f-a211-1306cb9a0a71"
      },
      "execution_count": 3,
      "outputs": [
        {
          "output_type": "execute_result",
          "data": {
            "text/plain": [
              "<torch._C.Generator at 0x7ff919411dd0>"
            ]
          },
          "metadata": {},
          "execution_count": 3
        }
      ]
    },
    {
      "cell_type": "markdown",
      "source": [
        "# Defining the model"
      ],
      "metadata": {
        "id": "26-OXmNyHCww"
      }
    },
    {
      "cell_type": "markdown",
      "source": [
        "Individual self-attention head"
      ],
      "metadata": {
        "id": "CqTcEFCxgXfS"
      }
    },
    {
      "cell_type": "code",
      "source": [
        "from torch.nn.modules.module import T\n",
        "class SelfAttentionHead(nn.Module):\n",
        "\n",
        "  def __init__(self, emb_size, QKV_size):\n",
        "    super().__init__()\n",
        "\n",
        "    self.emb_size = emb_size\n",
        "    self.WQ, self.WK, self.WV = nn.Parameter(t.randn(emb_size, QKV_size)), \\\n",
        "                                nn.Parameter(t.randn(emb_size, QKV_size)), \\\n",
        "                                nn.Parameter(t.randn(emb_size, QKV_size))\n",
        "\n",
        "\n",
        "  def forward(self, x):\n",
        "    '''x - a tensor [batch size, sequence_len, embedding size], returns self-attention transformed x'''\n",
        "\n",
        "    Q = t.matmul(x, self.WQ)\n",
        "    K = t.matmul(x, self.WK)\n",
        "    V = t.matmul(x, self.WV)\n",
        "\n",
        "    attention_matrix = nn.functional.softmax((t.matmul(Q, t.transpose(K, 1, 2)))/np.sqrt(K.shape[2]), dim=1)\n",
        "\n",
        "    transformed_x = attention_matrix @ V\n",
        "\n",
        "    return transformed_x\n",
        "\n",
        "## Example Non-batched\n",
        "#tst_sa = SelfAttentionHead(10, 5).to(device)\n",
        "#tst_sa(t.randn(15, 10).to(device)).shape # Gives 15, 5\n",
        "\n",
        "## Example\n",
        "tst_sa = SelfAttentionHead(10, 5).to(device)\n",
        "tst_sa(t.randn(7, 15, 10).to(device)).shape # Gives 7, 15, 5 "
      ],
      "metadata": {
        "colab": {
          "base_uri": "https://localhost:8080/"
        },
        "id": "ZW00qxaFHFNk",
        "outputId": "21b63583-ee35-4d01-d803-d6e359ad3b24"
      },
      "execution_count": 9,
      "outputs": [
        {
          "output_type": "execute_result",
          "data": {
            "text/plain": [
              "torch.Size([7, 15, 5])"
            ]
          },
          "metadata": {},
          "execution_count": 9
        }
      ]
    },
    {
      "cell_type": "code",
      "source": [
        "class MultiheadAttention(nn.Module):\n",
        "\n",
        "  def __init__(self, emb_size, QKV_size, n_heads, transformed_size):\n",
        "    super().__init__()\n",
        "\n",
        "    self.W0 = nn.Parameter(t.randn(QKV_size * n_heads, transformed_size))\n",
        "    self.n_heads = n_heads\n",
        "    self.emb_size = emb_size\n",
        "    self.transformed_size = transformed_size\n",
        "\n",
        "    self.heads = nn.ModuleList([SelfAttentionHead(emb_size, QKV_size) for _ in range(n_heads)])\n",
        "\n",
        "  def forward(self, x):\n",
        "    '''x - a tensor [batch size, sequence_length, embedding size], returns multihead self-attention transformed x'''\n",
        "\n",
        "    head_activations = [h(x) for h in self.heads]\n",
        "    stacked_activations = t.cat(head_activations, dim = 2)\n",
        "\n",
        "    return stacked_activations @ self.W0\n",
        "\n",
        "\n",
        "## Example\n",
        "tst_mha = MultiheadAttention(10, 5, 6, 13).to(device)\n",
        "tst_mha(t.randn(13, 15, 10).to(device)).shape # Gives 13, 15, 13"
      ],
      "metadata": {
        "colab": {
          "base_uri": "https://localhost:8080/"
        },
        "id": "u0mdskru6xnt",
        "outputId": "2270ed7d-26be-42ef-f6fc-7f7ffd9ddcd8"
      },
      "execution_count": 10,
      "outputs": [
        {
          "output_type": "execute_result",
          "data": {
            "text/plain": [
              "torch.Size([13, 15, 13])"
            ]
          },
          "metadata": {},
          "execution_count": 10
        }
      ]
    },
    {
      "cell_type": "code",
      "source": [
        "class MultiheadAttentionLayer(nn.Module):\n",
        "\n",
        "  def __init__(self, emb_size, QKV_size, n_heads, seq_length):\n",
        "\n",
        "    # Note that we have no 'transformed size' since it's going to stay the same now\n",
        "\n",
        "    super().__init__()\n",
        "\n",
        "    self.multihead = MultiheadAttention(emb_size, QKV_size, n_heads, emb_size)\n",
        "    \n",
        "    self.ffnn = nn.Linear(emb_size, emb_size)\n",
        "    self.layer_norm_1 = nn.LayerNorm((seq_length, emb_size))\n",
        "    self.layer_norm_2 = nn.LayerNorm((seq_length, emb_size))\n",
        "\n",
        "  def forward(self, x):\n",
        "\n",
        "    multihead_transformed = self.multihead(x)\n",
        "    multihead_with_residual = multihead_transformed + x\n",
        "    normalized_1 = self.layer_norm_1(multihead_with_residual)\n",
        "    ffnn_transformed = F.relu(self.ffnn(normalized_1))\n",
        "    ffnn_trans_with_residual = ffnn_transformed + normalized_1\n",
        "    normalized_2 = self.layer_norm_2(ffnn_trans_with_residual)\n",
        "\n",
        "    return normalized_2\n",
        "\n",
        "## Example\n",
        "tst_mhl = MultiheadAttentionLayer(emb_size=10, QKV_size=5, n_heads=6, seq_length=15).to(device)\n",
        "tst_mhl(t.randn(3, 15, 10).to(device)).shape # Gives 3, 15, 10"
      ],
      "metadata": {
        "colab": {
          "base_uri": "https://localhost:8080/"
        },
        "id": "f9esCWqLfkPl",
        "outputId": "63c173f5-a1ff-4c72-aa33-6001a343c529"
      },
      "execution_count": 11,
      "outputs": [
        {
          "output_type": "execute_result",
          "data": {
            "text/plain": [
              "torch.Size([3, 15, 10])"
            ]
          },
          "metadata": {},
          "execution_count": 11
        }
      ]
    },
    {
      "cell_type": "code",
      "source": [
        "class MultiheadAttentionNetwork(nn.Module):\n",
        "\n",
        "  def __init__(self, emb_size, QKV_size, n_heads, seq_length, n_layers):\n",
        "    \n",
        "    super().__init__()\n",
        "\n",
        "    self.layers = nn.ModuleList([MultiheadAttentionLayer(emb_size, QKV_size, n_heads, seq_length) for _ in range(n_layers)])\n",
        "\n",
        "  def forward(self, x):\n",
        "\n",
        "    for l in self.layers:\n",
        "      ## Your code here\n",
        "      x = l(x)\n",
        "\n",
        "    return x\n",
        "\n",
        "## Example\n",
        "tst_mhn = MultiheadAttentionNetwork(emb_size=10, QKV_size=5, n_heads=6, seq_length=15, n_layers=7).to(device)\n",
        "tst_mhn(t.randn(3, 15, 10).to(device)).shape # Gives 3, 15, 10"
      ],
      "metadata": {
        "colab": {
          "base_uri": "https://localhost:8080/"
        },
        "id": "J57AaHtzo2d_",
        "outputId": "d5ecc224-6b32-4c06-8c3e-9e5dd0b78ada"
      },
      "execution_count": 12,
      "outputs": [
        {
          "output_type": "execute_result",
          "data": {
            "text/plain": [
              "torch.Size([3, 15, 10])"
            ]
          },
          "metadata": {},
          "execution_count": 12
        }
      ]
    },
    {
      "cell_type": "markdown",
      "source": [
        "## Let's apply our model to something silly (MNIST)"
      ],
      "metadata": {
        "id": "Jlx5zn7Up1_b"
      }
    },
    {
      "cell_type": "code",
      "source": [
        "# TRAINING PARAMETERS\n",
        "\n",
        "BATCH_SIZE = 128\n",
        "IMAGE_SIZE = 28\n",
        "\n",
        "NUM_EPOCHS = 10"
      ],
      "metadata": {
        "id": "6KQL7s11GxZO"
      },
      "execution_count": 13,
      "outputs": []
    },
    {
      "cell_type": "code",
      "source": [
        "train_data = tv.datasets.MNIST(F\"/content/gdrive/My Drive/Transformers From Scratch/\", train=True, download=True,\n",
        "                             transform=tv.transforms.Compose([\n",
        "                               tv.transforms.ToTensor(),\n",
        "                               tv.transforms.Normalize(\n",
        "                                 (0.1307,), (0.3081,))\n",
        "                             ])) # 60000\n",
        "\n",
        "test_data = tv.datasets.MNIST(F\"/content/gdrive/My Drive/Transformers From Scratch/\", train=False, download=True,\n",
        "                             transform=tv.transforms.Compose([\n",
        "                               tv.transforms.ToTensor(),\n",
        "                               tv.transforms.Normalize(\n",
        "                                 (0.1307,), (0.3081,))\n",
        "                             ])) # 10000"
      ],
      "metadata": {
        "id": "NciJZRCUA262",
        "colab": {
          "base_uri": "https://localhost:8080/",
          "height": 434,
          "referenced_widgets": [
            "9157bf74996b498bb567e8cbde585d14",
            "223808ddddf3489a87fed3d18606c46b",
            "52b9ca3dfae447d684f10c33f1b56216",
            "d746a1c1e219408a8ca1e884f4c1cc61",
            "7d8e23442a704da3aa1c69b391c8cbe6",
            "e4b2deb04313459cad55126ddfab5bdc",
            "aed1cc43245a4c438b3ea69f3ffcaf96",
            "4c1ed949bc5748d2b4006d19b9d8b779",
            "79bedd3dc9b74507bf8b4377d1d0bcb5",
            "4fe649a878f844549226dc79215753e2",
            "9b5b4440f72b46b3aba4cff5aceb0512",
            "42a7aed76b7542578ac3160ea4e98042",
            "9b9c5f3184534302bd57e9d55637b2c4",
            "e857d2759a6e4cf4a090ea9d9f89e316",
            "a97f1f4acbe543b092f85bc861e1d7fa",
            "48f6d2a72f644791b1819e18d7fbc7b6",
            "c54a2496e9bc4b0580384fcbbae67772",
            "4b8c53b9be954fc1991625d02e82ca7c",
            "373824326a8c43d09684d62e07c7d6fa",
            "314fef3e44cb4682a93ddd7403b1889a",
            "9b725a5b56244341ab4f5f8efbb08d62",
            "2c60ae981239449ca5217ff87098e0aa",
            "6c0403e5ac55487bbf4ac54519a54cae",
            "87d75ba1a57349d5bcfdedb0537f955a",
            "98bebda94a4a4671bf4d8138f802c422",
            "73acdb7d82b74f1189640ee2b1930e85",
            "ff4ec7438e374f608dc3646e3fc2cd2e",
            "b60f8c22a3414bda8751cdb5f877b4c0",
            "2ee127f3ca3b4b44abdf41aa659a0523",
            "f9f00f1ae5db407f95ddc71f18d27767",
            "7eed2b91ec824c0ba7cefc990a3ff0e3",
            "4f8df506fcef4d0181c8097cc6b1f8a7",
            "e5e0d61c362049a7b33354205de58514",
            "f3a8c9c65ff1479b95e69574f2e9322d",
            "16afcbb24c3d4879b138a0fcb19741f3",
            "090e5c0bd9a443e18e59b9851a3315af",
            "b9587f0b5c84461a94d70ab4c0836690",
            "f68378c309974502aca53e466312face",
            "4837720fbcf048d298b1b24d20fdcc8c",
            "021fd769b10d43edb081bad81daeaca1",
            "e734d23c398741088100cf4cea271c2a",
            "16ae56ee74914a039794c08cde611333",
            "2881cca09a924ecd965d5e6d65d9c3ef",
            "0ae35f74f37148b785121d536037945b"
          ]
        },
        "outputId": "e924c388-279b-4f9e-8374-a08a4a627a9a"
      },
      "execution_count": 14,
      "outputs": [
        {
          "output_type": "stream",
          "name": "stdout",
          "text": [
            "Downloading http://yann.lecun.com/exdb/mnist/train-images-idx3-ubyte.gz\n",
            "Downloading http://yann.lecun.com/exdb/mnist/train-images-idx3-ubyte.gz to /content/gdrive/My Drive/Transformers From Scratch/MNIST/raw/train-images-idx3-ubyte.gz\n"
          ]
        },
        {
          "output_type": "display_data",
          "data": {
            "application/vnd.jupyter.widget-view+json": {
              "model_id": "9157bf74996b498bb567e8cbde585d14",
              "version_minor": 0,
              "version_major": 2
            },
            "text/plain": [
              "  0%|          | 0/9912422 [00:00<?, ?it/s]"
            ]
          },
          "metadata": {}
        },
        {
          "output_type": "stream",
          "name": "stdout",
          "text": [
            "Extracting /content/gdrive/My Drive/Transformers From Scratch/MNIST/raw/train-images-idx3-ubyte.gz to /content/gdrive/My Drive/Transformers From Scratch/MNIST/raw\n",
            "\n",
            "Downloading http://yann.lecun.com/exdb/mnist/train-labels-idx1-ubyte.gz\n",
            "Downloading http://yann.lecun.com/exdb/mnist/train-labels-idx1-ubyte.gz to /content/gdrive/My Drive/Transformers From Scratch/MNIST/raw/train-labels-idx1-ubyte.gz\n"
          ]
        },
        {
          "output_type": "display_data",
          "data": {
            "application/vnd.jupyter.widget-view+json": {
              "model_id": "42a7aed76b7542578ac3160ea4e98042",
              "version_minor": 0,
              "version_major": 2
            },
            "text/plain": [
              "  0%|          | 0/28881 [00:00<?, ?it/s]"
            ]
          },
          "metadata": {}
        },
        {
          "output_type": "stream",
          "name": "stdout",
          "text": [
            "Extracting /content/gdrive/My Drive/Transformers From Scratch/MNIST/raw/train-labels-idx1-ubyte.gz to /content/gdrive/My Drive/Transformers From Scratch/MNIST/raw\n",
            "\n",
            "Downloading http://yann.lecun.com/exdb/mnist/t10k-images-idx3-ubyte.gz\n",
            "Downloading http://yann.lecun.com/exdb/mnist/t10k-images-idx3-ubyte.gz to /content/gdrive/My Drive/Transformers From Scratch/MNIST/raw/t10k-images-idx3-ubyte.gz\n"
          ]
        },
        {
          "output_type": "display_data",
          "data": {
            "application/vnd.jupyter.widget-view+json": {
              "model_id": "6c0403e5ac55487bbf4ac54519a54cae",
              "version_minor": 0,
              "version_major": 2
            },
            "text/plain": [
              "  0%|          | 0/1648877 [00:00<?, ?it/s]"
            ]
          },
          "metadata": {}
        },
        {
          "output_type": "stream",
          "name": "stdout",
          "text": [
            "Extracting /content/gdrive/My Drive/Transformers From Scratch/MNIST/raw/t10k-images-idx3-ubyte.gz to /content/gdrive/My Drive/Transformers From Scratch/MNIST/raw\n",
            "\n",
            "Downloading http://yann.lecun.com/exdb/mnist/t10k-labels-idx1-ubyte.gz\n",
            "Downloading http://yann.lecun.com/exdb/mnist/t10k-labels-idx1-ubyte.gz to /content/gdrive/My Drive/Transformers From Scratch/MNIST/raw/t10k-labels-idx1-ubyte.gz\n"
          ]
        },
        {
          "output_type": "display_data",
          "data": {
            "application/vnd.jupyter.widget-view+json": {
              "model_id": "f3a8c9c65ff1479b95e69574f2e9322d",
              "version_minor": 0,
              "version_major": 2
            },
            "text/plain": [
              "  0%|          | 0/4542 [00:00<?, ?it/s]"
            ]
          },
          "metadata": {}
        },
        {
          "output_type": "stream",
          "name": "stdout",
          "text": [
            "Extracting /content/gdrive/My Drive/Transformers From Scratch/MNIST/raw/t10k-labels-idx1-ubyte.gz to /content/gdrive/My Drive/Transformers From Scratch/MNIST/raw\n",
            "\n"
          ]
        }
      ]
    },
    {
      "cell_type": "markdown",
      "source": [
        "# Training example example"
      ],
      "metadata": {
        "id": "c5Q7HxgDqHOG"
      }
    },
    {
      "cell_type": "code",
      "source": [
        "plt.figure()\n",
        "plt.imshow((test_data[0][0] > 0).view((28, 28)))\n",
        "test_data[0][1] # Label"
      ],
      "metadata": {
        "colab": {
          "base_uri": "https://localhost:8080/",
          "height": 283
        },
        "id": "-R57MSN0F02u",
        "outputId": "e7d80377-a628-4521-9eac-bb35d49c8be8"
      },
      "execution_count": 15,
      "outputs": [
        {
          "output_type": "execute_result",
          "data": {
            "text/plain": [
              "7"
            ]
          },
          "metadata": {},
          "execution_count": 15
        },
        {
          "output_type": "display_data",
          "data": {
            "image/png": "[encoded data removed]",
            "text/plain": [
              "<Figure size 432x288 with 1 Axes>"
            ]
          },
          "metadata": {
            "needs_background": "light"
          }
        }
      ]
    },
    {
      "cell_type": "code",
      "source": [
        "train_loader = t.utils.data.DataLoader(train_data, batch_size=BATCH_SIZE, shuffle=True)\n",
        "test_loader = t.utils.data.DataLoader(test_data, batch_size=BATCH_SIZE, shuffle=True)\n",
        "\n",
        "# Example usage\n",
        "examples = enumerate(test_loader)\n",
        "batch_idx, (example_data, example_targets) = next(examples)\n",
        "print(example_data.shape, example_targets.shape)"
      ],
      "metadata": {
        "id": "c-cEKMQDAYIR",
        "colab": {
          "base_uri": "https://localhost:8080/"
        },
        "outputId": "e23b1707-e92f-44cd-f7a9-36b3c9bf981a"
      },
      "execution_count": 16,
      "outputs": [
        {
          "output_type": "stream",
          "name": "stdout",
          "text": [
            "torch.Size([128, 1, 28, 28]) torch.Size([128])\n"
          ]
        }
      ]
    },
    {
      "cell_type": "markdown",
      "source": [
        "Create a model appropriate for our task"
      ],
      "metadata": {
        "id": "S19KUEXqsxgn"
      }
    },
    {
      "cell_type": "code",
      "source": [
        "class PositionalEncoding(nn.Module): # from https://pytorch.org/tutorials/beginner/transformer_tutorial.html\n",
        "\n",
        "    def __init__(self, d_model, max_len=5000):\n",
        "        super().__init__()\n",
        "\n",
        "        position = t.arange(max_len).unsqueeze(1)\n",
        "        div_term = t.exp(t.arange(0, d_model, 2) * (-np.log(10000.0) / d_model))\n",
        "        pe = t.zeros(1, max_len, d_model)\n",
        "        pe[0, :, 0::2] = t.sin(position * div_term)\n",
        "        pe[0, :, 1::2] = t.cos(position * div_term)\n",
        "        self.register_buffer('pe', pe)\n",
        "\n",
        "    def forward(self, x):\n",
        "        \"\"\"\n",
        "        Args:\n",
        "            x: Tensor, shape [seq_len, batch_size, embedding_dim]\n",
        "        \"\"\"\n",
        "        x = x + self.pe[:, :x.size(1)]\n",
        "        return x"
      ],
      "metadata": {
        "id": "ZSy_tKGg2JJj"
      },
      "execution_count": 17,
      "outputs": []
    },
    {
      "cell_type": "code",
      "source": [
        "class MNIST_transformer_classifier(nn.Module):\n",
        "\n",
        "  def __init__(self, emb_size, QKV_size, n_heads, n_layers):\n",
        "\n",
        "    super().__init__()\n",
        "\n",
        "    self.embedding = nn.Embedding(num_embeddings=3, embedding_dim=emb_size)\n",
        "    self.attn_net = MultiheadAttentionNetwork(emb_size=emb_size, QKV_size=QKV_size, \n",
        "                                              n_heads=n_heads, seq_length=28 * 28 + 1, \n",
        "                                              n_layers=n_layers)\n",
        "    self.pe = PositionalEncoding(emb_size)\n",
        "\n",
        "    self.out = nn.Linear(emb_size, 10)\n",
        "\n",
        "  def forward(self, X):\n",
        "\n",
        "    '''X - [batch_size, 764] - binarized mnist images'''\n",
        "\n",
        "    X_with_cls = t.cat([t.ones(X.shape[0], 1).long().to(device) * 2, X], dim=1) # adding a CLS token\n",
        "\n",
        "    X_embedded = self.embedding(X_with_cls)\n",
        "    X_embedded = self.pe(X_embedded)\n",
        "\n",
        "    X_transformed = self.attn_net(X_embedded)\n",
        "    X_cls_tokens = X_transformed[:, 0, :]\n",
        "    X_logits = self.out(X_cls_tokens)\n",
        "    \n",
        "    return X_logits\n",
        "\n",
        "our_classifier = MNIST_transformer_classifier(emb_size=10, QKV_size=5, n_heads=3, n_layers=3)\n",
        "our_classifier.to(device);\n"
      ],
      "metadata": {
        "id": "bKau8N5Vs2Oo"
      },
      "execution_count": 18,
      "outputs": []
    },
    {
      "cell_type": "code",
      "source": [
        "def prep_batch(X, Y):\n",
        "  X = X.view(BATCH_SIZE, -1)\n",
        "  X = (X > 0).long()\n",
        "  X, Y = t.LongTensor(X).to(device), t.LongTensor(Y).to(device)\n",
        "  return X, Y"
      ],
      "metadata": {
        "id": "378rcxhxzdjL"
      },
      "execution_count": 19,
      "outputs": []
    },
    {
      "cell_type": "code",
      "source": [
        "def calculate_test_set_accuracy(model, test_set_dataloader):\n",
        "  batches = enumerate(test_loader)\n",
        "\n",
        "  correct = 0\n",
        "  total = 0\n",
        "  with t.no_grad():\n",
        "    for batch_idx, (X, Y) in batches:\n",
        "      if list(X.shape) != [BATCH_SIZE, 1, 28, 28]:\n",
        "        continue\n",
        "\n",
        "      X, Y = prep_batch(X, Y)\n",
        "      logits = our_classifier(X)\n",
        "      predictions = logits.argmax(dim=1)\n",
        "      correct += (predictions == Y).long().sum()\n",
        "      total += BATCH_SIZE\n",
        "\n",
        "  return correct / total\n",
        "\n"
      ],
      "metadata": {
        "id": "yu0aBEl7q4dq"
      },
      "execution_count": 20,
      "outputs": []
    },
    {
      "cell_type": "markdown",
      "source": [
        "## Writing a training loop"
      ],
      "metadata": {
        "id": "TvB8Hy1yEwBV"
      }
    },
    {
      "cell_type": "code",
      "source": [
        "optimizer = t.optim.Adam(our_classifier.parameters())\n",
        "loss_fn = nn.CrossEntropyLoss()\n",
        "\n",
        "for epoch in range(NUM_EPOCHS):\n",
        "\n",
        "  batches = enumerate(train_loader)\n",
        "\n",
        "  for batch_idx, (X, Y) in batches:\n",
        "    optimizer.zero_grad()\n",
        "    if list(X.shape) != [BATCH_SIZE, 1, 28, 28]:\n",
        "      continue\n",
        "\n",
        "    X, Y = prep_batch(X, Y)\n",
        "    logits = our_classifier(X)\n",
        "    loss = loss_fn(logits, Y)\n",
        "    loss.backward()\n",
        "\n",
        "    optimizer.step()\n",
        "\n",
        "    if not (batch_idx % 50):\n",
        "      print(\"Processed {} batches.\".format(batch_idx))\n",
        "\n",
        "\n",
        "  print(\"{} epochs passed\".format(epoch+1))\n",
        "  "
      ],
      "metadata": {
        "colab": {
          "base_uri": "https://localhost:8080/"
        },
        "id": "nhwhflRrqRQQ",
        "outputId": "390aed16-fec3-4a31-d790-e4d994790710"
      },
      "execution_count": null,
      "outputs": [
        {
          "output_type": "stream",
          "name": "stdout",
          "text": [
            "Processed 0 batches.\n",
            "Processed 50 batches.\n",
            "Processed 100 batches.\n",
            "Processed 150 batches.\n",
            "Processed 200 batches.\n",
            "Processed 250 batches.\n",
            "Processed 300 batches.\n",
            "Processed 350 batches.\n",
            "Processed 400 batches.\n",
            "Processed 450 batches.\n",
            "1 epochs passed\n",
            "Processed 0 batches.\n",
            "Processed 50 batches.\n",
            "Processed 100 batches.\n",
            "Processed 150 batches.\n",
            "Processed 200 batches.\n",
            "Processed 250 batches.\n",
            "Processed 300 batches.\n",
            "Processed 350 batches.\n",
            "Processed 400 batches.\n",
            "Processed 450 batches.\n",
            "2 epochs passed\n",
            "Processed 0 batches.\n",
            "Processed 50 batches.\n",
            "Processed 100 batches.\n",
            "Processed 150 batches.\n",
            "Processed 200 batches.\n",
            "Processed 250 batches.\n",
            "Processed 300 batches.\n",
            "Processed 350 batches.\n",
            "Processed 400 batches.\n",
            "Processed 450 batches.\n",
            "3 epochs passed\n",
            "Processed 0 batches.\n",
            "Processed 50 batches.\n",
            "Processed 100 batches.\n",
            "Processed 150 batches.\n",
            "Processed 200 batches.\n",
            "Processed 250 batches.\n",
            "Processed 300 batches.\n",
            "Processed 350 batches.\n",
            "Processed 400 batches.\n",
            "Processed 450 batches.\n",
            "4 epochs passed\n",
            "Processed 0 batches.\n",
            "Processed 50 batches.\n",
            "Processed 100 batches.\n"
          ]
        }
      ]
    },
    {
      "cell_type": "code",
      "source": [
        "accuracy = calculate_test_set_accuracy(our_classifier, test_loader)\n",
        "print(accuracy)"
      ],
      "metadata": {
        "colab": {
          "base_uri": "https://localhost:8080/"
        },
        "id": "VQ6dM-Fy-EzG",
        "outputId": "0b619b15-7463-41c0-dfb3-c6345f923376"
      },
      "execution_count": null,
      "outputs": [
        {
          "output_type": "stream",
          "name": "stdout",
          "text": [
            "tensor(0.9024, device='cuda:0')\n"
          ]
        }
      ]
    },
    {
      "cell_type": "code",
      "source": [
        ""
      ],
      "metadata": {
        "id": "B9pSCnqX-Vfv"
      },
      "execution_count": null,
      "outputs": []
    }
  ]
}