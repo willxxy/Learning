{
  "nbformat": 4,
  "nbformat_minor": 0,
  "metadata": {
    "colab": {
      "name": "Pytorch Learn_1to3.ipynb",
      "provenance": [],
      "collapsed_sections": [
        "O0AkjwkM6LWn",
        "FXSkrqFT9mS9",
        "6iizG9y9D7Jp",
        "JlW9usd8FBYf",
        "dL4KflLaGrPw",
        "iaK0HCcsIdRJ",
        "QH239s-RJOBZ",
        "7KyD4Z8Otyq4",
        "LuQnoBejR27H"
      ]
    },
    "kernelspec": {
      "name": "python3",
      "display_name": "Python 3"
    },
    "language_info": {
      "name": "python"
    },
    "widgets": {
      "application/vnd.jupyter.widget-state+json": {
        "46e2428a756b4caea57573d754e7e7c6": {
          "model_module": "@jupyter-widgets/controls",
          "model_name": "HBoxModel",
          "model_module_version": "1.5.0",
          "state": {
            "_view_name": "HBoxView",
            "_dom_classes": [],
            "_model_name": "HBoxModel",
            "_view_module": "@jupyter-widgets/controls",
            "_model_module_version": "1.5.0",
            "_view_count": null,
            "_view_module_version": "1.5.0",
            "box_style": "",
            "layout": "IPY_MODEL_5f49e32602224b7081bb730e26963f83",
            "_model_module": "@jupyter-widgets/controls",
            "children": [
              "IPY_MODEL_3323ba98d8254c0ea53cac7578528eaf",
              "IPY_MODEL_e2e78f60d7874515aa95fbd389164f83",
              "IPY_MODEL_d005b77462964e9e961e090bf13e75bc"
            ]
          }
        },
        "5f49e32602224b7081bb730e26963f83": {
          "model_module": "@jupyter-widgets/base",
          "model_name": "LayoutModel",
          "model_module_version": "1.2.0",
          "state": {
            "_view_name": "LayoutView",
            "grid_template_rows": null,
            "right": null,
            "justify_content": null,
            "_view_module": "@jupyter-widgets/base",
            "overflow": null,
            "_model_module_version": "1.2.0",
            "_view_count": null,
            "flex_flow": null,
            "width": null,
            "min_width": null,
            "border": null,
            "align_items": null,
            "bottom": null,
            "_model_module": "@jupyter-widgets/base",
            "top": null,
            "grid_column": null,
            "overflow_y": null,
            "overflow_x": null,
            "grid_auto_flow": null,
            "grid_area": null,
            "grid_template_columns": null,
            "flex": null,
            "_model_name": "LayoutModel",
            "justify_items": null,
            "grid_row": null,
            "max_height": null,
            "align_content": null,
            "visibility": null,
            "align_self": null,
            "height": null,
            "min_height": null,
            "padding": null,
            "grid_auto_rows": null,
            "grid_gap": null,
            "max_width": null,
            "order": null,
            "_view_module_version": "1.2.0",
            "grid_template_areas": null,
            "object_position": null,
            "object_fit": null,
            "grid_auto_columns": null,
            "margin": null,
            "display": null,
            "left": null
          }
        },
        "3323ba98d8254c0ea53cac7578528eaf": {
          "model_module": "@jupyter-widgets/controls",
          "model_name": "HTMLModel",
          "model_module_version": "1.5.0",
          "state": {
            "_view_name": "HTMLView",
            "style": "IPY_MODEL_2cfef03fe02e475bb950b9f2ee34671e",
            "_dom_classes": [],
            "description": "",
            "_model_name": "HTMLModel",
            "placeholder": "​",
            "_view_module": "@jupyter-widgets/controls",
            "_model_module_version": "1.5.0",
            "value": "",
            "_view_count": null,
            "_view_module_version": "1.5.0",
            "description_tooltip": null,
            "_model_module": "@jupyter-widgets/controls",
            "layout": "IPY_MODEL_3de4d3cc0c3e4b889c9b0ad7ea72b4c1"
          }
        },
        "e2e78f60d7874515aa95fbd389164f83": {
          "model_module": "@jupyter-widgets/controls",
          "model_name": "FloatProgressModel",
          "model_module_version": "1.5.0",
          "state": {
            "_view_name": "ProgressView",
            "style": "IPY_MODEL_214a581f913842bb8e11bc61e47695cb",
            "_dom_classes": [],
            "description": "",
            "_model_name": "FloatProgressModel",
            "bar_style": "success",
            "max": 9912422,
            "_view_module": "@jupyter-widgets/controls",
            "_model_module_version": "1.5.0",
            "value": 9912422,
            "_view_count": null,
            "_view_module_version": "1.5.0",
            "orientation": "horizontal",
            "min": 0,
            "description_tooltip": null,
            "_model_module": "@jupyter-widgets/controls",
            "layout": "IPY_MODEL_3532ab53dabd4bceabb3761d199904f5"
          }
        },
        "d005b77462964e9e961e090bf13e75bc": {
          "model_module": "@jupyter-widgets/controls",
          "model_name": "HTMLModel",
          "model_module_version": "1.5.0",
          "state": {
            "_view_name": "HTMLView",
            "style": "IPY_MODEL_41422bebc5da41d9b1920e959ad39d72",
            "_dom_classes": [],
            "description": "",
            "_model_name": "HTMLModel",
            "placeholder": "​",
            "_view_module": "@jupyter-widgets/controls",
            "_model_module_version": "1.5.0",
            "value": " 9913344/? [00:00&lt;00:00, 28503476.08it/s]",
            "_view_count": null,
            "_view_module_version": "1.5.0",
            "description_tooltip": null,
            "_model_module": "@jupyter-widgets/controls",
            "layout": "IPY_MODEL_826047b861bf4599b2ba15bfbe798f2e"
          }
        },
        "2cfef03fe02e475bb950b9f2ee34671e": {
          "model_module": "@jupyter-widgets/controls",
          "model_name": "DescriptionStyleModel",
          "model_module_version": "1.5.0",
          "state": {
            "_view_name": "StyleView",
            "_model_name": "DescriptionStyleModel",
            "description_width": "",
            "_view_module": "@jupyter-widgets/base",
            "_model_module_version": "1.5.0",
            "_view_count": null,
            "_view_module_version": "1.2.0",
            "_model_module": "@jupyter-widgets/controls"
          }
        },
        "3de4d3cc0c3e4b889c9b0ad7ea72b4c1": {
          "model_module": "@jupyter-widgets/base",
          "model_name": "LayoutModel",
          "model_module_version": "1.2.0",
          "state": {
            "_view_name": "LayoutView",
            "grid_template_rows": null,
            "right": null,
            "justify_content": null,
            "_view_module": "@jupyter-widgets/base",
            "overflow": null,
            "_model_module_version": "1.2.0",
            "_view_count": null,
            "flex_flow": null,
            "width": null,
            "min_width": null,
            "border": null,
            "align_items": null,
            "bottom": null,
            "_model_module": "@jupyter-widgets/base",
            "top": null,
            "grid_column": null,
            "overflow_y": null,
            "overflow_x": null,
            "grid_auto_flow": null,
            "grid_area": null,
            "grid_template_columns": null,
            "flex": null,
            "_model_name": "LayoutModel",
            "justify_items": null,
            "grid_row": null,
            "max_height": null,
            "align_content": null,
            "visibility": null,
            "align_self": null,
            "height": null,
            "min_height": null,
            "padding": null,
            "grid_auto_rows": null,
            "grid_gap": null,
            "max_width": null,
            "order": null,
            "_view_module_version": "1.2.0",
            "grid_template_areas": null,
            "object_position": null,
            "object_fit": null,
            "grid_auto_columns": null,
            "margin": null,
            "display": null,
            "left": null
          }
        },
        "214a581f913842bb8e11bc61e47695cb": {
          "model_module": "@jupyter-widgets/controls",
          "model_name": "ProgressStyleModel",
          "model_module_version": "1.5.0",
          "state": {
            "_view_name": "StyleView",
            "_model_name": "ProgressStyleModel",
            "description_width": "",
            "_view_module": "@jupyter-widgets/base",
            "_model_module_version": "1.5.0",
            "_view_count": null,
            "_view_module_version": "1.2.0",
            "bar_color": null,
            "_model_module": "@jupyter-widgets/controls"
          }
        },
        "3532ab53dabd4bceabb3761d199904f5": {
          "model_module": "@jupyter-widgets/base",
          "model_name": "LayoutModel",
          "model_module_version": "1.2.0",
          "state": {
            "_view_name": "LayoutView",
            "grid_template_rows": null,
            "right": null,
            "justify_content": null,
            "_view_module": "@jupyter-widgets/base",
            "overflow": null,
            "_model_module_version": "1.2.0",
            "_view_count": null,
            "flex_flow": null,
            "width": null,
            "min_width": null,
            "border": null,
            "align_items": null,
            "bottom": null,
            "_model_module": "@jupyter-widgets/base",
            "top": null,
            "grid_column": null,
            "overflow_y": null,
            "overflow_x": null,
            "grid_auto_flow": null,
            "grid_area": null,
            "grid_template_columns": null,
            "flex": null,
            "_model_name": "LayoutModel",
            "justify_items": null,
            "grid_row": null,
            "max_height": null,
            "align_content": null,
            "visibility": null,
            "align_self": null,
            "height": null,
            "min_height": null,
            "padding": null,
            "grid_auto_rows": null,
            "grid_gap": null,
            "max_width": null,
            "order": null,
            "_view_module_version": "1.2.0",
            "grid_template_areas": null,
            "object_position": null,
            "object_fit": null,
            "grid_auto_columns": null,
            "margin": null,
            "display": null,
            "left": null
          }
        },
        "41422bebc5da41d9b1920e959ad39d72": {
          "model_module": "@jupyter-widgets/controls",
          "model_name": "DescriptionStyleModel",
          "model_module_version": "1.5.0",
          "state": {
            "_view_name": "StyleView",
            "_model_name": "DescriptionStyleModel",
            "description_width": "",
            "_view_module": "@jupyter-widgets/base",
            "_model_module_version": "1.5.0",
            "_view_count": null,
            "_view_module_version": "1.2.0",
            "_model_module": "@jupyter-widgets/controls"
          }
        },
        "826047b861bf4599b2ba15bfbe798f2e": {
          "model_module": "@jupyter-widgets/base",
          "model_name": "LayoutModel",
          "model_module_version": "1.2.0",
          "state": {
            "_view_name": "LayoutView",
            "grid_template_rows": null,
            "right": null,
            "justify_content": null,
            "_view_module": "@jupyter-widgets/base",
            "overflow": null,
            "_model_module_version": "1.2.0",
            "_view_count": null,
            "flex_flow": null,
            "width": null,
            "min_width": null,
            "border": null,
            "align_items": null,
            "bottom": null,
            "_model_module": "@jupyter-widgets/base",
            "top": null,
            "grid_column": null,
            "overflow_y": null,
            "overflow_x": null,
            "grid_auto_flow": null,
            "grid_area": null,
            "grid_template_columns": null,
            "flex": null,
            "_model_name": "LayoutModel",
            "justify_items": null,
            "grid_row": null,
            "max_height": null,
            "align_content": null,
            "visibility": null,
            "align_self": null,
            "height": null,
            "min_height": null,
            "padding": null,
            "grid_auto_rows": null,
            "grid_gap": null,
            "max_width": null,
            "order": null,
            "_view_module_version": "1.2.0",
            "grid_template_areas": null,
            "object_position": null,
            "object_fit": null,
            "grid_auto_columns": null,
            "margin": null,
            "display": null,
            "left": null
          }
        },
        "edfab8f6fa33456c967d6b2b5a6e680b": {
          "model_module": "@jupyter-widgets/controls",
          "model_name": "HBoxModel",
          "model_module_version": "1.5.0",
          "state": {
            "_view_name": "HBoxView",
            "_dom_classes": [],
            "_model_name": "HBoxModel",
            "_view_module": "@jupyter-widgets/controls",
            "_model_module_version": "1.5.0",
            "_view_count": null,
            "_view_module_version": "1.5.0",
            "box_style": "",
            "layout": "IPY_MODEL_bf6d43bb7d39446d98c301e646afa28f",
            "_model_module": "@jupyter-widgets/controls",
            "children": [
              "IPY_MODEL_920b4750dc0c403baa423279a166a905",
              "IPY_MODEL_953e816aacd549a28de126a1acd9c4f1",
              "IPY_MODEL_055d7d9762d3449295f48efada25dbaf"
            ]
          }
        },
        "bf6d43bb7d39446d98c301e646afa28f": {
          "model_module": "@jupyter-widgets/base",
          "model_name": "LayoutModel",
          "model_module_version": "1.2.0",
          "state": {
            "_view_name": "LayoutView",
            "grid_template_rows": null,
            "right": null,
            "justify_content": null,
            "_view_module": "@jupyter-widgets/base",
            "overflow": null,
            "_model_module_version": "1.2.0",
            "_view_count": null,
            "flex_flow": null,
            "width": null,
            "min_width": null,
            "border": null,
            "align_items": null,
            "bottom": null,
            "_model_module": "@jupyter-widgets/base",
            "top": null,
            "grid_column": null,
            "overflow_y": null,
            "overflow_x": null,
            "grid_auto_flow": null,
            "grid_area": null,
            "grid_template_columns": null,
            "flex": null,
            "_model_name": "LayoutModel",
            "justify_items": null,
            "grid_row": null,
            "max_height": null,
            "align_content": null,
            "visibility": null,
            "align_self": null,
            "height": null,
            "min_height": null,
            "padding": null,
            "grid_auto_rows": null,
            "grid_gap": null,
            "max_width": null,
            "order": null,
            "_view_module_version": "1.2.0",
            "grid_template_areas": null,
            "object_position": null,
            "object_fit": null,
            "grid_auto_columns": null,
            "margin": null,
            "display": null,
            "left": null
          }
        },
        "920b4750dc0c403baa423279a166a905": {
          "model_module": "@jupyter-widgets/controls",
          "model_name": "HTMLModel",
          "model_module_version": "1.5.0",
          "state": {
            "_view_name": "HTMLView",
            "style": "IPY_MODEL_d8329ef531984c38932c4e1ff11ed62c",
            "_dom_classes": [],
            "description": "",
            "_model_name": "HTMLModel",
            "placeholder": "​",
            "_view_module": "@jupyter-widgets/controls",
            "_model_module_version": "1.5.0",
            "value": "",
            "_view_count": null,
            "_view_module_version": "1.5.0",
            "description_tooltip": null,
            "_model_module": "@jupyter-widgets/controls",
            "layout": "IPY_MODEL_30310f8b19064e729e42a03874021fbe"
          }
        },
        "953e816aacd549a28de126a1acd9c4f1": {
          "model_module": "@jupyter-widgets/controls",
          "model_name": "FloatProgressModel",
          "model_module_version": "1.5.0",
          "state": {
            "_view_name": "ProgressView",
            "style": "IPY_MODEL_1e574b47a5bf4e6bbd2d71ef8ad02c62",
            "_dom_classes": [],
            "description": "",
            "_model_name": "FloatProgressModel",
            "bar_style": "success",
            "max": 28881,
            "_view_module": "@jupyter-widgets/controls",
            "_model_module_version": "1.5.0",
            "value": 28881,
            "_view_count": null,
            "_view_module_version": "1.5.0",
            "orientation": "horizontal",
            "min": 0,
            "description_tooltip": null,
            "_model_module": "@jupyter-widgets/controls",
            "layout": "IPY_MODEL_8947c1a52eec4fd4a85a8a46b22e2122"
          }
        },
        "055d7d9762d3449295f48efada25dbaf": {
          "model_module": "@jupyter-widgets/controls",
          "model_name": "HTMLModel",
          "model_module_version": "1.5.0",
          "state": {
            "_view_name": "HTMLView",
            "style": "IPY_MODEL_864f577e610d402eb6a43683a5a3aceb",
            "_dom_classes": [],
            "description": "",
            "_model_name": "HTMLModel",
            "placeholder": "​",
            "_view_module": "@jupyter-widgets/controls",
            "_model_module_version": "1.5.0",
            "value": " 29696/? [00:00&lt;00:00, 7244.71it/s]",
            "_view_count": null,
            "_view_module_version": "1.5.0",
            "description_tooltip": null,
            "_model_module": "@jupyter-widgets/controls",
            "layout": "IPY_MODEL_dbc6df0923904b1483e0814d4e01a05c"
          }
        },
        "d8329ef531984c38932c4e1ff11ed62c": {
          "model_module": "@jupyter-widgets/controls",
          "model_name": "DescriptionStyleModel",
          "model_module_version": "1.5.0",
          "state": {
            "_view_name": "StyleView",
            "_model_name": "DescriptionStyleModel",
            "description_width": "",
            "_view_module": "@jupyter-widgets/base",
            "_model_module_version": "1.5.0",
            "_view_count": null,
            "_view_module_version": "1.2.0",
            "_model_module": "@jupyter-widgets/controls"
          }
        },
        "30310f8b19064e729e42a03874021fbe": {
          "model_module": "@jupyter-widgets/base",
          "model_name": "LayoutModel",
          "model_module_version": "1.2.0",
          "state": {
            "_view_name": "LayoutView",
            "grid_template_rows": null,
            "right": null,
            "justify_content": null,
            "_view_module": "@jupyter-widgets/base",
            "overflow": null,
            "_model_module_version": "1.2.0",
            "_view_count": null,
            "flex_flow": null,
            "width": null,
            "min_width": null,
            "border": null,
            "align_items": null,
            "bottom": null,
            "_model_module": "@jupyter-widgets/base",
            "top": null,
            "grid_column": null,
            "overflow_y": null,
            "overflow_x": null,
            "grid_auto_flow": null,
            "grid_area": null,
            "grid_template_columns": null,
            "flex": null,
            "_model_name": "LayoutModel",
            "justify_items": null,
            "grid_row": null,
            "max_height": null,
            "align_content": null,
            "visibility": null,
            "align_self": null,
            "height": null,
            "min_height": null,
            "padding": null,
            "grid_auto_rows": null,
            "grid_gap": null,
            "max_width": null,
            "order": null,
            "_view_module_version": "1.2.0",
            "grid_template_areas": null,
            "object_position": null,
            "object_fit": null,
            "grid_auto_columns": null,
            "margin": null,
            "display": null,
            "left": null
          }
        },
        "1e574b47a5bf4e6bbd2d71ef8ad02c62": {
          "model_module": "@jupyter-widgets/controls",
          "model_name": "ProgressStyleModel",
          "model_module_version": "1.5.0",
          "state": {
            "_view_name": "StyleView",
            "_model_name": "ProgressStyleModel",
            "description_width": "",
            "_view_module": "@jupyter-widgets/base",
            "_model_module_version": "1.5.0",
            "_view_count": null,
            "_view_module_version": "1.2.0",
            "bar_color": null,
            "_model_module": "@jupyter-widgets/controls"
          }
        },
        "8947c1a52eec4fd4a85a8a46b22e2122": {
          "model_module": "@jupyter-widgets/base",
          "model_name": "LayoutModel",
          "model_module_version": "1.2.0",
          "state": {
            "_view_name": "LayoutView",
            "grid_template_rows": null,
            "right": null,
            "justify_content": null,
            "_view_module": "@jupyter-widgets/base",
            "overflow": null,
            "_model_module_version": "1.2.0",
            "_view_count": null,
            "flex_flow": null,
            "width": null,
            "min_width": null,
            "border": null,
            "align_items": null,
            "bottom": null,
            "_model_module": "@jupyter-widgets/base",
            "top": null,
            "grid_column": null,
            "overflow_y": null,
            "overflow_x": null,
            "grid_auto_flow": null,
            "grid_area": null,
            "grid_template_columns": null,
            "flex": null,
            "_model_name": "LayoutModel",
            "justify_items": null,
            "grid_row": null,
            "max_height": null,
            "align_content": null,
            "visibility": null,
            "align_self": null,
            "height": null,
            "min_height": null,
            "padding": null,
            "grid_auto_rows": null,
            "grid_gap": null,
            "max_width": null,
            "order": null,
            "_view_module_version": "1.2.0",
            "grid_template_areas": null,
            "object_position": null,
            "object_fit": null,
            "grid_auto_columns": null,
            "margin": null,
            "display": null,
            "left": null
          }
        },
        "864f577e610d402eb6a43683a5a3aceb": {
          "model_module": "@jupyter-widgets/controls",
          "model_name": "DescriptionStyleModel",
          "model_module_version": "1.5.0",
          "state": {
            "_view_name": "StyleView",
            "_model_name": "DescriptionStyleModel",
            "description_width": "",
            "_view_module": "@jupyter-widgets/base",
            "_model_module_version": "1.5.0",
            "_view_count": null,
            "_view_module_version": "1.2.0",
            "_model_module": "@jupyter-widgets/controls"
          }
        },
        "dbc6df0923904b1483e0814d4e01a05c": {
          "model_module": "@jupyter-widgets/base",
          "model_name": "LayoutModel",
          "model_module_version": "1.2.0",
          "state": {
            "_view_name": "LayoutView",
            "grid_template_rows": null,
            "right": null,
            "justify_content": null,
            "_view_module": "@jupyter-widgets/base",
            "overflow": null,
            "_model_module_version": "1.2.0",
            "_view_count": null,
            "flex_flow": null,
            "width": null,
            "min_width": null,
            "border": null,
            "align_items": null,
            "bottom": null,
            "_model_module": "@jupyter-widgets/base",
            "top": null,
            "grid_column": null,
            "overflow_y": null,
            "overflow_x": null,
            "grid_auto_flow": null,
            "grid_area": null,
            "grid_template_columns": null,
            "flex": null,
            "_model_name": "LayoutModel",
            "justify_items": null,
            "grid_row": null,
            "max_height": null,
            "align_content": null,
            "visibility": null,
            "align_self": null,
            "height": null,
            "min_height": null,
            "padding": null,
            "grid_auto_rows": null,
            "grid_gap": null,
            "max_width": null,
            "order": null,
            "_view_module_version": "1.2.0",
            "grid_template_areas": null,
            "object_position": null,
            "object_fit": null,
            "grid_auto_columns": null,
            "margin": null,
            "display": null,
            "left": null
          }
        },
        "31905a568b62418b9b102aba8a668a5d": {
          "model_module": "@jupyter-widgets/controls",
          "model_name": "HBoxModel",
          "model_module_version": "1.5.0",
          "state": {
            "_view_name": "HBoxView",
            "_dom_classes": [],
            "_model_name": "HBoxModel",
            "_view_module": "@jupyter-widgets/controls",
            "_model_module_version": "1.5.0",
            "_view_count": null,
            "_view_module_version": "1.5.0",
            "box_style": "",
            "layout": "IPY_MODEL_45d3ed74bf794457a5d77112a7e21b0b",
            "_model_module": "@jupyter-widgets/controls",
            "children": [
              "IPY_MODEL_f46751d148d7461daa05cfc5ba26f20b",
              "IPY_MODEL_f879f2c6dda843218843ebb86337f6b8",
              "IPY_MODEL_e4034d3a466649fabf984d4733ec2e61"
            ]
          }
        },
        "45d3ed74bf794457a5d77112a7e21b0b": {
          "model_module": "@jupyter-widgets/base",
          "model_name": "LayoutModel",
          "model_module_version": "1.2.0",
          "state": {
            "_view_name": "LayoutView",
            "grid_template_rows": null,
            "right": null,
            "justify_content": null,
            "_view_module": "@jupyter-widgets/base",
            "overflow": null,
            "_model_module_version": "1.2.0",
            "_view_count": null,
            "flex_flow": null,
            "width": null,
            "min_width": null,
            "border": null,
            "align_items": null,
            "bottom": null,
            "_model_module": "@jupyter-widgets/base",
            "top": null,
            "grid_column": null,
            "overflow_y": null,
            "overflow_x": null,
            "grid_auto_flow": null,
            "grid_area": null,
            "grid_template_columns": null,
            "flex": null,
            "_model_name": "LayoutModel",
            "justify_items": null,
            "grid_row": null,
            "max_height": null,
            "align_content": null,
            "visibility": null,
            "align_self": null,
            "height": null,
            "min_height": null,
            "padding": null,
            "grid_auto_rows": null,
            "grid_gap": null,
            "max_width": null,
            "order": null,
            "_view_module_version": "1.2.0",
            "grid_template_areas": null,
            "object_position": null,
            "object_fit": null,
            "grid_auto_columns": null,
            "margin": null,
            "display": null,
            "left": null
          }
        },
        "f46751d148d7461daa05cfc5ba26f20b": {
          "model_module": "@jupyter-widgets/controls",
          "model_name": "HTMLModel",
          "model_module_version": "1.5.0",
          "state": {
            "_view_name": "HTMLView",
            "style": "IPY_MODEL_9e19445f9d8a44edaaa6d6e5500fa330",
            "_dom_classes": [],
            "description": "",
            "_model_name": "HTMLModel",
            "placeholder": "​",
            "_view_module": "@jupyter-widgets/controls",
            "_model_module_version": "1.5.0",
            "value": "",
            "_view_count": null,
            "_view_module_version": "1.5.0",
            "description_tooltip": null,
            "_model_module": "@jupyter-widgets/controls",
            "layout": "IPY_MODEL_eefa49987a1042afb984717eed6f6205"
          }
        },
        "f879f2c6dda843218843ebb86337f6b8": {
          "model_module": "@jupyter-widgets/controls",
          "model_name": "FloatProgressModel",
          "model_module_version": "1.5.0",
          "state": {
            "_view_name": "ProgressView",
            "style": "IPY_MODEL_2b84a106b9f94dbab63b1020b070a930",
            "_dom_classes": [],
            "description": "",
            "_model_name": "FloatProgressModel",
            "bar_style": "success",
            "max": 1648877,
            "_view_module": "@jupyter-widgets/controls",
            "_model_module_version": "1.5.0",
            "value": 1648877,
            "_view_count": null,
            "_view_module_version": "1.5.0",
            "orientation": "horizontal",
            "min": 0,
            "description_tooltip": null,
            "_model_module": "@jupyter-widgets/controls",
            "layout": "IPY_MODEL_9cee0826724a4f2aba65f5cd7043c6be"
          }
        },
        "e4034d3a466649fabf984d4733ec2e61": {
          "model_module": "@jupyter-widgets/controls",
          "model_name": "HTMLModel",
          "model_module_version": "1.5.0",
          "state": {
            "_view_name": "HTMLView",
            "style": "IPY_MODEL_6f8a5d2e0cdf46369eadfef53970e3a0",
            "_dom_classes": [],
            "description": "",
            "_model_name": "HTMLModel",
            "placeholder": "​",
            "_view_module": "@jupyter-widgets/controls",
            "_model_module_version": "1.5.0",
            "value": " 1649664/? [00:00&lt;00:00, 3470790.39it/s]",
            "_view_count": null,
            "_view_module_version": "1.5.0",
            "description_tooltip": null,
            "_model_module": "@jupyter-widgets/controls",
            "layout": "IPY_MODEL_d686436411034c6190cba52cc93a63f6"
          }
        },
        "9e19445f9d8a44edaaa6d6e5500fa330": {
          "model_module": "@jupyter-widgets/controls",
          "model_name": "DescriptionStyleModel",
          "model_module_version": "1.5.0",
          "state": {
            "_view_name": "StyleView",
            "_model_name": "DescriptionStyleModel",
            "description_width": "",
            "_view_module": "@jupyter-widgets/base",
            "_model_module_version": "1.5.0",
            "_view_count": null,
            "_view_module_version": "1.2.0",
            "_model_module": "@jupyter-widgets/controls"
          }
        },
        "eefa49987a1042afb984717eed6f6205": {
          "model_module": "@jupyter-widgets/base",
          "model_name": "LayoutModel",
          "model_module_version": "1.2.0",
          "state": {
            "_view_name": "LayoutView",
            "grid_template_rows": null,
            "right": null,
            "justify_content": null,
            "_view_module": "@jupyter-widgets/base",
            "overflow": null,
            "_model_module_version": "1.2.0",
            "_view_count": null,
            "flex_flow": null,
            "width": null,
            "min_width": null,
            "border": null,
            "align_items": null,
            "bottom": null,
            "_model_module": "@jupyter-widgets/base",
            "top": null,
            "grid_column": null,
            "overflow_y": null,
            "overflow_x": null,
            "grid_auto_flow": null,
            "grid_area": null,
            "grid_template_columns": null,
            "flex": null,
            "_model_name": "LayoutModel",
            "justify_items": null,
            "grid_row": null,
            "max_height": null,
            "align_content": null,
            "visibility": null,
            "align_self": null,
            "height": null,
            "min_height": null,
            "padding": null,
            "grid_auto_rows": null,
            "grid_gap": null,
            "max_width": null,
            "order": null,
            "_view_module_version": "1.2.0",
            "grid_template_areas": null,
            "object_position": null,
            "object_fit": null,
            "grid_auto_columns": null,
            "margin": null,
            "display": null,
            "left": null
          }
        },
        "2b84a106b9f94dbab63b1020b070a930": {
          "model_module": "@jupyter-widgets/controls",
          "model_name": "ProgressStyleModel",
          "model_module_version": "1.5.0",
          "state": {
            "_view_name": "StyleView",
            "_model_name": "ProgressStyleModel",
            "description_width": "",
            "_view_module": "@jupyter-widgets/base",
            "_model_module_version": "1.5.0",
            "_view_count": null,
            "_view_module_version": "1.2.0",
            "bar_color": null,
            "_model_module": "@jupyter-widgets/controls"
          }
        },
        "9cee0826724a4f2aba65f5cd7043c6be": {
          "model_module": "@jupyter-widgets/base",
          "model_name": "LayoutModel",
          "model_module_version": "1.2.0",
          "state": {
            "_view_name": "LayoutView",
            "grid_template_rows": null,
            "right": null,
            "justify_content": null,
            "_view_module": "@jupyter-widgets/base",
            "overflow": null,
            "_model_module_version": "1.2.0",
            "_view_count": null,
            "flex_flow": null,
            "width": null,
            "min_width": null,
            "border": null,
            "align_items": null,
            "bottom": null,
            "_model_module": "@jupyter-widgets/base",
            "top": null,
            "grid_column": null,
            "overflow_y": null,
            "overflow_x": null,
            "grid_auto_flow": null,
            "grid_area": null,
            "grid_template_columns": null,
            "flex": null,
            "_model_name": "LayoutModel",
            "justify_items": null,
            "grid_row": null,
            "max_height": null,
            "align_content": null,
            "visibility": null,
            "align_self": null,
            "height": null,
            "min_height": null,
            "padding": null,
            "grid_auto_rows": null,
            "grid_gap": null,
            "max_width": null,
            "order": null,
            "_view_module_version": "1.2.0",
            "grid_template_areas": null,
            "object_position": null,
            "object_fit": null,
            "grid_auto_columns": null,
            "margin": null,
            "display": null,
            "left": null
          }
        },
        "6f8a5d2e0cdf46369eadfef53970e3a0": {
          "model_module": "@jupyter-widgets/controls",
          "model_name": "DescriptionStyleModel",
          "model_module_version": "1.5.0",
          "state": {
            "_view_name": "StyleView",
            "_model_name": "DescriptionStyleModel",
            "description_width": "",
            "_view_module": "@jupyter-widgets/base",
            "_model_module_version": "1.5.0",
            "_view_count": null,
            "_view_module_version": "1.2.0",
            "_model_module": "@jupyter-widgets/controls"
          }
        },
        "d686436411034c6190cba52cc93a63f6": {
          "model_module": "@jupyter-widgets/base",
          "model_name": "LayoutModel",
          "model_module_version": "1.2.0",
          "state": {
            "_view_name": "LayoutView",
            "grid_template_rows": null,
            "right": null,
            "justify_content": null,
            "_view_module": "@jupyter-widgets/base",
            "overflow": null,
            "_model_module_version": "1.2.0",
            "_view_count": null,
            "flex_flow": null,
            "width": null,
            "min_width": null,
            "border": null,
            "align_items": null,
            "bottom": null,
            "_model_module": "@jupyter-widgets/base",
            "top": null,
            "grid_column": null,
            "overflow_y": null,
            "overflow_x": null,
            "grid_auto_flow": null,
            "grid_area": null,
            "grid_template_columns": null,
            "flex": null,
            "_model_name": "LayoutModel",
            "justify_items": null,
            "grid_row": null,
            "max_height": null,
            "align_content": null,
            "visibility": null,
            "align_self": null,
            "height": null,
            "min_height": null,
            "padding": null,
            "grid_auto_rows": null,
            "grid_gap": null,
            "max_width": null,
            "order": null,
            "_view_module_version": "1.2.0",
            "grid_template_areas": null,
            "object_position": null,
            "object_fit": null,
            "grid_auto_columns": null,
            "margin": null,
            "display": null,
            "left": null
          }
        },
        "2378610dd3a045eea03cce8db462318b": {
          "model_module": "@jupyter-widgets/controls",
          "model_name": "HBoxModel",
          "model_module_version": "1.5.0",
          "state": {
            "_view_name": "HBoxView",
            "_dom_classes": [],
            "_model_name": "HBoxModel",
            "_view_module": "@jupyter-widgets/controls",
            "_model_module_version": "1.5.0",
            "_view_count": null,
            "_view_module_version": "1.5.0",
            "box_style": "",
            "layout": "IPY_MODEL_edf86247d0a24e6886c6cd330affc9fa",
            "_model_module": "@jupyter-widgets/controls",
            "children": [
              "IPY_MODEL_2d05132481a04b34bb0a4fc262f33496",
              "IPY_MODEL_32462c4c8f604937bc881a849b21f2e8",
              "IPY_MODEL_3015917193e0400587bf4ab0385dfe8d"
            ]
          }
        },
        "edf86247d0a24e6886c6cd330affc9fa": {
          "model_module": "@jupyter-widgets/base",
          "model_name": "LayoutModel",
          "model_module_version": "1.2.0",
          "state": {
            "_view_name": "LayoutView",
            "grid_template_rows": null,
            "right": null,
            "justify_content": null,
            "_view_module": "@jupyter-widgets/base",
            "overflow": null,
            "_model_module_version": "1.2.0",
            "_view_count": null,
            "flex_flow": null,
            "width": null,
            "min_width": null,
            "border": null,
            "align_items": null,
            "bottom": null,
            "_model_module": "@jupyter-widgets/base",
            "top": null,
            "grid_column": null,
            "overflow_y": null,
            "overflow_x": null,
            "grid_auto_flow": null,
            "grid_area": null,
            "grid_template_columns": null,
            "flex": null,
            "_model_name": "LayoutModel",
            "justify_items": null,
            "grid_row": null,
            "max_height": null,
            "align_content": null,
            "visibility": null,
            "align_self": null,
            "height": null,
            "min_height": null,
            "padding": null,
            "grid_auto_rows": null,
            "grid_gap": null,
            "max_width": null,
            "order": null,
            "_view_module_version": "1.2.0",
            "grid_template_areas": null,
            "object_position": null,
            "object_fit": null,
            "grid_auto_columns": null,
            "margin": null,
            "display": null,
            "left": null
          }
        },
        "2d05132481a04b34bb0a4fc262f33496": {
          "model_module": "@jupyter-widgets/controls",
          "model_name": "HTMLModel",
          "model_module_version": "1.5.0",
          "state": {
            "_view_name": "HTMLView",
            "style": "IPY_MODEL_708fc9e961404c269b5f2973d650123f",
            "_dom_classes": [],
            "description": "",
            "_model_name": "HTMLModel",
            "placeholder": "​",
            "_view_module": "@jupyter-widgets/controls",
            "_model_module_version": "1.5.0",
            "value": "",
            "_view_count": null,
            "_view_module_version": "1.5.0",
            "description_tooltip": null,
            "_model_module": "@jupyter-widgets/controls",
            "layout": "IPY_MODEL_8aec7d8c98784c8ba499a330a1baa71b"
          }
        },
        "32462c4c8f604937bc881a849b21f2e8": {
          "model_module": "@jupyter-widgets/controls",
          "model_name": "FloatProgressModel",
          "model_module_version": "1.5.0",
          "state": {
            "_view_name": "ProgressView",
            "style": "IPY_MODEL_44b0b9d27d4246d9b9b050fe0f759910",
            "_dom_classes": [],
            "description": "",
            "_model_name": "FloatProgressModel",
            "bar_style": "success",
            "max": 4542,
            "_view_module": "@jupyter-widgets/controls",
            "_model_module_version": "1.5.0",
            "value": 4542,
            "_view_count": null,
            "_view_module_version": "1.5.0",
            "orientation": "horizontal",
            "min": 0,
            "description_tooltip": null,
            "_model_module": "@jupyter-widgets/controls",
            "layout": "IPY_MODEL_2d7947ad5a6f4f16a21dbbad3364deea"
          }
        },
        "3015917193e0400587bf4ab0385dfe8d": {
          "model_module": "@jupyter-widgets/controls",
          "model_name": "HTMLModel",
          "model_module_version": "1.5.0",
          "state": {
            "_view_name": "HTMLView",
            "style": "IPY_MODEL_bd7d4fe1b7da48e4a8b4b40186bf17ec",
            "_dom_classes": [],
            "description": "",
            "_model_name": "HTMLModel",
            "placeholder": "​",
            "_view_module": "@jupyter-widgets/controls",
            "_model_module_version": "1.5.0",
            "value": " 5120/? [00:00&lt;00:00, 90934.58it/s]",
            "_view_count": null,
            "_view_module_version": "1.5.0",
            "description_tooltip": null,
            "_model_module": "@jupyter-widgets/controls",
            "layout": "IPY_MODEL_18443e8e9f904d33ad18e7a7e811e11b"
          }
        },
        "708fc9e961404c269b5f2973d650123f": {
          "model_module": "@jupyter-widgets/controls",
          "model_name": "DescriptionStyleModel",
          "model_module_version": "1.5.0",
          "state": {
            "_view_name": "StyleView",
            "_model_name": "DescriptionStyleModel",
            "description_width": "",
            "_view_module": "@jupyter-widgets/base",
            "_model_module_version": "1.5.0",
            "_view_count": null,
            "_view_module_version": "1.2.0",
            "_model_module": "@jupyter-widgets/controls"
          }
        },
        "8aec7d8c98784c8ba499a330a1baa71b": {
          "model_module": "@jupyter-widgets/base",
          "model_name": "LayoutModel",
          "model_module_version": "1.2.0",
          "state": {
            "_view_name": "LayoutView",
            "grid_template_rows": null,
            "right": null,
            "justify_content": null,
            "_view_module": "@jupyter-widgets/base",
            "overflow": null,
            "_model_module_version": "1.2.0",
            "_view_count": null,
            "flex_flow": null,
            "width": null,
            "min_width": null,
            "border": null,
            "align_items": null,
            "bottom": null,
            "_model_module": "@jupyter-widgets/base",
            "top": null,
            "grid_column": null,
            "overflow_y": null,
            "overflow_x": null,
            "grid_auto_flow": null,
            "grid_area": null,
            "grid_template_columns": null,
            "flex": null,
            "_model_name": "LayoutModel",
            "justify_items": null,
            "grid_row": null,
            "max_height": null,
            "align_content": null,
            "visibility": null,
            "align_self": null,
            "height": null,
            "min_height": null,
            "padding": null,
            "grid_auto_rows": null,
            "grid_gap": null,
            "max_width": null,
            "order": null,
            "_view_module_version": "1.2.0",
            "grid_template_areas": null,
            "object_position": null,
            "object_fit": null,
            "grid_auto_columns": null,
            "margin": null,
            "display": null,
            "left": null
          }
        },
        "44b0b9d27d4246d9b9b050fe0f759910": {
          "model_module": "@jupyter-widgets/controls",
          "model_name": "ProgressStyleModel",
          "model_module_version": "1.5.0",
          "state": {
            "_view_name": "StyleView",
            "_model_name": "ProgressStyleModel",
            "description_width": "",
            "_view_module": "@jupyter-widgets/base",
            "_model_module_version": "1.5.0",
            "_view_count": null,
            "_view_module_version": "1.2.0",
            "bar_color": null,
            "_model_module": "@jupyter-widgets/controls"
          }
        },
        "2d7947ad5a6f4f16a21dbbad3364deea": {
          "model_module": "@jupyter-widgets/base",
          "model_name": "LayoutModel",
          "model_module_version": "1.2.0",
          "state": {
            "_view_name": "LayoutView",
            "grid_template_rows": null,
            "right": null,
            "justify_content": null,
            "_view_module": "@jupyter-widgets/base",
            "overflow": null,
            "_model_module_version": "1.2.0",
            "_view_count": null,
            "flex_flow": null,
            "width": null,
            "min_width": null,
            "border": null,
            "align_items": null,
            "bottom": null,
            "_model_module": "@jupyter-widgets/base",
            "top": null,
            "grid_column": null,
            "overflow_y": null,
            "overflow_x": null,
            "grid_auto_flow": null,
            "grid_area": null,
            "grid_template_columns": null,
            "flex": null,
            "_model_name": "LayoutModel",
            "justify_items": null,
            "grid_row": null,
            "max_height": null,
            "align_content": null,
            "visibility": null,
            "align_self": null,
            "height": null,
            "min_height": null,
            "padding": null,
            "grid_auto_rows": null,
            "grid_gap": null,
            "max_width": null,
            "order": null,
            "_view_module_version": "1.2.0",
            "grid_template_areas": null,
            "object_position": null,
            "object_fit": null,
            "grid_auto_columns": null,
            "margin": null,
            "display": null,
            "left": null
          }
        },
        "bd7d4fe1b7da48e4a8b4b40186bf17ec": {
          "model_module": "@jupyter-widgets/controls",
          "model_name": "DescriptionStyleModel",
          "model_module_version": "1.5.0",
          "state": {
            "_view_name": "StyleView",
            "_model_name": "DescriptionStyleModel",
            "description_width": "",
            "_view_module": "@jupyter-widgets/base",
            "_model_module_version": "1.5.0",
            "_view_count": null,
            "_view_module_version": "1.2.0",
            "_model_module": "@jupyter-widgets/controls"
          }
        },
        "18443e8e9f904d33ad18e7a7e811e11b": {
          "model_module": "@jupyter-widgets/base",
          "model_name": "LayoutModel",
          "model_module_version": "1.2.0",
          "state": {
            "_view_name": "LayoutView",
            "grid_template_rows": null,
            "right": null,
            "justify_content": null,
            "_view_module": "@jupyter-widgets/base",
            "overflow": null,
            "_model_module_version": "1.2.0",
            "_view_count": null,
            "flex_flow": null,
            "width": null,
            "min_width": null,
            "border": null,
            "align_items": null,
            "bottom": null,
            "_model_module": "@jupyter-widgets/base",
            "top": null,
            "grid_column": null,
            "overflow_y": null,
            "overflow_x": null,
            "grid_auto_flow": null,
            "grid_area": null,
            "grid_template_columns": null,
            "flex": null,
            "_model_name": "LayoutModel",
            "justify_items": null,
            "grid_row": null,
            "max_height": null,
            "align_content": null,
            "visibility": null,
            "align_self": null,
            "height": null,
            "min_height": null,
            "padding": null,
            "grid_auto_rows": null,
            "grid_gap": null,
            "max_width": null,
            "order": null,
            "_view_module_version": "1.2.0",
            "grid_template_areas": null,
            "object_position": null,
            "object_fit": null,
            "grid_auto_columns": null,
            "margin": null,
            "display": null,
            "left": null
          }
        }
      }
    }
  },
  "cells": [
    {
      "cell_type": "markdown",
      "source": [
        "### Pytorch Basics: Tensors and Gradients "
      ],
      "metadata": {
        "id": "PrlzqrJBxmdo"
      }
    },
    {
      "cell_type": "code",
      "execution_count": 1,
      "metadata": {
        "id": "XNXKRrEbwL3O"
      },
      "outputs": [],
      "source": [
        "import torch"
      ]
    },
    {
      "cell_type": "markdown",
      "source": [
        "### Tensors"
      ],
      "metadata": {
        "id": "jn9wGW_kytk2"
      }
    },
    {
      "cell_type": "code",
      "source": [
        "t1 = torch.tensor(4.)\n",
        "t1"
      ],
      "metadata": {
        "colab": {
          "base_uri": "https://localhost:8080/"
        },
        "id": "SOCspDxaysto",
        "outputId": "f88bae1f-333c-42c6-d047-5976f2ddd562"
      },
      "execution_count": 2,
      "outputs": [
        {
          "output_type": "execute_result",
          "data": {
            "text/plain": [
              "tensor(4.)"
            ]
          },
          "metadata": {},
          "execution_count": 2
        }
      ]
    },
    {
      "cell_type": "markdown",
      "source": [
        "4. shorthand for 4.0"
      ],
      "metadata": {
        "id": "McM5q1tUy2aO"
      }
    },
    {
      "cell_type": "code",
      "source": [
        "t1.dtype"
      ],
      "metadata": {
        "colab": {
          "base_uri": "https://localhost:8080/"
        },
        "id": "JHjBDExwy8EK",
        "outputId": "919254f8-f3c9-4908-b139-fd23cd189f9c"
      },
      "execution_count": 3,
      "outputs": [
        {
          "output_type": "execute_result",
          "data": {
            "text/plain": [
              "torch.float32"
            ]
          },
          "metadata": {},
          "execution_count": 3
        }
      ]
    },
    {
      "cell_type": "code",
      "source": [
        "#Vector\n",
        "\n",
        "t2 = torch.tensor([1., 2, 3, 4])\n",
        "t2"
      ],
      "metadata": {
        "colab": {
          "base_uri": "https://localhost:8080/"
        },
        "id": "HydDirzj3o2z",
        "outputId": "c81bb7f1-5ced-4262-abd1-c40304596761"
      },
      "execution_count": 4,
      "outputs": [
        {
          "output_type": "execute_result",
          "data": {
            "text/plain": [
              "tensor([1., 2., 3., 4.])"
            ]
          },
          "metadata": {},
          "execution_count": 4
        }
      ]
    },
    {
      "cell_type": "code",
      "source": [
        "#Matrix \n",
        "t3 = torch.tensor([[5., 6], [7,8], [9,10]])\n",
        "t3"
      ],
      "metadata": {
        "colab": {
          "base_uri": "https://localhost:8080/"
        },
        "id": "ZHjFCLg-33kt",
        "outputId": "4cdc1864-8fbc-4f14-a92b-24b6185fc101"
      },
      "execution_count": 5,
      "outputs": [
        {
          "output_type": "execute_result",
          "data": {
            "text/plain": [
              "tensor([[ 5.,  6.],\n",
              "        [ 7.,  8.],\n",
              "        [ 9., 10.]])"
            ]
          },
          "metadata": {},
          "execution_count": 5
        }
      ]
    },
    {
      "cell_type": "code",
      "source": [
        "# 3D array\n",
        "t4 = torch.tensor([\n",
        "                   [[11, 12, 13],\n",
        "                    [13, 14, 15]],\n",
        "                  [[15, 16, 17],\n",
        "                   [17, 18, 19.]]])\n",
        "t4"
      ],
      "metadata": {
        "colab": {
          "base_uri": "https://localhost:8080/"
        },
        "id": "m16sgvw24F2i",
        "outputId": "1df1d880-ea7e-4dc2-af7a-3f8623cbe82d"
      },
      "execution_count": 6,
      "outputs": [
        {
          "output_type": "execute_result",
          "data": {
            "text/plain": [
              "tensor([[[11., 12., 13.],\n",
              "         [13., 14., 15.]],\n",
              "\n",
              "        [[15., 16., 17.],\n",
              "         [17., 18., 19.]]])"
            ]
          },
          "metadata": {},
          "execution_count": 6
        }
      ]
    },
    {
      "cell_type": "code",
      "source": [
        "print(t1.shape)\n",
        "print(t2.shape)\n",
        "print(t3.shape)\n",
        "print(t4.shape)"
      ],
      "metadata": {
        "colab": {
          "base_uri": "https://localhost:8080/"
        },
        "id": "58wzOKGZ4ygG",
        "outputId": "d4eefdc5-807f-478c-8d60-b885cb66f740"
      },
      "execution_count": 7,
      "outputs": [
        {
          "output_type": "stream",
          "name": "stdout",
          "text": [
            "torch.Size([])\n",
            "torch.Size([4])\n",
            "torch.Size([3, 2])\n",
            "torch.Size([2, 2, 3])\n"
          ]
        }
      ]
    },
    {
      "cell_type": "markdown",
      "source": [
        "### Tensor Operations and Gradients"
      ],
      "metadata": {
        "id": "BmUqa1CU5NWQ"
      }
    },
    {
      "cell_type": "code",
      "source": [
        "#create tensors\n",
        "x = torch.tensor(3.)\n",
        "w = torch.tensor(4., requires_grad = True)\n",
        "b = torch.tensor(5., requires_grad = True)"
      ],
      "metadata": {
        "id": "8KwHOUCS5PDN"
      },
      "execution_count": 8,
      "outputs": []
    },
    {
      "cell_type": "code",
      "source": [
        "y = w * x + b \n",
        "y"
      ],
      "metadata": {
        "colab": {
          "base_uri": "https://localhost:8080/"
        },
        "id": "ZYfPw81_5Y9f",
        "outputId": "ffc903e8-cdb7-4bdd-ae7f-eb4f6205dadd"
      },
      "execution_count": 9,
      "outputs": [
        {
          "output_type": "execute_result",
          "data": {
            "text/plain": [
              "tensor(17., grad_fn=<AddBackward0>)"
            ]
          },
          "metadata": {},
          "execution_count": 9
        }
      ]
    },
    {
      "cell_type": "code",
      "source": [
        "#compute derivatives\n",
        "y.backward()"
      ],
      "metadata": {
        "id": "xzWn_Ckz5eWh"
      },
      "execution_count": 10,
      "outputs": []
    },
    {
      "cell_type": "code",
      "source": [
        "# Display gradients\n",
        "print('dy/dx:', x.grad)\n",
        "print('dy/dw:', w.grad)\n",
        "print('dy/db:', b.grad)"
      ],
      "metadata": {
        "colab": {
          "base_uri": "https://localhost:8080/"
        },
        "id": "7Q2Uql6d5nHm",
        "outputId": "8cbf3ab8-afef-4e69-aa66-70e8dbbb5ebe"
      },
      "execution_count": 11,
      "outputs": [
        {
          "output_type": "stream",
          "name": "stdout",
          "text": [
            "dy/dx: None\n",
            "dy/dw: tensor(3.)\n",
            "dy/db: tensor(1.)\n"
          ]
        }
      ]
    },
    {
      "cell_type": "markdown",
      "source": [
        "### Interoperability with Numpy"
      ],
      "metadata": {
        "id": "O0AkjwkM6LWn"
      }
    },
    {
      "cell_type": "code",
      "source": [
        "import numpy as np"
      ],
      "metadata": {
        "id": "tY0zsUc66Nap"
      },
      "execution_count": 12,
      "outputs": []
    },
    {
      "cell_type": "code",
      "source": [
        "x = np.array([[1., 3.], [3., 4.]])\n",
        "x"
      ],
      "metadata": {
        "colab": {
          "base_uri": "https://localhost:8080/"
        },
        "id": "Tt-8OqTr6Owl",
        "outputId": "440903da-0250-440b-f35d-7f952541ccd8"
      },
      "execution_count": 13,
      "outputs": [
        {
          "output_type": "execute_result",
          "data": {
            "text/plain": [
              "array([[1., 3.],\n",
              "       [3., 4.]])"
            ]
          },
          "metadata": {},
          "execution_count": 13
        }
      ]
    },
    {
      "cell_type": "code",
      "source": [
        "#convert the numpy array to a torch tensor \n",
        "y = torch.from_numpy(x)\n",
        "print(y)\n",
        "\n",
        "#or\n",
        "\n",
        "y = torch.tensor(x)\n",
        "print(y)"
      ],
      "metadata": {
        "colab": {
          "base_uri": "https://localhost:8080/"
        },
        "id": "w53bPqmb6jFX",
        "outputId": "7af2d3e6-dfaf-40ac-d779-8f4e4a03339c"
      },
      "execution_count": 14,
      "outputs": [
        {
          "output_type": "stream",
          "name": "stdout",
          "text": [
            "tensor([[1., 3.],\n",
            "        [3., 4.]], dtype=torch.float64)\n",
            "tensor([[1., 3.],\n",
            "        [3., 4.]], dtype=torch.float64)\n"
          ]
        }
      ]
    },
    {
      "cell_type": "code",
      "source": [
        "x.dtype, y.dtype"
      ],
      "metadata": {
        "colab": {
          "base_uri": "https://localhost:8080/"
        },
        "id": "j6TaeCr96wjG",
        "outputId": "5002faf4-77d1-46c2-b1a4-9358b98717d4"
      },
      "execution_count": 15,
      "outputs": [
        {
          "output_type": "execute_result",
          "data": {
            "text/plain": [
              "(dtype('float64'), torch.float64)"
            ]
          },
          "metadata": {},
          "execution_count": 15
        }
      ]
    },
    {
      "cell_type": "code",
      "source": [
        "#convert a torch tensor to a numpy array\n",
        "z = y.numpy()\n",
        "z"
      ],
      "metadata": {
        "colab": {
          "base_uri": "https://localhost:8080/"
        },
        "id": "N7-gkOo561K5",
        "outputId": "1702af3d-7944-411e-a131-b1cc9adb6f25"
      },
      "execution_count": 16,
      "outputs": [
        {
          "output_type": "execute_result",
          "data": {
            "text/plain": [
              "array([[1., 3.],\n",
              "       [3., 4.]])"
            ]
          },
          "metadata": {},
          "execution_count": 16
        }
      ]
    },
    {
      "cell_type": "code",
      "source": [
        "#torch version of np.full\n",
        "\n",
        "t5 = torch.full((3,2), 50)\n",
        "t5"
      ],
      "metadata": {
        "colab": {
          "base_uri": "https://localhost:8080/"
        },
        "id": "ZSy8NGlT8y5x",
        "outputId": "d385e7da-fba1-41cf-b75d-87b1b05b4827"
      },
      "execution_count": 17,
      "outputs": [
        {
          "output_type": "execute_result",
          "data": {
            "text/plain": [
              "tensor([[50, 50],\n",
              "        [50, 50],\n",
              "        [50, 50]])"
            ]
          },
          "metadata": {},
          "execution_count": 17
        }
      ]
    },
    {
      "cell_type": "code",
      "source": [
        "#concatenating 2 tensors with compatible shapes \n",
        "t7 = torch.cat((t3, t5))\n",
        "t7"
      ],
      "metadata": {
        "colab": {
          "base_uri": "https://localhost:8080/"
        },
        "id": "SeoQNo8f9HIx",
        "outputId": "eb922ed1-b5b9-47af-998f-cf7e7f589706"
      },
      "execution_count": 18,
      "outputs": [
        {
          "output_type": "execute_result",
          "data": {
            "text/plain": [
              "tensor([[ 5.,  6.],\n",
              "        [ 7.,  8.],\n",
              "        [ 9., 10.],\n",
              "        [50., 50.],\n",
              "        [50., 50.],\n",
              "        [50., 50.]])"
            ]
          },
          "metadata": {},
          "execution_count": 18
        }
      ]
    },
    {
      "cell_type": "code",
      "source": [
        "#compute sin of each element\n",
        "t6 = torch.sin(t7)\n",
        "t6"
      ],
      "metadata": {
        "colab": {
          "base_uri": "https://localhost:8080/"
        },
        "id": "dfQp1gaX9SXO",
        "outputId": "4cc484db-a201-4d42-e90b-835ff85b938f"
      },
      "execution_count": 19,
      "outputs": [
        {
          "output_type": "execute_result",
          "data": {
            "text/plain": [
              "tensor([[-0.9589, -0.2794],\n",
              "        [ 0.6570,  0.9894],\n",
              "        [ 0.4121, -0.5440],\n",
              "        [-0.2624, -0.2624],\n",
              "        [-0.2624, -0.2624],\n",
              "        [-0.2624, -0.2624]])"
            ]
          },
          "metadata": {},
          "execution_count": 19
        }
      ]
    },
    {
      "cell_type": "code",
      "source": [
        "t8 = t6.reshape(3, 2, 2)\n",
        "t8"
      ],
      "metadata": {
        "colab": {
          "base_uri": "https://localhost:8080/"
        },
        "id": "XFnbT-bd9X57",
        "outputId": "fb1ee7b7-d9db-4734-86be-3806aff28908"
      },
      "execution_count": 20,
      "outputs": [
        {
          "output_type": "execute_result",
          "data": {
            "text/plain": [
              "tensor([[[-0.9589, -0.2794],\n",
              "         [ 0.6570,  0.9894]],\n",
              "\n",
              "        [[ 0.4121, -0.5440],\n",
              "         [-0.2624, -0.2624]],\n",
              "\n",
              "        [[-0.2624, -0.2624],\n",
              "         [-0.2624, -0.2624]]])"
            ]
          },
          "metadata": {},
          "execution_count": 20
        }
      ]
    },
    {
      "cell_type": "markdown",
      "source": [
        "### Linear Regression with Pytorch"
      ],
      "metadata": {
        "id": "FXSkrqFT9mS9"
      }
    },
    {
      "cell_type": "markdown",
      "source": [
        "![Screen Shot 2022-02-05 at 2.26.03 PM.png](data:image/png;base64,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)"
      ],
      "metadata": {
        "id": "dTzesaQ3_aDo"
      }
    },
    {
      "cell_type": "code",
      "source": [
        "#input (temp, rainfall, humidity)\n",
        "inputs = np.array([[73, 67, 43],\n",
        "                   [91, 88, 64],\n",
        "                   [87, 134, 58],\n",
        "                   [102, 43, 37],\n",
        "                   [69, 96, 70]], dtype = 'float32')"
      ],
      "metadata": {
        "id": "xfYUYNNX_Qmg"
      },
      "execution_count": 21,
      "outputs": []
    },
    {
      "cell_type": "code",
      "source": [
        "#targets (tons of apples and oranges)\n",
        "\n",
        "targets = np.array([[56, 70],\n",
        "                    [81, 101],\n",
        "                    [119, 133],\n",
        "                    [22, 37],\n",
        "                    [103, 119]], dtype = 'float32')"
      ],
      "metadata": {
        "id": "_DmQ73LVAP1w"
      },
      "execution_count": 22,
      "outputs": []
    },
    {
      "cell_type": "code",
      "source": [
        "inputs = torch.from_numpy(inputs)\n",
        "targets = torch.from_numpy(targets)\n",
        "print(inputs)\n",
        "print(targets)"
      ],
      "metadata": {
        "colab": {
          "base_uri": "https://localhost:8080/"
        },
        "id": "gQjjKStjAxpm",
        "outputId": "5f59cbc7-34fa-4774-e567-77ed9a2160b9"
      },
      "execution_count": 23,
      "outputs": [
        {
          "output_type": "stream",
          "name": "stdout",
          "text": [
            "tensor([[ 73.,  67.,  43.],\n",
            "        [ 91.,  88.,  64.],\n",
            "        [ 87., 134.,  58.],\n",
            "        [102.,  43.,  37.],\n",
            "        [ 69.,  96.,  70.]])\n",
            "tensor([[ 56.,  70.],\n",
            "        [ 81., 101.],\n",
            "        [119., 133.],\n",
            "        [ 22.,  37.],\n",
            "        [103., 119.]])\n"
          ]
        }
      ]
    },
    {
      "cell_type": "code",
      "source": [
        "w = torch.randn(2, 3, requires_grad = True)\n",
        "b = torch.randn(2, requires_grad = True)\n",
        "print(w)\n",
        "print(b)"
      ],
      "metadata": {
        "colab": {
          "base_uri": "https://localhost:8080/"
        },
        "id": "6pft0ATwCkN7",
        "outputId": "678f6458-2ea6-4c20-9a10-d4674a7364a2"
      },
      "execution_count": 24,
      "outputs": [
        {
          "output_type": "stream",
          "name": "stdout",
          "text": [
            "tensor([[-0.2165,  0.6760, -0.3774],\n",
            "        [-2.6224, -0.1181, -2.3660]], requires_grad=True)\n",
            "tensor([0.8635, 0.0820], requires_grad=True)\n"
          ]
        }
      ]
    },
    {
      "cell_type": "markdown",
      "source": [
        "randn creates a tensor with the given shape, with elements picked randomly from a normal distribtuiuon with mean 0 and standard deviation 1\n"
      ],
      "metadata": {
        "id": "Mp37ndXHC8Dm"
      }
    },
    {
      "cell_type": "code",
      "source": [
        "def model(x):\n",
        "  return x @ w.t() + b"
      ],
      "metadata": {
        "id": "vkZpQ6EvDE8E"
      },
      "execution_count": 25,
      "outputs": []
    },
    {
      "cell_type": "markdown",
      "source": [
        "@ does matrix multiplication in PyTorch\n",
        "\n",
        ".t method returns the transpose of a tensor "
      ],
      "metadata": {
        "id": "E5gGF3bDDSU2"
      }
    },
    {
      "cell_type": "code",
      "source": [
        "#generate predictions\n",
        "preds = model(inputs)\n",
        "print(preds)"
      ],
      "metadata": {
        "colab": {
          "base_uri": "https://localhost:8080/"
        },
        "id": "ZpbqUkn8DWLu",
        "outputId": "7f959508-4fec-4683-fd82-4e4f6bc72218"
      },
      "execution_count": 26,
      "outputs": [
        {
          "output_type": "stream",
          "name": "stdout",
          "text": [
            "tensor([[  14.1284, -301.0096],\n",
            "        [  16.5040, -400.3808],\n",
            "        [  50.7319, -381.1278],\n",
            "        [  -6.1105, -360.0296],\n",
            "        [  24.4109, -357.8282]], grad_fn=<AddBackward0>)\n"
          ]
        }
      ]
    },
    {
      "cell_type": "code",
      "source": [
        "#compare with targets\n",
        "print(targets)"
      ],
      "metadata": {
        "colab": {
          "base_uri": "https://localhost:8080/"
        },
        "id": "J-B6i4nDDfPs",
        "outputId": "c1e86434-0c3c-4193-8eb2-39d631c8c7fc"
      },
      "execution_count": 27,
      "outputs": [
        {
          "output_type": "stream",
          "name": "stdout",
          "text": [
            "tensor([[ 56.,  70.],\n",
            "        [ 81., 101.],\n",
            "        [119., 133.],\n",
            "        [ 22.,  37.],\n",
            "        [103., 119.]])\n"
          ]
        }
      ]
    },
    {
      "cell_type": "markdown",
      "source": [
        "### Loss function"
      ],
      "metadata": {
        "id": "6iizG9y9D7Jp"
      }
    },
    {
      "cell_type": "code",
      "source": [
        "diff = preds - targets\n",
        "diff_sqr = diff * diff"
      ],
      "metadata": {
        "id": "9xNkAjK7EEg3"
      },
      "execution_count": 28,
      "outputs": []
    },
    {
      "cell_type": "code",
      "source": [
        "torch.sum(diff_sqr)/diff.numel()"
      ],
      "metadata": {
        "colab": {
          "base_uri": "https://localhost:8080/"
        },
        "id": "nAE2P_p5Ec5l",
        "outputId": "d4e0c3f1-15b1-4773-f161-d8ab7b13eb9c"
      },
      "execution_count": 29,
      "outputs": [
        {
          "output_type": "execute_result",
          "data": {
            "text/plain": [
              "tensor(105589.6016, grad_fn=<DivBackward0>)"
            ]
          },
          "metadata": {},
          "execution_count": 29
        }
      ]
    },
    {
      "cell_type": "code",
      "source": [
        "#MSE loss\n",
        "def mse(t1, t2):\n",
        "  diff = t1-t2\n",
        "  return torch.sum(diff*diff)/diff.numel()"
      ],
      "metadata": {
        "id": "rwq6Lhb3D6zo"
      },
      "execution_count": 30,
      "outputs": []
    },
    {
      "cell_type": "markdown",
      "source": [
        "torch.sum returns the sum of all the elements in a tensor\n",
        "\n",
        ".numel method returns the number of elements in a tensor "
      ],
      "metadata": {
        "id": "lzPtyoTvEnpE"
      }
    },
    {
      "cell_type": "code",
      "source": [
        "#compute loss\n",
        "loss = mse(preds, targets)\n",
        "print(loss)"
      ],
      "metadata": {
        "colab": {
          "base_uri": "https://localhost:8080/"
        },
        "id": "3k6b7kNCEwrU",
        "outputId": "5b305c60-313b-412f-e4d8-262559af868e"
      },
      "execution_count": 31,
      "outputs": [
        {
          "output_type": "stream",
          "name": "stdout",
          "text": [
            "tensor(105589.6016, grad_fn=<DivBackward0>)\n"
          ]
        }
      ]
    },
    {
      "cell_type": "markdown",
      "source": [
        "### Compute Gradients"
      ],
      "metadata": {
        "id": "JlW9usd8FBYf"
      }
    },
    {
      "cell_type": "code",
      "source": [
        "#compute gradients\n",
        "loss.backward()"
      ],
      "metadata": {
        "id": "Py5gCt18FDQB"
      },
      "execution_count": 32,
      "outputs": []
    },
    {
      "cell_type": "code",
      "source": [
        "#gradients for weights\n",
        "print(w)\n",
        "print(w.grad)"
      ],
      "metadata": {
        "colab": {
          "base_uri": "https://localhost:8080/"
        },
        "id": "pJgFminsFIN_",
        "outputId": "accf45a4-063c-424e-a673-d49c12114f55"
      },
      "execution_count": 33,
      "outputs": [
        {
          "output_type": "stream",
          "name": "stdout",
          "text": [
            "tensor([[-0.2165,  0.6760, -0.3774],\n",
            "        [-2.6224, -0.1181, -2.3660]], requires_grad=True)\n",
            "tensor([[ -4631.0015,  -5276.4565,  -3285.8203],\n",
            "        [-38167.3320, -40144.0156, -25185.8555]])\n"
          ]
        }
      ]
    },
    {
      "cell_type": "code",
      "source": [
        "#gradients for bias\n",
        "print(b)\n",
        "print(b.grad)"
      ],
      "metadata": {
        "colab": {
          "base_uri": "https://localhost:8080/"
        },
        "id": "cvTHNJ8AFZ7l",
        "outputId": "a1e730bf-e2d7-495f-bc2e-69366415e5fe"
      },
      "execution_count": 34,
      "outputs": [
        {
          "output_type": "stream",
          "name": "stdout",
          "text": [
            "tensor([0.8635, 0.0820], requires_grad=True)\n",
            "tensor([ -56.2671, -452.0753])\n"
          ]
        }
      ]
    },
    {
      "cell_type": "code",
      "source": [
        "w.grad.zero_()\n",
        "b.grad.zero_()\n",
        "print(w.grad)\n",
        "print(b.grad)"
      ],
      "metadata": {
        "colab": {
          "base_uri": "https://localhost:8080/"
        },
        "id": "1VdAvDpmFdVd",
        "outputId": "a8ea2a78-0308-4207-9721-3e213aa84f8a"
      },
      "execution_count": 35,
      "outputs": [
        {
          "output_type": "stream",
          "name": "stdout",
          "text": [
            "tensor([[0., 0., 0.],\n",
            "        [0., 0., 0.]])\n",
            "tensor([0., 0.])\n"
          ]
        }
      ]
    },
    {
      "cell_type": "markdown",
      "source": [
        "we reset the gradients to zero by calling .zero_() method"
      ],
      "metadata": {
        "id": "Q38KqlN0Ghr5"
      }
    },
    {
      "cell_type": "markdown",
      "source": [
        "### Adjust weights and biases using gradient descent "
      ],
      "metadata": {
        "id": "dL4KflLaGrPw"
      }
    },
    {
      "cell_type": "code",
      "source": [
        "#generate predictions\n",
        "preds = model(inputs)\n",
        "print(preds)"
      ],
      "metadata": {
        "colab": {
          "base_uri": "https://localhost:8080/"
        },
        "id": "0DN-myhGGqn4",
        "outputId": "0116d765-e0fb-4d09-8915-842a9a070d89"
      },
      "execution_count": 36,
      "outputs": [
        {
          "output_type": "stream",
          "name": "stdout",
          "text": [
            "tensor([[  14.1284, -301.0096],\n",
            "        [  16.5040, -400.3808],\n",
            "        [  50.7319, -381.1278],\n",
            "        [  -6.1105, -360.0296],\n",
            "        [  24.4109, -357.8282]], grad_fn=<AddBackward0>)\n"
          ]
        }
      ]
    },
    {
      "cell_type": "code",
      "source": [
        "#calculate the loss\n",
        "loss = mse(preds, targets)\n",
        "print(loss)"
      ],
      "metadata": {
        "colab": {
          "base_uri": "https://localhost:8080/"
        },
        "id": "fGsaguWJG72g",
        "outputId": "d4f1205e-ce14-456b-c445-e7da25cf74a1"
      },
      "execution_count": 37,
      "outputs": [
        {
          "output_type": "stream",
          "name": "stdout",
          "text": [
            "tensor(105589.6016, grad_fn=<DivBackward0>)\n"
          ]
        }
      ]
    },
    {
      "cell_type": "code",
      "source": [
        "#compute gradients\n",
        "loss.backward()\n",
        "print(w.grad)\n",
        "print(b.grad)"
      ],
      "metadata": {
        "colab": {
          "base_uri": "https://localhost:8080/"
        },
        "id": "ey_4u2emHG_y",
        "outputId": "55e073b4-de4a-4ce1-e0d0-8b02a71fa3e7"
      },
      "execution_count": 38,
      "outputs": [
        {
          "output_type": "stream",
          "name": "stdout",
          "text": [
            "tensor([[ -4631.0015,  -5276.4565,  -3285.8203],\n",
            "        [-38167.3320, -40144.0156, -25185.8555]])\n",
            "tensor([ -56.2671, -452.0753])\n"
          ]
        }
      ]
    },
    {
      "cell_type": "code",
      "source": [
        "#adjust weight and reset gradients\n",
        "with torch.no_grad():\n",
        "  w -= w.grad * 1e-5\n",
        "  b -= b.grad * 1e-5\n",
        "  w.grad.zero_()\n",
        "  b.grad.zero_()"
      ],
      "metadata": {
        "id": "itJkbkqFHPAS"
      },
      "execution_count": 39,
      "outputs": []
    },
    {
      "cell_type": "markdown",
      "source": [
        "torch.no_grad is used to indicate to PyTorch that we shouldn't track, calculate or modify gradients while updating the weights and biases "
      ],
      "metadata": {
        "id": "EsnnhPWjH0Dp"
      }
    },
    {
      "cell_type": "code",
      "source": [
        "print(w)\n",
        "print(b)"
      ],
      "metadata": {
        "colab": {
          "base_uri": "https://localhost:8080/"
        },
        "id": "tntZhpZpH8PF",
        "outputId": "aa6338e5-4c78-4f54-e78c-2fcab2b6b41c"
      },
      "execution_count": 40,
      "outputs": [
        {
          "output_type": "stream",
          "name": "stdout",
          "text": [
            "tensor([[-0.1702,  0.7288, -0.3445],\n",
            "        [-2.2408,  0.2833, -2.1142]], requires_grad=True)\n",
            "tensor([0.8641, 0.0865], requires_grad=True)\n"
          ]
        }
      ]
    },
    {
      "cell_type": "code",
      "source": [
        "#calculate loss\n",
        "preds = model(inputs)\n",
        "loss = mse(preds, targets)\n",
        "print(loss)"
      ],
      "metadata": {
        "colab": {
          "base_uri": "https://localhost:8080/"
        },
        "id": "tJ0qZ2YyIQp3",
        "outputId": "b8e9613a-ff75-47da-ca8d-4c294f410855"
      },
      "execution_count": 41,
      "outputs": [
        {
          "output_type": "stream",
          "name": "stdout",
          "text": [
            "tensor(71329.7500, grad_fn=<DivBackward0>)\n"
          ]
        }
      ]
    },
    {
      "cell_type": "markdown",
      "source": [
        "###Train for multiple epochs"
      ],
      "metadata": {
        "id": "iaK0HCcsIdRJ"
      }
    },
    {
      "cell_type": "code",
      "source": [
        "#train for 100 epochs\n",
        "for i in range(500):\n",
        "  preds = model(inputs)\n",
        "  loss = mse(preds, targets)\n",
        "  loss.backward()\n",
        "  with torch.no_grad():\n",
        "    w -= w.grad * 1e-5\n",
        "    b -= b.grad * 1e-5\n",
        "    w.grad.zero_()\n",
        "    b.grad.zero_()"
      ],
      "metadata": {
        "id": "LdrSISxOIc_9"
      },
      "execution_count": 42,
      "outputs": []
    },
    {
      "cell_type": "code",
      "source": [
        "#calculate loss\n",
        "preds = model(inputs)\n",
        "loss = mse(preds, targets)\n",
        "print(loss)"
      ],
      "metadata": {
        "colab": {
          "base_uri": "https://localhost:8080/"
        },
        "id": "-LOQBO1LIwpy",
        "outputId": "755c57d2-db4e-44b9-8dd0-4bd65ad7de9b"
      },
      "execution_count": 43,
      "outputs": [
        {
          "output_type": "stream",
          "name": "stdout",
          "text": [
            "tensor(101.3870, grad_fn=<DivBackward0>)\n"
          ]
        }
      ]
    },
    {
      "cell_type": "code",
      "source": [
        "preds"
      ],
      "metadata": {
        "colab": {
          "base_uri": "https://localhost:8080/"
        },
        "id": "UQD6LVnvI42Q",
        "outputId": "61d90268-af09-4be7-a6a6-80385b683b39"
      },
      "execution_count": 44,
      "outputs": [
        {
          "output_type": "execute_result",
          "data": {
            "text/plain": [
              "tensor([[ 57.8997,  71.1265],\n",
              "        [ 78.1762,  91.2690],\n",
              "        [126.6818, 153.0259],\n",
              "        [ 24.0531,  40.6520],\n",
              "        [ 93.3450, 100.6832]], grad_fn=<AddBackward0>)"
            ]
          },
          "metadata": {},
          "execution_count": 44
        }
      ]
    },
    {
      "cell_type": "code",
      "source": [
        "targets"
      ],
      "metadata": {
        "colab": {
          "base_uri": "https://localhost:8080/"
        },
        "id": "l5YBPUblI6Kc",
        "outputId": "123accf3-1622-4f3d-85ff-6f1035024c28"
      },
      "execution_count": 45,
      "outputs": [
        {
          "output_type": "execute_result",
          "data": {
            "text/plain": [
              "tensor([[ 56.,  70.],\n",
              "        [ 81., 101.],\n",
              "        [119., 133.],\n",
              "        [ 22.,  37.],\n",
              "        [103., 119.]])"
            ]
          },
          "metadata": {},
          "execution_count": 45
        }
      ]
    },
    {
      "cell_type": "markdown",
      "source": [
        "### Linear regression using PyTorch built-ins"
      ],
      "metadata": {
        "id": "QH239s-RJOBZ"
      }
    },
    {
      "cell_type": "code",
      "source": [
        "import torch.nn as nn"
      ],
      "metadata": {
        "id": "yqtna7rYI7aU"
      },
      "execution_count": 46,
      "outputs": []
    },
    {
      "cell_type": "code",
      "source": [
        "#input (temp, rainfall, humidity)\n",
        "inputs = np.array([[73, 67, 43],\n",
        "                   [91, 88, 64],\n",
        "                   [87, 134, 58],\n",
        "                   [102, 43, 37],\n",
        "                   [69, 96, 70],\n",
        "                   [73, 67, 43],\n",
        "                   [91, 88, 64],\n",
        "                   [87, 134, 58],\n",
        "                   [102, 43, 37],\n",
        "                   [69, 96, 70],\n",
        "                   [73, 67, 43],\n",
        "                   [91, 88, 64],\n",
        "                   [87, 134, 58],\n",
        "                   [102, 43, 37],\n",
        "                   [69, 96, 70]], dtype = 'float32')"
      ],
      "metadata": {
        "id": "hUkyDbstJSWS"
      },
      "execution_count": 47,
      "outputs": []
    },
    {
      "cell_type": "code",
      "source": [
        "#targets (apples, oranges)\n",
        "targets = np.array([[56, 70],\n",
        "                    [81, 101],\n",
        "                    [119, 133],\n",
        "                    [22, 37],\n",
        "                    [103, 119],\n",
        "                    [56, 70],\n",
        "                    [81, 101],\n",
        "                    [119, 133],\n",
        "                    [22, 37],\n",
        "                    [103, 119],\n",
        "                    [56, 70],\n",
        "                    [81, 101],\n",
        "                    [119, 133],\n",
        "                    [22, 37],\n",
        "                    [103, 119]], dtype = 'float32')"
      ],
      "metadata": {
        "id": "Dgy1bDraJeel"
      },
      "execution_count": 48,
      "outputs": []
    },
    {
      "cell_type": "code",
      "source": [
        "inputs = torch.from_numpy(inputs)\n",
        "targets = torch.from_numpy(targets)"
      ],
      "metadata": {
        "id": "61bG0TZjnZ9v"
      },
      "execution_count": 49,
      "outputs": []
    },
    {
      "cell_type": "markdown",
      "source": [
        "Dataset and DataLoader"
      ],
      "metadata": {
        "id": "pXBrbWbCnzNj"
      }
    },
    {
      "cell_type": "code",
      "source": [
        "from torch.utils.data import TensorDataset"
      ],
      "metadata": {
        "id": "64UMogCln1lX"
      },
      "execution_count": 50,
      "outputs": []
    },
    {
      "cell_type": "code",
      "source": [
        "#define dataset\n",
        "\n",
        "train_ds = TensorDataset(inputs, targets)\n",
        "train_ds[0:3]"
      ],
      "metadata": {
        "colab": {
          "base_uri": "https://localhost:8080/"
        },
        "id": "pAoG8TL5n4Pv",
        "outputId": "3daba5a9-4c17-4044-ffd7-7f5c01587060"
      },
      "execution_count": 51,
      "outputs": [
        {
          "output_type": "execute_result",
          "data": {
            "text/plain": [
              "(tensor([[ 73.,  67.,  43.],\n",
              "         [ 91.,  88.,  64.],\n",
              "         [ 87., 134.,  58.]]), tensor([[ 56.,  70.],\n",
              "         [ 81., 101.],\n",
              "         [119., 133.]]))"
            ]
          },
          "metadata": {},
          "execution_count": 51
        }
      ]
    },
    {
      "cell_type": "markdown",
      "source": [
        "TensorDataset, which allows access to rows from inputs and targets as tuples, and provides standard APIs for working with many different types of datasets in PyTorch.\n",
        "\n",
        "\n",
        "\n"
      ],
      "metadata": {
        "id": "xYfwdAkHoAy1"
      }
    },
    {
      "cell_type": "code",
      "source": [
        "from torch.utils.data import DataLoader"
      ],
      "metadata": {
        "id": "w2IjG0TUoRr2"
      },
      "execution_count": 52,
      "outputs": []
    },
    {
      "cell_type": "code",
      "source": [
        "# Define data loader\n",
        "batch_size = 5\n",
        "train_dl = DataLoader(train_ds, batch_size, shuffle=True)"
      ],
      "metadata": {
        "id": "YUGYGlNzoajj"
      },
      "execution_count": 53,
      "outputs": []
    },
    {
      "cell_type": "code",
      "source": [
        "for xb, yb in train_dl:\n",
        "    print(xb)\n",
        "    print(yb)\n",
        "    break"
      ],
      "metadata": {
        "colab": {
          "base_uri": "https://localhost:8080/"
        },
        "id": "qZBqhdZ-ofAt",
        "outputId": "2de6b930-f1a9-4c5b-83f9-6caaefca4547"
      },
      "execution_count": 54,
      "outputs": [
        {
          "output_type": "stream",
          "name": "stdout",
          "text": [
            "tensor([[ 91.,  88.,  64.],\n",
            "        [102.,  43.,  37.],\n",
            "        [102.,  43.,  37.],\n",
            "        [ 87., 134.,  58.],\n",
            "        [ 73.,  67.,  43.]])\n",
            "tensor([[ 81., 101.],\n",
            "        [ 22.,  37.],\n",
            "        [ 22.,  37.],\n",
            "        [119., 133.],\n",
            "        [ 56.,  70.]])\n"
          ]
        }
      ]
    },
    {
      "cell_type": "markdown",
      "source": [
        "nn.Linear"
      ],
      "metadata": {
        "id": "bin65yAZok_x"
      }
    },
    {
      "cell_type": "code",
      "source": [
        "# Define model\n",
        "model = nn.Linear(3, 2)\n",
        "print(model.weight)\n",
        "print(model.bias)"
      ],
      "metadata": {
        "colab": {
          "base_uri": "https://localhost:8080/"
        },
        "id": "a5C_Y9pEomIm",
        "outputId": "174611d2-b447-4391-b87e-62056f53c64d"
      },
      "execution_count": 55,
      "outputs": [
        {
          "output_type": "stream",
          "name": "stdout",
          "text": [
            "Parameter containing:\n",
            "tensor([[-0.5019, -0.1415, -0.1261],\n",
            "        [-0.0828, -0.0981,  0.1664]], requires_grad=True)\n",
            "Parameter containing:\n",
            "tensor([-0.2225, -0.1187], requires_grad=True)\n"
          ]
        }
      ]
    },
    {
      "cell_type": "markdown",
      "source": [
        "Instead of initializing the weights & biases manually, we can define the model using the nn.Linear class from PyTorch, which does it automatically."
      ],
      "metadata": {
        "id": "JABPPTFaooZS"
      }
    },
    {
      "cell_type": "code",
      "source": [
        "# Parameters\n",
        "list(model.parameters())"
      ],
      "metadata": {
        "colab": {
          "base_uri": "https://localhost:8080/"
        },
        "id": "bDmUN3yZoigK",
        "outputId": "0666914c-4700-4584-d074-c5e1c20343be"
      },
      "execution_count": 56,
      "outputs": [
        {
          "output_type": "execute_result",
          "data": {
            "text/plain": [
              "[Parameter containing:\n",
              " tensor([[-0.5019, -0.1415, -0.1261],\n",
              "         [-0.0828, -0.0981,  0.1664]], requires_grad=True),\n",
              " Parameter containing:\n",
              " tensor([-0.2225, -0.1187], requires_grad=True)]"
            ]
          },
          "metadata": {},
          "execution_count": 56
        }
      ]
    },
    {
      "cell_type": "markdown",
      "source": [
        "PyTorch models also have a helpful .parameters method, which returns a list containing all the weights and bias matrices present in the model. For our linear regression model, we have one weight matrix and one bias matrix."
      ],
      "metadata": {
        "id": "ZvpeWp0Oo6Js"
      }
    },
    {
      "cell_type": "code",
      "source": [
        "# Generate predictions\n",
        "preds = model(inputs)\n",
        "preds"
      ],
      "metadata": {
        "colab": {
          "base_uri": "https://localhost:8080/"
        },
        "id": "iMz_NeB6ozUf",
        "outputId": "6cc87d4c-da3b-44ea-8259-1fdd8b6f3f74"
      },
      "execution_count": 57,
      "outputs": [
        {
          "output_type": "execute_result",
          "data": {
            "text/plain": [
              "tensor([[-51.7667,  -5.5771],\n",
              "        [-66.4211,  -5.6319],\n",
              "        [-70.1654, -10.8115],\n",
              "        [-62.1706,  -6.6222],\n",
              "        [-57.2669,  -3.5968],\n",
              "        [-51.7667,  -5.5771],\n",
              "        [-66.4211,  -5.6319],\n",
              "        [-70.1654, -10.8115],\n",
              "        [-62.1706,  -6.6222],\n",
              "        [-57.2669,  -3.5968],\n",
              "        [-51.7667,  -5.5771],\n",
              "        [-66.4211,  -5.6319],\n",
              "        [-70.1654, -10.8115],\n",
              "        [-62.1706,  -6.6222],\n",
              "        [-57.2669,  -3.5968]], grad_fn=<AddmmBackward0>)"
            ]
          },
          "metadata": {},
          "execution_count": 57
        }
      ]
    },
    {
      "cell_type": "markdown",
      "source": [
        "Loss Function"
      ],
      "metadata": {
        "id": "kHbhPvZXo8xb"
      }
    },
    {
      "cell_type": "code",
      "source": [
        "# Import nn.functional\n",
        "import torch.nn.functional as F"
      ],
      "metadata": {
        "id": "cvd-6zZGo93t"
      },
      "execution_count": 58,
      "outputs": []
    },
    {
      "cell_type": "markdown",
      "source": [
        "The nn.functional package contains many useful loss functions and several other utilities.\n",
        "\n"
      ],
      "metadata": {
        "id": "G6VrlVIHpALH"
      }
    },
    {
      "cell_type": "code",
      "source": [
        "# Define loss function\n",
        "loss_fn = F.mse_loss"
      ],
      "metadata": {
        "id": "X-szW0oFpAsu"
      },
      "execution_count": 59,
      "outputs": []
    },
    {
      "cell_type": "markdown",
      "source": [
        "Instead of defining a loss function manually, we can use the built-in loss function mse_loss.\n",
        "\n"
      ],
      "metadata": {
        "id": "tiavSi1BpUqR"
      }
    },
    {
      "cell_type": "code",
      "source": [
        "loss = loss_fn(model(inputs), targets)\n",
        "print(loss)"
      ],
      "metadata": {
        "colab": {
          "base_uri": "https://localhost:8080/"
        },
        "id": "LcS1POgKpDJM",
        "outputId": "746a0da9-579d-4b4c-f2e8-ac8dee2572af"
      },
      "execution_count": 60,
      "outputs": [
        {
          "output_type": "stream",
          "name": "stdout",
          "text": [
            "tensor(15659.7275, grad_fn=<MseLossBackward0>)\n"
          ]
        }
      ]
    },
    {
      "cell_type": "markdown",
      "source": [
        "Optimizer"
      ],
      "metadata": {
        "id": "OujrtAA_pWX6"
      }
    },
    {
      "cell_type": "code",
      "source": [
        "# Define optimizer\n",
        "opt = torch.optim.SGD(model.parameters(), lr=1e-5)"
      ],
      "metadata": {
        "id": "_t3NVHHKpXVp"
      },
      "execution_count": 61,
      "outputs": []
    },
    {
      "cell_type": "markdown",
      "source": [
        "Instead of manually manipulating the model's weights & biases using gradients, we can use the optimizer optim.SGD. SGD is short for \"stochastic gradient descent\". \n",
        "\n",
        "Note that model.parameters() is passed as an argument to optim.SGD so that the optimizer knows which matrices should be modified during the update step. "
      ],
      "metadata": {
        "id": "aYTF6EAfpf17"
      }
    },
    {
      "cell_type": "markdown",
      "source": [
        "Train the model"
      ],
      "metadata": {
        "id": "4jXbyh_wpk0p"
      }
    },
    {
      "cell_type": "markdown",
      "source": [
        "Let's define a utility function fit that trains the model for a given number of epochs."
      ],
      "metadata": {
        "id": "UgwSWtqBqBQY"
      }
    },
    {
      "cell_type": "code",
      "source": [
        "# Utility function to train the model\n",
        "def fit(num_epochs, model, loss_fn, opt, train_dl):\n",
        "    \n",
        "    # Repeat for given number of epochs\n",
        "    for epoch in range(num_epochs):\n",
        "        \n",
        "        # Train with batches of data\n",
        "        for xb,yb in train_dl:\n",
        "            \n",
        "            # 1. Generate predictions\n",
        "            pred = model(xb)\n",
        "            \n",
        "            # 2. Calculate loss\n",
        "            loss = loss_fn(pred, yb)\n",
        "            \n",
        "            # 3. Compute gradients\n",
        "            loss.backward()\n",
        "            \n",
        "            # 4. Update parameters using gradients\n",
        "            opt.step()\n",
        "            \n",
        "            # 5. Reset the gradients to zero\n",
        "            opt.zero_grad()\n",
        "        \n",
        "        # Print the progress\n",
        "        if (epoch+1) % 10 == 0:\n",
        "            print('Epoch [{}/{}], Loss: {:.4f}'.format(epoch+1, num_epochs, loss.item()))"
      ],
      "metadata": {
        "id": "LwreHmLQpjHR"
      },
      "execution_count": 62,
      "outputs": []
    },
    {
      "cell_type": "markdown",
      "source": [
        "We use the data loader defined earlier to get batches of data for every iteration.\n",
        "\n",
        "Instead of updating parameters (weights and biases) manually, we use opt.step to perform the update and opt.zero_grad to reset the gradients to zero.\n",
        "\n",
        "We've also added a log statement that prints the loss from the last batch of data for every 10th epoch to track training progress. loss.item returns the actual value stored in the loss tensor."
      ],
      "metadata": {
        "id": "Cg7fX5K8pu3l"
      }
    },
    {
      "cell_type": "code",
      "source": [
        "fit(100, model, loss_fn, opt, train_dl)"
      ],
      "metadata": {
        "colab": {
          "base_uri": "https://localhost:8080/"
        },
        "id": "9OeYE2QApsOK",
        "outputId": "a6e8b99c-ace6-4aa4-e0f0-2bc661e1c452"
      },
      "execution_count": 63,
      "outputs": [
        {
          "output_type": "stream",
          "name": "stdout",
          "text": [
            "Epoch [10/100], Loss: 204.3181\n",
            "Epoch [20/100], Loss: 139.6629\n",
            "Epoch [30/100], Loss: 183.9968\n",
            "Epoch [40/100], Loss: 83.2052\n",
            "Epoch [50/100], Loss: 79.2821\n",
            "Epoch [60/100], Loss: 71.1832\n",
            "Epoch [70/100], Loss: 15.7133\n",
            "Epoch [80/100], Loss: 36.5057\n",
            "Epoch [90/100], Loss: 10.4042\n",
            "Epoch [100/100], Loss: 9.8252\n"
          ]
        }
      ]
    },
    {
      "cell_type": "code",
      "source": [
        "# Generate predictions\n",
        "preds = model(inputs)\n",
        "preds"
      ],
      "metadata": {
        "colab": {
          "base_uri": "https://localhost:8080/"
        },
        "id": "ThbKevgMqKXs",
        "outputId": "8ebe26c8-524a-4a7f-daf2-39e6f5f37ed7"
      },
      "execution_count": 64,
      "outputs": [
        {
          "output_type": "execute_result",
          "data": {
            "text/plain": [
              "tensor([[ 58.0909,  71.4955],\n",
              "        [ 80.9505,  99.3685],\n",
              "        [120.1743, 134.2322],\n",
              "        [ 26.3949,  43.6369],\n",
              "        [ 96.5829, 112.9703],\n",
              "        [ 58.0909,  71.4955],\n",
              "        [ 80.9505,  99.3685],\n",
              "        [120.1743, 134.2322],\n",
              "        [ 26.3949,  43.6369],\n",
              "        [ 96.5829, 112.9703],\n",
              "        [ 58.0909,  71.4955],\n",
              "        [ 80.9505,  99.3685],\n",
              "        [120.1743, 134.2322],\n",
              "        [ 26.3949,  43.6369],\n",
              "        [ 96.5829, 112.9703]], grad_fn=<AddmmBackward0>)"
            ]
          },
          "metadata": {},
          "execution_count": 64
        }
      ]
    },
    {
      "cell_type": "code",
      "source": [
        "# Compare with targets\n",
        "targets"
      ],
      "metadata": {
        "colab": {
          "base_uri": "https://localhost:8080/"
        },
        "id": "Bsx-BB_0qMWE",
        "outputId": "c0539d8f-5767-4f03-a1d5-25df672ad824"
      },
      "execution_count": 65,
      "outputs": [
        {
          "output_type": "execute_result",
          "data": {
            "text/plain": [
              "tensor([[ 56.,  70.],\n",
              "        [ 81., 101.],\n",
              "        [119., 133.],\n",
              "        [ 22.,  37.],\n",
              "        [103., 119.],\n",
              "        [ 56.,  70.],\n",
              "        [ 81., 101.],\n",
              "        [119., 133.],\n",
              "        [ 22.,  37.],\n",
              "        [103., 119.],\n",
              "        [ 56.,  70.],\n",
              "        [ 81., 101.],\n",
              "        [119., 133.],\n",
              "        [ 22.,  37.],\n",
              "        [103., 119.]])"
            ]
          },
          "metadata": {},
          "execution_count": 65
        }
      ]
    },
    {
      "cell_type": "code",
      "source": [
        "model(torch.tensor([[75, 63, 44.]]))"
      ],
      "metadata": {
        "colab": {
          "base_uri": "https://localhost:8080/"
        },
        "id": "kYRoLDewqQd2",
        "outputId": "700532c4-4da2-4299-c6e9-f25802cee2ac"
      },
      "execution_count": 66,
      "outputs": [
        {
          "output_type": "execute_result",
          "data": {
            "text/plain": [
              "tensor([[54.4417, 68.5208]], grad_fn=<AddmmBackward0>)"
            ]
          },
          "metadata": {},
          "execution_count": 66
        }
      ]
    },
    {
      "cell_type": "markdown",
      "source": [
        "### Image Classification Using Logistic Regression"
      ],
      "metadata": {
        "id": "7KyD4Z8Otyq4"
      }
    },
    {
      "cell_type": "code",
      "source": [
        "import torch \n",
        "import torchvision\n",
        "from torchvision.datasets import MNIST"
      ],
      "metadata": {
        "id": "Z5hLSobGt1Bi"
      },
      "execution_count": 67,
      "outputs": []
    },
    {
      "cell_type": "code",
      "source": [
        "#download trainign data\n",
        "dataset = MNIST(root='data/', download = True)"
      ],
      "metadata": {
        "id": "_mFqlTyAuWIB",
        "colab": {
          "base_uri": "https://localhost:8080/",
          "height": 0,
          "referenced_widgets": [
            "46e2428a756b4caea57573d754e7e7c6",
            "5f49e32602224b7081bb730e26963f83",
            "3323ba98d8254c0ea53cac7578528eaf",
            "e2e78f60d7874515aa95fbd389164f83",
            "d005b77462964e9e961e090bf13e75bc",
            "2cfef03fe02e475bb950b9f2ee34671e",
            "3de4d3cc0c3e4b889c9b0ad7ea72b4c1",
            "214a581f913842bb8e11bc61e47695cb",
            "3532ab53dabd4bceabb3761d199904f5",
            "41422bebc5da41d9b1920e959ad39d72",
            "826047b861bf4599b2ba15bfbe798f2e",
            "edfab8f6fa33456c967d6b2b5a6e680b",
            "bf6d43bb7d39446d98c301e646afa28f",
            "920b4750dc0c403baa423279a166a905",
            "953e816aacd549a28de126a1acd9c4f1",
            "055d7d9762d3449295f48efada25dbaf",
            "d8329ef531984c38932c4e1ff11ed62c",
            "30310f8b19064e729e42a03874021fbe",
            "1e574b47a5bf4e6bbd2d71ef8ad02c62",
            "8947c1a52eec4fd4a85a8a46b22e2122",
            "864f577e610d402eb6a43683a5a3aceb",
            "dbc6df0923904b1483e0814d4e01a05c",
            "31905a568b62418b9b102aba8a668a5d",
            "45d3ed74bf794457a5d77112a7e21b0b",
            "f46751d148d7461daa05cfc5ba26f20b",
            "f879f2c6dda843218843ebb86337f6b8",
            "e4034d3a466649fabf984d4733ec2e61",
            "9e19445f9d8a44edaaa6d6e5500fa330",
            "eefa49987a1042afb984717eed6f6205",
            "2b84a106b9f94dbab63b1020b070a930",
            "9cee0826724a4f2aba65f5cd7043c6be",
            "6f8a5d2e0cdf46369eadfef53970e3a0",
            "d686436411034c6190cba52cc93a63f6",
            "2378610dd3a045eea03cce8db462318b",
            "edf86247d0a24e6886c6cd330affc9fa",
            "2d05132481a04b34bb0a4fc262f33496",
            "32462c4c8f604937bc881a849b21f2e8",
            "3015917193e0400587bf4ab0385dfe8d",
            "708fc9e961404c269b5f2973d650123f",
            "8aec7d8c98784c8ba499a330a1baa71b",
            "44b0b9d27d4246d9b9b050fe0f759910",
            "2d7947ad5a6f4f16a21dbbad3364deea",
            "bd7d4fe1b7da48e4a8b4b40186bf17ec",
            "18443e8e9f904d33ad18e7a7e811e11b"
          ]
        },
        "outputId": "71023b5c-08c7-4cc4-a34c-ef41958fcd41"
      },
      "execution_count": 68,
      "outputs": [
        {
          "output_type": "stream",
          "name": "stdout",
          "text": [
            "Downloading http://yann.lecun.com/exdb/mnist/train-images-idx3-ubyte.gz\n",
            "Downloading http://yann.lecun.com/exdb/mnist/train-images-idx3-ubyte.gz to data/MNIST/raw/train-images-idx3-ubyte.gz\n"
          ]
        },
        {
          "output_type": "display_data",
          "data": {
            "application/vnd.jupyter.widget-view+json": {
              "model_id": "46e2428a756b4caea57573d754e7e7c6",
              "version_minor": 0,
              "version_major": 2
            },
            "text/plain": [
              "  0%|          | 0/9912422 [00:00<?, ?it/s]"
            ]
          },
          "metadata": {}
        },
        {
          "output_type": "stream",
          "name": "stdout",
          "text": [
            "Extracting data/MNIST/raw/train-images-idx3-ubyte.gz to data/MNIST/raw\n",
            "\n",
            "Downloading http://yann.lecun.com/exdb/mnist/train-labels-idx1-ubyte.gz\n",
            "Downloading http://yann.lecun.com/exdb/mnist/train-labels-idx1-ubyte.gz to data/MNIST/raw/train-labels-idx1-ubyte.gz\n"
          ]
        },
        {
          "output_type": "display_data",
          "data": {
            "application/vnd.jupyter.widget-view+json": {
              "model_id": "edfab8f6fa33456c967d6b2b5a6e680b",
              "version_minor": 0,
              "version_major": 2
            },
            "text/plain": [
              "  0%|          | 0/28881 [00:00<?, ?it/s]"
            ]
          },
          "metadata": {}
        },
        {
          "output_type": "stream",
          "name": "stdout",
          "text": [
            "Extracting data/MNIST/raw/train-labels-idx1-ubyte.gz to data/MNIST/raw\n",
            "\n",
            "Downloading http://yann.lecun.com/exdb/mnist/t10k-images-idx3-ubyte.gz\n",
            "Downloading http://yann.lecun.com/exdb/mnist/t10k-images-idx3-ubyte.gz to data/MNIST/raw/t10k-images-idx3-ubyte.gz\n"
          ]
        },
        {
          "output_type": "display_data",
          "data": {
            "application/vnd.jupyter.widget-view+json": {
              "model_id": "31905a568b62418b9b102aba8a668a5d",
              "version_minor": 0,
              "version_major": 2
            },
            "text/plain": [
              "  0%|          | 0/1648877 [00:00<?, ?it/s]"
            ]
          },
          "metadata": {}
        },
        {
          "output_type": "stream",
          "name": "stdout",
          "text": [
            "Extracting data/MNIST/raw/t10k-images-idx3-ubyte.gz to data/MNIST/raw\n",
            "\n",
            "Downloading http://yann.lecun.com/exdb/mnist/t10k-labels-idx1-ubyte.gz\n",
            "Downloading http://yann.lecun.com/exdb/mnist/t10k-labels-idx1-ubyte.gz to data/MNIST/raw/t10k-labels-idx1-ubyte.gz\n"
          ]
        },
        {
          "output_type": "display_data",
          "data": {
            "application/vnd.jupyter.widget-view+json": {
              "model_id": "2378610dd3a045eea03cce8db462318b",
              "version_minor": 0,
              "version_major": 2
            },
            "text/plain": [
              "  0%|          | 0/4542 [00:00<?, ?it/s]"
            ]
          },
          "metadata": {}
        },
        {
          "output_type": "stream",
          "name": "stdout",
          "text": [
            "Extracting data/MNIST/raw/t10k-labels-idx1-ubyte.gz to data/MNIST/raw\n",
            "\n"
          ]
        }
      ]
    },
    {
      "cell_type": "code",
      "source": [
        "len(dataset)"
      ],
      "metadata": {
        "colab": {
          "base_uri": "https://localhost:8080/"
        },
        "id": "2qaaRpkYwEZb",
        "outputId": "64f6821e-b555-490e-c914-6695e178ac7a"
      },
      "execution_count": 69,
      "outputs": [
        {
          "output_type": "execute_result",
          "data": {
            "text/plain": [
              "60000"
            ]
          },
          "metadata": {},
          "execution_count": 69
        }
      ]
    },
    {
      "cell_type": "code",
      "source": [
        "test_dataset = MNIST(root='data/', train = False)\n",
        "len(test_dataset)"
      ],
      "metadata": {
        "colab": {
          "base_uri": "https://localhost:8080/"
        },
        "id": "EUI6yuc6wZEm",
        "outputId": "471fa721-ed3b-4233-a3ec-af7aabaaad82"
      },
      "execution_count": 70,
      "outputs": [
        {
          "output_type": "execute_result",
          "data": {
            "text/plain": [
              "10000"
            ]
          },
          "metadata": {},
          "execution_count": 70
        }
      ]
    },
    {
      "cell_type": "code",
      "source": [
        "dataset[0]"
      ],
      "metadata": {
        "colab": {
          "base_uri": "https://localhost:8080/"
        },
        "id": "wh7WEM08wmTP",
        "outputId": "40bb0002-7c4f-44db-ac46-3e53df03df54"
      },
      "execution_count": 71,
      "outputs": [
        {
          "output_type": "execute_result",
          "data": {
            "text/plain": [
              "(<PIL.Image.Image image mode=L size=28x28 at 0x7FEA1923F050>, 5)"
            ]
          },
          "metadata": {},
          "execution_count": 71
        }
      ]
    },
    {
      "cell_type": "code",
      "source": [
        "import matplotlib.pyplot as plt\n",
        "%matplotlib inline"
      ],
      "metadata": {
        "id": "CM712LdcwrzV"
      },
      "execution_count": 72,
      "outputs": []
    },
    {
      "cell_type": "code",
      "source": [
        "image, label = dataset[0]\n",
        "plt.imshow(image, cmap = 'gray')\n",
        "print('Label:', label)"
      ],
      "metadata": {
        "colab": {
          "base_uri": "https://localhost:8080/",
          "height": 0
        },
        "id": "AjPFrQoww1Ob",
        "outputId": "b5c1dca5-7465-4d7e-c1d7-05c5005c3095"
      },
      "execution_count": 73,
      "outputs": [
        {
          "output_type": "stream",
          "name": "stdout",
          "text": [
            "Label: 5\n"
          ]
        },
        {
          "output_type": "display_data",
          "data": {
            "image/png": "[encoded data removed]",
            "text/plain": [
              "<Figure size 432x288 with 1 Axes>"
            ]
          },
          "metadata": {
            "needs_background": "light"
          }
        }
      ]
    },
    {
      "cell_type": "code",
      "source": [
        "image, label = dataset[10]\n",
        "plt.imshow(image, cmap = 'gray')\n",
        "print('Label:', label)"
      ],
      "metadata": {
        "colab": {
          "base_uri": "https://localhost:8080/",
          "height": 0
        },
        "id": "7iaGywCCxAQJ",
        "outputId": "17d0ddb6-7e6b-4620-a906-df3b24452fd5"
      },
      "execution_count": 74,
      "outputs": [
        {
          "output_type": "stream",
          "name": "stdout",
          "text": [
            "Label: 3\n"
          ]
        },
        {
          "output_type": "display_data",
          "data": {
            "image/png": "[encoded data removed]",
            "text/plain": [
              "<Figure size 432x288 with 1 Axes>"
            ]
          },
          "metadata": {
            "needs_background": "light"
          }
        }
      ]
    },
    {
      "cell_type": "code",
      "source": [
        "import torchvision.transforms as transforms"
      ],
      "metadata": {
        "id": "yo2_e20sxF1s"
      },
      "execution_count": 75,
      "outputs": []
    },
    {
      "cell_type": "code",
      "source": [
        "# MNIST dataset (images and labels)\n",
        "dataset = MNIST(root='data/', \n",
        "                train=True,\n",
        "                transform=transforms.ToTensor())"
      ],
      "metadata": {
        "id": "EHKVcWUB0CRR"
      },
      "execution_count": 76,
      "outputs": []
    },
    {
      "cell_type": "markdown",
      "source": [
        "The torchvision.transforms module contains many such predefined functions. We'll use the ToTensor transform to convert images into PyTorch tensors."
      ],
      "metadata": {
        "id": "ZzLgTR0j0E3M"
      }
    },
    {
      "cell_type": "code",
      "source": [
        "img_tensor, label = dataset[0]\n",
        "print(img_tensor.shape, label)"
      ],
      "metadata": {
        "colab": {
          "base_uri": "https://localhost:8080/"
        },
        "id": "bmuBNxlm0FsA",
        "outputId": "fd5bea69-22c6-4b65-fe21-643da17a3ba7"
      },
      "execution_count": 77,
      "outputs": [
        {
          "output_type": "stream",
          "name": "stdout",
          "text": [
            "torch.Size([1, 28, 28]) 5\n"
          ]
        }
      ]
    },
    {
      "cell_type": "markdown",
      "source": [
        "The first dimension tracks color channels. The second and third dimensions represent pixels along the height and width of the image, respectively. "
      ],
      "metadata": {
        "id": "Xpc78Al1RbTY"
      }
    },
    {
      "cell_type": "code",
      "source": [
        "print(img_tensor[0,10:15,10:15])\n",
        "print(torch.max(img_tensor), torch.min(img_tensor))"
      ],
      "metadata": {
        "colab": {
          "base_uri": "https://localhost:8080/"
        },
        "id": "hgYBOfzBQoQl",
        "outputId": "1b1f6206-b2b6-496c-da58-1674eb42d031"
      },
      "execution_count": 78,
      "outputs": [
        {
          "output_type": "stream",
          "name": "stdout",
          "text": [
            "tensor([[0.0039, 0.6039, 0.9922, 0.3529, 0.0000],\n",
            "        [0.0000, 0.5451, 0.9922, 0.7451, 0.0078],\n",
            "        [0.0000, 0.0431, 0.7451, 0.9922, 0.2745],\n",
            "        [0.0000, 0.0000, 0.1373, 0.9451, 0.8824],\n",
            "        [0.0000, 0.0000, 0.0000, 0.3176, 0.9412]])\n",
            "tensor(1.) tensor(0.)\n"
          ]
        }
      ]
    },
    {
      "cell_type": "code",
      "source": [
        "#plot the image by passing in the 28x28 matrix\n",
        "plt.imshow(img_tensor[0, 10:15, 10:15], cmap='gray')"
      ],
      "metadata": {
        "colab": {
          "base_uri": "https://localhost:8080/",
          "height": 0
        },
        "id": "boGjLk4XRqgU",
        "outputId": "df2d7995-ed4a-4b62-e6d0-0c086cd2a70d"
      },
      "execution_count": 79,
      "outputs": [
        {
          "output_type": "execute_result",
          "data": {
            "text/plain": [
              "<matplotlib.image.AxesImage at 0x7fea18c7ef90>"
            ]
          },
          "metadata": {},
          "execution_count": 79
        },
        {
          "output_type": "display_data",
          "data": {
            "image/png": "[encoded data removed]",
            "text/plain": [
              "<Figure size 432x288 with 1 Axes>"
            ]
          },
          "metadata": {
            "needs_background": "light"
          }
        }
      ]
    },
    {
      "cell_type": "markdown",
      "source": [
        "### Training and Validation Datasets"
      ],
      "metadata": {
        "id": "LuQnoBejR27H"
      }
    },
    {
      "cell_type": "code",
      "source": [
        "from torch.utils.data import random_split\n",
        "\n",
        "train_ds, val_ds = random_split(dataset, [50000, 10000])\n",
        "len(train_ds), len(val_ds)"
      ],
      "metadata": {
        "colab": {
          "base_uri": "https://localhost:8080/"
        },
        "id": "K8bs6lfBR5fe",
        "outputId": "72d94d1c-d200-4f9e-b8ff-8eabef36e3b1"
      },
      "execution_count": 80,
      "outputs": [
        {
          "output_type": "execute_result",
          "data": {
            "text/plain": [
              "(50000, 10000)"
            ]
          },
          "metadata": {},
          "execution_count": 80
        }
      ]
    },
    {
      "cell_type": "code",
      "source": [
        "from torch.utils.data import DataLoader\n",
        "\n",
        "batch_size = 128\n",
        "\n",
        "train_loader = DataLoader(train_ds, batch_size, shuffle=True)\n",
        "val_loader = DataLoader(val_ds, batch_size)"
      ],
      "metadata": {
        "id": "hmS-3kwzR-rK"
      },
      "execution_count": 81,
      "outputs": []
    },
    {
      "cell_type": "markdown",
      "source": [
        "### Model"
      ],
      "metadata": {
        "id": "tY5U81A_S7xH"
      }
    },
    {
      "cell_type": "code",
      "source": [
        "import torch.nn as nn\n",
        "\n",
        "input_size = 28*28\n",
        "num_classes = 10\n",
        "\n",
        "# Logistic regression model\n",
        "model = nn.Linear(input_size, num_classes)"
      ],
      "metadata": {
        "id": "J0awvRADSRbM"
      },
      "execution_count": 82,
      "outputs": []
    },
    {
      "cell_type": "code",
      "source": [
        "print(model.weight.shape)\n",
        "model.weight"
      ],
      "metadata": {
        "colab": {
          "base_uri": "https://localhost:8080/"
        },
        "id": "lycEA8qhTNVD",
        "outputId": "db54d8ca-eb3a-4cd9-cee4-42caa0785761"
      },
      "execution_count": 83,
      "outputs": [
        {
          "output_type": "stream",
          "name": "stdout",
          "text": [
            "torch.Size([10, 784])\n"
          ]
        },
        {
          "output_type": "execute_result",
          "data": {
            "text/plain": [
              "Parameter containing:\n",
              "tensor([[ 0.0187, -0.0105, -0.0216,  ..., -0.0034, -0.0274,  0.0292],\n",
              "        [-0.0295,  0.0155, -0.0191,  ...,  0.0348, -0.0343, -0.0217],\n",
              "        [ 0.0258, -0.0057,  0.0078,  ..., -0.0344, -0.0036, -0.0293],\n",
              "        ...,\n",
              "        [-0.0275, -0.0231,  0.0003,  ...,  0.0111, -0.0028, -0.0347],\n",
              "        [ 0.0244,  0.0319,  0.0133,  ..., -0.0120, -0.0228, -0.0313],\n",
              "        [-0.0305,  0.0177,  0.0056,  ..., -0.0215,  0.0243,  0.0289]],\n",
              "       requires_grad=True)"
            ]
          },
          "metadata": {},
          "execution_count": 83
        }
      ]
    },
    {
      "cell_type": "code",
      "source": [
        "print(model.bias.shape)\n",
        "model.bias"
      ],
      "metadata": {
        "colab": {
          "base_uri": "https://localhost:8080/"
        },
        "id": "o_HwzBdxTRUk",
        "outputId": "4bfc28a1-8a39-41ae-f5d2-b189a30cbc76"
      },
      "execution_count": 84,
      "outputs": [
        {
          "output_type": "stream",
          "name": "stdout",
          "text": [
            "torch.Size([10])\n"
          ]
        },
        {
          "output_type": "execute_result",
          "data": {
            "text/plain": [
              "Parameter containing:\n",
              "tensor([ 0.0214, -0.0354,  0.0154,  0.0175,  0.0166, -0.0205,  0.0252,  0.0031,\n",
              "         0.0242,  0.0035], requires_grad=True)"
            ]
          },
          "metadata": {},
          "execution_count": 84
        }
      ]
    },
    {
      "cell_type": "code",
      "source": [
        "# for images, labels in train_loader:\n",
        "#     print(labels)\n",
        "#     print(images.shape)\n",
        "#     outputs = model(images)\n",
        "#     print(outputs)\n",
        "#     break"
      ],
      "metadata": {
        "id": "jcMLm7TzTTt5"
      },
      "execution_count": null,
      "outputs": []
    },
    {
      "cell_type": "code",
      "source": [
        "images.shape"
      ],
      "metadata": {
        "colab": {
          "base_uri": "https://localhost:8080/"
        },
        "id": "jlSt4e7dU8Ou",
        "outputId": "e9975ba7-5db4-4be7-d18b-9c8befacf442"
      },
      "execution_count": 86,
      "outputs": [
        {
          "output_type": "execute_result",
          "data": {
            "text/plain": [
              "torch.Size([128, 1, 28, 28])"
            ]
          },
          "metadata": {},
          "execution_count": 86
        }
      ]
    },
    {
      "cell_type": "code",
      "source": [
        "images.reshape(128,784)"
      ],
      "metadata": {
        "colab": {
          "base_uri": "https://localhost:8080/"
        },
        "id": "JneDz1ItU9ik",
        "outputId": "d1eb3087-13a6-40e7-cf52-87ad2a8883d7"
      },
      "execution_count": 87,
      "outputs": [
        {
          "output_type": "execute_result",
          "data": {
            "text/plain": [
              "tensor([[0., 0., 0.,  ..., 0., 0., 0.],\n",
              "        [0., 0., 0.,  ..., 0., 0., 0.],\n",
              "        [0., 0., 0.,  ..., 0., 0., 0.],\n",
              "        ...,\n",
              "        [0., 0., 0.,  ..., 0., 0., 0.],\n",
              "        [0., 0., 0.,  ..., 0., 0., 0.],\n",
              "        [0., 0., 0.,  ..., 0., 0., 0.]])"
            ]
          },
          "metadata": {},
          "execution_count": 87
        }
      ]
    },
    {
      "cell_type": "markdown",
      "source": [
        "The code above leads to an error because our input data does not have the right shape. Our images are of the shape 1x28x28, but we need them to be vectors of size 784, i.e., we need to flatten them. We'll use the .reshape method of a tensor, which will allow us to efficiently 'view' each image as a flat vector without really creating a copy of the underlying data. To include this additional functionality within our model, we need to define a custom model by extending the nn.Module class from PyTorch."
      ],
      "metadata": {
        "id": "W8llR3C3U6tS"
      }
    },
    {
      "cell_type": "code",
      "source": [
        "class Person:\n",
        "    # Class constructor\n",
        "    def __init__(self, name, age):\n",
        "        # Object properties\n",
        "        self.name = name\n",
        "        self.age = age\n",
        "    \n",
        "    # Method\n",
        "    def say_hello(self):\n",
        "        print(\"Hello my name is \" + self.name + \"!\")"
      ],
      "metadata": {
        "id": "QqD0Zf-iVDbZ"
      },
      "execution_count": 88,
      "outputs": []
    },
    {
      "cell_type": "code",
      "source": [
        "bob = Person(\"Bob\", 32)"
      ],
      "metadata": {
        "id": "9euYU6LdVTFS"
      },
      "execution_count": 89,
      "outputs": []
    },
    {
      "cell_type": "code",
      "source": [
        "bob.name, bob.age"
      ],
      "metadata": {
        "id": "QtwpbJEsVULl",
        "colab": {
          "base_uri": "https://localhost:8080/"
        },
        "outputId": "ad734307-6bce-4076-cf12-dc3e00b18c0c"
      },
      "execution_count": 90,
      "outputs": [
        {
          "output_type": "execute_result",
          "data": {
            "text/plain": [
              "('Bob', 32)"
            ]
          },
          "metadata": {},
          "execution_count": 90
        }
      ]
    },
    {
      "cell_type": "code",
      "source": [
        "bob.say_hello()"
      ],
      "metadata": {
        "colab": {
          "base_uri": "https://localhost:8080/"
        },
        "id": "I_HgIilwVWBP",
        "outputId": "c77c7061-77ec-4a4d-bf73-d095caa2f6f2"
      },
      "execution_count": 91,
      "outputs": [
        {
          "output_type": "stream",
          "name": "stdout",
          "text": [
            "Hello my name is Bob!\n"
          ]
        }
      ]
    },
    {
      "cell_type": "code",
      "source": [
        "class MnistModel(nn.Module):\n",
        "    def __init__(self):\n",
        "        super().__init__()\n",
        "        self.linear = nn.Linear(input_size, num_classes)\n",
        "        \n",
        "    def forward(self, xb):\n",
        "        xb = xb.reshape(-1, 784)\n",
        "        out = self.linear(xb)\n",
        "        return out\n",
        "    \n",
        "model = MnistModel()"
      ],
      "metadata": {
        "id": "mryJjTg2VRPG"
      },
      "execution_count": 92,
      "outputs": []
    },
    {
      "cell_type": "markdown",
      "source": [
        "Inside the __init__ constructor method, we instantiate the weights and biases using nn.Linear. And inside the forward method, which is invoked when we pass a batch of inputs to the model, we flatten the input tensor and pass it into self.linear.\n",
        "\n",
        "xb.reshape(-1, 28*28) indicates to PyTorch that we want a view of the xb tensor with two dimensions. The length along the 2nd dimension is 28*28 (i.e., 784). One argument to .reshape can be set to -1 (in this case, the first dimension) to let PyTorch figure it out automatically based on the shape of the original tensor.\n",
        "\n",
        "Note that the model no longer has .weight and .bias attributes (as they are now inside the .linear attribute), but it does have a .parameters method that returns a list containing the weights and bias."
      ],
      "metadata": {
        "id": "GElvtKxZVbg0"
      }
    },
    {
      "cell_type": "code",
      "source": [
        "model.linear"
      ],
      "metadata": {
        "colab": {
          "base_uri": "https://localhost:8080/"
        },
        "id": "IMf0UbUrVcWu",
        "outputId": "eac57946-8e8d-452a-ce6d-fa2152e5f858"
      },
      "execution_count": 93,
      "outputs": [
        {
          "output_type": "execute_result",
          "data": {
            "text/plain": [
              "Linear(in_features=784, out_features=10, bias=True)"
            ]
          },
          "metadata": {},
          "execution_count": 93
        }
      ]
    },
    {
      "cell_type": "code",
      "source": [
        "print(model.linear.weight.shape, model.linear.bias.shape)\n",
        "list(model.parameters())"
      ],
      "metadata": {
        "colab": {
          "base_uri": "https://localhost:8080/"
        },
        "id": "BgVlbV0zVe--",
        "outputId": "f6b63588-256b-4a7d-a4c2-524c50625b7d"
      },
      "execution_count": 94,
      "outputs": [
        {
          "output_type": "stream",
          "name": "stdout",
          "text": [
            "torch.Size([10, 784]) torch.Size([10])\n"
          ]
        },
        {
          "output_type": "execute_result",
          "data": {
            "text/plain": [
              "[Parameter containing:\n",
              " tensor([[-0.0088, -0.0046,  0.0288,  ...,  0.0257,  0.0338,  0.0303],\n",
              "         [ 0.0326,  0.0240,  0.0247,  ...,  0.0264, -0.0092, -0.0242],\n",
              "         [-0.0051,  0.0279,  0.0074,  ...,  0.0212,  0.0299,  0.0225],\n",
              "         ...,\n",
              "         [-0.0203, -0.0019, -0.0039,  ...,  0.0033, -0.0151, -0.0187],\n",
              "         [ 0.0292,  0.0200,  0.0114,  ...,  0.0189, -0.0348, -0.0150],\n",
              "         [-0.0109,  0.0241,  0.0302,  ..., -0.0285, -0.0287,  0.0160]],\n",
              "        requires_grad=True), Parameter containing:\n",
              " tensor([-0.0160, -0.0044, -0.0197,  0.0151,  0.0064, -0.0008, -0.0094,  0.0045,\n",
              "          0.0096,  0.0221], requires_grad=True)]"
            ]
          },
          "metadata": {},
          "execution_count": 94
        }
      ]
    },
    {
      "cell_type": "code",
      "source": [
        "for images, labels in train_loader:\n",
        "    print(images.shape)\n",
        "    outputs = model(images)\n",
        "    break\n",
        "\n",
        "print('outputs.shape : ', outputs.shape)\n",
        "print('Sample outputs :\\n', outputs[:2].data)"
      ],
      "metadata": {
        "colab": {
          "base_uri": "https://localhost:8080/"
        },
        "id": "NzNQG4WTVloe",
        "outputId": "2e69a176-b685-44ad-c0cf-3884291a0e8e"
      },
      "execution_count": 95,
      "outputs": [
        {
          "output_type": "stream",
          "name": "stdout",
          "text": [
            "torch.Size([128, 1, 28, 28])\n",
            "outputs.shape :  torch.Size([128, 10])\n",
            "Sample outputs :\n",
            " tensor([[-3.8156e-01, -1.7237e-02, -3.7890e-01,  1.6062e-01, -5.9718e-02,\n",
            "         -6.1306e-02, -1.1062e-01,  4.9654e-01,  1.7825e-01, -4.6315e-01],\n",
            "        [-2.3248e-01,  1.2097e-01, -2.4116e-05, -2.6050e-03, -1.9570e-01,\n",
            "          1.9840e-01, -1.4418e-01,  2.4106e-01,  1.4400e-01, -2.1459e-01]])\n"
          ]
        }
      ]
    },
    {
      "cell_type": "code",
      "source": [
        "import torch.nn.functional as F"
      ],
      "metadata": {
        "id": "w-JO296EWaib"
      },
      "execution_count": 96,
      "outputs": []
    },
    {
      "cell_type": "code",
      "source": [
        "outputs[:2]"
      ],
      "metadata": {
        "colab": {
          "base_uri": "https://localhost:8080/"
        },
        "id": "recCyMzNWbsZ",
        "outputId": "fc5b1a8e-968d-40a8-e80b-7413dbd22481"
      },
      "execution_count": 97,
      "outputs": [
        {
          "output_type": "execute_result",
          "data": {
            "text/plain": [
              "tensor([[-3.8156e-01, -1.7237e-02, -3.7890e-01,  1.6062e-01, -5.9718e-02,\n",
              "         -6.1306e-02, -1.1062e-01,  4.9654e-01,  1.7825e-01, -4.6315e-01],\n",
              "        [-2.3248e-01,  1.2097e-01, -2.4116e-05, -2.6050e-03, -1.9570e-01,\n",
              "          1.9840e-01, -1.4418e-01,  2.4106e-01,  1.4400e-01, -2.1459e-01]],\n",
              "       grad_fn=<SliceBackward0>)"
            ]
          },
          "metadata": {},
          "execution_count": 97
        }
      ]
    },
    {
      "cell_type": "code",
      "source": [
        "# Apply softmax for each output row\n",
        "probs = F.softmax(outputs, dim=1)\n",
        "\n",
        "# Look at sample probabilities\n",
        "print(\"Sample probabilities:\\n\", probs[:2].data)\n",
        "\n",
        "# Add up the probabilities of an output row\n",
        "print(\"Sum: \", torch.sum(probs[0]).item())"
      ],
      "metadata": {
        "colab": {
          "base_uri": "https://localhost:8080/"
        },
        "id": "WK_ORE8FWd60",
        "outputId": "0cba1bee-3452-4cf5-a919-f26f13e0da12"
      },
      "execution_count": 98,
      "outputs": [
        {
          "output_type": "stream",
          "name": "stdout",
          "text": [
            "Sample probabilities:\n",
            " tensor([[0.0699, 0.1006, 0.0701, 0.1202, 0.0964, 0.0963, 0.0916, 0.1682, 0.1223,\n",
            "         0.0644],\n",
            "        [0.0788, 0.1122, 0.0994, 0.0991, 0.0817, 0.1212, 0.0861, 0.1265, 0.1148,\n",
            "         0.0802]])\n",
            "Sum:  1.0\n"
          ]
        }
      ]
    },
    {
      "cell_type": "markdown",
      "source": [
        "torch.max returns each row's largest element and the corresponding index."
      ],
      "metadata": {
        "id": "guEn4vXvWghR"
      }
    },
    {
      "cell_type": "code",
      "source": [
        "max_probs, preds = torch.max(probs, dim=1)\n",
        "print(preds)\n",
        "print(max_probs)"
      ],
      "metadata": {
        "colab": {
          "base_uri": "https://localhost:8080/"
        },
        "id": "gDtOie6CWjDO",
        "outputId": "d6b642da-5f51-40ae-b45b-6422b86617b3"
      },
      "execution_count": 99,
      "outputs": [
        {
          "output_type": "stream",
          "name": "stdout",
          "text": [
            "tensor([7, 7, 7, 7, 7, 8, 7, 8, 8, 7, 7, 8, 8, 8, 7, 7, 7, 8, 7, 6, 8, 7, 7, 7,\n",
            "        8, 7, 8, 1, 7, 5, 7, 8, 5, 8, 7, 7, 4, 8, 7, 8, 7, 7, 8, 7, 8, 4, 7, 7,\n",
            "        7, 7, 4, 7, 8, 7, 4, 8, 8, 7, 7, 7, 7, 7, 8, 8, 7, 5, 7, 5, 7, 5, 7, 7,\n",
            "        7, 5, 7, 7, 7, 8, 7, 8, 4, 8, 7, 7, 8, 7, 5, 7, 7, 7, 7, 8, 8, 8, 8, 5,\n",
            "        7, 7, 8, 7, 7, 4, 3, 7, 7, 7, 7, 8, 7, 7, 7, 4, 7, 4, 5, 7, 7, 7, 6, 7,\n",
            "        7, 8, 8, 7, 7, 6, 5, 8])\n",
            "tensor([0.1682, 0.1265, 0.1581, 0.1454, 0.1405, 0.1393, 0.1403, 0.1308, 0.1468,\n",
            "        0.1657, 0.1278, 0.1479, 0.1418, 0.1308, 0.1240, 0.1965, 0.1218, 0.1463,\n",
            "        0.1208, 0.1236, 0.1247, 0.1513, 0.1618, 0.1558, 0.1687, 0.1530, 0.1381,\n",
            "        0.1483, 0.1478, 0.1215, 0.1717, 0.1586, 0.1397, 0.1329, 0.1357, 0.1397,\n",
            "        0.1481, 0.1301, 0.1711, 0.1552, 0.1622, 0.1485, 0.1399, 0.1360, 0.1536,\n",
            "        0.1367, 0.1596, 0.1729, 0.1247, 0.1440, 0.1301, 0.1887, 0.1379, 0.1759,\n",
            "        0.1280, 0.1308, 0.1485, 0.1207, 0.1552, 0.1430, 0.1465, 0.1461, 0.1674,\n",
            "        0.1495, 0.1442, 0.1292, 0.1285, 0.1542, 0.1250, 0.1613, 0.1603, 0.1230,\n",
            "        0.1426, 0.1289, 0.1483, 0.1500, 0.1584, 0.1526, 0.1380, 0.1628, 0.1329,\n",
            "        0.1708, 0.1627, 0.1338, 0.1538, 0.1525, 0.1530, 0.1270, 0.1274, 0.1359,\n",
            "        0.1160, 0.1333, 0.1376, 0.1309, 0.1706, 0.1258, 0.1222, 0.1706, 0.1413,\n",
            "        0.1861, 0.1308, 0.1396, 0.1316, 0.1658, 0.1346, 0.1901, 0.1345, 0.1303,\n",
            "        0.1439, 0.1263, 0.1568, 0.1292, 0.1522, 0.1219, 0.1203, 0.1471, 0.1496,\n",
            "        0.1303, 0.1188, 0.1496, 0.1344, 0.1654, 0.1247, 0.1353, 0.1303, 0.1257,\n",
            "        0.1527, 0.1219], grad_fn=<MaxBackward0>)\n"
          ]
        }
      ]
    },
    {
      "cell_type": "code",
      "source": [
        "labels"
      ],
      "metadata": {
        "colab": {
          "base_uri": "https://localhost:8080/"
        },
        "id": "tl6LNX1HWsmv",
        "outputId": "4864e9e2-0879-4fd9-d295-3a8b33ca2692"
      },
      "execution_count": 100,
      "outputs": [
        {
          "output_type": "execute_result",
          "data": {
            "text/plain": [
              "tensor([0, 4, 3, 3, 9, 8, 3, 1, 7, 5, 3, 4, 8, 7, 1, 0, 7, 9, 5, 6, 6, 8, 3, 0,\n",
              "        9, 6, 9, 3, 6, 5, 0, 9, 4, 9, 1, 9, 3, 6, 3, 6, 4, 5, 5, 1, 9, 3, 7, 0,\n",
              "        8, 8, 3, 0, 4, 8, 1, 1, 8, 1, 7, 7, 0, 3, 9, 9, 2, 6, 4, 9, 8, 9, 8, 1,\n",
              "        2, 8, 7, 5, 6, 0, 3, 4, 6, 9, 7, 9, 9, 3, 9, 1, 2, 6, 1, 6, 6, 9, 7, 9,\n",
              "        1, 7, 6, 3, 1, 6, 6, 8, 0, 2, 8, 6, 4, 6, 4, 2, 0, 1, 5, 7, 5, 8, 1, 4,\n",
              "        9, 8, 1, 8, 2, 3, 1, 9])"
            ]
          },
          "metadata": {},
          "execution_count": 100
        }
      ]
    },
    {
      "cell_type": "code",
      "source": [
        "outputs[:2]"
      ],
      "metadata": {
        "colab": {
          "base_uri": "https://localhost:8080/"
        },
        "id": "21_3n2U5WvW-",
        "outputId": "a041bad1-416e-43c5-f091-5cc795f026f4"
      },
      "execution_count": 101,
      "outputs": [
        {
          "output_type": "execute_result",
          "data": {
            "text/plain": [
              "tensor([[-3.8156e-01, -1.7237e-02, -3.7890e-01,  1.6062e-01, -5.9718e-02,\n",
              "         -6.1306e-02, -1.1062e-01,  4.9654e-01,  1.7825e-01, -4.6315e-01],\n",
              "        [-2.3248e-01,  1.2097e-01, -2.4116e-05, -2.6050e-03, -1.9570e-01,\n",
              "          1.9840e-01, -1.4418e-01,  2.4106e-01,  1.4400e-01, -2.1459e-01]],\n",
              "       grad_fn=<SliceBackward0>)"
            ]
          },
          "metadata": {},
          "execution_count": 101
        }
      ]
    },
    {
      "cell_type": "code",
      "source": [
        "torch.sum(preds == labels)"
      ],
      "metadata": {
        "colab": {
          "base_uri": "https://localhost:8080/"
        },
        "id": "fQZIW-WbWwl4",
        "outputId": "146d3d0e-1d76-4346-a54e-a8f556a652e1"
      },
      "execution_count": 102,
      "outputs": [
        {
          "output_type": "execute_result",
          "data": {
            "text/plain": [
              "tensor(15)"
            ]
          },
          "metadata": {},
          "execution_count": 102
        }
      ]
    },
    {
      "cell_type": "code",
      "source": [
        "def accuracy(outputs, labels):\n",
        "    _, preds = torch.max(outputs, dim=1)\n",
        "    return torch.tensor(torch.sum(preds == labels).item() / len(preds))"
      ],
      "metadata": {
        "id": "efZo2t16Wy0l"
      },
      "execution_count": 103,
      "outputs": []
    },
    {
      "cell_type": "markdown",
      "source": [
        "The == operator performs an element-wise comparison of two tensors with the same shape and returns a tensor of the same shape, containing True for unequal elements and False for equal elements. Passing the result to torch.sum returns the number of labels that were predicted correctly. Finally, we divide by the total number of images to get the accuracy."
      ],
      "metadata": {
        "id": "OAfuXsJSW3mD"
      }
    },
    {
      "cell_type": "code",
      "source": [
        "accuracy(outputs, labels)"
      ],
      "metadata": {
        "colab": {
          "base_uri": "https://localhost:8080/"
        },
        "id": "aILpMOCoW4Pe",
        "outputId": "8b2905c8-e55a-40b6-b7f3-d088e3541c9e"
      },
      "execution_count": 104,
      "outputs": [
        {
          "output_type": "execute_result",
          "data": {
            "text/plain": [
              "tensor(0.1172)"
            ]
          },
          "metadata": {},
          "execution_count": 104
        }
      ]
    },
    {
      "cell_type": "code",
      "source": [
        "probs"
      ],
      "metadata": {
        "colab": {
          "base_uri": "https://localhost:8080/"
        },
        "id": "r0NLX7kxW6Yt",
        "outputId": "a8c5a8c9-00c9-4d91-f733-a2d765115386"
      },
      "execution_count": 105,
      "outputs": [
        {
          "output_type": "execute_result",
          "data": {
            "text/plain": [
              "tensor([[0.0699, 0.1006, 0.0701,  ..., 0.1682, 0.1223, 0.0644],\n",
              "        [0.0788, 0.1122, 0.0994,  ..., 0.1265, 0.1148, 0.0802],\n",
              "        [0.0661, 0.1068, 0.0719,  ..., 0.1581, 0.1154, 0.0558],\n",
              "        ...,\n",
              "        [0.0697, 0.1044, 0.0783,  ..., 0.1180, 0.1132, 0.0785],\n",
              "        [0.0748, 0.0884, 0.0912,  ..., 0.1240, 0.0882, 0.0814],\n",
              "        [0.1087, 0.0971, 0.0984,  ..., 0.1101, 0.1219, 0.0778]],\n",
              "       grad_fn=<SoftmaxBackward0>)"
            ]
          },
          "metadata": {},
          "execution_count": 105
        }
      ]
    },
    {
      "cell_type": "code",
      "source": [
        "outputs"
      ],
      "metadata": {
        "colab": {
          "base_uri": "https://localhost:8080/"
        },
        "id": "Qf3cAcPjXAym",
        "outputId": "3bc7137f-6a95-437c-db7d-a1e6e74748d8"
      },
      "execution_count": 106,
      "outputs": [
        {
          "output_type": "execute_result",
          "data": {
            "text/plain": [
              "tensor([[-3.8156e-01, -1.7237e-02, -3.7890e-01,  ...,  4.9654e-01,\n",
              "          1.7825e-01, -4.6315e-01],\n",
              "        [-2.3248e-01,  1.2097e-01, -2.4116e-05,  ...,  2.4106e-01,\n",
              "          1.4400e-01, -2.1459e-01],\n",
              "        [-4.2531e-01,  5.4468e-02, -3.4100e-01,  ...,  4.4667e-01,\n",
              "          1.3201e-01, -5.9490e-01],\n",
              "        ...,\n",
              "        [-3.7844e-01,  2.5624e-02, -2.6237e-01,  ...,  1.4770e-01,\n",
              "          1.0604e-01, -2.5991e-01],\n",
              "        [-4.2977e-01, -2.6292e-01, -2.3194e-01,  ...,  7.5754e-02,\n",
              "         -2.6519e-01, -3.4548e-01],\n",
              "        [ 1.3334e-01,  2.0770e-02,  3.4259e-02,  ...,  1.4604e-01,\n",
              "          2.4835e-01, -2.0046e-01]], grad_fn=<AddmmBackward0>)"
            ]
          },
          "metadata": {},
          "execution_count": 106
        }
      ]
    },
    {
      "cell_type": "code",
      "source": [
        "loss_fn = F.cross_entropy"
      ],
      "metadata": {
        "id": "fV6OCuXCXHn1"
      },
      "execution_count": 107,
      "outputs": []
    },
    {
      "cell_type": "code",
      "source": [
        "# Loss for current batch of data\n",
        "loss = loss_fn(outputs, labels)\n",
        "print(loss)"
      ],
      "metadata": {
        "colab": {
          "base_uri": "https://localhost:8080/"
        },
        "id": "g5mEjuq-XUoa",
        "outputId": "b4501487-ec95-40aa-e32c-7c924e554662"
      },
      "execution_count": 108,
      "outputs": [
        {
          "output_type": "stream",
          "name": "stdout",
          "text": [
            "tensor(2.3787, grad_fn=<NllLossBackward0>)\n"
          ]
        }
      ]
    },
    {
      "cell_type": "code",
      "source": [
        "def fit(epochs, lr, model, train_loader, val_loader, opt_func=torch.optim.SGD):\n",
        "    optimizer = opt_func(model.parameters(), lr)\n",
        "    history = [] # for recording epoch-wise results\n",
        "    \n",
        "    for epoch in range(epochs):\n",
        "        \n",
        "        # Training Phase \n",
        "        for batch in train_loader:\n",
        "            loss = model.training_step(batch)\n",
        "            loss.backward()\n",
        "            optimizer.step()\n",
        "            optimizer.zero_grad()\n",
        "        \n",
        "        # Validation phase\n",
        "        result = evaluate(model, val_loader)\n",
        "        model.epoch_end(epoch, result)\n",
        "        history.append(result)\n",
        "\n",
        "    return history"
      ],
      "metadata": {
        "id": "6SnyGeopXaFn"
      },
      "execution_count": 109,
      "outputs": []
    },
    {
      "cell_type": "code",
      "source": [
        "l1 = [1, 2, 3, 4, 5]"
      ],
      "metadata": {
        "id": "9ieo2qKuXgxM"
      },
      "execution_count": 110,
      "outputs": []
    },
    {
      "cell_type": "code",
      "source": [
        "l2 = [x*2 for x in l1]\n",
        "l2"
      ],
      "metadata": {
        "colab": {
          "base_uri": "https://localhost:8080/"
        },
        "id": "urs5-sH6Xh4U",
        "outputId": "c32552e3-c29c-41ae-fc40-121773d68511"
      },
      "execution_count": 111,
      "outputs": [
        {
          "output_type": "execute_result",
          "data": {
            "text/plain": [
              "[2, 4, 6, 8, 10]"
            ]
          },
          "metadata": {},
          "execution_count": 111
        }
      ]
    },
    {
      "cell_type": "code",
      "source": [
        "def evaluate(model, val_loader):\n",
        "    outputs = [model.validation_step(batch) for batch in val_loader]\n",
        "    return model.validation_epoch_end(outputs)"
      ],
      "metadata": {
        "id": "2kbhQ2XBXukC"
      },
      "execution_count": 113,
      "outputs": []
    },
    {
      "cell_type": "code",
      "source": [
        "class MnistModel(nn.Module):\n",
        "    def __init__(self):\n",
        "        super().__init__()\n",
        "        self.linear = nn.Linear(input_size, num_classes)\n",
        "        \n",
        "    def forward(self, xb):\n",
        "        xb = xb.reshape(-1, 784)\n",
        "        out = self.linear(xb)\n",
        "        return out\n",
        "    \n",
        "    def training_step(self, batch):\n",
        "        images, labels = batch \n",
        "        out = self(images)                  # Generate predictions\n",
        "        loss = F.cross_entropy(out, labels) # Calculate loss\n",
        "        return loss\n",
        "    \n",
        "    def validation_step(self, batch):\n",
        "        images, labels = batch \n",
        "        out = self(images)                    # Generate predictions\n",
        "        loss = F.cross_entropy(out, labels)   # Calculate loss\n",
        "        acc = accuracy(out, labels)           # Calculate accuracy\n",
        "        return {'val_loss': loss, 'val_acc': acc}\n",
        "        \n",
        "    def validation_epoch_end(self, outputs):\n",
        "        batch_losses = [x['val_loss'] for x in outputs]\n",
        "        epoch_loss = torch.stack(batch_losses).mean()   # Combine losses\n",
        "        batch_accs = [x['val_acc'] for x in outputs]\n",
        "        epoch_acc = torch.stack(batch_accs).mean()      # Combine accuracies\n",
        "        return {'val_loss': epoch_loss.item(), 'val_acc': epoch_acc.item()}\n",
        "    \n",
        "    def epoch_end(self, epoch, result):\n",
        "        print(\"Epoch [{}], val_loss: {:.4f}, val_acc: {:.4f}\".format(epoch, result['val_loss'], result['val_acc']))\n",
        "    \n",
        "model = MnistModel()"
      ],
      "metadata": {
        "id": "Dk0Pes2GXkvp"
      },
      "execution_count": 114,
      "outputs": []
    },
    {
      "cell_type": "code",
      "source": [
        "result0 = evaluate(model, val_loader)\n",
        "result0"
      ],
      "metadata": {
        "colab": {
          "base_uri": "https://localhost:8080/"
        },
        "id": "sXHem2qDXoOU",
        "outputId": "1cf877cc-1b25-4a00-b190-3ac98a4b9c84"
      },
      "execution_count": 115,
      "outputs": [
        {
          "output_type": "execute_result",
          "data": {
            "text/plain": [
              "{'val_acc': 0.15615110099315643, 'val_loss': 2.307847499847412}"
            ]
          },
          "metadata": {},
          "execution_count": 115
        }
      ]
    },
    {
      "cell_type": "code",
      "source": [
        "history1 = fit(20, 0.0001, model, train_loader, val_loader)"
      ],
      "metadata": {
        "colab": {
          "base_uri": "https://localhost:8080/"
        },
        "id": "tAAuJUbEYHGC",
        "outputId": "079b1ec3-6cd0-45d7-ddc4-ddfd5447a1eb"
      },
      "execution_count": 133,
      "outputs": [
        {
          "output_type": "stream",
          "name": "stdout",
          "text": [
            "Epoch [0], val_loss: 1.6476, val_acc: 0.7573\n",
            "Epoch [1], val_loss: 1.6254, val_acc: 0.7618\n",
            "Epoch [2], val_loss: 1.6038, val_acc: 0.7654\n",
            "Epoch [3], val_loss: 1.5829, val_acc: 0.7678\n",
            "Epoch [4], val_loss: 1.5626, val_acc: 0.7709\n",
            "Epoch [5], val_loss: 1.5428, val_acc: 0.7740\n",
            "Epoch [6], val_loss: 1.5236, val_acc: 0.7764\n",
            "Epoch [7], val_loss: 1.5050, val_acc: 0.7787\n",
            "Epoch [8], val_loss: 1.4869, val_acc: 0.7805\n",
            "Epoch [9], val_loss: 1.4693, val_acc: 0.7823\n",
            "Epoch [10], val_loss: 1.4522, val_acc: 0.7842\n",
            "Epoch [11], val_loss: 1.4355, val_acc: 0.7866\n",
            "Epoch [12], val_loss: 1.4194, val_acc: 0.7877\n",
            "Epoch [13], val_loss: 1.4036, val_acc: 0.7892\n",
            "Epoch [14], val_loss: 1.3883, val_acc: 0.7912\n",
            "Epoch [15], val_loss: 1.3735, val_acc: 0.7918\n",
            "Epoch [16], val_loss: 1.3590, val_acc: 0.7933\n",
            "Epoch [17], val_loss: 1.3449, val_acc: 0.7942\n",
            "Epoch [18], val_loss: 1.3312, val_acc: 0.7960\n",
            "Epoch [19], val_loss: 1.3178, val_acc: 0.7970\n"
          ]
        }
      ]
    },
    {
      "cell_type": "code",
      "source": [
        "history = [result0] + history1\n",
        "accuracies = [result['val_acc'] for result in history]\n",
        "plt.plot(accuracies, '-x')\n",
        "plt.xlabel('epoch')\n",
        "plt.ylabel('accuracy')\n",
        "plt.title('Accuracy vs. No. of epochs');"
      ],
      "metadata": {
        "colab": {
          "base_uri": "https://localhost:8080/",
          "height": 295
        },
        "id": "afT4vPuSYvnH",
        "outputId": "e4d66046-7a74-49df-ec63-1da8403f45ab"
      },
      "execution_count": 134,
      "outputs": [
        {
          "output_type": "display_data",
          "data": {
            "image/png": "[encoded data removed]",
            "text/plain": [
              "<Figure size 432x288 with 1 Axes>"
            ]
          },
          "metadata": {
            "needs_background": "light"
          }
        }
      ]
    },
    {
      "cell_type": "markdown",
      "source": [
        "### Test"
      ],
      "metadata": {
        "id": "MdOD84SQZS8a"
      }
    },
    {
      "cell_type": "code",
      "source": [
        "# Define test dataset\n",
        "test_dataset = MNIST(root='data/', \n",
        "                     train=False,\n",
        "                     transform=transforms.ToTensor())"
      ],
      "metadata": {
        "id": "zxjzCwiXZU7D"
      },
      "execution_count": 135,
      "outputs": []
    },
    {
      "cell_type": "code",
      "source": [
        "img, label = test_dataset[0]\n",
        "plt.imshow(img[0], cmap='gray')\n",
        "print('Shape:', img.shape)\n",
        "print('Label:', label)"
      ],
      "metadata": {
        "colab": {
          "base_uri": "https://localhost:8080/",
          "height": 301
        },
        "id": "Ui-451O5ZWII",
        "outputId": "5a5c6258-2c82-48e7-d9c4-1bdd0f3765b8"
      },
      "execution_count": 136,
      "outputs": [
        {
          "output_type": "stream",
          "name": "stdout",
          "text": [
            "Shape: torch.Size([1, 28, 28])\n",
            "Label: 7\n"
          ]
        },
        {
          "output_type": "display_data",
          "data": {
            "image/png": "[encoded data removed]",
            "text/plain": [
              "<Figure size 432x288 with 1 Axes>"
            ]
          },
          "metadata": {
            "needs_background": "light"
          }
        }
      ]
    },
    {
      "cell_type": "code",
      "source": [
        "def predict_image(img, model):\n",
        "    xb = img.unsqueeze(0)\n",
        "    yb = model(xb)\n",
        "    _, preds = torch.max(yb, dim=1)\n",
        "    return preds[0].item()"
      ],
      "metadata": {
        "id": "cLHqi50bZYCv"
      },
      "execution_count": 137,
      "outputs": []
    },
    {
      "cell_type": "code",
      "source": [
        "img, label = test_dataset[0]\n",
        "plt.imshow(img[0], cmap='gray')\n",
        "print('Label:', label, ', Predicted:', predict_image(img, model))"
      ],
      "metadata": {
        "colab": {
          "base_uri": "https://localhost:8080/",
          "height": 283
        },
        "id": "-CqBUEAJZazG",
        "outputId": "b4a8859f-2975-44e7-e186-ecdea707071c"
      },
      "execution_count": 138,
      "outputs": [
        {
          "output_type": "stream",
          "name": "stdout",
          "text": [
            "Label: 7 , Predicted: 7\n"
          ]
        },
        {
          "output_type": "display_data",
          "data": {
            "image/png": "[encoded data removed]",
            "text/plain": [
              "<Figure size 432x288 with 1 Axes>"
            ]
          },
          "metadata": {
            "needs_background": "light"
          }
        }
      ]
    },
    {
      "cell_type": "code",
      "source": [
        "img, label = test_dataset[10]\n",
        "plt.imshow(img[0], cmap='gray')\n",
        "print('Label:', label, ', Predicted:', predict_image(img, model))"
      ],
      "metadata": {
        "colab": {
          "base_uri": "https://localhost:8080/",
          "height": 283
        },
        "id": "4Z0xPqpDZd6N",
        "outputId": "084ecb1b-fda0-4894-c2a2-80c270c7d493"
      },
      "execution_count": 139,
      "outputs": [
        {
          "output_type": "stream",
          "name": "stdout",
          "text": [
            "Label: 0 , Predicted: 0\n"
          ]
        },
        {
          "output_type": "display_data",
          "data": {
            "image/png": "[encoded data removed]",
            "text/plain": [
              "<Figure size 432x288 with 1 Axes>"
            ]
          },
          "metadata": {
            "needs_background": "light"
          }
        }
      ]
    },
    {
      "cell_type": "code",
      "source": [
        "img, label = test_dataset[193]\n",
        "plt.imshow(img[0], cmap='gray')\n",
        "print('Label:', label, ', Predicted:', predict_image(img, model))"
      ],
      "metadata": {
        "colab": {
          "base_uri": "https://localhost:8080/",
          "height": 283
        },
        "id": "BddsATg8Zg-U",
        "outputId": "a0c4fe09-d84d-4f8e-c0d9-e6f5f2a6ec8c"
      },
      "execution_count": 140,
      "outputs": [
        {
          "output_type": "stream",
          "name": "stdout",
          "text": [
            "Label: 9 , Predicted: 3\n"
          ]
        },
        {
          "output_type": "display_data",
          "data": {
            "image/png": "[encoded data removed]",
            "text/plain": [
              "<Figure size 432x288 with 1 Axes>"
            ]
          },
          "metadata": {
            "needs_background": "light"
          }
        }
      ]
    },
    {
      "cell_type": "code",
      "source": [
        "img, label = test_dataset[1839]\n",
        "plt.imshow(img[0], cmap='gray')\n",
        "print('Label:', label, ', Predicted:', predict_image(img, model))"
      ],
      "metadata": {
        "colab": {
          "base_uri": "https://localhost:8080/",
          "height": 283
        },
        "id": "VBfNDPoDZjNR",
        "outputId": "583b17bb-ae8a-4413-9c22-dc59e1ed253c"
      },
      "execution_count": 141,
      "outputs": [
        {
          "output_type": "stream",
          "name": "stdout",
          "text": [
            "Label: 2 , Predicted: 8\n"
          ]
        },
        {
          "output_type": "display_data",
          "data": {
            "image/png": "[encoded data removed]",
            "text/plain": [
              "<Figure size 432x288 with 1 Axes>"
            ]
          },
          "metadata": {
            "needs_background": "light"
          }
        }
      ]
    },
    {
      "cell_type": "code",
      "source": [
        "test_loader = DataLoader(test_dataset, batch_size=256)\n",
        "result = evaluate(model, test_loader)\n",
        "result"
      ],
      "metadata": {
        "colab": {
          "base_uri": "https://localhost:8080/"
        },
        "id": "XFLQXiD-ZmEH",
        "outputId": "c648a462-37c7-4532-b574-0c332bf0512c"
      },
      "execution_count": 142,
      "outputs": [
        {
          "output_type": "execute_result",
          "data": {
            "text/plain": [
              "{'val_acc': 0.805468738079071, 'val_loss': 1.2964026927947998}"
            ]
          },
          "metadata": {},
          "execution_count": 142
        }
      ]
    },
    {
      "cell_type": "markdown",
      "source": [
        "### Saving and loading the model"
      ],
      "metadata": {
        "id": "wrjcAuyvZxDc"
      }
    },
    {
      "cell_type": "code",
      "source": [
        "torch.save(model.state_dict(), 'mnist-logistic.pth')"
      ],
      "metadata": {
        "id": "8VSfEMAxZyig"
      },
      "execution_count": 143,
      "outputs": []
    },
    {
      "cell_type": "markdown",
      "source": [
        "The .state_dict method returns an OrderedDict containing all the weights and bias matrices mapped to the right attributes of the model."
      ],
      "metadata": {
        "id": "tOWoKXmkZ2Fl"
      }
    },
    {
      "cell_type": "code",
      "source": [
        "model.state_dict()"
      ],
      "metadata": {
        "colab": {
          "base_uri": "https://localhost:8080/"
        },
        "id": "c2_4lN1gZ00H",
        "outputId": "6f79a883-4720-4c51-9ad4-cded0b183b7c"
      },
      "execution_count": 144,
      "outputs": [
        {
          "output_type": "execute_result",
          "data": {
            "text/plain": [
              "OrderedDict([('linear.weight',\n",
              "              tensor([[-0.0301, -0.0157, -0.0353,  ..., -0.0193,  0.0223, -0.0306],\n",
              "                      [-0.0088,  0.0227, -0.0174,  ..., -0.0218,  0.0148, -0.0083],\n",
              "                      [-0.0290, -0.0082, -0.0152,  ...,  0.0235, -0.0196,  0.0006],\n",
              "                      ...,\n",
              "                      [ 0.0304,  0.0134,  0.0131,  ...,  0.0295, -0.0133, -0.0005],\n",
              "                      [ 0.0279,  0.0234, -0.0220,  ...,  0.0290,  0.0197, -0.0056],\n",
              "                      [ 0.0034,  0.0342,  0.0299,  ...,  0.0189, -0.0070,  0.0205]])),\n",
              "             ('linear.bias',\n",
              "              tensor([ 0.0082,  0.0445, -0.0367, -0.0355,  0.0455, -0.0280,  0.0202,  0.0338,\n",
              "                      -0.0364,  0.0028]))])"
            ]
          },
          "metadata": {},
          "execution_count": 144
        }
      ]
    },
    {
      "cell_type": "code",
      "source": [
        "model2 = MnistModel()"
      ],
      "metadata": {
        "id": "FdwhMV9zZ3Bw"
      },
      "execution_count": 145,
      "outputs": []
    },
    {
      "cell_type": "code",
      "source": [
        "model2.state_dict()"
      ],
      "metadata": {
        "colab": {
          "base_uri": "https://localhost:8080/"
        },
        "id": "w-Msu9qsa8v8",
        "outputId": "6caf033a-e853-4eaf-8ce9-0732f033c7e6"
      },
      "execution_count": 146,
      "outputs": [
        {
          "output_type": "execute_result",
          "data": {
            "text/plain": [
              "OrderedDict([('linear.weight',\n",
              "              tensor([[ 0.0287,  0.0259,  0.0311,  ..., -0.0115, -0.0146,  0.0304],\n",
              "                      [ 0.0180, -0.0154, -0.0182,  ..., -0.0142,  0.0051,  0.0042],\n",
              "                      [ 0.0034, -0.0166,  0.0024,  ..., -0.0082,  0.0241,  0.0307],\n",
              "                      ...,\n",
              "                      [ 0.0038, -0.0046,  0.0354,  ..., -0.0253,  0.0135, -0.0088],\n",
              "                      [ 0.0316, -0.0027, -0.0207,  ...,  0.0299,  0.0136,  0.0337],\n",
              "                      [-0.0307, -0.0335, -0.0105,  ...,  0.0241, -0.0216,  0.0012]])),\n",
              "             ('linear.bias',\n",
              "              tensor([-3.4197e-02, -1.5796e-02, -3.0128e-02, -2.7476e-02,  4.2695e-04,\n",
              "                       1.2449e-02,  1.9362e-02,  3.4618e-02,  1.6970e-05,  2.1388e-02]))])"
            ]
          },
          "metadata": {},
          "execution_count": 146
        }
      ]
    },
    {
      "cell_type": "code",
      "source": [
        "evaluate(model2, test_loader)"
      ],
      "metadata": {
        "id": "vl1TVb2Xa-57",
        "outputId": "d587e14b-1e6f-4377-bdd0-b572d9274e33",
        "colab": {
          "base_uri": "https://localhost:8080/"
        }
      },
      "execution_count": 147,
      "outputs": [
        {
          "output_type": "execute_result",
          "data": {
            "text/plain": [
              "{'val_acc': 0.06962890923023224, 'val_loss': 2.334437847137451}"
            ]
          },
          "metadata": {},
          "execution_count": 147
        }
      ]
    },
    {
      "cell_type": "code",
      "source": [
        "model2.load_state_dict(torch.load('mnist-logistic.pth'))\n",
        "model2.state_dict()"
      ],
      "metadata": {
        "id": "g9VlBv-nbBd0",
        "outputId": "e7b2a780-d07b-4e16-acc3-681d1a44a41b",
        "colab": {
          "base_uri": "https://localhost:8080/"
        }
      },
      "execution_count": 148,
      "outputs": [
        {
          "output_type": "execute_result",
          "data": {
            "text/plain": [
              "OrderedDict([('linear.weight',\n",
              "              tensor([[-0.0301, -0.0157, -0.0353,  ..., -0.0193,  0.0223, -0.0306],\n",
              "                      [-0.0088,  0.0227, -0.0174,  ..., -0.0218,  0.0148, -0.0083],\n",
              "                      [-0.0290, -0.0082, -0.0152,  ...,  0.0235, -0.0196,  0.0006],\n",
              "                      ...,\n",
              "                      [ 0.0304,  0.0134,  0.0131,  ...,  0.0295, -0.0133, -0.0005],\n",
              "                      [ 0.0279,  0.0234, -0.0220,  ...,  0.0290,  0.0197, -0.0056],\n",
              "                      [ 0.0034,  0.0342,  0.0299,  ...,  0.0189, -0.0070,  0.0205]])),\n",
              "             ('linear.bias',\n",
              "              tensor([ 0.0082,  0.0445, -0.0367, -0.0355,  0.0455, -0.0280,  0.0202,  0.0338,\n",
              "                      -0.0364,  0.0028]))])"
            ]
          },
          "metadata": {},
          "execution_count": 148
        }
      ]
    },
    {
      "cell_type": "code",
      "source": [
        "test_loader = DataLoader(test_dataset, batch_size=256)\n",
        "result = evaluate(model2, test_loader)\n",
        "result"
      ],
      "metadata": {
        "id": "tMlz4QQmbDxN",
        "outputId": "194e79e9-4e45-4a39-bff6-69b405271af0",
        "colab": {
          "base_uri": "https://localhost:8080/"
        }
      },
      "execution_count": 149,
      "outputs": [
        {
          "output_type": "execute_result",
          "data": {
            "text/plain": [
              "{'val_acc': 0.805468738079071, 'val_loss': 1.2964026927947998}"
            ]
          },
          "metadata": {},
          "execution_count": 149
        }
      ]
    }
  ]
}