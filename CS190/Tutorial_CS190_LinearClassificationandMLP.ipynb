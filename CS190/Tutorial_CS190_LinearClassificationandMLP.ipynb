{
  "cells": [
    {
      "cell_type": "markdown",
      "metadata": {
        "id": "GbogLynlPrC4"
      },
      "source": [
        "# Overview\n",
        "\n",
        "In this tutorial we will introduce key concepts related to creating simple neural networks including a linear (single-layer) classifier as well as a multilayer perceptron.\n",
        "\n",
        "**Linear Classifiers and Multilayer Perceptrons**\n",
        "\n",
        "* matrix multiplication\n",
        "* softmax cross-entroy loss\n",
        "* model training\n",
        "* evaluation\n",
        "* visualization\n",
        "\n",
        "This tutorial is part of the class **Introduction to Deep Learning for Medical Imaging** at University of California Irvine (CS190); more information can be found at: https://github.com/peterchang77/dl_tutor/tree/master/cs190."
      ]
    },
    {
      "cell_type": "markdown",
      "metadata": {
        "id": "56d3oMiMw8Wm"
      },
      "source": [
        "# Google Colab"
      ]
    },
    {
      "cell_type": "markdown",
      "metadata": {
        "id": "59C7_GBNPrC7"
      },
      "source": [
        "### Enable GPU runtime\n",
        "\n",
        "Use the following instructions to switch the default Colab instance into a GPU-enabled runtime:\n",
        "\n",
        "```\n",
        "Runtime > Change runtime type > Hardware accelerator > GPU\n",
        "```"
      ]
    },
    {
      "cell_type": "markdown",
      "metadata": {
        "id": "CG5hcbDwPrC7"
      },
      "source": [
        "# Environment"
      ]
    },
    {
      "cell_type": "markdown",
      "metadata": {
        "id": "6uJCvjCRPrC7"
      },
      "source": [
        "### Jarvis library\n",
        "\n",
        "In this notebook we will Jarvis, a custom Python package to facilitate data science and deep learning for healthcare. Among other things, this library will be used for low-level data management, stratification and visualization of high-dimensional medical data."
      ]
    },
    {
      "cell_type": "code",
      "execution_count": null,
      "metadata": {
        "id": "SGKiuI7DPrC7",
        "colab": {
          "base_uri": "https://localhost:8080/"
        },
        "outputId": "c433e12d-76b5-4dde-8547-885bb2becb14"
      },
      "outputs": [
        {
          "output_type": "stream",
          "name": "stdout",
          "text": [
            "Collecting jarvis-md\n",
            "  Downloading jarvis_md-0.0.1a14-py3-none-any.whl (81 kB)\n",
            "\u001b[K     |████████████████████████████████| 81 kB 3.5 MB/s \n",
            "\u001b[?25hCollecting pyyaml>=5.2\n",
            "  Downloading PyYAML-6.0-cp37-cp37m-manylinux_2_5_x86_64.manylinux1_x86_64.manylinux_2_12_x86_64.manylinux2010_x86_64.whl (596 kB)\n",
            "\u001b[K     |████████████████████████████████| 596 kB 17.3 MB/s \n",
            "\u001b[?25hRequirement already satisfied: h5py in /usr/local/lib/python3.7/dist-packages (from jarvis-md) (3.1.0)\n",
            "Requirement already satisfied: scipy in /usr/local/lib/python3.7/dist-packages (from jarvis-md) (1.4.1)\n",
            "Requirement already satisfied: matplotlib in /usr/local/lib/python3.7/dist-packages (from jarvis-md) (3.2.2)\n",
            "Requirement already satisfied: requests in /usr/local/lib/python3.7/dist-packages (from jarvis-md) (2.23.0)\n",
            "Requirement already satisfied: pandas in /usr/local/lib/python3.7/dist-packages (from jarvis-md) (1.1.5)\n",
            "Requirement already satisfied: numpy in /usr/local/lib/python3.7/dist-packages (from jarvis-md) (1.19.5)\n",
            "Requirement already satisfied: cached-property in /usr/local/lib/python3.7/dist-packages (from h5py->jarvis-md) (1.5.2)\n",
            "Requirement already satisfied: python-dateutil>=2.1 in /usr/local/lib/python3.7/dist-packages (from matplotlib->jarvis-md) (2.8.2)\n",
            "Requirement already satisfied: pyparsing!=2.0.4,!=2.1.2,!=2.1.6,>=2.0.1 in /usr/local/lib/python3.7/dist-packages (from matplotlib->jarvis-md) (3.0.6)\n",
            "Requirement already satisfied: cycler>=0.10 in /usr/local/lib/python3.7/dist-packages (from matplotlib->jarvis-md) (0.11.0)\n",
            "Requirement already satisfied: kiwisolver>=1.0.1 in /usr/local/lib/python3.7/dist-packages (from matplotlib->jarvis-md) (1.3.2)\n",
            "Requirement already satisfied: six>=1.5 in /usr/local/lib/python3.7/dist-packages (from python-dateutil>=2.1->matplotlib->jarvis-md) (1.15.0)\n",
            "Requirement already satisfied: pytz>=2017.2 in /usr/local/lib/python3.7/dist-packages (from pandas->jarvis-md) (2018.9)\n",
            "Requirement already satisfied: urllib3!=1.25.0,!=1.25.1,<1.26,>=1.21.1 in /usr/local/lib/python3.7/dist-packages (from requests->jarvis-md) (1.24.3)\n",
            "Requirement already satisfied: chardet<4,>=3.0.2 in /usr/local/lib/python3.7/dist-packages (from requests->jarvis-md) (3.0.4)\n",
            "Requirement already satisfied: certifi>=2017.4.17 in /usr/local/lib/python3.7/dist-packages (from requests->jarvis-md) (2021.10.8)\n",
            "Requirement already satisfied: idna<3,>=2.5 in /usr/local/lib/python3.7/dist-packages (from requests->jarvis-md) (2.10)\n",
            "Installing collected packages: pyyaml, jarvis-md\n",
            "  Attempting uninstall: pyyaml\n",
            "    Found existing installation: PyYAML 3.13\n",
            "    Uninstalling PyYAML-3.13:\n",
            "      Successfully uninstalled PyYAML-3.13\n",
            "Successfully installed jarvis-md-0.0.1a14 pyyaml-6.0\n"
          ]
        }
      ],
      "source": [
        "# --- Install jarvis (only in Google Colab or local runtime)\n",
        "% pip install jarvis-md"
      ]
    },
    {
      "cell_type": "markdown",
      "metadata": {
        "id": "1vnZfMtrPrC8"
      },
      "source": [
        "### Imports\n",
        "\n",
        "Use the following lines to import any additional needed libraries:"
      ]
    },
    {
      "cell_type": "code",
      "execution_count": null,
      "metadata": {
        "id": "fII29R6KPrC8"
      },
      "outputs": [],
      "source": [
        "import numpy as np, pandas as pd\n",
        "from tensorflow import losses, optimizers\n",
        "from tensorflow.keras import Input, Model, models, layers\n",
        "from jarvis.train import datasets\n",
        "from jarvis.utils.display import imshow"
      ]
    },
    {
      "cell_type": "markdown",
      "metadata": {
        "id": "kK6cHCIrPrC8"
      },
      "source": [
        "# Data\n",
        "\n",
        "The data used in this tutorial will consist of the MNIST handwritten digit dataset. The custom `datasets.download(...)` method can be used to download a local copy of the dataset. By default the dataset will be archived at `/data/raw/mnist`; as needed an alternate location may be specified using `datasets.download(name=..., path=...)`. "
      ]
    },
    {
      "cell_type": "code",
      "execution_count": null,
      "metadata": {
        "id": "6ep-rS8vPrC9",
        "colab": {
          "base_uri": "https://localhost:8080/"
        },
        "outputId": "b5744ecb-f732-439e-eda6-f3a4f5e1dbfc"
      },
      "outputs": [
        {
          "output_type": "stream",
          "name": "stdout",
          "text": [
            "[ 2021-12-23 06:10:41 ] [====================] 100.000% : Extracting archive (0000004 / 0000004) "
          ]
        },
        {
          "output_type": "execute_result",
          "data": {
            "text/plain": [
              "{'code': '/data/raw/mnist', 'data': '/data/raw/mnist'}"
            ]
          },
          "metadata": {},
          "execution_count": 3
        }
      ],
      "source": [
        "# --- Download dataset\n",
        "datasets.download(name='mnist')"
      ]
    },
    {
      "cell_type": "markdown",
      "metadata": {
        "id": "PpqMDs-VPrC9"
      },
      "source": [
        "Once downloaded, the `datasets.prepare(...)` method can be used to generate the required python Generators to iterate through the dataset, as well as a `client` object for any needed advanced functionality."
      ]
    },
    {
      "cell_type": "code",
      "execution_count": null,
      "metadata": {
        "id": "YmegQnVsPrC9",
        "colab": {
          "base_uri": "https://localhost:8080/"
        },
        "outputId": "6aea6a3a-6c0a-4088-aaea-74937b0f8529"
      },
      "outputs": [
        {
          "output_type": "stream",
          "name": "stdout",
          "text": [
            "\r[ 2021-12-23 06:10:51 ] [====================] 100.000% : Iterating | 000001    "
          ]
        }
      ],
      "source": [
        "# --- Prepare generators\n",
        "gen_train, _, client = datasets.prepare(name='mnist')"
      ]
    },
    {
      "cell_type": "markdown",
      "metadata": {
        "id": "7FFchUQmPrC9"
      },
      "source": [
        "By default the generator yields a batch size of 128 different images. As before, each iteration yields two variables, `xs` and `ys`, each representing a dictionary of model input(s) and output(s). In the current example, there is just a single input and output. Let us examine the generator data:"
      ]
    },
    {
      "cell_type": "code",
      "execution_count": null,
      "metadata": {
        "id": "CnnYRtajPrC9",
        "colab": {
          "base_uri": "https://localhost:8080/"
        },
        "outputId": "a94fde87-5022-46aa-f3c9-238e774c341c"
      },
      "outputs": [
        {
          "output_type": "stream",
          "name": "stdout",
          "text": [
            "xs keys: dict_keys(['dat'])\n",
            "ys keys: dict_keys(['digit'])\n"
          ]
        }
      ],
      "source": [
        "# --- Yield one example\n",
        "xs, ys = next(gen_train)\n",
        "\n",
        "# --- Print dict keys\n",
        "print('xs keys: {}'.format(xs.keys()))\n",
        "print('ys keys: {}'.format(ys.keys()))"
      ]
    },
    {
      "cell_type": "code",
      "execution_count": null,
      "metadata": {
        "id": "Izw6rIcrPrC9",
        "colab": {
          "base_uri": "https://localhost:8080/"
        },
        "outputId": "e612540f-d141-4bf5-830a-77da10821c05"
      },
      "outputs": [
        {
          "output_type": "stream",
          "name": "stdout",
          "text": [
            "xs shape: (128, 784)\n",
            "ys shape: (128, 1)\n"
          ]
        }
      ],
      "source": [
        "# --- Print data shape\n",
        "print('xs shape: {}'.format(xs['dat'].shape))\n",
        "print('ys shape: {}'.format(ys['digit'].shape))"
      ]
    },
    {
      "cell_type": "markdown",
      "metadata": {
        "id": "2rhnylHpPrC-"
      },
      "source": [
        "Each 28 x 28 2D image is serialized as a 784-element vector. Use the following lines of code to reshape the data vector and visualize using the `imshow(...)` method:"
      ]
    },
    {
      "cell_type": "code",
      "execution_count": null,
      "metadata": {
        "id": "dpWPGipsPrC-",
        "colab": {
          "base_uri": "https://localhost:8080/",
          "height": 411
        },
        "outputId": "4f65f158-00de-442a-fbde-f7aafbfda9a8"
      },
      "outputs": [
        {
          "output_type": "display_data",
          "data": {
            "image/png": "[encoded data removed]",
            "text/plain": [
              "<Figure size 504x504 with 1 Axes>"
            ]
          },
          "metadata": {
            "needs_background": "light"
          }
        }
      ],
      "source": [
        "# --- Reshape to 2D images\n",
        "dat = xs['dat'].reshape(-1, 28, 28)\n",
        "\n",
        "# --- Show the first example\n",
        "imshow(dat[0])"
      ]
    },
    {
      "cell_type": "markdown",
      "metadata": {
        "id": "X2odiMUAPrC-"
      },
      "source": [
        "Pass the entire dat array to `imshow(...)` to display an N x N mosaic of all images:"
      ]
    },
    {
      "cell_type": "code",
      "execution_count": null,
      "metadata": {
        "id": "PcXldKAvPrC-",
        "colab": {
          "base_uri": "https://localhost:8080/",
          "height": 411
        },
        "outputId": "c7314d72-0fd1-4d0d-9e64-806de8b82a4b"
      },
      "outputs": [
        {
          "output_type": "display_data",
          "data": {
            "image/png": "[encoded data removed]",
            "text/plain": [
              "<Figure size 504x504 with 1 Axes>"
            ]
          },
          "metadata": {
            "needs_background": "light"
          }
        }
      ],
      "source": [
        "# --- Show \"montage\" of first 64 images\n",
        "imshow(dat[:64])"
      ]
    },
    {
      "cell_type": "markdown",
      "metadata": {
        "id": "jS9q3b-uPrC-"
      },
      "source": [
        "As expected, the 64-element `ys['digit']` vector corresponds to ground-truth:"
      ]
    },
    {
      "cell_type": "code",
      "execution_count": null,
      "metadata": {
        "id": "PosuMpyTPrC_",
        "colab": {
          "base_uri": "https://localhost:8080/"
        },
        "outputId": "18e5083c-7074-4582-c6ab-2caedb5da35e"
      },
      "outputs": [
        {
          "output_type": "stream",
          "name": "stdout",
          "text": [
            "[[9 3 5 0 0 7 8 8]\n",
            " [5 1 0 7 9 2 3 3]\n",
            " [8 3 7 2 7 1 1 1]\n",
            " [7 7 5 7 5 7 6 7]\n",
            " [4 4 4 8 5 0 2 2]\n",
            " [4 3 6 5 1 1 7 4]\n",
            " [3 4 8 0 9 7 3 5]\n",
            " [4 9 1 0 3 8 1 9]]\n"
          ]
        }
      ],
      "source": [
        "# --- Print ys['digit']\n",
        "print(ys['digit'][:64].reshape(8, 8))"
      ]
    },
    {
      "cell_type": "markdown",
      "metadata": {
        "id": "AiRSn2szPrC_"
      },
      "source": [
        "# Foundations\n",
        "\n",
        "As a review, recall the diagramatic representation of a neural network covered in lecture:\n",
        "\n",
        "![Diagramtric Representation](https://raw.githubusercontent.com/peterchang77/dl_tutor/master/cs190/spring_2020/notebooks/mlp/pngs/nn_diagram.png)\n",
        "\n",
        "Recall that each reach \"retinal neuron\" recieving light from the image is connected to one of ten output neurons, each indicating the relative likelihood of that image representing any one of the ten possible digits. The neuron with the largest score value (e.g. **logit score**) in turn represents the most probable interpretation by the network of the provided digit image.\n",
        "\n",
        "Also, recall that each connection itself is modeled by a multiplicative weight value that represents how strong (or weak) the connection is, and that each of the 784 connections to one of our ten output neurons can in fact be represented as a matrix of numbers:\n",
        "\n",
        "![Matrix Representation](https://raw.githubusercontent.com/peterchang77/dl_tutor/master/cs190/spring_2020/notebooks/mlp/pngs/nn_multiply.png)\n",
        "\n",
        "Of course, for each of our ten digits, we will have a different 28 x 28 weight matrix for a total of 10 weight matrices. Finally keep in mind that for the sake of ease in representation (given our simple model) both our 28 x 28 input matrix and ten 28 x 28 weight matrices can be **flattened** to just a single 1 x 784 (or 784 x 1) matrix. "
      ]
    },
    {
      "cell_type": "markdown",
      "metadata": {
        "id": "2TaapQfFPrC_"
      },
      "source": [
        "# Matrix Multiplication"
      ]
    },
    {
      "cell_type": "markdown",
      "metadata": {
        "id": "dESdG4UaPrC_"
      },
      "source": [
        "### Input\n",
        "\n",
        "As in the earlier examples, the first dimension of the input matrix `x` will be `None` to indicate that one or many images can be passed through the model at a time. The second dimension of the input matrix will need to accomodate a **flattened** version of our 28 x 28 matrix:\n",
        "\n",
        "```\n",
        "x = [[x00, x01, x02, ...],   ==> (flattening) ==> [[x00, x01, x02, x10, x11, ..., xNN]]\n",
        "     [x10, x11, x12, ...],\n",
        "     [x20, x21, x22, ...]\n",
        "     ... , ..., ..., xNN]]\n",
        "```\n",
        "\n",
        "Thus our input matrix will need to be `(None, 28 x 28)` = `(None, 784)`. Use the following code cell to create our `Input(...)` object:"
      ]
    },
    {
      "cell_type": "code",
      "execution_count": null,
      "metadata": {
        "id": "rKGzSD90PrC_",
        "colab": {
          "base_uri": "https://localhost:8080/"
        },
        "outputId": "ff665a7c-a7e7-4a47-d39e-f87d1e129234"
      },
      "outputs": [
        {
          "output_type": "stream",
          "name": "stdout",
          "text": [
            "(None, 784)\n"
          ]
        }
      ],
      "source": [
        "# --- Create Tensorflow input\n",
        "x = Input(shape=(784,))\n",
        "print(x.shape)"
      ]
    },
    {
      "cell_type": "markdown",
      "metadata": {
        "id": "uBWvkvEVPrC_"
      },
      "source": [
        "Recall that the data generator above yields a dictionary of possible `xs` inputs. To accomodate for this potential of multi-input models, the Tensorflow 2.0 / Keras simply specifies that each defined `Input()` object be maintained in a dictionary with matching keys and names:"
      ]
    },
    {
      "cell_type": "code",
      "execution_count": null,
      "metadata": {
        "id": "0xWnui-IPrC_"
      },
      "outputs": [],
      "source": [
        "# --- Create Tensorflow input dict\n",
        "inputs = {}\n",
        "inputs['dat'] = Input(shape=(784,), name='dat')"
      ]
    },
    {
      "cell_type": "markdown",
      "metadata": {
        "id": "S-vnJaz8PrDA"
      },
      "source": [
        "### client.get_inputs(...)\n",
        "\n",
        "Alternatively, instead of manually creating each potential model input, the `client` object as part of the Jarvis library has a convenience method to automatically create matching input(s) for all the input arrays yielded as part of `xs`. To use, simply pass the Tensorflow `Input` class to the `client.get_inputs(...)` method:"
      ]
    },
    {
      "cell_type": "code",
      "execution_count": null,
      "metadata": {
        "id": "GL76KfKMPrDA",
        "colab": {
          "base_uri": "https://localhost:8080/"
        },
        "outputId": "7f7cca51-9acf-4350-fbbf-ca0f35e95154"
      },
      "outputs": [
        {
          "output_type": "stream",
          "name": "stdout",
          "text": [
            "dict_keys(['dat'])\n",
            "(None, 784)\n"
          ]
        }
      ],
      "source": [
        "# --- Create model inputs\n",
        "inputs = client.get_inputs(Input)\n",
        "\n",
        "print(inputs.keys())\n",
        "print(inputs['dat'].shape)"
      ]
    },
    {
      "cell_type": "code",
      "source": [
        "inputs"
      ],
      "metadata": {
        "colab": {
          "base_uri": "https://localhost:8080/"
        },
        "id": "Y6rB5xMqdVOL",
        "outputId": "eb8cc3ec-0652-45d7-881a-28bac839353b"
      },
      "execution_count": null,
      "outputs": [
        {
          "output_type": "execute_result",
          "data": {
            "text/plain": [
              "{'dat': <KerasTensor: shape=(None, 784) dtype=float32 (created by layer 'dat')>}"
            ]
          },
          "metadata": {},
          "execution_count": 14
        }
      ]
    },
    {
      "cell_type": "markdown",
      "metadata": {
        "id": "bjmRJAI7PrDA"
      },
      "source": [
        "### Dense operation"
      ]
    },
    {
      "cell_type": "markdown",
      "metadata": {
        "id": "VR7O8lm2PrDA"
      },
      "source": [
        "The next step is to define the proper matrix multiplication operation to implement mapping of input (image) to output (digit logit scores). Recall the earlier discussion on **dense** layers and matrix multiplication:\n",
        "\n",
        "```\n",
        "Let:\n",
        "\n",
        "X = 1 x N matrix = [a, b, c, d, e...]\n",
        "\n",
        "M = N x 1 matrix = [[A],\n",
        "                    [B],\n",
        "                    [C],\n",
        "                    [D],\n",
        "                    [E],\n",
        "                    ...\n",
        "                    ]\n",
        "\n",
        "Then:\n",
        "\n",
        "X x M = ...\n",
        "\n",
        "= [[a, b, c, d, e...]] x [[A], = a * A + b * B + c * C + d * D + e * E ...\n",
        "                          [B],\n",
        "                          [C],\n",
        "                          [D],\n",
        "                          [E],\n",
        "                          ...\n",
        "                          ]\n",
        "                          \n",
        "```\n",
        "\n",
        "The following rules extend this formally to 2D matrices.\n",
        "\n",
        "```\n",
        "Let:\n",
        "\n",
        "X = I x N matrix\n",
        "M = N x J matrix\n",
        "```\n",
        "\n",
        "1. The **second** dimension of `X` must match the **first** dimension of `M` (e.g. `N`).\n",
        "2. The output of the matrix multiplication is equal to the **first** dimension of `X` by the **second** dimension of `Y` (e.g. `I x J`)."
      ]
    },
    {
      "cell_type": "markdown",
      "metadata": {
        "id": "v_i8nk85PrDA"
      },
      "source": [
        "Given the discussion above, in order to define a *matrix multiplication* between the input Tensor and the `m` weights matrix, what shape must the `m` weights matrix consist of to yield 10 different logit score predictions?\n",
        "\n",
        "Use the following code cell to create the appropriate operation object:"
      ]
    },
    {
      "cell_type": "code",
      "execution_count": null,
      "metadata": {
        "id": "Gm9gBunMPrDA",
        "colab": {
          "base_uri": "https://localhost:8080/"
        },
        "outputId": "03ca9c8f-3bdd-4e28-9a80-34056032dccb"
      },
      "outputs": [
        {
          "output_type": "stream",
          "name": "stdout",
          "text": [
            "(None, 10)\n"
          ]
        }
      ],
      "source": [
        "# --- Create op\n",
        "op = layers.Dense(10) #of elements on output side\n",
        "\n",
        "# --- Create output\n",
        "y = op(inputs['dat'])\n",
        "print(y.shape)"
      ]
    },
    {
      "cell_type": "markdown",
      "metadata": {
        "id": "l21pdCqWPrDA"
      },
      "source": [
        "Let us check to see if the weights are of correct shape:"
      ]
    },
    {
      "cell_type": "code",
      "execution_count": null,
      "metadata": {
        "id": "TJ1LLXjePrDB",
        "colab": {
          "base_uri": "https://localhost:8080/"
        },
        "outputId": "ffd8f026-2e42-4a7a-9368-4503bb909cf6"
      },
      "outputs": [
        {
          "output_type": "stream",
          "name": "stdout",
          "text": [
            "(784, 10)\n"
          ]
        }
      ],
      "source": [
        "# --- Get weight matrix shape\n",
        "w, b = op.get_weights()\n",
        "print(w.shape)"
      ]
    },
    {
      "cell_type": "markdown",
      "metadata": {
        "id": "oww9LDaVPrDB"
      },
      "source": [
        "### Output\n",
        "\n",
        "Just as the Generator input `xs` is defined as a dictionary of one or multiple model inputs, the Generator output `ys` is defined as a dictionary of one or multiple model outputs. To accomodate for this, the Tensorflow 2.0 / Keras API simply specifies that each output logit score (defined via a `Tensor` object) is maintained in a dictionary. Just like inputs, the logit score object(s) must also have matching names where are defined in the **final operation** that yields the logit score `Tensor` object: "
      ]
    },
    {
      "cell_type": "code",
      "execution_count": null,
      "metadata": {
        "id": "rpvalrHRPrDB"
      },
      "outputs": [],
      "source": [
        "# --- Create op (note that the output Tensor name must also be defined here)\n",
        "op = layers.Dense(10, name='digit')\n",
        "\n",
        "# --- Create outputs\n",
        "logits = {}\n",
        "logits['digit'] = op(inputs['dat'])"
      ]
    },
    {
      "cell_type": "markdown",
      "metadata": {
        "id": "3qVzu9mVPrDC"
      },
      "source": [
        "### Creating the model\n",
        "\n",
        "This single operation model successfully defines the linear classification model as presented during lecture. Use the following line of code to create the model:"
      ]
    },
    {
      "cell_type": "code",
      "execution_count": null,
      "metadata": {
        "id": "iMZTRErKPrDC"
      },
      "outputs": [],
      "source": [
        "# --- Create model\n",
        "model = Model(inputs=inputs, outputs=logits)"
      ]
    },
    {
      "cell_type": "markdown",
      "metadata": {
        "id": "xBwo5-uGPrDC"
      },
      "source": [
        "Use the following line of code to pass a single batch of data through the created model:"
      ]
    },
    {
      "cell_type": "code",
      "execution_count": null,
      "metadata": {
        "id": "1kQ4-Nm_PrDC"
      },
      "outputs": [],
      "source": [
        "# --- Predict\n",
        "scores = model.predict(xs['dat'])"
      ]
    },
    {
      "cell_type": "code",
      "source": [
        "xs['dat'].shape"
      ],
      "metadata": {
        "colab": {
          "base_uri": "https://localhost:8080/"
        },
        "id": "QyJywkZaeb_W",
        "outputId": "ee204c27-5b51-433c-aea7-a6e27a8f85db"
      },
      "execution_count": null,
      "outputs": [
        {
          "output_type": "execute_result",
          "data": {
            "text/plain": [
              "(128, 784)"
            ]
          },
          "metadata": {},
          "execution_count": 20
        }
      ]
    },
    {
      "cell_type": "code",
      "source": [
        "type(xs['dat'])"
      ],
      "metadata": {
        "colab": {
          "base_uri": "https://localhost:8080/"
        },
        "id": "fSQLTDIaehON",
        "outputId": "17f60a7d-78b2-424f-92a8-361468dd53a9"
      },
      "execution_count": null,
      "outputs": [
        {
          "output_type": "execute_result",
          "data": {
            "text/plain": [
              "numpy.ndarray"
            ]
          },
          "metadata": {},
          "execution_count": 21
        }
      ]
    },
    {
      "cell_type": "code",
      "source": [
        "scores.keys()"
      ],
      "metadata": {
        "colab": {
          "base_uri": "https://localhost:8080/"
        },
        "id": "qn2yYss0elAC",
        "outputId": "f0f6c30c-3e26-4475-de8f-e3f94ba8890d"
      },
      "execution_count": null,
      "outputs": [
        {
          "output_type": "execute_result",
          "data": {
            "text/plain": [
              "dict_keys(['digit'])"
            ]
          },
          "metadata": {},
          "execution_count": 22
        }
      ]
    },
    {
      "cell_type": "markdown",
      "metadata": {
        "id": "iAxzxrP3PrDD"
      },
      "source": [
        "What is the output shape of the `scores` variable, what does this variable represent?"
      ]
    },
    {
      "cell_type": "code",
      "execution_count": null,
      "metadata": {
        "id": "KBoXkqsEPrDD",
        "colab": {
          "base_uri": "https://localhost:8080/"
        },
        "outputId": "90c38701-8edb-410d-865b-8dfbc9620fa8"
      },
      "outputs": [
        {
          "output_type": "stream",
          "name": "stdout",
          "text": [
            "(128, 10)\n"
          ]
        }
      ],
      "source": [
        "# --- Logit scores\n",
        "print(scores['digit'].shape)"
      ]
    },
    {
      "cell_type": "code",
      "source": [
        "scores['digit'][0] #logit score for first input"
      ],
      "metadata": {
        "colab": {
          "base_uri": "https://localhost:8080/"
        },
        "id": "0xzW-YhZe3KT",
        "outputId": "097f4e4d-99e4-483b-84e3-03718a454b99"
      },
      "execution_count": null,
      "outputs": [
        {
          "output_type": "execute_result",
          "data": {
            "text/plain": [
              "array([ 0.91842407,  2.333152  , -0.37827992, -1.5631016 , -4.8034024 ,\n",
              "        2.9353895 , -0.2195639 , -2.6826556 , -0.40502238,  1.8952456 ],\n",
              "      dtype=float32)"
            ]
          },
          "metadata": {},
          "execution_count": 24
        }
      ]
    },
    {
      "cell_type": "code",
      "source": [
        "np.argmax(scores['digit'][0]) #prediction for first input"
      ],
      "metadata": {
        "colab": {
          "base_uri": "https://localhost:8080/"
        },
        "id": "8wo6pcSne-cD",
        "outputId": "09b42c09-34c2-410b-93e4-95e3b7517b83"
      },
      "execution_count": null,
      "outputs": [
        {
          "output_type": "execute_result",
          "data": {
            "text/plain": [
              "5"
            ]
          },
          "metadata": {},
          "execution_count": 25
        }
      ]
    },
    {
      "cell_type": "code",
      "source": [
        "np.argmax(scores['digit'], axis = -1) #prediction for all inputs "
      ],
      "metadata": {
        "colab": {
          "base_uri": "https://localhost:8080/"
        },
        "id": "jLtTC73xfFEU",
        "outputId": "449007e3-7559-402d-a683-73b915d210c0"
      },
      "execution_count": null,
      "outputs": [
        {
          "output_type": "execute_result",
          "data": {
            "text/plain": [
              "array([5, 9, 0, 8, 1, 1, 1, 1, 1, 1, 1, 1, 1, 1, 1, 0, 0, 1, 8, 0, 5, 1,\n",
              "       2, 1, 5, 9, 1, 1, 1, 1, 0, 5, 1, 9, 9, 0, 9, 0, 0, 9, 1, 9, 2, 2,\n",
              "       1, 1, 1, 9, 1, 9, 0, 0, 1, 1, 1, 1, 1, 0, 1, 1, 9, 0, 1, 1, 1, 5,\n",
              "       1, 1, 1, 5, 1, 1, 1, 5, 3, 8, 8, 1, 9, 9, 1, 1, 1, 3, 8, 5, 5, 0,\n",
              "       0, 9, 0, 5, 5, 1, 9, 1, 1, 1, 3, 1, 1, 9, 9, 1, 9, 1, 0, 0, 0, 1,\n",
              "       1, 1, 1, 5, 9, 0, 5, 1, 1, 5, 3, 1, 0, 0, 0, 0, 1, 1])"
            ]
          },
          "metadata": {},
          "execution_count": 26
        }
      ]
    },
    {
      "cell_type": "markdown",
      "metadata": {
        "id": "8gTMgntUPrDD"
      },
      "source": [
        "# Compiling the Model\n",
        "\n",
        "### Softmax cross-entropy loss\n",
        "\n",
        "After generating **logit** scores, one must define a method to: (1) convert logit scores to final prediction; (2) quantify the *goodness* of model prediction. These steps are performed mathematically with what is known as a loss function. For classification problems, the standard function to use is the **softmax cross-entropy** loss. This loss in fact is composed of two seperate steps:\n",
        "\n",
        "* **softmax**: method to normalize logit scores into a probability distribution\n",
        "* **cross-entropy**: method to quantify difference between predicted distribution and true distribution\n",
        "\n",
        "To define a softmax cross-entropy loss in Tensorflow, use the `losses.SparseCategoricalCrossentropy(...)` class. The sparse formulation is a special case of cross-entropy loss where only a single mutually exclusive class is correct for any given input. The `from_logits=True` argument is used to denote that raw logit scores are passed as input and that a softmax normalization is required before calculating cross-entropy loss. It is recommended to perform these two steps simultaneously rather than split into two seperate operations for numeric stability."
      ]
    },
    {
      "cell_type": "code",
      "execution_count": null,
      "metadata": {
        "id": "D_qCPxx1PrDD"
      },
      "outputs": [],
      "source": [
        "# --- Define a loss object\n",
        "sce = losses.SparseCategoricalCrossentropy(from_logits=True) #from_logit will do softmax and cross-entropy"
      ]
    },
    {
      "cell_type": "markdown",
      "metadata": {
        "id": "jsK0q0h7PrDE"
      },
      "source": [
        "For demonstration, use the following lines of code to calculate the loss for the generate logit scores of the current data batch:"
      ]
    },
    {
      "cell_type": "code",
      "execution_count": null,
      "metadata": {
        "id": "VWgpNb33PrDE",
        "colab": {
          "base_uri": "https://localhost:8080/"
        },
        "outputId": "bd4d2530-fb36-460e-f0d8-8fb7e6ade854"
      },
      "outputs": [
        {
          "output_type": "execute_result",
          "data": {
            "text/plain": [
              "<tf.Tensor: shape=(), dtype=float32, numpy=3.885454>"
            ]
          },
          "metadata": {},
          "execution_count": 28
        }
      ],
      "source": [
        "# --- Calculate loss\n",
        "sce(y_true=ys['digit'], y_pred=scores['digit'])"
      ]
    },
    {
      "cell_type": "markdown",
      "metadata": {
        "id": "YPwk2ctZPrDE"
      },
      "source": [
        "As training proceeds, the goal of the algorithm is to update weights in a manner such that this loss value decreases over time."
      ]
    },
    {
      "cell_type": "markdown",
      "metadata": {
        "id": "co_3AociPrDE"
      },
      "source": [
        "### Adam optimizer"
      ]
    },
    {
      "cell_type": "code",
      "execution_count": null,
      "metadata": {
        "id": "cAsxXKqWPrDE"
      },
      "outputs": [],
      "source": [
        "# --- Define an Adam optimizer\n",
        "optimizer = optimizers.Adam(learning_rate=1e-2)"
      ]
    },
    {
      "cell_type": "markdown",
      "metadata": {
        "id": "MwsboKQaPrDE"
      },
      "source": [
        "# Summary\n",
        "\n",
        "Putting everything together, use the following cell to define, create and compile the single-layer linear classifier model for the MNIST dataset:"
      ]
    },
    {
      "cell_type": "code",
      "execution_count": null,
      "metadata": {
        "id": "FZzxXHbYPrDE"
      },
      "outputs": [],
      "source": [
        "# --- Create model inputs\n",
        "inputs = client.get_inputs(Input)\n",
        "\n",
        "# --- Define model\n",
        "logits = {}\n",
        "logits['digit'] = layers.Dense(10, name='digit')(inputs['dat']) #creates operation and pass inputs into created operation layer and gets ouput in one line of code\n",
        "\n",
        "# --- Create model\n",
        "model = Model(inputs=inputs, outputs=logits)\n",
        "\n",
        "# --- Compile model\n",
        "model.compile(\n",
        "    optimizer=optimizer,\n",
        "    loss={'digit': sce},\n",
        "    metrics={'digit': 'sparse_categorical_accuracy'}) #metrics recapitulates the loss and shows how good the model is by showing a percent accuracy"
      ]
    },
    {
      "cell_type": "markdown",
      "metadata": {
        "id": "H6a7QfNKPrDE"
      },
      "source": [
        "Note that given the dictionary of potential output(s), each of which may have it's own separate loss function and/or accuracy metric:\n",
        "\n",
        "* loss must represent a dictionary of loss objects with keys matching `ys`\n",
        "* metrics must represent a dictionary of metrics with keys matching `ys`"
      ]
    },
    {
      "cell_type": "markdown",
      "metadata": {
        "id": "XBkIy3fIPrDE"
      },
      "source": [
        "# Model Training\n",
        "\n",
        "Once the model has been compiled and the data prepared (via a generator), training can be invoked using the `model.fit(...)` method. The only parameters that need to be set relate to the number of total training iterations (total number of steps = `steps_per_epoch` x `epochs`). "
      ]
    },
    {
      "cell_type": "code",
      "execution_count": null,
      "metadata": {
        "id": "iTi_KNlaPrDE",
        "colab": {
          "base_uri": "https://localhost:8080/"
        },
        "outputId": "45997e18-0e73-4b37-a297-618ec841b0af"
      },
      "outputs": [
        {
          "output_type": "stream",
          "name": "stdout",
          "text": [
            "Epoch 1/4\n",
            "250/250 [==============================] - 23s 91ms/step - loss: 1.0582 - sparse_categorical_accuracy: 0.8193\n",
            "Epoch 2/4\n",
            "250/250 [==============================] - 23s 90ms/step - loss: 0.5203 - sparse_categorical_accuracy: 0.8745\n",
            "Epoch 3/4\n",
            "250/250 [==============================] - 23s 92ms/step - loss: 0.5378 - sparse_categorical_accuracy: 0.8776\n",
            "Epoch 4/4\n",
            "250/250 [==============================] - 23s 90ms/step - loss: 0.6008 - sparse_categorical_accuracy: 0.8734\n"
          ]
        },
        {
          "output_type": "execute_result",
          "data": {
            "text/plain": [
              "<keras.callbacks.History at 0x7fc1743891d0>"
            ]
          },
          "metadata": {},
          "execution_count": 31
        }
      ],
      "source": [
        "model.fit(\n",
        "    x=gen_train, \n",
        "    steps_per_epoch=250, \n",
        "    epochs=4)"
      ]
    },
    {
      "cell_type": "markdown",
      "metadata": {
        "id": "WSkXy19bPrDE"
      },
      "source": [
        "### Evaluation\n",
        "\n",
        "To test the trained model, the following steps are required:\n",
        "\n",
        "* load data\n",
        "* use `model.predict(...)` to obtain logit scores\n",
        "* use `np.argmax(...)` to obtain prediction\n",
        "* compare prediction with ground-truth\n",
        "* serialize in Pandas DataFrame\n",
        "\n",
        "Recall that the generator used to train the model simply iterates through the dataset randomly. For model evaluation, the cohort must instead be loaded manually in an orderly way. For this tutorial, use the `client.get(rows=...)` method. Since there is no special train or valid split currently, simply load all 60,000 examples:"
      ]
    },
    {
      "cell_type": "code",
      "execution_count": null,
      "metadata": {
        "id": "bxGMM_RRPrDE"
      },
      "outputs": [],
      "source": [
        "# --- Load all data\n",
        "arrs = client.get(rows=np.arange(60000))"
      ]
    },
    {
      "cell_type": "markdown",
      "metadata": {
        "id": "KH8QmWMfPrDF"
      },
      "source": [
        "Use the following lines of code to run prediction:"
      ]
    },
    {
      "cell_type": "code",
      "execution_count": null,
      "metadata": {
        "id": "qd4g2U4wPrDF"
      },
      "outputs": [],
      "source": [
        "# --- Predict\n",
        "scores = model.predict(arrs['xs']['dat'])\n",
        "\n",
        "# --- Argmax\n",
        "pred = np.argmax(scores['digit'], axis=1)"
      ]
    },
    {
      "cell_type": "code",
      "source": [
        "pred.size"
      ],
      "metadata": {
        "colab": {
          "base_uri": "https://localhost:8080/"
        },
        "id": "NBcdUKQKhJXL",
        "outputId": "3e0a8823-2b73-4c11-883d-e9fe6c29c22e"
      },
      "execution_count": null,
      "outputs": [
        {
          "output_type": "execute_result",
          "data": {
            "text/plain": [
              "60000"
            ]
          },
          "metadata": {},
          "execution_count": 34
        }
      ]
    },
    {
      "cell_type": "code",
      "source": [
        "pred #all the predictions "
      ],
      "metadata": {
        "colab": {
          "base_uri": "https://localhost:8080/"
        },
        "id": "Le_557GThK_I",
        "outputId": "1069108a-14f4-4d22-edbf-c96f414db5d0"
      },
      "execution_count": null,
      "outputs": [
        {
          "output_type": "execute_result",
          "data": {
            "text/plain": [
              "array([5, 0, 4, ..., 5, 6, 9])"
            ]
          },
          "metadata": {},
          "execution_count": 35
        }
      ]
    },
    {
      "cell_type": "code",
      "source": [
        "arrs['ys'].keys()"
      ],
      "metadata": {
        "colab": {
          "base_uri": "https://localhost:8080/"
        },
        "id": "RytPi-TIhM7G",
        "outputId": "d0b61080-a44f-4ea3-a5cb-3febec202347"
      },
      "execution_count": null,
      "outputs": [
        {
          "output_type": "execute_result",
          "data": {
            "text/plain": [
              "dict_keys(['digit'])"
            ]
          },
          "metadata": {},
          "execution_count": 36
        }
      ]
    },
    {
      "cell_type": "code",
      "source": [
        "arrs['ys']['digit'].shape"
      ],
      "metadata": {
        "colab": {
          "base_uri": "https://localhost:8080/"
        },
        "id": "CPAqz-xrhS04",
        "outputId": "604d9f7c-19aa-4825-f1b4-d5073094fc41"
      },
      "execution_count": null,
      "outputs": [
        {
          "output_type": "execute_result",
          "data": {
            "text/plain": [
              "(60000, 1)"
            ]
          },
          "metadata": {},
          "execution_count": 37
        }
      ]
    },
    {
      "cell_type": "markdown",
      "metadata": {
        "id": "K_BMJ3nfPrDF"
      },
      "source": [
        "Prepare results in Pandas DataFrame for ease of analysis and sharing:"
      ]
    },
    {
      "cell_type": "code",
      "execution_count": null,
      "metadata": {
        "id": "_8wfJXNAPrDF",
        "colab": {
          "base_uri": "https://localhost:8080/"
        },
        "outputId": "332ce072-7bcc-4fdb-b88d-e5df392bc864"
      },
      "outputs": [
        {
          "output_type": "stream",
          "name": "stdout",
          "text": [
            "0.8886833333333334\n"
          ]
        }
      ],
      "source": [
        "df = pd.DataFrame(index=np.arange(60000))\n",
        "\n",
        "# --- Define columns\n",
        "df['true'] = arrs['ys']['digit'][:, 0]\n",
        "df['pred'] = pred\n",
        "df['corr'] = df['true'] == df['pred']\n",
        "\n",
        "# --- Print accuracy\n",
        "print(df['corr'].mean())"
      ]
    },
    {
      "cell_type": "code",
      "source": [
        "df['corr']"
      ],
      "metadata": {
        "colab": {
          "base_uri": "https://localhost:8080/"
        },
        "id": "01e038RshbQk",
        "outputId": "42179de5-36d3-4cac-92e9-5fc63abaab80"
      },
      "execution_count": null,
      "outputs": [
        {
          "output_type": "execute_result",
          "data": {
            "text/plain": [
              "0         True\n",
              "1         True\n",
              "2         True\n",
              "3         True\n",
              "4         True\n",
              "         ...  \n",
              "59995     True\n",
              "59996     True\n",
              "59997     True\n",
              "59998     True\n",
              "59999    False\n",
              "Name: corr, Length: 60000, dtype: bool"
            ]
          },
          "metadata": {},
          "execution_count": 39
        }
      ]
    },
    {
      "cell_type": "code",
      "source": [
        "df['corr'].mean()"
      ],
      "metadata": {
        "colab": {
          "base_uri": "https://localhost:8080/"
        },
        "id": "2ezPR-pRhizb",
        "outputId": "8c4a42ba-f4a8-438e-8ec9-1213f5f52e59"
      },
      "execution_count": null,
      "outputs": [
        {
          "output_type": "execute_result",
          "data": {
            "text/plain": [
              "0.8886833333333334"
            ]
          },
          "metadata": {},
          "execution_count": 40
        }
      ]
    },
    {
      "cell_type": "markdown",
      "metadata": {
        "id": "_lIbKFQsPrDF"
      },
      "source": [
        "# Visualization\n",
        "\n",
        "What are the expected weights learned by the model? Use the following lines of code to visualize:"
      ]
    },
    {
      "cell_type": "code",
      "execution_count": null,
      "metadata": {
        "id": "lshT1_FVPrDF",
        "colab": {
          "base_uri": "https://localhost:8080/",
          "height": 411
        },
        "outputId": "1451e20b-ac61-4529-9dbd-07b2e05ba63f"
      },
      "outputs": [
        {
          "output_type": "display_data",
          "data": {
            "image/png": "[encoded data removed]",
            "text/plain": [
              "<Figure size 504x504 with 1 Axes>"
            ]
          },
          "metadata": {
            "needs_background": "light"
          }
        }
      ],
      "source": [
        "# --- Get weights of first layer\n",
        "weights = model.layers[1].get_weights()[0]\n",
        "\n",
        "# --- Show\n",
        "imshow(weights.T.reshape(-1, 28, 28))"
      ]
    },
    {
      "cell_type": "markdown",
      "metadata": {
        "id": "sczWDicoPrDF"
      },
      "source": [
        "## Saving and Loading a Model\n",
        "\n",
        "After a model has been successfully trained, it can be saved and/or loaded by simply using the `model.save()` and `models.load_model()` methods. "
      ]
    },
    {
      "cell_type": "code",
      "execution_count": null,
      "metadata": {
        "id": "eAvpByZwPrDF",
        "colab": {
          "base_uri": "https://localhost:8080/"
        },
        "outputId": "df5b64b2-b303-4530-995f-e763d0f2d945"
      },
      "outputs": [
        {
          "output_type": "stream",
          "name": "stdout",
          "text": [
            "WARNING:tensorflow:Compiled the loaded model, but the compiled metrics have yet to be built. `model.compile_metrics` will be empty until you train or evaluate the model.\n"
          ]
        }
      ],
      "source": [
        "# --- Serialize a model\n",
        "model.save('./mlp.hdf5')"
      ]
    },
    {
      "cell_type": "code",
      "execution_count": null,
      "metadata": {
        "id": "J31mumGUPrDF"
      },
      "outputs": [],
      "source": [
        "# --- Load a serialized model\n",
        "del model\n",
        "model = models.load_model('./mlp.hdf5', compile=False)"
      ]
    },
    {
      "cell_type": "markdown",
      "metadata": {
        "id": "kBX-n6pyPrDF"
      },
      "source": [
        "# Exercises\n",
        "\n",
        "The following exercise questions will assist in preparation for this lesson's assignment, to extend our single-layer linear classifier into a multilayer perceptron."
      ]
    },
    {
      "cell_type": "markdown",
      "metadata": {
        "id": "9_ycAhgvPrDF"
      },
      "source": [
        "### Exercise 1\n",
        "\n",
        "The key to synthesizing multiple layers is the addition of activation functions after each matrix multiplication. How do you add a **relu** activation to the `layers.Dense(...)` call? \n",
        "\n",
        "Use the following cell to experiment:"
      ]
    },
    {
      "cell_type": "code",
      "execution_count": null,
      "metadata": {
        "id": "NDZI1TtwPrDF"
      },
      "outputs": [],
      "source": [
        "logits = layers.Dense(10, activation = 'relu', name='digit')(inputs['dat'])"
      ]
    },
    {
      "cell_type": "markdown",
      "metadata": {
        "id": "aKzk-kDvPrDF"
      },
      "source": [
        "#### Hints\n",
        "\n",
        "Use the Jupyter / iPython `?` command to see function and class initialization signatures:"
      ]
    },
    {
      "cell_type": "code",
      "execution_count": null,
      "metadata": {
        "id": "HXrPjMVEPrDF"
      },
      "outputs": [],
      "source": [
        "layers.Dense?"
      ]
    },
    {
      "cell_type": "markdown",
      "metadata": {
        "id": "KRAfI9oCPrDF"
      },
      "source": [
        "### Exercise 2\n",
        "\n",
        "All hidden layers require an activation function, however the last layer (e.g. the layer that yields the final logit scores) **does not**. Why is this so?\n",
        "\n",
        "Create a single hidden layer neural network below, ensuring that the last layer does not have any activation function:"
      ]
    },
    {
      "cell_type": "code",
      "execution_count": null,
      "metadata": {
        "id": "msp19eapPrDF"
      },
      "outputs": [],
      "source": [
        "# --- Define hidden layer size\n",
        "#hidden_size = \n",
        "\n",
        "# --- Define network\n",
        "hidden = layers.Dense(350, activation='relu')(inputs['dat'])\n",
        "logits = layers.Dense(10, name='digit')(hidden) "
      ]
    },
    {
      "cell_type": "markdown",
      "metadata": {
        "id": "27hB3bh6PrDG"
      },
      "source": [
        "#### Hints\n",
        "\n",
        "If defined correctly, the model **logit scores** should return values that are both negative and positive. If the `ReLU` activation was accidently applied to the last layer, the logit scores should only be positive. How do we check for this?"
      ]
    },
    {
      "cell_type": "code",
      "execution_count": null,
      "metadata": {
        "id": "F_IrRElPPrDG"
      },
      "outputs": [],
      "source": [
        "# --- Create the model\n",
        "model = Model(inputs=inputs, outputs=logits)"
      ]
    },
    {
      "cell_type": "code",
      "source": [
        "w, b = op.get_weights()\n",
        "w.shape"
      ],
      "metadata": {
        "colab": {
          "base_uri": "https://localhost:8080/"
        },
        "id": "6wAjTwU42_Tp",
        "outputId": "9e6e0482-1b23-45c0-e983-4e135b0df5c2"
      },
      "execution_count": null,
      "outputs": [
        {
          "output_type": "execute_result",
          "data": {
            "text/plain": [
              "(784, 10)"
            ]
          },
          "metadata": {},
          "execution_count": 48
        }
      ]
    },
    {
      "cell_type": "code",
      "source": [
        "b.shape"
      ],
      "metadata": {
        "colab": {
          "base_uri": "https://localhost:8080/"
        },
        "id": "T9AXLJxF3Aw1",
        "outputId": "f9454487-6a63-4f05-bcc8-a507dec7291e"
      },
      "execution_count": null,
      "outputs": [
        {
          "output_type": "execute_result",
          "data": {
            "text/plain": [
              "(10,)"
            ]
          },
          "metadata": {},
          "execution_count": 49
        }
      ]
    },
    {
      "cell_type": "code",
      "execution_count": null,
      "metadata": {
        "id": "6PfZIdz3PrDG",
        "colab": {
          "base_uri": "https://localhost:8080/"
        },
        "outputId": "ef5ef3fc-8fc6-4488-f502-540b8b90878f"
      },
      "outputs": [
        {
          "output_type": "stream",
          "name": "stdout",
          "text": [
            "[[ 4.22514153e+00 -1.44488657e+00  1.87238407e+00 ... -2.46186543e+00\n",
            "  -2.15022087e+00  2.08985901e+00]\n",
            " [ 2.25170135e+00 -1.89384604e+00 -8.49907100e-01 ... -9.48669910e-01\n",
            "  -4.14025784e-03  1.69385147e+00]\n",
            " [ 6.82925224e-01  6.13607287e-01  6.32457376e-01 ... -1.19430125e+00\n",
            "   4.89405036e-01  7.06534266e-01]\n",
            " ...\n",
            " [ 5.85571766e+00 -1.04787147e+00  3.96458387e-01 ...  2.91894007e+00\n",
            "   1.00359023e-01  3.18632412e+00]\n",
            " [ 9.04066563e-01 -2.82225192e-01 -3.96924496e-01 ... -4.36955571e-01\n",
            "   1.33879185e-02  1.38364398e+00]\n",
            " [ 3.32911062e+00 -2.64329791e-01 -1.85595131e+00 ...  4.46972370e-01\n",
            "  -6.32117391e-01 -7.76379347e-01]]\n"
          ]
        }
      ],
      "source": [
        "# --- Pass an example xs input into the model\n",
        "xs, ys = next(gen_train)\n",
        "scores = model.predict(arrs['xs']['dat'])\n",
        "scores = model.predict(xs['dat'])\n",
        "\n",
        "# --- Print scores\n",
        "print(scores)"
      ]
    }
  ],
  "metadata": {
    "kernelspec": {
      "display_name": "Python 3",
      "language": "python",
      "name": "python3"
    },
    "language_info": {
      "codemirror_mode": {
        "name": "ipython",
        "version": 3
      },
      "file_extension": ".py",
      "mimetype": "text/x-python",
      "name": "python",
      "nbconvert_exporter": "python",
      "pygments_lexer": "ipython3",
      "version": "3.6.12"
    },
    "colab": {
      "name": "tutorial 2 CS190.ipynb",
      "provenance": []
    }
  },
  "nbformat": 4,
  "nbformat_minor": 0
}