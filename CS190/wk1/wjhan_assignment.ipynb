{
  "cells": [
    {
      "cell_type": "markdown",
      "metadata": {
        "id": "lGgDqCZc-B0O"
      },
      "source": [
        "# Assignment\n",
        "\n",
        "In this assignment we will train a multiple (multivariable) linear regression model, extending the single variable linear regression model in the tutorial. \n",
        "\n",
        "This assignment is part of the class **Introduction to Deep Learning for Medical Imaging** at University of California Irvine (CS190); more information can be found: https://github.com/peterchang77/dl_tutor/tree/master/cs190."
      ]
    },
    {
      "cell_type": "markdown",
      "metadata": {
        "id": "If5QdyBo-B0S"
      },
      "source": [
        "### Submission\n",
        "\n",
        "Once complete, the following items must be submitted:\n",
        "\n",
        "* final `*.ipynb` notebook\n",
        "* final trained `*.hdf5` model file"
      ]
    },
    {
      "cell_type": "markdown",
      "metadata": {
        "id": "56d3oMiMw8Wm"
      },
      "source": [
        "# Google Colab\n",
        "\n",
        "The following lines of code will configure your Google Colab environment for this assignment."
      ]
    },
    {
      "cell_type": "markdown",
      "metadata": {
        "id": "vwqiTO1Z-B0T"
      },
      "source": [
        "### Enable GPU runtime\n",
        "\n",
        "Use the following instructions to switch the default Colab instance into a GPU-enabled runtime:\n",
        "\n",
        "```\n",
        "Runtime > Change runtime type > Hardware accelerator > GPU\n",
        "```"
      ]
    },
    {
      "cell_type": "markdown",
      "metadata": {
        "id": "HpJGHr5j-B0U"
      },
      "source": [
        "# Environment\n",
        "\n",
        "Use the following lines to import any needed libraries:"
      ]
    },
    {
      "cell_type": "code",
      "execution_count": 2,
      "metadata": {
        "id": "ePmBtOpN-B0U"
      },
      "outputs": [],
      "source": [
        "import os, numpy as np\n",
        "from tensorflow import losses, optimizers, keras\n",
        "from tensorflow.keras import Input, Model, models, layers"
      ]
    },
    {
      "cell_type": "markdown",
      "metadata": {
        "id": "VaSy-bse-B0V"
      },
      "source": [
        "# Data\n",
        "\n",
        "As in the tutorial, data for this assignment will be simulated via a Python generator:"
      ]
    },
    {
      "cell_type": "code",
      "execution_count": 3,
      "metadata": {
        "id": "rhbWLeLj-B0W"
      },
      "outputs": [],
      "source": [
        "def Generator(batch_size=128):\n",
        "    \"\"\"\n",
        "    Method to define a Python generator for training data\n",
        "    \n",
        "    \"\"\"\n",
        "    # --- Define lambda function for random values [-0.5, +0.5]\n",
        "    lo = -0.5\n",
        "    hi = +0.5\n",
        "    rand = lambda shape : np.random.rand(*shape) * (hi - lo) + lo\n",
        "    \n",
        "    # --- Define lambda function for linear transform\n",
        "    m = np.array([0.2, 0.8, -0.3, 0.4, -0.5]).reshape(5, 1)\n",
        "    b = 0.7\n",
        "    f = lambda x : np.matmul(x, m) + b + rand((x.shape[0], 1))\n",
        "    \n",
        "    while True:\n",
        "        \n",
        "        x = np.random.rand(batch_size, 5)\n",
        "        y = f(x)\n",
        "        \n",
        "        yield {'x': x, 'y': y}"
      ]
    },
    {
      "cell_type": "markdown",
      "metadata": {
        "id": "VtaFBJ7t-B0X"
      },
      "source": [
        "**Imporant**: do *not* change the code for the above Generator to ensure that your results are consistent."
      ]
    },
    {
      "cell_type": "markdown",
      "metadata": {
        "id": "mXVE9vEY-B0X"
      },
      "source": [
        "# Training\n",
        "\n",
        "In this assignment we will train a multiple (multivariable) linear regression model, extending the single variable linear regression model in the tutorial The provided input to the model will comprise of a five-element vector, and the output will be a single-element numeric prediction.  "
      ]
    },
    {
      "cell_type": "markdown",
      "metadata": {
        "id": "71Lqezn--B0Y"
      },
      "source": [
        "### Define the backbone model"
      ]
    },
    {
      "cell_type": "code",
      "source": [
        "gen_train = Generator()"
      ],
      "metadata": {
        "id": "Be7hYCAB-Y0t"
      },
      "execution_count": 4,
      "outputs": []
    },
    {
      "cell_type": "code",
      "execution_count": 5,
      "metadata": {
        "id": "E8xRtrRW-B0Y"
      },
      "outputs": [],
      "source": [
        "# --- Define backbone model\n",
        "x = Input(shape = (5,))\n",
        "op = layers.Dense(1)\n",
        "y = op(x)\n",
        "backbone = Model(inputs=x, outputs=y)"
      ]
    },
    {
      "cell_type": "markdown",
      "metadata": {
        "id": "arRGGePc-B0Y"
      },
      "source": [
        "### Define the training model "
      ]
    },
    {
      "cell_type": "code",
      "execution_count": 6,
      "metadata": {
        "id": "jcTI38Pz-B0Y"
      },
      "outputs": [],
      "source": [
        "# --- Define inputs and y_pred\n",
        "inputs = {\n",
        "    'x': Input(shape=(5,), name = 'x'),\n",
        "    'y': Input(shape= (1,), name = 'y')\n",
        "}\n",
        "y_pred = backbone(inputs['x'])"
      ]
    },
    {
      "cell_type": "code",
      "execution_count": 7,
      "metadata": {
        "id": "1FttkLKt-B0Z"
      },
      "outputs": [],
      "source": [
        "# --- Define loss\n",
        "loss = ((inputs['y']-y_pred) **2)"
      ]
    },
    {
      "cell_type": "code",
      "execution_count": 8,
      "metadata": {
        "id": "HJPRMDPh-B0Z"
      },
      "outputs": [],
      "source": [
        "# --- Define training model\n",
        "training = Model(inputs=inputs, outputs={'y_pred': y_pred, 'loss': loss})\n",
        "training.add_loss(loss)"
      ]
    },
    {
      "cell_type": "code",
      "source": [
        "training.summary()"
      ],
      "metadata": {
        "colab": {
          "base_uri": "https://localhost:8080/"
        },
        "id": "Qhm0_FjsFLML",
        "outputId": "5f1ca5a7-14cd-4820-f5bd-fbc1fe9c4f66"
      },
      "execution_count": 9,
      "outputs": [
        {
          "output_type": "stream",
          "name": "stdout",
          "text": [
            "Model: \"model_1\"\n",
            "__________________________________________________________________________________________________\n",
            " Layer (type)                   Output Shape         Param #     Connected to                     \n",
            "==================================================================================================\n",
            " x (InputLayer)                 [(None, 5)]          0           []                               \n",
            "                                                                                                  \n",
            " y (InputLayer)                 [(None, 1)]          0           []                               \n",
            "                                                                                                  \n",
            " model (Functional)             (None, 1)            6           ['x[0][0]']                      \n",
            "                                                                                                  \n",
            " tf.math.subtract (TFOpLambda)  (None, 1)            0           ['y[0][0]',                      \n",
            "                                                                  'model[0][0]']                  \n",
            "                                                                                                  \n",
            " tf.math.pow (TFOpLambda)       (None, 1)            0           ['tf.math.subtract[0][0]']       \n",
            "                                                                                                  \n",
            " add_loss (AddLoss)             (None, 1)            0           ['tf.math.pow[0][0]']            \n",
            "                                                                                                  \n",
            "==================================================================================================\n",
            "Total params: 6\n",
            "Trainable params: 6\n",
            "Non-trainable params: 0\n",
            "__________________________________________________________________________________________________\n"
          ]
        }
      ]
    },
    {
      "cell_type": "markdown",
      "metadata": {
        "id": "upMdaxv9-B0Z"
      },
      "source": [
        "### Compile the model"
      ]
    },
    {
      "cell_type": "code",
      "execution_count": 10,
      "metadata": {
        "id": "Up4gUusq-B0Z"
      },
      "outputs": [],
      "source": [
        "# --- Define loss and optimizer\n",
        "optimizer = optimizers.Adam(learning_rate=1e-3)\n",
        "\n",
        "# --- Compile model\n",
        "training.compile(optimizer=optimizer)"
      ]
    },
    {
      "cell_type": "markdown",
      "metadata": {
        "id": "Rd8tMiRg-B0Z"
      },
      "source": [
        "### Train the model"
      ]
    },
    {
      "cell_type": "code",
      "execution_count": 11,
      "metadata": {
        "id": "p2C7ccrT-B0a",
        "colab": {
          "base_uri": "https://localhost:8080/"
        },
        "outputId": "77a6cff9-923e-42a9-b585-88a8a211c3a3"
      },
      "outputs": [
        {
          "output_type": "stream",
          "name": "stdout",
          "text": [
            "Epoch 1/20\n",
            "500/500 [==============================] - 2s 2ms/step - loss: 0.6572\n",
            "Epoch 2/20\n",
            "500/500 [==============================] - 1s 2ms/step - loss: 0.1761\n",
            "Epoch 3/20\n",
            "500/500 [==============================] - 1s 2ms/step - loss: 0.1458\n",
            "Epoch 4/20\n",
            "500/500 [==============================] - 1s 2ms/step - loss: 0.1229\n",
            "Epoch 5/20\n",
            "500/500 [==============================] - 1s 2ms/step - loss: 0.1049\n",
            "Epoch 6/20\n",
            "500/500 [==============================] - 1s 2ms/step - loss: 0.0933\n",
            "Epoch 7/20\n",
            "500/500 [==============================] - 1s 2ms/step - loss: 0.0873\n",
            "Epoch 8/20\n",
            "500/500 [==============================] - 1s 2ms/step - loss: 0.0855\n",
            "Epoch 9/20\n",
            "500/500 [==============================] - 1s 2ms/step - loss: 0.0838\n",
            "Epoch 10/20\n",
            "500/500 [==============================] - 1s 2ms/step - loss: 0.0834\n",
            "Epoch 11/20\n",
            "500/500 [==============================] - 1s 2ms/step - loss: 0.0833\n",
            "Epoch 12/20\n",
            "500/500 [==============================] - 1s 2ms/step - loss: 0.0835\n",
            "Epoch 13/20\n",
            "500/500 [==============================] - 1s 2ms/step - loss: 0.0836\n",
            "Epoch 14/20\n",
            "500/500 [==============================] - 1s 2ms/step - loss: 0.0837\n",
            "Epoch 15/20\n",
            "500/500 [==============================] - 1s 2ms/step - loss: 0.0839\n",
            "Epoch 16/20\n",
            "500/500 [==============================] - 1s 2ms/step - loss: 0.0833\n",
            "Epoch 17/20\n",
            "500/500 [==============================] - 1s 2ms/step - loss: 0.0837\n",
            "Epoch 18/20\n",
            "500/500 [==============================] - 1s 2ms/step - loss: 0.0837\n",
            "Epoch 19/20\n",
            "500/500 [==============================] - 1s 2ms/step - loss: 0.0838\n",
            "Epoch 20/20\n",
            "500/500 [==============================] - 1s 2ms/step - loss: 0.0834\n"
          ]
        },
        {
          "output_type": "execute_result",
          "data": {
            "text/plain": [
              "<keras.callbacks.History at 0x7f538aa36bd0>"
            ]
          },
          "metadata": {},
          "execution_count": 11
        }
      ],
      "source": [
        "training.fit(\n",
        "    x=gen_train, \n",
        "    steps_per_epoch=500, \n",
        "    epochs=20)"
      ]
    },
    {
      "cell_type": "markdown",
      "metadata": {
        "id": "40QQz9qH-B0a"
      },
      "source": [
        "# Evaluation\n",
        "\n",
        "Based on the tutorial discussion, use the following cells to check your algorithm performance. Consider loading a saved model and running prediction using `training.predict(...)` on a batch (or several batches) of data. "
      ]
    },
    {
      "cell_type": "code",
      "source": [
        "data = next(gen_train)"
      ],
      "metadata": {
        "id": "z-AcQcDkDdLg"
      },
      "execution_count": 12,
      "outputs": []
    },
    {
      "cell_type": "code",
      "source": [
        "data['x'].shape"
      ],
      "metadata": {
        "colab": {
          "base_uri": "https://localhost:8080/"
        },
        "id": "YFJ8gwEvPEI9",
        "outputId": "797dfd9b-e815-4842-8331-2db48eb8f80f"
      },
      "execution_count": 13,
      "outputs": [
        {
          "output_type": "execute_result",
          "data": {
            "text/plain": [
              "(128, 5)"
            ]
          },
          "metadata": {},
          "execution_count": 13
        }
      ]
    },
    {
      "cell_type": "code",
      "execution_count": 14,
      "metadata": {
        "id": "V8Nj28g_-B0a",
        "colab": {
          "base_uri": "https://localhost:8080/"
        },
        "outputId": "5e5296d2-3109-4a76-cf86-0ef9846af7c8"
      },
      "outputs": [
        {
          "output_type": "execute_result",
          "data": {
            "text/plain": [
              "0.08021622769596364"
            ]
          },
          "metadata": {},
          "execution_count": 14
        }
      ],
      "source": [
        "np.mean((training.predict(data)['y_pred'] - data['y']) **2)"
      ]
    },
    {
      "cell_type": "code",
      "source": [
        "data['x'].shape"
      ],
      "metadata": {
        "colab": {
          "base_uri": "https://localhost:8080/"
        },
        "id": "BLZPYWrRGEpv",
        "outputId": "d7959112-d0ed-4883-9fd3-a8ddf0ca22a9"
      },
      "execution_count": 15,
      "outputs": [
        {
          "output_type": "execute_result",
          "data": {
            "text/plain": [
              "(128, 5)"
            ]
          },
          "metadata": {},
          "execution_count": 15
        }
      ]
    },
    {
      "cell_type": "code",
      "source": [
        "np.mean(training.predict(data)['loss'])"
      ],
      "metadata": {
        "colab": {
          "base_uri": "https://localhost:8080/"
        },
        "id": "zaORCOP_Dhjc",
        "outputId": "f42d0785-3035-47fb-82a2-841c72cff4d3"
      },
      "execution_count": 16,
      "outputs": [
        {
          "output_type": "execute_result",
          "data": {
            "text/plain": [
              "0.08021623"
            ]
          },
          "metadata": {},
          "execution_count": 16
        }
      ]
    },
    {
      "cell_type": "markdown",
      "metadata": {
        "id": "TDOnquz2-B0a"
      },
      "source": [
        "# Submission\n",
        "\n",
        "Use the following line to save your `backbone` model for submission:"
      ]
    },
    {
      "cell_type": "code",
      "execution_count": 17,
      "metadata": {
        "id": "h4NVxT5f-B0a",
        "colab": {
          "base_uri": "https://localhost:8080/"
        },
        "outputId": "ba96f5eb-740e-42c6-93ce-ff69a6e880cb"
      },
      "outputs": [
        {
          "output_type": "stream",
          "name": "stdout",
          "text": [
            "WARNING:tensorflow:Compiled the loaded model, but the compiled metrics have yet to be built. `model.compile_metrics` will be empty until you train or evaluate the model.\n"
          ]
        }
      ],
      "source": [
        "# --- Serialize a model\n",
        "fname = './wjhan_model.hdf5'\n",
        "backbone.save(fname)"
      ]
    },
    {
      "cell_type": "markdown",
      "metadata": {
        "id": "21hAD4KW-B0a"
      },
      "source": [
        "### Canvas\n",
        "\n",
        "Once you have completed this assignment, download the necessary files from Google Colab and your Google Drive. You will then need to submit the following items:\n",
        "\n",
        "* final (completed) notebook: `[UCInetID]_assignment.ipynb`\n",
        "* final (trained) model: `[UCInetID]_model.hdf5`\n",
        "\n",
        "**Important**: please submit all your files prefixed with your UCInetID as listed above. Your UCInetID is the part of your UCI email address that comes before `@uci.edu`. For example, Peter Anteater has an email address of panteater@uci.edu, so his notebooked file would be submitted under the name `panteater_notebook.ipynb` and his model file would be submitted under the name `panteater_model.hdf5`."
      ]
    }
  ],
  "metadata": {
    "kernelspec": {
      "display_name": "Python 3",
      "language": "python",
      "name": "python3"
    },
    "language_info": {
      "codemirror_mode": {
        "name": "ipython",
        "version": 3
      },
      "file_extension": ".py",
      "mimetype": "text/x-python",
      "name": "python",
      "nbconvert_exporter": "python",
      "pygments_lexer": "ipython3",
      "version": "3.8.5"
    },
    "colab": {
      "name": "wjhan_assignment.ipynb",
      "provenance": [],
      "collapsed_sections": []
    }
  },
  "nbformat": 4,
  "nbformat_minor": 0
}