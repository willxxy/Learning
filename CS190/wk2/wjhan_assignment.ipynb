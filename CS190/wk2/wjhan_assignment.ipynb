{
  "cells": [
    {
      "cell_type": "markdown",
      "metadata": {
        "id": "DDyWNmu6rAG_"
      },
      "source": [
        "# Assignment\n",
        "\n",
        "In this assignment we will train a multilayer perceptron model on the MNIST dataset, extending the linear (single-layer) classifier in the tutorial. \n",
        "\n",
        "This assignment is part of the class **Introduction to Deep Learning for Medical Imaging** at University of California Irvine (CS190); more information can be found: https://github.com/peterchang77/dl_tutor/tree/master/cs190."
      ]
    },
    {
      "cell_type": "markdown",
      "metadata": {
        "id": "Nwk3Ee5zrAHB"
      },
      "source": [
        "### Submission\n",
        "\n",
        "Once complete, the following items must be submitted:\n",
        "\n",
        "* final `*.ipynb` notebook\n",
        "* final trained `*.hdf5` model file"
      ]
    },
    {
      "cell_type": "markdown",
      "metadata": {
        "id": "56d3oMiMw8Wm"
      },
      "source": [
        "# Google Colab"
      ]
    },
    {
      "cell_type": "markdown",
      "metadata": {
        "id": "W8m07_UprAHB"
      },
      "source": [
        "### Enable GPU runtime\n",
        "\n",
        "Use the following instructions to switch the default Colab instance into a GPU-enabled runtime:\n",
        "\n",
        "```\n",
        "Runtime > Change runtime type > Hardware accelerator > GPU\n",
        "```"
      ]
    },
    {
      "cell_type": "markdown",
      "metadata": {
        "id": "H0lrldALrAHB"
      },
      "source": [
        "# Environment"
      ]
    },
    {
      "cell_type": "markdown",
      "metadata": {
        "id": "BTg_UZt7rAHB"
      },
      "source": [
        "### Jarvis library\n",
        "\n",
        "In this notebook we will Jarvis, a custom Python package to facilitate data science and deep learning for healthcare. Among other things, this library will be used for low-level data management, stratification and visualization of high-dimensional medical data."
      ]
    },
    {
      "cell_type": "code",
      "execution_count": 1,
      "metadata": {
        "id": "IHm0wKYgrAHC",
        "colab": {
          "base_uri": "https://localhost:8080/"
        },
        "outputId": "2a05aced-23b8-4dab-c593-3640d189b1d3"
      },
      "outputs": [
        {
          "output_type": "stream",
          "name": "stdout",
          "text": [
            "Collecting jarvis-md\n",
            "  Downloading jarvis_md-0.0.1a17-py3-none-any.whl (89 kB)\n",
            "\u001b[K     |████████████████████████████████| 89 kB 4.4 MB/s \n",
            "\u001b[?25hCollecting pyyaml>=5.2\n",
            "  Downloading PyYAML-6.0-cp37-cp37m-manylinux_2_5_x86_64.manylinux1_x86_64.manylinux_2_12_x86_64.manylinux2010_x86_64.whl (596 kB)\n",
            "\u001b[K     |████████████████████████████████| 596 kB 35.4 MB/s \n",
            "\u001b[?25hRequirement already satisfied: pandas in /usr/local/lib/python3.7/dist-packages (from jarvis-md) (1.3.5)\n",
            "Requirement already satisfied: matplotlib in /usr/local/lib/python3.7/dist-packages (from jarvis-md) (3.2.2)\n",
            "Requirement already satisfied: h5py in /usr/local/lib/python3.7/dist-packages (from jarvis-md) (3.1.0)\n",
            "Requirement already satisfied: numpy in /usr/local/lib/python3.7/dist-packages (from jarvis-md) (1.21.5)\n",
            "Requirement already satisfied: scipy in /usr/local/lib/python3.7/dist-packages (from jarvis-md) (1.4.1)\n",
            "Requirement already satisfied: requests in /usr/local/lib/python3.7/dist-packages (from jarvis-md) (2.23.0)\n",
            "Requirement already satisfied: cached-property in /usr/local/lib/python3.7/dist-packages (from h5py->jarvis-md) (1.5.2)\n",
            "Requirement already satisfied: python-dateutil>=2.1 in /usr/local/lib/python3.7/dist-packages (from matplotlib->jarvis-md) (2.8.2)\n",
            "Requirement already satisfied: cycler>=0.10 in /usr/local/lib/python3.7/dist-packages (from matplotlib->jarvis-md) (0.11.0)\n",
            "Requirement already satisfied: kiwisolver>=1.0.1 in /usr/local/lib/python3.7/dist-packages (from matplotlib->jarvis-md) (1.4.0)\n",
            "Requirement already satisfied: pyparsing!=2.0.4,!=2.1.2,!=2.1.6,>=2.0.1 in /usr/local/lib/python3.7/dist-packages (from matplotlib->jarvis-md) (3.0.7)\n",
            "Requirement already satisfied: typing-extensions in /usr/local/lib/python3.7/dist-packages (from kiwisolver>=1.0.1->matplotlib->jarvis-md) (3.10.0.2)\n",
            "Requirement already satisfied: six>=1.5 in /usr/local/lib/python3.7/dist-packages (from python-dateutil>=2.1->matplotlib->jarvis-md) (1.15.0)\n",
            "Requirement already satisfied: pytz>=2017.3 in /usr/local/lib/python3.7/dist-packages (from pandas->jarvis-md) (2018.9)\n",
            "Requirement already satisfied: urllib3!=1.25.0,!=1.25.1,<1.26,>=1.21.1 in /usr/local/lib/python3.7/dist-packages (from requests->jarvis-md) (1.24.3)\n",
            "Requirement already satisfied: certifi>=2017.4.17 in /usr/local/lib/python3.7/dist-packages (from requests->jarvis-md) (2021.10.8)\n",
            "Requirement already satisfied: idna<3,>=2.5 in /usr/local/lib/python3.7/dist-packages (from requests->jarvis-md) (2.10)\n",
            "Requirement already satisfied: chardet<4,>=3.0.2 in /usr/local/lib/python3.7/dist-packages (from requests->jarvis-md) (3.0.4)\n",
            "Installing collected packages: pyyaml, jarvis-md\n",
            "  Attempting uninstall: pyyaml\n",
            "    Found existing installation: PyYAML 3.13\n",
            "    Uninstalling PyYAML-3.13:\n",
            "      Successfully uninstalled PyYAML-3.13\n",
            "Successfully installed jarvis-md-0.0.1a17 pyyaml-6.0\n"
          ]
        }
      ],
      "source": [
        "# --- Install jarvis (only in Google Colab or local runtime)\n",
        "% pip install jarvis-md"
      ]
    },
    {
      "cell_type": "markdown",
      "metadata": {
        "id": "SnC-vqg9rAHC"
      },
      "source": [
        "### Imports\n",
        "\n",
        "Use the following lines to import any additional needed libraries:"
      ]
    },
    {
      "cell_type": "code",
      "execution_count": 30,
      "metadata": {
        "id": "bmxTyYbrrAHD"
      },
      "outputs": [],
      "source": [
        "import numpy as np, pandas as pd\n",
        "from tensorflow.keras import Input, Model, models, layers, losses, metrics, optimizers\n",
        "from jarvis.train import datasets\n",
        "from jarvis.utils.display import imshow"
      ]
    },
    {
      "cell_type": "markdown",
      "metadata": {
        "id": "c2yvZyqKrAHD"
      },
      "source": [
        "# Data\n",
        "\n",
        "As in the tutorial, data for this assignment will consist of the MNIST handwritten digit dataset. The following lines of code will:\n",
        "\n",
        "1. Download the dataset (if not already present) \n",
        "2. Prepare the necessary Python generators to iterate through dataset\n",
        "3. Prepare the corresponding Tensorflow Input(...) objects for model definition"
      ]
    },
    {
      "cell_type": "code",
      "execution_count": 3,
      "metadata": {
        "id": "XbyiPetmrAHD",
        "colab": {
          "base_uri": "https://localhost:8080/"
        },
        "outputId": "0c331f11-b7a7-419d-b916-6d97d80cdffe"
      },
      "outputs": [
        {
          "output_type": "stream",
          "name": "stdout",
          "text": [
            "[ 2022-04-08 00:58:02 ] [====================] 100.000% : Iterating | 000001    "
          ]
        }
      ],
      "source": [
        "# --- Download dataset\n",
        "datasets.download(name='mnist')\n",
        "\n",
        "# --- Prepare generators and model inputs\n",
        "gen_train, _, client = datasets.prepare(name='mnist', custom_layers=True)"
      ]
    },
    {
      "cell_type": "markdown",
      "metadata": {
        "id": "aXe7UWKsrAHE"
      },
      "source": [
        "**Note**: There is no need to change the above code for this assignment."
      ]
    },
    {
      "cell_type": "markdown",
      "metadata": {
        "id": "pbzHNYmGrAHE"
      },
      "source": [
        "# Training\n",
        "\n",
        "In this assignment we will train a multilayer perceptron, e.g. a simple neural network with at least one hidden layer. Be creative; feel free to try various permutations of: \n",
        "\n",
        "* number(s) of hidden layer(s)\n",
        "* size of hidden layer(s)\n",
        "* learning rate\n",
        "* training iterations "
      ]
    },
    {
      "cell_type": "markdown",
      "metadata": {
        "id": "lWy3SJHJrAHE"
      },
      "source": [
        "### Define backbone model"
      ]
    },
    {
      "cell_type": "code",
      "execution_count": 48,
      "metadata": {
        "id": "8oU8TzUUrAHE"
      },
      "outputs": [],
      "source": [
        "# --- Define input\n",
        "x = Input(shape=784, dtype='float32')\n",
        "\n",
        "# --- Define model\n",
        "h1 = layers.Dense(392, activation = 'relu')(x)\n",
        "h2 = layers.Dense(196, activation = 'relu')(h1)\n",
        "h3 = layers.Dense(98, activation = 'relu')(h2)\n",
        "\n",
        "logits = layers.Dense(10)(h3)\n",
        "\n",
        "# --- Create model\n",
        "backbone = Model(inputs=x, outputs=logits)"
      ]
    },
    {
      "cell_type": "code",
      "source": [
        "h1.shape"
      ],
      "metadata": {
        "colab": {
          "base_uri": "https://localhost:8080/"
        },
        "id": "0ENDSFmfr3yg",
        "outputId": "ecd83a6b-2762-4f13-df89-e192fa6f9156"
      },
      "execution_count": 49,
      "outputs": [
        {
          "output_type": "execute_result",
          "data": {
            "text/plain": [
              "TensorShape([None, 392])"
            ]
          },
          "metadata": {},
          "execution_count": 49
        }
      ]
    },
    {
      "cell_type": "code",
      "source": [
        "x.shape"
      ],
      "metadata": {
        "colab": {
          "base_uri": "https://localhost:8080/"
        },
        "id": "dxHSk2Y-r5ef",
        "outputId": "464dc749-cbf1-446a-cd3f-3591a7857e9f"
      },
      "execution_count": 50,
      "outputs": [
        {
          "output_type": "execute_result",
          "data": {
            "text/plain": [
              "TensorShape([None, 784])"
            ]
          },
          "metadata": {},
          "execution_count": 50
        }
      ]
    },
    {
      "cell_type": "code",
      "source": [
        "xs, _ = next(gen_train)\n",
        "scores = backbone.predict(xs['dat'])\n",
        "print(scores)"
      ],
      "metadata": {
        "colab": {
          "base_uri": "https://localhost:8080/"
        },
        "id": "-9PIhIk5zaMa",
        "outputId": "037e28da-f2b9-4a00-e138-e64d7a32a3d2"
      },
      "execution_count": 53,
      "outputs": [
        {
          "output_type": "stream",
          "name": "stdout",
          "text": [
            "[[-4.1020217  -1.9817257  -1.31981    ...  0.85563225 -1.4764551\n",
            "   1.1321486 ]\n",
            " [-2.6544466  -0.7075732  -0.18475021 ... -0.09030063 -0.47467992\n",
            "   1.2669866 ]\n",
            " [-3.615666   -1.2391286  -1.0396391  ... -0.53538364 -0.9380453\n",
            "   1.2407821 ]\n",
            " ...\n",
            " [-3.8964999  -1.3493209  -0.51874185 ...  0.15907927 -1.4387618\n",
            "   0.3236822 ]\n",
            " [-3.5502093  -0.27608797 -1.3470035  ... -0.09002981 -1.1843852\n",
            "   1.8362406 ]\n",
            " [-4.179923   -1.5278878  -0.64713985 ... -0.42081437 -1.0986567\n",
            "   0.9203526 ]]\n"
          ]
        }
      ]
    },
    {
      "cell_type": "markdown",
      "metadata": {
        "id": "pMtTPnJ0rAHE"
      },
      "source": [
        "### Define training model"
      ]
    },
    {
      "cell_type": "code",
      "execution_count": 55,
      "metadata": {
        "id": "BdRfZykXrAHF"
      },
      "outputs": [],
      "source": [
        "# --- Define inputs\n",
        "inputs = {\n",
        "    'dat': Input(shape = (784,), name = 'dat'),\n",
        "    'digit': Input(shape = (1,), name = 'digit')}\n",
        "\n",
        "# --- Define model\n",
        "logits = backbone(inputs['dat'])\n",
        "\n",
        "\n",
        "# --- Define loss\n",
        "sce = losses.SparseCategoricalCrossentropy(from_logits=True)\n",
        "loss = sce(y_true =inputs['digit'], y_pred = logits)\n",
        "\n",
        "# --- Define metric\n",
        "acc = metrics.sparse_categorical_accuracy(y_true=inputs['digit'], y_pred=logits)"
      ]
    },
    {
      "cell_type": "markdown",
      "metadata": {
        "id": "j64zcASHrAHF"
      },
      "source": [
        "Now, we are ready to create the `training` model and add the corresponding loss and accuracy tensors:"
      ]
    },
    {
      "cell_type": "code",
      "execution_count": 56,
      "metadata": {
        "id": "V_99jlmhrAHF"
      },
      "outputs": [],
      "source": [
        "# --- Create model\n",
        "training = Model(inputs=inputs, outputs={'logits': logits, 'loss' : loss, 'acc' : acc})\n",
        "\n",
        "# --- Add loss\n",
        "training.add_loss(loss)\n",
        "\n",
        "# --- Add metric\n",
        "training.add_metric(acc, name = 'acc')"
      ]
    },
    {
      "cell_type": "markdown",
      "metadata": {
        "id": "qqpRhHJGrAHF"
      },
      "source": [
        "### Compiling\n",
        "\n",
        "Once the `training` model has been created, use the following to define an optimizer and compile:"
      ]
    },
    {
      "cell_type": "code",
      "execution_count": 57,
      "metadata": {
        "id": "hbvH5kRzrAHF"
      },
      "outputs": [],
      "source": [
        "# --- Define optimizer \n",
        "optimizer = optimizers.Adam(learning_rate=1e-2)\n",
        "\n",
        "# --- Compile model\n",
        "training.compile(optimizer=optimizer)"
      ]
    },
    {
      "cell_type": "markdown",
      "metadata": {
        "id": "7Waz3jnUrAHF"
      },
      "source": [
        "The model is now compiled and ready for training!"
      ]
    },
    {
      "cell_type": "markdown",
      "metadata": {
        "id": "mMv6WkDTrAHF"
      },
      "source": [
        "### Train the model"
      ]
    },
    {
      "cell_type": "code",
      "execution_count": 58,
      "metadata": {
        "id": "Qo0EJXhVrAHF",
        "colab": {
          "base_uri": "https://localhost:8080/"
        },
        "outputId": "9340acbe-8031-4139-da05-8545ee5bf299"
      },
      "outputs": [
        {
          "output_type": "stream",
          "name": "stdout",
          "text": [
            "Epoch 1/10\n",
            "250/250 [==============================] - 23s 92ms/step - loss: 1.0696 - acc: 0.7824\n",
            "Epoch 2/10\n",
            "250/250 [==============================] - 24s 97ms/step - loss: 0.2830 - acc: 0.9138\n",
            "Epoch 3/10\n",
            "250/250 [==============================] - 23s 91ms/step - loss: 0.2483 - acc: 0.9254\n",
            "Epoch 4/10\n",
            "250/250 [==============================] - 23s 92ms/step - loss: 0.2179 - acc: 0.9348\n",
            "Epoch 5/10\n",
            "250/250 [==============================] - 23s 91ms/step - loss: 0.2091 - acc: 0.9379\n",
            "Epoch 6/10\n",
            "250/250 [==============================] - 23s 91ms/step - loss: 0.1920 - acc: 0.9418\n",
            "Epoch 7/10\n",
            "250/250 [==============================] - 23s 92ms/step - loss: 0.2034 - acc: 0.9407\n",
            "Epoch 8/10\n",
            "250/250 [==============================] - 23s 92ms/step - loss: 0.1771 - acc: 0.9456\n",
            "Epoch 9/10\n",
            "250/250 [==============================] - 23s 91ms/step - loss: 0.1950 - acc: 0.9419\n",
            "Epoch 10/10\n",
            "250/250 [==============================] - 23s 91ms/step - loss: 0.1747 - acc: 0.9490\n"
          ]
        },
        {
          "output_type": "execute_result",
          "data": {
            "text/plain": [
              "<keras.callbacks.History at 0x7fa33c502e10>"
            ]
          },
          "metadata": {},
          "execution_count": 58
        }
      ],
      "source": [
        "training.fit(\n",
        "    x=gen_train, \n",
        "    steps_per_epoch=250, \n",
        "    epochs=10)"
      ]
    },
    {
      "cell_type": "markdown",
      "metadata": {
        "id": "cD6bmQENrAHF"
      },
      "source": [
        "# Evaluation\n",
        "\n",
        "Based on the tutorial discussion, use the following cells to check your algorithm performance. Consider loading a saved model and running prediction using `training.predict(...)` on the training data. "
      ]
    },
    {
      "cell_type": "code",
      "source": [
        "arrs = client.get(rows=np.arange(60000))\n"
      ],
      "metadata": {
        "id": "EhDPMPu3vgz8"
      },
      "execution_count": 45,
      "outputs": []
    },
    {
      "cell_type": "code",
      "source": [
        "arrs"
      ],
      "metadata": {
        "colab": {
          "base_uri": "https://localhost:8080/"
        },
        "id": "Tp8G1n3-vhkW",
        "outputId": "ead63e9d-d831-4561-dd85-8f197a93f860"
      },
      "execution_count": 24,
      "outputs": [
        {
          "output_type": "execute_result",
          "data": {
            "text/plain": [
              "{'xs': {'dat': array([[-2., -2., -2., ..., -2., -2., -2.],\n",
              "         [-2., -2., -2., ..., -2., -2., -2.],\n",
              "         [-2., -2., -2., ..., -2., -2., -2.],\n",
              "         ...,\n",
              "         [-2., -2., -2., ..., -2., -2., -2.],\n",
              "         [-2., -2., -2., ..., -2., -2., -2.],\n",
              "         [-2., -2., -2., ..., -2., -2., -2.]], dtype=float32),\n",
              "  'digit': array([[5],\n",
              "         [0],\n",
              "         [4],\n",
              "         ...,\n",
              "         [5],\n",
              "         [6],\n",
              "         [8]], dtype=uint8)},\n",
              " 'ys': {}}"
            ]
          },
          "metadata": {},
          "execution_count": 24
        }
      ]
    },
    {
      "cell_type": "code",
      "execution_count": 59,
      "metadata": {
        "id": "0KtV-_1arAHG",
        "colab": {
          "base_uri": "https://localhost:8080/"
        },
        "outputId": "7bacb187-8633-4192-95a3-8918b622c44d"
      },
      "outputs": [
        {
          "output_type": "execute_result",
          "data": {
            "text/plain": [
              "0.9494833333333333"
            ]
          },
          "metadata": {},
          "execution_count": 59
        }
      ],
      "source": [
        "# --- Calculate accuracy\n",
        "arrs = client.get(rows=np.arange(60000))\n",
        "outputs = training.predict(arrs['xs'])\n",
        "pred = np.argmax(outputs['logits'], axis=1)\n",
        "# --- Serialize as *.csv file\n",
        "df = pd.DataFrame(index=client.db.fnames.index)\n",
        "df['true'] = arrs['xs']['digit'][:, 0]\n",
        "df['pred'] = pred\n",
        "df['corr'] = df['true'] == df['pred']\n",
        "\n",
        "# --- Print cumulative model performance\n",
        "df['corr'].mean()"
      ]
    },
    {
      "cell_type": "markdown",
      "metadata": {
        "id": "HNgI2ENPrAHG"
      },
      "source": [
        "**Note**: this cell is used only to check for model performance. It will not be graded. Once you are satisfied with your model, proceed to submission of your assignment below."
      ]
    },
    {
      "cell_type": "markdown",
      "metadata": {
        "id": "Uc_TBZwDrAHG"
      },
      "source": [
        "# Submission\n",
        "\n",
        "Use the following line to save your model for submission (in Google Colab this should save your model file into your personal Google Drive):"
      ]
    },
    {
      "cell_type": "code",
      "execution_count": 28,
      "metadata": {
        "id": "8ZJsVYs-rAHG",
        "colab": {
          "base_uri": "https://localhost:8080/"
        },
        "outputId": "92e466f7-2e2a-48f3-9caf-4c27ba4e09ae"
      },
      "outputs": [
        {
          "output_type": "stream",
          "name": "stdout",
          "text": [
            "WARNING:tensorflow:Compiled the loaded model, but the compiled metrics have yet to be built. `model.compile_metrics` will be empty until you train or evaluate the model.\n"
          ]
        }
      ],
      "source": [
        "# --- Serialize a model\n",
        "fname = './wjhan_model.hdf5'\n",
        "backbone.save(fname)"
      ]
    },
    {
      "cell_type": "markdown",
      "metadata": {
        "id": "RnRWIQt3rAHG"
      },
      "source": [
        "### Canvas\n",
        "\n",
        "Once you have completed this assignment, download the necessary files from Google Colab and your Google Drive. You will then need to submit the following items:\n",
        "\n",
        "* final (completed) notebook: `[UCInetID]_assignment.ipynb`\n",
        "* final (trained) model: `[UCInetID]_model.hdf5`\n",
        "\n",
        "**Important**: please submit all your files prefixed with your UCInetID as listed above. Your UCInetID is the part of your UCI email address that comes before `@uci.edu`. For example, Peter Anteater has an email address of panteater@uci.edu, so his notebooked file would be submitted under the name `panteater_notebook.ipynb` and his model file would be submitted under the name `panteater_model.hdf5`."
      ]
    }
  ],
  "metadata": {
    "kernelspec": {
      "display_name": "Python 3",
      "language": "python",
      "name": "python3"
    },
    "language_info": {
      "codemirror_mode": {
        "name": "ipython",
        "version": 3
      },
      "file_extension": ".py",
      "mimetype": "text/x-python",
      "name": "python",
      "nbconvert_exporter": "python",
      "pygments_lexer": "ipython3",
      "version": "3.8.5"
    },
    "colab": {
      "name": "wjhan_assignment.ipynb",
      "provenance": []
    }
  },
  "nbformat": 4,
  "nbformat_minor": 0
}