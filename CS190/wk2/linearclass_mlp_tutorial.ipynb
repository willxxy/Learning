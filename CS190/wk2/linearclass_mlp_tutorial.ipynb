{
  "cells": [
    {
      "cell_type": "markdown",
      "metadata": {
        "id": "ueJx2C_Zrpto"
      },
      "source": [
        "# Overview\n",
        "\n",
        "In this tutorial we will introduce key concepts related to creating simple neural networks including a linear (single-layer) classifier as well as a multilayer perceptron.\n",
        "\n",
        "**Linear Classifiers and Multilayer Perceptrons**\n",
        "\n",
        "* matrix multiplication\n",
        "* softmax cross-entroy loss\n",
        "* model training\n",
        "* evaluation\n",
        "* visualization\n",
        "\n",
        "This tutorial is part of the class **Introduction to Deep Learning for Medical Imaging** at University of California Irvine (CS190); more information can be found at: https://github.com/peterchang77/dl_tutor/tree/master/cs190."
      ]
    },
    {
      "cell_type": "markdown",
      "metadata": {
        "id": "56d3oMiMw8Wm"
      },
      "source": [
        "# Google Colab"
      ]
    },
    {
      "cell_type": "markdown",
      "metadata": {
        "id": "v_fLmF4Mrptq"
      },
      "source": [
        "### Enable GPU runtime\n",
        "\n",
        "Use the following instructions to switch the default Colab instance into a GPU-enabled runtime:\n",
        "\n",
        "```\n",
        "Runtime > Change runtime type > Hardware accelerator > GPU\n",
        "```"
      ]
    },
    {
      "cell_type": "markdown",
      "metadata": {
        "id": "ZZsEqGNxrptr"
      },
      "source": [
        "# Environment"
      ]
    },
    {
      "cell_type": "markdown",
      "metadata": {
        "id": "OLoc_iyVrptr"
      },
      "source": [
        "### Jarvis library\n",
        "\n",
        "In this notebook we will Jarvis, a custom Python package to facilitate data science and deep learning for healthcare. Among other things, this library will be used for low-level data management, stratification and visualization of high-dimensional medical data."
      ]
    },
    {
      "cell_type": "code",
      "execution_count": 1,
      "metadata": {
        "id": "NkbTkZxkrptr",
        "colab": {
          "base_uri": "https://localhost:8080/"
        },
        "outputId": "79c5aacc-ee36-4342-bc45-5d42dad3f647"
      },
      "outputs": [
        {
          "output_type": "stream",
          "name": "stdout",
          "text": [
            "Collecting jarvis-md\n",
            "  Downloading jarvis_md-0.0.1a17-py3-none-any.whl (89 kB)\n",
            "\u001b[K     |████████████████████████████████| 89 kB 7.2 MB/s \n",
            "\u001b[?25hCollecting pyyaml>=5.2\n",
            "  Downloading PyYAML-6.0-cp37-cp37m-manylinux_2_5_x86_64.manylinux1_x86_64.manylinux_2_12_x86_64.manylinux2010_x86_64.whl (596 kB)\n",
            "\u001b[K     |████████████████████████████████| 596 kB 45.2 MB/s \n",
            "\u001b[?25hRequirement already satisfied: h5py in /usr/local/lib/python3.7/dist-packages (from jarvis-md) (3.1.0)\n",
            "Requirement already satisfied: matplotlib in /usr/local/lib/python3.7/dist-packages (from jarvis-md) (3.2.2)\n",
            "Requirement already satisfied: scipy in /usr/local/lib/python3.7/dist-packages (from jarvis-md) (1.4.1)\n",
            "Requirement already satisfied: pandas in /usr/local/lib/python3.7/dist-packages (from jarvis-md) (1.3.5)\n",
            "Requirement already satisfied: requests in /usr/local/lib/python3.7/dist-packages (from jarvis-md) (2.23.0)\n",
            "Requirement already satisfied: numpy in /usr/local/lib/python3.7/dist-packages (from jarvis-md) (1.21.5)\n",
            "Requirement already satisfied: cached-property in /usr/local/lib/python3.7/dist-packages (from h5py->jarvis-md) (1.5.2)\n",
            "Requirement already satisfied: cycler>=0.10 in /usr/local/lib/python3.7/dist-packages (from matplotlib->jarvis-md) (0.11.0)\n",
            "Requirement already satisfied: kiwisolver>=1.0.1 in /usr/local/lib/python3.7/dist-packages (from matplotlib->jarvis-md) (1.4.0)\n",
            "Requirement already satisfied: python-dateutil>=2.1 in /usr/local/lib/python3.7/dist-packages (from matplotlib->jarvis-md) (2.8.2)\n",
            "Requirement already satisfied: pyparsing!=2.0.4,!=2.1.2,!=2.1.6,>=2.0.1 in /usr/local/lib/python3.7/dist-packages (from matplotlib->jarvis-md) (3.0.7)\n",
            "Requirement already satisfied: typing-extensions in /usr/local/lib/python3.7/dist-packages (from kiwisolver>=1.0.1->matplotlib->jarvis-md) (3.10.0.2)\n",
            "Requirement already satisfied: six>=1.5 in /usr/local/lib/python3.7/dist-packages (from python-dateutil>=2.1->matplotlib->jarvis-md) (1.15.0)\n",
            "Requirement already satisfied: pytz>=2017.3 in /usr/local/lib/python3.7/dist-packages (from pandas->jarvis-md) (2018.9)\n",
            "Requirement already satisfied: certifi>=2017.4.17 in /usr/local/lib/python3.7/dist-packages (from requests->jarvis-md) (2021.10.8)\n",
            "Requirement already satisfied: urllib3!=1.25.0,!=1.25.1,<1.26,>=1.21.1 in /usr/local/lib/python3.7/dist-packages (from requests->jarvis-md) (1.24.3)\n",
            "Requirement already satisfied: idna<3,>=2.5 in /usr/local/lib/python3.7/dist-packages (from requests->jarvis-md) (2.10)\n",
            "Requirement already satisfied: chardet<4,>=3.0.2 in /usr/local/lib/python3.7/dist-packages (from requests->jarvis-md) (3.0.4)\n",
            "Installing collected packages: pyyaml, jarvis-md\n",
            "  Attempting uninstall: pyyaml\n",
            "    Found existing installation: PyYAML 3.13\n",
            "    Uninstalling PyYAML-3.13:\n",
            "      Successfully uninstalled PyYAML-3.13\n",
            "Successfully installed jarvis-md-0.0.1a17 pyyaml-6.0\n"
          ]
        }
      ],
      "source": [
        "# --- Install jarvis (only in Google Colab or local runtime)\n",
        "% pip install jarvis-md"
      ]
    },
    {
      "cell_type": "markdown",
      "metadata": {
        "id": "pMgt0ck8rptr"
      },
      "source": [
        "### Imports\n",
        "\n",
        "Use the following lines to import any additional needed libraries:"
      ]
    },
    {
      "cell_type": "code",
      "execution_count": 2,
      "metadata": {
        "id": "MPG1h1fmrpts"
      },
      "outputs": [],
      "source": [
        "import numpy as np, pandas as pd\n",
        "from tensorflow.keras import Input, Model, models, layers, losses, metrics, optimizers\n",
        "from jarvis.train import datasets\n",
        "from jarvis.utils.display import imshow"
      ]
    },
    {
      "cell_type": "markdown",
      "metadata": {
        "id": "LC1PyLWRrpts"
      },
      "source": [
        "# Data\n",
        "\n",
        "The data used in this tutorial will consist of the MNIST handwritten digit dataset. The custom `datasets.download(...)` method can be used to download a local copy of the dataset. By default the dataset will be archived at `/data/raw/mnist`; as needed an alternate location may be specified using `datasets.download(name=..., path=...)`. "
      ]
    },
    {
      "cell_type": "code",
      "execution_count": 3,
      "metadata": {
        "id": "2DFzt-4Crptt",
        "colab": {
          "base_uri": "https://localhost:8080/"
        },
        "outputId": "51237c6c-49ff-4db6-cff3-3cc40470be84"
      },
      "outputs": [
        {
          "output_type": "stream",
          "name": "stdout",
          "text": [
            "[ 2022-04-07 20:20:15 ] [====================] 100.000% : Extracting archive (0000004 / 0000004) "
          ]
        },
        {
          "output_type": "execute_result",
          "data": {
            "text/plain": [
              "{'code': '/data/raw/mnist', 'data': '/data/raw/mnist'}"
            ]
          },
          "metadata": {},
          "execution_count": 3
        }
      ],
      "source": [
        "# --- Download dataset\n",
        "datasets.download(name='mnist')"
      ]
    },
    {
      "cell_type": "markdown",
      "metadata": {
        "id": "npbbZKpErptt"
      },
      "source": [
        "Once downloaded, the `datasets.prepare(...)` method can be used to generate the required python Generators to iterate through the dataset, as well as a `client` object for any needed advanced functionality."
      ]
    },
    {
      "cell_type": "code",
      "execution_count": 4,
      "metadata": {
        "id": "u_bccWhGrptt",
        "colab": {
          "base_uri": "https://localhost:8080/"
        },
        "outputId": "7c041b99-e268-4bc8-df0a-8d6c51224413"
      },
      "outputs": [
        {
          "output_type": "stream",
          "name": "stdout",
          "text": [
            "\r[ 2022-04-07 20:20:16 ] [====================] 100.000% : Iterating | 000001    "
          ]
        }
      ],
      "source": [
        "# --- Prepare generators\n",
        "gen_train, _, client = datasets.prepare(name='mnist', custom_layers=True)"
      ]
    },
    {
      "cell_type": "markdown",
      "metadata": {
        "id": "IWRFqAHerptt"
      },
      "source": [
        "By default the generator for this dataset yields a batch size of 128 different images. As before, each iteration yields dictionary of model inputs, `xs`. In the current example, there is just a single input image `xs['dat']` and a single target `xs['digit']`. Let us examine the generator data:"
      ]
    },
    {
      "cell_type": "code",
      "execution_count": 5,
      "metadata": {
        "id": "K9g_rtmSrptt",
        "colab": {
          "base_uri": "https://localhost:8080/"
        },
        "outputId": "662640a6-2c4d-449b-8060-1275cedd7990"
      },
      "outputs": [
        {
          "output_type": "stream",
          "name": "stdout",
          "text": [
            "key = dat     : shape = (128, 784)\n",
            "key = digit   : shape = (128, 1)\n"
          ]
        }
      ],
      "source": [
        "# --- Yield one example\n",
        "xs, _ = next(gen_train)\n",
        "\n",
        "# --- Print dict keys\n",
        "for k, v in xs.items():\n",
        "    print('key = {} : shape = {}'.format(k.ljust(7), v.shape))"
      ]
    },
    {
      "cell_type": "markdown",
      "metadata": {
        "id": "x7S4rGo6rptu"
      },
      "source": [
        "Each 28 x 28 2D image is serialized as a 784-element vector. Use the following lines of code to reshape the data vector and visualize using the `imshow(...)` method:"
      ]
    },
    {
      "cell_type": "code",
      "execution_count": 6,
      "metadata": {
        "id": "kKn60m9Arptu",
        "colab": {
          "base_uri": "https://localhost:8080/",
          "height": 411
        },
        "outputId": "40b02c46-963f-4f3d-f6c9-e5ca6032a42f"
      },
      "outputs": [
        {
          "output_type": "display_data",
          "data": {
            "text/plain": [
              "<Figure size 504x504 with 1 Axes>"
            ],
            "image/png": "[encoded data removed]"
          },
          "metadata": {
            "needs_background": "light"
          }
        }
      ],
      "source": [
        "# --- Reshape to 2D images\n",
        "dat = xs['dat'].reshape(-1, 28, 28)\n",
        "\n",
        "# --- Show the first example\n",
        "imshow(dat[0])"
      ]
    },
    {
      "cell_type": "code",
      "source": [
        "dat.shape"
      ],
      "metadata": {
        "colab": {
          "base_uri": "https://localhost:8080/"
        },
        "id": "Nf9Dbfrbskc9",
        "outputId": "7e84e35f-f096-4482-dd4e-80c48172d7d1"
      },
      "execution_count": 7,
      "outputs": [
        {
          "output_type": "execute_result",
          "data": {
            "text/plain": [
              "(128, 28, 28)"
            ]
          },
          "metadata": {},
          "execution_count": 7
        }
      ]
    },
    {
      "cell_type": "markdown",
      "metadata": {
        "id": "PS-al1whrptu"
      },
      "source": [
        "Pass the entire dat array to `imshow(...)` to display an N x N mosaic of all images:"
      ]
    },
    {
      "cell_type": "code",
      "execution_count": 8,
      "metadata": {
        "id": "P_t4FBUwrptu",
        "colab": {
          "base_uri": "https://localhost:8080/",
          "height": 411
        },
        "outputId": "c8fdc21b-a893-4266-edc0-fabea019e98a"
      },
      "outputs": [
        {
          "output_type": "display_data",
          "data": {
            "text/plain": [
              "<Figure size 504x504 with 1 Axes>"
            ],
            "image/png": "[encoded data removed]"
          },
          "metadata": {
            "needs_background": "light"
          }
        }
      ],
      "source": [
        "# --- Show \"montage\" of first 64 images\n",
        "imshow(dat[:64])"
      ]
    },
    {
      "cell_type": "markdown",
      "metadata": {
        "id": "E3oM_mnqrptu"
      },
      "source": [
        "As expected, the 64-element `xs['digit']` vector corresponds to ground-truth:"
      ]
    },
    {
      "cell_type": "code",
      "execution_count": 9,
      "metadata": {
        "id": "-Psm0j8Jrptu",
        "colab": {
          "base_uri": "https://localhost:8080/"
        },
        "outputId": "896e42ad-62f6-4232-e091-509e1c00d88a"
      },
      "outputs": [
        {
          "output_type": "stream",
          "name": "stdout",
          "text": [
            "[[8 1 9 0 6 5 5 0]\n",
            " [1 7 4 3 5 7 4 2]\n",
            " [8 6 1 8 6 3 2 8]\n",
            " [9 3 4 1 0 2 5 0]\n",
            " [0 1 6 7 2 9 9 3]\n",
            " [9 8 2 1 2 0 6 8]\n",
            " [3 8 6 6 0 4 0 0]\n",
            " [4 2 5 2 1 9 8 0]]\n"
          ]
        }
      ],
      "source": [
        "# --- Print xs['digit']\n",
        "print(xs['digit'][:64].reshape(8, 8))"
      ]
    },
    {
      "cell_type": "markdown",
      "metadata": {
        "id": "SpmZ43NMrptu"
      },
      "source": [
        "# Foundations\n",
        "\n",
        "As a review, recall the diagramatic representation of a neural network covered in lecture:\n",
        "\n",
        "![Diagramtric Representation](https://raw.githubusercontent.com/peterchang77/dl_tutor/master/cs190/spring_2020/notebooks/mlp/pngs/nn_diagram.png)\n",
        "\n",
        "Recall that each reach \"retinal neuron\" recieving light from the image is connected to one of ten output neurons, each indicating the relative likelihood of that image representing any one of the ten possible digits. The neuron with the largest score value (e.g. **logit score**) in turn represents the most probable interpretation by the network of the provided digit image.\n",
        "\n",
        "Also, recall that each connection itself is modeled by a multiplicative weight value that represents how strong (or weak) the connection is, and that each of the 784 connections to one of our ten output neurons can in fact be represented as a matrix of numbers:\n",
        "\n",
        "![Matrix Representation](https://raw.githubusercontent.com/peterchang77/dl_tutor/master/cs190/spring_2020/notebooks/mlp/pngs/nn_multiply.png)\n",
        "\n",
        "For each of our ten digits, we will have a different 28 x 28 weight matrix for a total of 10 weight matrices. Finally keep in mind that although our images are represented as 28 x 28 matrices in these diagrams, our input image for model training will be flattened into a 1 x 784 vector a single matrix multiplication operation of size `(784, 10)` is used to map the input vector into 10 different logit scores.  "
      ]
    },
    {
      "cell_type": "markdown",
      "metadata": {
        "id": "CHFBMZDnrptv"
      },
      "source": [
        "# Matrix Multiplication"
      ]
    },
    {
      "cell_type": "markdown",
      "metadata": {
        "id": "3KWLD6Fmrptv"
      },
      "source": [
        "### Input\n",
        "\n",
        "The input matrix will need to accomodate a **flattened** version of our 28 x 28 matrix:\n",
        "\n",
        "```\n",
        "x = [[x00, x01, x02, ...],   ==> (flattening) ==> [[x00, x01, x02, x10, x11, ..., xNN]]\n",
        "     [x10, x11, x12, ...],\n",
        "     [x20, x21, x22, ...]\n",
        "     ... , ..., ..., xNN]]\n",
        "```\n",
        "\n",
        "Thus our input matrix will need to be  of size `28 x 28 = 784`.  Use the following code cell to create our `Input(...)` object:"
      ]
    },
    {
      "cell_type": "code",
      "execution_count": 10,
      "metadata": {
        "id": "Cr9Fn8hOrptv",
        "colab": {
          "base_uri": "https://localhost:8080/"
        },
        "outputId": "980e71af-18c1-49b6-8a28-175b6d7ea0b5"
      },
      "outputs": [
        {
          "output_type": "stream",
          "name": "stdout",
          "text": [
            "(None, 784)\n"
          ]
        }
      ],
      "source": [
        "# --- Create Tensorflow input\n",
        "x = Input(shape=(784,))\n",
        "print(x.shape)"
      ]
    },
    {
      "cell_type": "markdown",
      "metadata": {
        "id": "UCTUFj2qrptv"
      },
      "source": [
        "### Dense operation"
      ]
    },
    {
      "cell_type": "markdown",
      "metadata": {
        "id": "EjS_Im-Brptv"
      },
      "source": [
        "The next step is to define the proper matrix multiplication operation to implement mapping of input (image) to output (digit logit scores). Recall the earlier discussion on **dense** layers and matrix multiplication:\n",
        "\n",
        "```\n",
        "Let:\n",
        "\n",
        "X = 1 x N matrix = [a, b, c, d, e...]\n",
        "\n",
        "M = N x 1 matrix = [[A],\n",
        "                    [B],\n",
        "                    [C],\n",
        "                    [D],\n",
        "                    [E],\n",
        "                    ...\n",
        "                    ]\n",
        "\n",
        "Then:\n",
        "\n",
        "X x M = ...\n",
        "\n",
        "= [[a, b, c, d, e...]] x [[A], = a * A + b * B + c * C + d * D + e * E ...\n",
        "                          [B],\n",
        "                          [C],\n",
        "                          [D],\n",
        "                          [E],\n",
        "                          ...\n",
        "                          ]\n",
        "                          \n",
        "```\n",
        "\n",
        "The following rules extend this formally to 2D matrices.\n",
        "\n",
        "```\n",
        "Let:\n",
        "\n",
        "X = I x N matrix\n",
        "M = N x J matrix\n",
        "```\n",
        "\n",
        "1. The **second** dimension of `X` must match the **first** dimension of `M` (e.g. `N`).\n",
        "2. The output of the matrix multiplication is equal to the **first** dimension of `X` by the **second** dimension of `Y` (e.g. `I x J`)."
      ]
    },
    {
      "cell_type": "markdown",
      "metadata": {
        "id": "F9EE872Vrptv"
      },
      "source": [
        "Given the discussion above, in order to define a *matrix multiplication* between the input Tensor and the `m` weights matrix, what shape must the `m` weights matrix consist of to yield 10 different logit score predictions?\n",
        "\n",
        "Use the following code cell to create the appropriate operation object:"
      ]
    },
    {
      "cell_type": "code",
      "execution_count": 11,
      "metadata": {
        "id": "UbfAUr8_rptv",
        "colab": {
          "base_uri": "https://localhost:8080/"
        },
        "outputId": "cadfb773-1db9-485d-cdf9-3588bd4c32fc"
      },
      "outputs": [
        {
          "output_type": "stream",
          "name": "stdout",
          "text": [
            "(None, 10)\n"
          ]
        }
      ],
      "source": [
        "# --- Create op\n",
        "op = layers.Dense(10)\n",
        "\n",
        "# --- Create output\n",
        "logits = op(x)\n",
        "print(logits.shape)"
      ]
    },
    {
      "cell_type": "markdown",
      "metadata": {
        "id": "zu971n1Grptv"
      },
      "source": [
        "Let us check to see if the weights are of correct shape:"
      ]
    },
    {
      "cell_type": "code",
      "execution_count": 12,
      "metadata": {
        "id": "s7aJe2sdrptv",
        "colab": {
          "base_uri": "https://localhost:8080/"
        },
        "outputId": "a10573d8-e2ed-4fea-df19-442021e9c2fd"
      },
      "outputs": [
        {
          "output_type": "stream",
          "name": "stdout",
          "text": [
            "(784, 10)\n"
          ]
        }
      ],
      "source": [
        "# --- Get weight matrix shape\n",
        "w, b = op.get_weights()\n",
        "print(w.shape)"
      ]
    },
    {
      "cell_type": "markdown",
      "metadata": {
        "id": "Vj6fiIRkrptv"
      },
      "source": [
        "# Creating Models\n",
        "\n",
        "## Backbone model\n",
        "\n",
        "This single operation model successfully defines the linear classification model as presented during lecture. Let us start by creating the base `backbone` model (e.g., without training dependencies). Use the following line of code to create the `backbone` model:"
      ]
    },
    {
      "cell_type": "code",
      "execution_count": 13,
      "metadata": {
        "id": "FwZ1BIGLrptv"
      },
      "outputs": [],
      "source": [
        "# --- Define model\n",
        "x = Input(shape=(784,))\n",
        "logits = layers.Dense(10)(x)\n",
        "\n",
        "# --- Create model\n",
        "backbone = Model(inputs=x, outputs=logits)"
      ]
    },
    {
      "cell_type": "markdown",
      "metadata": {
        "id": "M6uNmTGqrptv"
      },
      "source": [
        "Use the following line of code to pass a single batch of data through the created model:"
      ]
    },
    {
      "cell_type": "code",
      "execution_count": 14,
      "metadata": {
        "id": "lpQI7VPBrptv"
      },
      "outputs": [],
      "source": [
        "# --- Predict\n",
        "scores = backbone.predict(xs['dat'])"
      ]
    },
    {
      "cell_type": "markdown",
      "metadata": {
        "id": "Wrn_NGvlrptw"
      },
      "source": [
        "What is the output shape of the `scores` variable, what does this variable represent?"
      ]
    },
    {
      "cell_type": "code",
      "execution_count": 15,
      "metadata": {
        "id": "7GWytQdIrptw",
        "colab": {
          "base_uri": "https://localhost:8080/"
        },
        "outputId": "7a68a863-40e1-4cbc-bd25-efb4d61567b2"
      },
      "outputs": [
        {
          "output_type": "stream",
          "name": "stdout",
          "text": [
            "(128, 10)\n"
          ]
        }
      ],
      "source": [
        "# --- Logit scores\n",
        "print(scores.shape)"
      ]
    },
    {
      "cell_type": "code",
      "source": [
        "scores[0]"
      ],
      "metadata": {
        "colab": {
          "base_uri": "https://localhost:8080/"
        },
        "id": "non6O_0JuaNN",
        "outputId": "61db9fc6-3816-446b-eb36-0f3144af23c2"
      },
      "execution_count": 29,
      "outputs": [
        {
          "output_type": "execute_result",
          "data": {
            "text/plain": [
              "array([ 1.6391629 ,  0.65614617, -2.1650326 ,  1.0734098 , -3.9274411 ,\n",
              "       -2.2741659 ,  0.54319525, -0.85836047,  6.4782662 , -3.901466  ],\n",
              "      dtype=float32)"
            ]
          },
          "metadata": {},
          "execution_count": 29
        }
      ]
    },
    {
      "cell_type": "markdown",
      "metadata": {
        "id": "f_bsAjFTrptw"
      },
      "source": [
        "## Training model"
      ]
    },
    {
      "cell_type": "markdown",
      "metadata": {
        "id": "Q919jXz8rptw"
      },
      "source": [
        "Next, the `backbone` model architecture is wrapped in a second model with additional layer(s) that define optimization behavior including loss function derivations. To do so, recall that the following steps are required:\n",
        "\n",
        "1. Define a *wrapper* `Model(...)` that encapsulates our `backbone` model\n",
        "2. Define loss tensors (and add to the model)\n",
        "3. Define compile parameters including optimization strategy\n",
        "\n",
        "Let us look at each of these steps in further detail.\n",
        "\n",
        "### Inputs\n",
        "\n",
        "As before, we start by defining all `inputs` into our new *wrapper* model. In the first model, we only defined a single `x` input because the `backbone` base model is designed to accept any input value(s) and make predictions without requiring a target. In our second *wrapper* model, specifically designed to facilitate model training, we additionally need an `Input` object for the target `digit` so that we can calculate a loss value and improve our model performance through optimization. "
      ]
    },
    {
      "cell_type": "code",
      "execution_count": 16,
      "metadata": {
        "id": "8peJhNEmrptw"
      },
      "outputs": [],
      "source": [
        "inputs = {\n",
        "    'dat': Input(shape=(784,), name='dat'),\n",
        "    'digit': Input(shape=(1,), name='digit')}"
      ]
    },
    {
      "cell_type": "markdown",
      "metadata": {
        "id": "sdcba-WPrptw"
      },
      "source": [
        "Using this `inputs` Python dictionary, let us first redefine the simple linear classifier model. Importantly, as opposed to manually defining new layer operations using `layers.Dense(...)` as above, we will **reuse** the `backbone` object that we already defined. Doing so means that our new *wrapper* model is explicitly derived from the `backbone`. Any updates applied to our new *wrapper* model are propogated to the `backbone` model and vice versa. "
      ]
    },
    {
      "cell_type": "code",
      "execution_count": 17,
      "metadata": {
        "id": "FYBEezxJrptw"
      },
      "outputs": [],
      "source": [
        "# --- Define first step of new wrapper model\n",
        "logits = backbone(inputs['dat'])"
      ]
    },
    {
      "cell_type": "markdown",
      "metadata": {
        "id": "qUoBerPErptw"
      },
      "source": [
        "### Softmax cross-entropy loss\n",
        "\n",
        "After generating **logit** scores, one must define a method to: (1) convert logit scores to final prediction; (2) quantify the *goodness* of model prediction. These steps are performed mathematically with what is known as a loss function. For classification problems, the standard function to use is the **softmax cross-entropy** loss. This loss in fact is composed of two seperate steps:\n",
        "\n",
        "* **softmax**: method to normalize logit scores into a probability distribution\n",
        "* **cross-entropy**: method to quantify difference between predicted distribution and true distribution\n",
        "\n",
        "To define a softmax cross-entropy loss in Tensorflow, use the `losses.SparseCategoricalCrossentropy(...)` class. The sparse formulation is a special case of cross-entropy loss where only a single mutually exclusive class is correct for any given input. The `from_logits=True` argument is used to denote that raw logit scores are passed as input and that a softmax normalization is required before calculating cross-entropy loss. It is recommended to perform these two steps simultaneously rather than split into two seperate operations for numeric stability."
      ]
    },
    {
      "cell_type": "code",
      "execution_count": 18,
      "metadata": {
        "id": "Sc5eN5pqrptw"
      },
      "outputs": [],
      "source": [
        "# --- Define a loss object\n",
        "sce = losses.SparseCategoricalCrossentropy(from_logits=True)"
      ]
    },
    {
      "cell_type": "markdown",
      "metadata": {
        "id": "7W9McGbnrptw"
      },
      "source": [
        "The returned variable `sce` is a Python method that can be used to calculate softmax cross-entropy loss for a given set of logit scores (`y_pred`) and ground-truth (`y_true`). For demonstration, use the following lines of code to calculate the loss for the generate logit scores of the current data batch:"
      ]
    },
    {
      "cell_type": "code",
      "source": [
        "sce?"
      ],
      "metadata": {
        "id": "N1ad_VXwvn6K"
      },
      "execution_count": 35,
      "outputs": []
    },
    {
      "cell_type": "code",
      "execution_count": 19,
      "metadata": {
        "id": "CCrnqm14rptw",
        "colab": {
          "base_uri": "https://localhost:8080/"
        },
        "outputId": "a05c3a77-9e02-45d2-bb63-324f84e9c57d"
      },
      "outputs": [
        {
          "output_type": "execute_result",
          "data": {
            "text/plain": [
              "<tf.Tensor: shape=(), dtype=float32, numpy=6.7544994>"
            ]
          },
          "metadata": {},
          "execution_count": 19
        }
      ],
      "source": [
        "# --- Calculate loss\n",
        "sce(y_true=xs['digit'], y_pred=scores)"
      ]
    },
    {
      "cell_type": "markdown",
      "metadata": {
        "id": "cBL-G0e5rptw"
      },
      "source": [
        "As training proceeds, the goal of the algorithm is to update weights in a manner such that this loss value decreases over time.\n",
        "\n",
        "The `scores` variable represents the logit scores for one batch of input data. However, we still need to define a symbolic TensorFlow tensor as a part of our graph. Let us formally create this loss tensor now using the `sce` function using the `logits` returned by the `backbone` call earlier."
      ]
    },
    {
      "cell_type": "code",
      "execution_count": 20,
      "metadata": {
        "id": "xn58GnCZrptw"
      },
      "outputs": [],
      "source": [
        "# --- Create loss tensor\n",
        "loss = sce(y_true=inputs['digit'], y_pred=logits)"
      ]
    },
    {
      "cell_type": "markdown",
      "metadata": {
        "id": "l7lGZE7Trptw"
      },
      "source": [
        "### Accuracy metric\n",
        "\n",
        "Compared to *loss* values which the model will directly optimize, a *metric* is a quantitative value that captures a more human-interpretable value for overall model performance. Because the metric does not contribute to the optimization process (only used to monitor performance), this value **does not** need to be differentiable.\n",
        "\n",
        "For a classification problem, the most common metric is overall *accuracy*. Use the TensorFlow built-in method `metrics.sparse_categorical_accuracy(...)` to calculate per-batch accuracy:"
      ]
    },
    {
      "cell_type": "code",
      "execution_count": 21,
      "metadata": {
        "id": "by-6z0QCrptw"
      },
      "outputs": [],
      "source": [
        "# --- Define accuracy\n",
        "acc = metrics.sparse_categorical_accuracy(y_true=inputs['digit'], y_pred=logits)"
      ]
    },
    {
      "cell_type": "code",
      "source": [
        "acc"
      ],
      "metadata": {
        "colab": {
          "base_uri": "https://localhost:8080/"
        },
        "id": "bsxw4_vEv-_Q",
        "outputId": "5c2db197-f0e7-446d-f33c-08cea5021b12"
      },
      "execution_count": 36,
      "outputs": [
        {
          "output_type": "execute_result",
          "data": {
            "text/plain": [
              "<KerasTensor: shape=(None,) dtype=float32 (created by layer 'tf.cast_5')>"
            ]
          },
          "metadata": {},
          "execution_count": 36
        }
      ]
    },
    {
      "cell_type": "markdown",
      "metadata": {
        "id": "Uvz1E5turptx"
      },
      "source": [
        "How would you calculate the accuracy manually using NumPy (or TensorFlow)?"
      ]
    },
    {
      "cell_type": "markdown",
      "metadata": {
        "id": "lc3v-BBNrptx"
      },
      "source": [
        "### Create model\n",
        "\n",
        "Now let us create the new wrapper model. The inputs are defined above already in our `inputs` Python dictionary. As outputs, let us return both the `logits` tensor as well as the `loss`. We will name this new wrapper model `training` because it will be used for training only. "
      ]
    },
    {
      "cell_type": "code",
      "execution_count": 22,
      "metadata": {
        "id": "Be_bVxZMrptx"
      },
      "outputs": [],
      "source": [
        "training = Model(inputs=inputs, outputs={'logits': logits, 'loss': loss, 'acc': acc})"
      ]
    },
    {
      "cell_type": "markdown",
      "metadata": {
        "id": "AKS6fMMGrptx"
      },
      "source": [
        "Now let's add the `loss` and `metric` tensorws we defined above to the new `training` model:"
      ]
    },
    {
      "cell_type": "code",
      "execution_count": 23,
      "metadata": {
        "id": "4u04-KXIrptx"
      },
      "outputs": [],
      "source": [
        "# --- Add loss\n",
        "training.add_loss(loss)\n",
        "\n",
        "# --- Add metric\n",
        "training.add_metric(acc, name='acc')"
      ]
    },
    {
      "cell_type": "markdown",
      "metadata": {
        "id": "pJdXYKaQrptx"
      },
      "source": [
        "## Compiling a Model\n",
        "\n",
        "The current model parameters have been initialized to random values. Through exposure to data, the goal is for the model to *learn* optimal parameter values that allow for robust mapping of provided input to target output. To prepare the model for learning, a graph must be **compiled** with a strategy for optimization."
      ]
    },
    {
      "cell_type": "code",
      "execution_count": 24,
      "metadata": {
        "id": "VAwlNAOsrptx"
      },
      "outputs": [],
      "source": [
        "# --- Define an Adam optimizer\n",
        "optimizer = optimizers.Adam(learning_rate=1e-2)\n",
        "\n",
        "# --- Compile model\n",
        "training.compile(optimizer=optimizer)"
      ]
    },
    {
      "cell_type": "markdown",
      "metadata": {
        "id": "75-Xf1X2rptx"
      },
      "source": [
        "The model is now compiled and ready for training!"
      ]
    },
    {
      "cell_type": "markdown",
      "metadata": {
        "id": "aQADTHFarptx"
      },
      "source": [
        "# Model Training\n",
        "\n",
        "Once the model has been compiled and the data prepared (via a generator), training can be invoked using the `model.fit(...)` method. The only parameters that need to be set relate to the number of total training iterations (total number of steps = `steps_per_epoch` x `epochs`). "
      ]
    },
    {
      "cell_type": "code",
      "execution_count": 25,
      "metadata": {
        "id": "YM927d2Crptx",
        "colab": {
          "base_uri": "https://localhost:8080/"
        },
        "outputId": "029ad2c5-ef30-4f07-ff27-4cb9b528a233"
      },
      "outputs": [
        {
          "output_type": "stream",
          "name": "stdout",
          "text": [
            "Epoch 1/4\n",
            "250/250 [==============================] - 24s 96ms/step - loss: 1.0296 - acc: 0.8233\n",
            "Epoch 2/4\n",
            "250/250 [==============================] - 24s 96ms/step - loss: 0.5893 - acc: 0.8661\n",
            "Epoch 3/4\n",
            "250/250 [==============================] - 24s 96ms/step - loss: 0.5383 - acc: 0.8790\n",
            "Epoch 4/4\n",
            "250/250 [==============================] - 24s 97ms/step - loss: 0.5927 - acc: 0.8761\n"
          ]
        },
        {
          "output_type": "execute_result",
          "data": {
            "text/plain": [
              "<keras.callbacks.History at 0x7fe9e103fa90>"
            ]
          },
          "metadata": {},
          "execution_count": 25
        }
      ],
      "source": [
        "training.fit(\n",
        "    x=gen_train, \n",
        "    steps_per_epoch=250, \n",
        "    epochs=4)"
      ]
    },
    {
      "cell_type": "markdown",
      "metadata": {
        "id": "mR12I8TPrptx"
      },
      "source": [
        "### Evaluation\n",
        "\n",
        "To test the trained model, the following steps are required:\n",
        "\n",
        "* load data\n",
        "* use `backbone.predict(...)` or `training.predict(...)` to obtain logit scores\n",
        "* use `np.argmax(...)` to obtain prediction\n",
        "* compare prediction with ground-truth\n",
        "* serialize in Pandas DataFrame\n",
        "\n",
        "Recall that the generator used to train the model simply iterates through the dataset randomly. For model evaluation, the cohort must instead be loaded manually in an orderly way. For this tutorial, use the `client.get(rows=...)` method. Since there is no special train or valid split currently, simply load all 60,000 examples:"
      ]
    },
    {
      "cell_type": "code",
      "execution_count": 26,
      "metadata": {
        "id": "usvboChsrptx"
      },
      "outputs": [],
      "source": [
        "# --- Load all data\n",
        "arrs = client.get(rows=np.arange(60000))"
      ]
    },
    {
      "cell_type": "markdown",
      "metadata": {
        "id": "L0DpdPndrptx"
      },
      "source": [
        "Use the following lines of code to run prediction:"
      ]
    },
    {
      "cell_type": "code",
      "execution_count": 27,
      "metadata": {
        "id": "IkARyvBDrptx"
      },
      "outputs": [],
      "source": [
        "# --- Predict\n",
        "outputs = training.predict(arrs['xs'])\n",
        "\n",
        "# --- Argmax\n",
        "pred = np.argmax(outputs['logits'], axis=1)"
      ]
    },
    {
      "cell_type": "code",
      "source": [
        "np.argmax(outputs['logits'], axis=1)"
      ],
      "metadata": {
        "colab": {
          "base_uri": "https://localhost:8080/"
        },
        "id": "HjFVpMsixuYz",
        "outputId": "55122ebc-a932-438d-acce-25f1ea9fe09a"
      },
      "execution_count": 42,
      "outputs": [
        {
          "output_type": "execute_result",
          "data": {
            "text/plain": [
              "array([5, 0, 4, ..., 5, 5, 8])"
            ]
          },
          "metadata": {},
          "execution_count": 42
        }
      ]
    },
    {
      "cell_type": "markdown",
      "metadata": {
        "id": "vGJRU0V-rptx"
      },
      "source": [
        "Prepare results in Pandas DataFrame for ease of analysis and sharing:"
      ]
    },
    {
      "cell_type": "code",
      "execution_count": 28,
      "metadata": {
        "id": "9B_jAkz7rptx",
        "colab": {
          "base_uri": "https://localhost:8080/"
        },
        "outputId": "f4a4d1ab-5697-441c-9287-44d51f9935ea"
      },
      "outputs": [
        {
          "output_type": "stream",
          "name": "stdout",
          "text": [
            "0.8646833333333334\n"
          ]
        }
      ],
      "source": [
        "df = pd.DataFrame(index=np.arange(60000))\n",
        "\n",
        "# --- Define columns\n",
        "df['true'] = arrs['xs']['digit'][:, 0]\n",
        "df['pred'] = pred\n",
        "df['corr'] = df['true'] == df['pred']\n",
        "\n",
        "# --- Print accuracy\n",
        "print(df['corr'].mean())"
      ]
    },
    {
      "cell_type": "markdown",
      "metadata": {
        "id": "BMA-zocZrptx"
      },
      "source": [
        "How does this compare to the `accuracy` calculated by `training.predict(...)`?"
      ]
    },
    {
      "cell_type": "code",
      "source": [
        "outputs['acc'].mean()"
      ],
      "metadata": {
        "colab": {
          "base_uri": "https://localhost:8080/"
        },
        "id": "653AR06WyFtw",
        "outputId": "444bfc61-1278-40cc-9ab1-73cb02c6cbeb"
      },
      "execution_count": 41,
      "outputs": [
        {
          "output_type": "execute_result",
          "data": {
            "text/plain": [
              "0.86468333"
            ]
          },
          "metadata": {},
          "execution_count": 41
        }
      ]
    },
    {
      "cell_type": "markdown",
      "metadata": {
        "id": "Zbis9J2rrptx"
      },
      "source": [
        "# Visualization\n",
        "\n",
        "What are the expected weights learned by the model? Use the following lines of code to visualize:"
      ]
    },
    {
      "cell_type": "code",
      "execution_count": 30,
      "metadata": {
        "id": "xZ0Cwt2krptx",
        "colab": {
          "base_uri": "https://localhost:8080/",
          "height": 411
        },
        "outputId": "4ecff053-2673-4b97-992e-275ec7f899cc"
      },
      "outputs": [
        {
          "output_type": "display_data",
          "data": {
            "text/plain": [
              "<Figure size 504x504 with 1 Axes>"
            ],
            "image/png": "[encoded data removed]"
          },
          "metadata": {
            "needs_background": "light"
          }
        }
      ],
      "source": [
        "# --- Get weights of first layer\n",
        "weights = backbone.layers[1].get_weights()[0]\n",
        "\n",
        "# --- Show\n",
        "imshow(weights.T.reshape(-1, 28, 28))"
      ]
    },
    {
      "cell_type": "markdown",
      "metadata": {
        "id": "HuBocuJYrpty"
      },
      "source": [
        "## Saving and Loading a Model\n",
        "\n",
        "After a model has been successfully trained, it can be saved and/or loaded by simply using the `backbone.save()` and `backbone.load_model()` methods. "
      ]
    },
    {
      "cell_type": "code",
      "execution_count": 31,
      "metadata": {
        "id": "Bm3OD3kVrpty",
        "colab": {
          "base_uri": "https://localhost:8080/"
        },
        "outputId": "78e7a5b6-548a-49b8-df89-a4ad971bcc7d"
      },
      "outputs": [
        {
          "output_type": "stream",
          "name": "stdout",
          "text": [
            "WARNING:tensorflow:Compiled the loaded model, but the compiled metrics have yet to be built. `model.compile_metrics` will be empty until you train or evaluate the model.\n"
          ]
        }
      ],
      "source": [
        "# --- Serialize a model\n",
        "backbone.save('./mlp.hdf5')"
      ]
    },
    {
      "cell_type": "code",
      "execution_count": 32,
      "metadata": {
        "id": "qRdHrGVZrpty"
      },
      "outputs": [],
      "source": [
        "# --- Load a serialized model\n",
        "del backbone\n",
        "backbone = models.load_model('./mlp.hdf5', compile=False)"
      ]
    },
    {
      "cell_type": "markdown",
      "metadata": {
        "id": "UwJqzxFCrpty"
      },
      "source": [
        "# Exercises\n",
        "\n",
        "The following exercise questions will assist in preparation for this lesson's assignment, to extend our single-layer linear classifier into a multilayer perceptron."
      ]
    },
    {
      "cell_type": "markdown",
      "metadata": {
        "id": "M8mDKF6nrpty"
      },
      "source": [
        "### Exercise 1\n",
        "\n",
        "The key to synthesizing multiple layers is the addition of activation functions after each matrix multiplication. How do you add a **relu** activation to the `layers.Dense(...)` call? \n",
        "\n",
        "Use the following cell to experiment:"
      ]
    },
    {
      "cell_type": "code",
      "execution_count": 34,
      "metadata": {
        "id": "Nt0PpO8qrpty"
      },
      "outputs": [],
      "source": [
        "logits = layers.Dense(10, activation = 'relu')(x)"
      ]
    },
    {
      "cell_type": "markdown",
      "metadata": {
        "id": "6xe5ki6Krpty"
      },
      "source": [
        "#### Hints\n",
        "\n",
        "Use the Jupyter / iPython `?` command to see function and class initialization signatures:"
      ]
    },
    {
      "cell_type": "code",
      "execution_count": 33,
      "metadata": {
        "id": "FcrZjRl9rpty"
      },
      "outputs": [],
      "source": [
        "layers.Dense?"
      ]
    },
    {
      "cell_type": "markdown",
      "metadata": {
        "id": "ML83svDNrpty"
      },
      "source": [
        "### Exercise 2\n",
        "\n",
        "All hidden layers require an activation function, however the last layer (e.g. the layer that yields the final logit scores) **does not**. Why is this so?\n",
        "\n",
        "Create a single hidden layer neural network below, ensuring that the last layer does not have any activation function:"
      ]
    },
    {
      "cell_type": "code",
      "execution_count": 53,
      "metadata": {
        "id": "b7wQhe9Frpty"
      },
      "outputs": [],
      "source": [
        "# --- Define hidden layer size (integer)\n",
        "h0 = 784\n",
        "\n",
        "# --- Define network\n",
        "hidden = layers.Dense(h0, activation='relu')(x)\n",
        "logits = layers.Dense(10)(hidden) "
      ]
    },
    {
      "cell_type": "markdown",
      "metadata": {
        "id": "MsLrLeF6rpty"
      },
      "source": [
        "#### Hints\n",
        "\n",
        "If defined correctly, the model **logit scores** should return values that are both negative and positive. If the `ReLU` activation was accidently applied to the last layer, the logit scores should only be positive. How do we check for this?"
      ]
    },
    {
      "cell_type": "code",
      "execution_count": 54,
      "metadata": {
        "id": "NqOEp-ZIrpty"
      },
      "outputs": [],
      "source": [
        "# --- Create the model\n",
        "backbone = Model(inputs=hidden, outputs=logits)"
      ]
    },
    {
      "cell_type": "code",
      "execution_count": 55,
      "metadata": {
        "id": "G-0S3Bkmrpty",
        "colab": {
          "base_uri": "https://localhost:8080/"
        },
        "outputId": "e3458a91-3592-4981-ec8e-3a782c9cc132"
      },
      "outputs": [
        {
          "output_type": "stream",
          "name": "stdout",
          "text": [
            "[[-4.4933457e+00  8.2976913e-01  5.1583805e+00 ... -1.1828016e+00\n",
            "  -2.9944563e+00 -2.2384133e+00]\n",
            " [ 2.7835667e-01  4.2073536e+00  4.5512400e+00 ...  9.3091822e-01\n",
            "   8.0509454e-01 -5.5518824e-01]\n",
            " [-2.4866319e+00  3.2523737e+00  4.9077363e+00 ...  8.1246078e-01\n",
            "  -9.3595111e-01 -1.8502915e+00]\n",
            " ...\n",
            " [-2.5873914e+00  2.3067613e+00  4.1506939e+00 ... -5.7062030e-01\n",
            "   3.5978496e-01  7.9404914e-01]\n",
            " [-1.1741126e+00  3.2550535e+00  2.4086885e+00 ... -2.3000145e-01\n",
            "   4.8075020e-02 -2.4174643e+00]\n",
            " [ 4.2378902e-05  2.5880356e+00  4.6263590e+00 ... -1.1322231e+00\n",
            "  -1.5708516e+00  4.6488333e-01]]\n"
          ]
        }
      ],
      "source": [
        "# --- Pass an example xs input into the model\n",
        "xs, _ = next(gen_train)\n",
        "scores = backbone.predict(xs['dat'])\n",
        "\n",
        "# --- Print scores\n",
        "print(scores)"
      ]
    }
  ],
  "metadata": {
    "kernelspec": {
      "display_name": "Python 3",
      "language": "python",
      "name": "python3"
    },
    "language_info": {
      "codemirror_mode": {
        "name": "ipython",
        "version": 3
      },
      "file_extension": ".py",
      "mimetype": "text/x-python",
      "name": "python",
      "nbconvert_exporter": "python",
      "pygments_lexer": "ipython3",
      "version": "3.8.5"
    },
    "colab": {
      "name": "linearclass_mlp_tutorial.ipynb",
      "provenance": []
    }
  },
  "nbformat": 4,
  "nbformat_minor": 0
}