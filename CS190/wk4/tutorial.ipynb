{
  "cells": [
    {
      "cell_type": "markdown",
      "metadata": {
        "id": "Z8GLzh7gn8QR"
      },
      "source": [
        "# Overview\n",
        "\n",
        "In this tutorial we will review key modern CNN architecture motifs and discuss implementation strategies using Tensorflow 2 / Keras.\n",
        "\n",
        "**Modern Architectures**\n",
        "\n",
        "* residual connection\n",
        "* bottleneck operation\n",
        "* Inception module\n",
        "* Squeeze-and-Excite (SE) module\n",
        "\n",
        "This tutorial is part of the class **Introduction to Deep Learning for Medical Imaging** at University of California Irvine (CS190); more information can be found at: https://github.com/peterchang77/dl_tutor/tree/master/cs190."
      ]
    },
    {
      "cell_type": "markdown",
      "metadata": {
        "id": "56d3oMiMw8Wm"
      },
      "source": [
        "# Google Colab\n",
        "\n",
        "The following lines of code will configure your Google Colab environment for this tutorial."
      ]
    },
    {
      "cell_type": "markdown",
      "metadata": {
        "id": "pmjoBltqn8QT"
      },
      "source": [
        "### Enable GPU runtime\n",
        "\n",
        "Use the following instructions to switch the default Colab instance into a GPU-enabled runtime:\n",
        "\n",
        "```\n",
        "Runtime > Change runtime type > Hardware accelerator > GPU\n",
        "```"
      ]
    },
    {
      "cell_type": "markdown",
      "metadata": {
        "id": "xn6Gi2Tcn8QU"
      },
      "source": [
        "# Environment"
      ]
    },
    {
      "cell_type": "markdown",
      "metadata": {
        "id": "cJauc29Pn8QU"
      },
      "source": [
        "### Jarvis library\n",
        "\n",
        "In this notebook we will Jarvis, a custom Python package to facilitate data science and deep learning for healthcare. Among other things, this library will be used for low-level data management, stratification and visualization of high-dimensional medical data."
      ]
    },
    {
      "cell_type": "code",
      "execution_count": 1,
      "metadata": {
        "id": "JfI4VBPnn8QU",
        "outputId": "8fd79f6d-1421-4f5b-b1d6-d05deb55f94a",
        "colab": {
          "base_uri": "https://localhost:8080/"
        }
      },
      "outputs": [
        {
          "output_type": "stream",
          "name": "stdout",
          "text": [
            "Collecting jarvis-md\n",
            "  Downloading jarvis_md-0.0.1a17-py3-none-any.whl (89 kB)\n",
            "\u001b[?25l\r\u001b[K     |███▋                            | 10 kB 10.7 MB/s eta 0:00:01\r\u001b[K     |███████▎                        | 20 kB 12.0 MB/s eta 0:00:01\r\u001b[K     |███████████                     | 30 kB 10.7 MB/s eta 0:00:01\r\u001b[K     |██████████████▋                 | 40 kB 7.4 MB/s eta 0:00:01\r\u001b[K     |██████████████████▏             | 51 kB 3.3 MB/s eta 0:00:01\r\u001b[K     |█████████████████████▉          | 61 kB 3.9 MB/s eta 0:00:01\r\u001b[K     |█████████████████████████▌      | 71 kB 4.4 MB/s eta 0:00:01\r\u001b[K     |█████████████████████████████▏  | 81 kB 4.9 MB/s eta 0:00:01\r\u001b[K     |████████████████████████████████| 89 kB 2.6 MB/s \n",
            "\u001b[?25hRequirement already satisfied: numpy in /usr/local/lib/python3.7/dist-packages (from jarvis-md) (1.21.6)\n",
            "Requirement already satisfied: h5py in /usr/local/lib/python3.7/dist-packages (from jarvis-md) (3.1.0)\n",
            "Requirement already satisfied: pandas in /usr/local/lib/python3.7/dist-packages (from jarvis-md) (1.3.5)\n",
            "Requirement already satisfied: requests in /usr/local/lib/python3.7/dist-packages (from jarvis-md) (2.23.0)\n",
            "Requirement already satisfied: scipy in /usr/local/lib/python3.7/dist-packages (from jarvis-md) (1.4.1)\n",
            "Requirement already satisfied: matplotlib in /usr/local/lib/python3.7/dist-packages (from jarvis-md) (3.2.2)\n",
            "Collecting pyyaml>=5.2\n",
            "  Downloading PyYAML-6.0-cp37-cp37m-manylinux_2_5_x86_64.manylinux1_x86_64.manylinux_2_12_x86_64.manylinux2010_x86_64.whl (596 kB)\n",
            "\u001b[K     |████████████████████████████████| 596 kB 34.2 MB/s \n",
            "\u001b[?25hRequirement already satisfied: cached-property in /usr/local/lib/python3.7/dist-packages (from h5py->jarvis-md) (1.5.2)\n",
            "Requirement already satisfied: kiwisolver>=1.0.1 in /usr/local/lib/python3.7/dist-packages (from matplotlib->jarvis-md) (1.4.2)\n",
            "Requirement already satisfied: pyparsing!=2.0.4,!=2.1.2,!=2.1.6,>=2.0.1 in /usr/local/lib/python3.7/dist-packages (from matplotlib->jarvis-md) (3.0.8)\n",
            "Requirement already satisfied: python-dateutil>=2.1 in /usr/local/lib/python3.7/dist-packages (from matplotlib->jarvis-md) (2.8.2)\n",
            "Requirement already satisfied: cycler>=0.10 in /usr/local/lib/python3.7/dist-packages (from matplotlib->jarvis-md) (0.11.0)\n",
            "Requirement already satisfied: typing-extensions in /usr/local/lib/python3.7/dist-packages (from kiwisolver>=1.0.1->matplotlib->jarvis-md) (4.1.1)\n",
            "Requirement already satisfied: six>=1.5 in /usr/local/lib/python3.7/dist-packages (from python-dateutil>=2.1->matplotlib->jarvis-md) (1.15.0)\n",
            "Requirement already satisfied: pytz>=2017.3 in /usr/local/lib/python3.7/dist-packages (from pandas->jarvis-md) (2022.1)\n",
            "Requirement already satisfied: chardet<4,>=3.0.2 in /usr/local/lib/python3.7/dist-packages (from requests->jarvis-md) (3.0.4)\n",
            "Requirement already satisfied: idna<3,>=2.5 in /usr/local/lib/python3.7/dist-packages (from requests->jarvis-md) (2.10)\n",
            "Requirement already satisfied: urllib3!=1.25.0,!=1.25.1,<1.26,>=1.21.1 in /usr/local/lib/python3.7/dist-packages (from requests->jarvis-md) (1.24.3)\n",
            "Requirement already satisfied: certifi>=2017.4.17 in /usr/local/lib/python3.7/dist-packages (from requests->jarvis-md) (2021.10.8)\n",
            "Installing collected packages: pyyaml, jarvis-md\n",
            "  Attempting uninstall: pyyaml\n",
            "    Found existing installation: PyYAML 3.13\n",
            "    Uninstalling PyYAML-3.13:\n",
            "      Successfully uninstalled PyYAML-3.13\n",
            "Successfully installed jarvis-md-0.0.1a17 pyyaml-6.0\n"
          ]
        }
      ],
      "source": [
        "# --- Install jarvis (only in Google Colab or local runtime)\n",
        "% pip install jarvis-md"
      ]
    },
    {
      "cell_type": "markdown",
      "metadata": {
        "id": "3aNJ0GAhn8QV"
      },
      "source": [
        "### Imports\n",
        "\n",
        "Use the following lines to import any additional needed libraries:"
      ]
    },
    {
      "cell_type": "code",
      "execution_count": 2,
      "metadata": {
        "id": "k7ydNwMAn8QV"
      },
      "outputs": [],
      "source": [
        "import numpy as np, pandas as pd\n",
        "from tensorflow.keras import Input, Model, models, layers, losses, metrics, optimizers\n",
        "from jarvis.train import datasets\n",
        "from jarvis.utils.display import imshow"
      ]
    },
    {
      "cell_type": "markdown",
      "metadata": {
        "id": "D3323uxmn8QW"
      },
      "source": [
        "# Data\n",
        "\n",
        "The data used in this tutorial will consist of kidney tumor CT exams derived from the Kidney Tumor Segmentation Challenge (KiTS). More information about he KiTS Challenge can be found here: https://kits21.kits-challenge.org/. In this exercise, we will use this dataset to derive a model for slice-by-slice kidney detection. The custom `datasets.download(...)` method can be used to download a local copy of the dataset. By default the dataset will be archived at `/data/raw/ct_kits`; as needed an alternate location may be specified using `datasets.download(name=..., path=...)`. "
      ]
    },
    {
      "cell_type": "code",
      "execution_count": 3,
      "metadata": {
        "id": "pmDsSUKLn8QW",
        "outputId": "6f2eb2db-d9c3-4657-ae35-fd40599daa51",
        "colab": {
          "base_uri": "https://localhost:8080/"
        }
      },
      "outputs": [
        {
          "output_type": "stream",
          "name": "stdout",
          "text": [
            "[ 2022-04-22 16:03:04 ] [====================] 100.000% : Extracting archive (0000418 / 0000418) "
          ]
        },
        {
          "output_type": "execute_result",
          "data": {
            "text/plain": [
              "{'code': '/data/raw/ct_kits', 'data': '/data/raw/ct_kits'}"
            ]
          },
          "metadata": {},
          "execution_count": 3
        }
      ],
      "source": [
        "# --- Download dataset\n",
        "datasets.download(name='ct/kits-128')"
      ]
    },
    {
      "cell_type": "markdown",
      "metadata": {
        "id": "sSxhKloen8QX"
      },
      "source": [
        "Once downloaded, the `datasets.prepare(...)` method can be used to generate the required python Generators to iterate through the dataset, as well as a `client` object for any needed advanced functionality. As needed, pass any custom configurations (e.g. batch size, normalization parameters, etc) into the optional `configs` dictionary argument. \n",
        "\n",
        "To specificy the correct Generator template file, pass a designated `keyword` string. In this tutorial, we will be using abdominal CT volumes that have been preprocessed into 128 x 128 matrix images, each derived from a *mean intensity projection* (MeanIP) algorithm to approximately 5 mm in slice thickness, facilitating ease of algorithm training within the Google Colab platform. To select the correct Client template for this task, use the keyword string `128*cls`. "
      ]
    },
    {
      "cell_type": "code",
      "execution_count": 4,
      "metadata": {
        "id": "H1MYk_65n8QX"
      },
      "outputs": [],
      "source": [
        "# --- Prepare generators\n",
        "gen_train, gen_valid, client = datasets.prepare(name='ct/kits-128', keyword='128*glb')"
      ]
    },
    {
      "cell_type": "markdown",
      "metadata": {
        "id": "isPIXzR3n8QX"
      },
      "source": [
        "The created generators yield a total of `batch['size']` training samples based on the specified batch size. As before, each iteration yields dictionary of model inputs, `xs`. In the current example, there is just a single input image `xs['dat']` and a single target `xs['lbl']`. Let us examine the generator data:"
      ]
    },
    {
      "cell_type": "code",
      "execution_count": 5,
      "metadata": {
        "id": "srLAdENFn8QX",
        "outputId": "3a782e7b-fe7f-461f-c9bd-db4570969a1a",
        "colab": {
          "base_uri": "https://localhost:8080/"
        }
      },
      "outputs": [
        {
          "output_type": "stream",
          "name": "stdout",
          "text": [
            "key = dat     : shape = (8, 1, 128, 128, 1)\n",
            "key = lbl     : shape = (8, 1, 1, 1, 1)\n"
          ]
        }
      ],
      "source": [
        "# --- Yield one example\n",
        "xs, _ = next(gen_train)\n",
        "\n",
        "# --- Print dict keys\n",
        "for k, v in xs.items():\n",
        "    print('key = {} : shape = {}'.format(k.ljust(7), v.shape))"
      ]
    },
    {
      "cell_type": "markdown",
      "metadata": {
        "id": "wD5ejoTbx1_0"
      },
      "source": [
        "### KITS Data\n",
        "\n",
        "The input images in the variable `dat` are matrices of shape `1 x 128 x 128 x 1`. Note that even though the images here are 2D in shape, the full matrix is a 3D tensor `(z, y, x)` where `z = 1` in this implementation. Note that although the 3rd z-axis dimension is redundant here (for a single slice input), many of our more complex models and architectures will commonly require a full 3D tensor. Because of this, we will directly use 3D convolutions throughout the tutorial materials for consistency."
      ]
    },
    {
      "cell_type": "markdown",
      "metadata": {
        "id": "mnWs3-ymn8QY"
      },
      "source": [
        "Use the following lines of code to visualize using the `imshow(...)` method:"
      ]
    },
    {
      "cell_type": "code",
      "execution_count": 6,
      "metadata": {
        "id": "q5ryK3J9n8QY",
        "outputId": "83c2eb55-2b4c-4f65-c6ef-cce205d07597",
        "colab": {
          "base_uri": "https://localhost:8080/",
          "height": 411
        }
      },
      "outputs": [
        {
          "output_type": "display_data",
          "data": {
            "text/plain": [
              "<Figure size 504x504 with 1 Axes>"
            ],
            "image/png": "[encoded data removed]"
          },
          "metadata": {
            "needs_background": "light"
          }
        }
      ],
      "source": [
        "# --- Show the first example\n",
        "imshow(xs['dat'][0])"
      ]
    },
    {
      "cell_type": "markdown",
      "metadata": {
        "id": "xC7waSi1n8QY"
      },
      "source": [
        "Use the `montage(...)` function to create an N x N mosaic of all images:"
      ]
    },
    {
      "cell_type": "code",
      "execution_count": 7,
      "metadata": {
        "id": "l_wzupNIn8QY",
        "outputId": "8d34fa8b-2727-4f44-caeb-87c662ba2952",
        "colab": {
          "base_uri": "https://localhost:8080/",
          "height": 411
        }
      },
      "outputs": [
        {
          "output_type": "display_data",
          "data": {
            "text/plain": [
              "<Figure size 504x504 with 1 Axes>"
            ],
            "image/png": "[encoded data removed]"
          },
          "metadata": {
            "needs_background": "light"
          }
        }
      ],
      "source": [
        "# --- Show \"montage\" of all images\n",
        "imshow(xs['dat'])"
      ]
    },
    {
      "cell_type": "markdown",
      "metadata": {
        "id": "bXvR3s9Tn8QY"
      },
      "source": [
        "As expected, the `xs['lbl']` vector corresponds to ground-truth, whereby:\n",
        "* class `0`: no kidney\n",
        "* class `1`: kidney"
      ]
    },
    {
      "cell_type": "code",
      "execution_count": 8,
      "metadata": {
        "id": "OLNChpdIn8QZ",
        "outputId": "bba0b1c1-da6a-444c-8a54-e90712ab4660",
        "colab": {
          "base_uri": "https://localhost:8080/"
        }
      },
      "outputs": [
        {
          "output_type": "stream",
          "name": "stdout",
          "text": [
            "[[[[[1]]]]\n",
            "\n",
            "\n",
            "\n",
            " [[[[0]]]]\n",
            "\n",
            "\n",
            "\n",
            " [[[[1]]]]\n",
            "\n",
            "\n",
            "\n",
            " [[[[1]]]]\n",
            "\n",
            "\n",
            "\n",
            " [[[[1]]]]\n",
            "\n",
            "\n",
            "\n",
            " [[[[1]]]]\n",
            "\n",
            "\n",
            "\n",
            " [[[[0]]]]\n",
            "\n",
            "\n",
            "\n",
            " [[[[1]]]]]\n"
          ]
        }
      ],
      "source": [
        "# --- Print xs['lbl']\n",
        "print(xs['lbl'])"
      ]
    },
    {
      "cell_type": "markdown",
      "metadata": {
        "id": "yfzvfpvyn8QZ"
      },
      "source": [
        "# Residual Layer"
      ]
    },
    {
      "cell_type": "markdown",
      "metadata": {
        "id": "lt0bTooRn8QZ"
      },
      "source": [
        "Recall the multiple options for creating a residual connection:\n",
        "\n",
        "![Diagramtric Representation](https://raw.githubusercontent.com/peterchang77/dl_tutor/master/cs190/spring_2022/notebooks/detection/pngs/residual.png)"
      ]
    },
    {
      "cell_type": "markdown",
      "metadata": {
        "id": "rDrjYzjKn8QZ"
      },
      "source": [
        "In this tutorial, we will recreate the highest performing residual connection implemented using **full pre-activation**. \n",
        "\n",
        "Let us first begin by defining a single `Input` variable `x`:"
      ]
    },
    {
      "cell_type": "code",
      "execution_count": 55,
      "metadata": {
        "id": "oe4uLG-an8QZ"
      },
      "outputs": [],
      "source": [
        "# --- Define model input \n",
        "x = Input(shape=(None, 128, 128, 1), dtype='float32')"
      ]
    },
    {
      "cell_type": "markdown",
      "metadata": {
        "id": "gfFw5MZun8QZ"
      },
      "source": [
        "As in the prior tutorial, let us set up the same lambda functions for CNN definition:"
      ]
    },
    {
      "cell_type": "code",
      "execution_count": 10,
      "metadata": {
        "id": "m2PnswLIn8QZ"
      },
      "outputs": [],
      "source": [
        "# --- Define kwargs dictionary\n",
        "kwargs = {\n",
        "    'kernel_size': (1, 3, 3),\n",
        "    'padding': 'same'}\n",
        "\n",
        "# --- Define lambda functions\n",
        "conv = lambda x, filters, strides : layers.Conv3D(filters=filters, strides=strides, **kwargs)(x)\n",
        "norm = lambda x : layers.BatchNormalization()(x)\n",
        "relu = lambda x : layers.ReLU()(x)"
      ]
    },
    {
      "cell_type": "markdown",
      "metadata": {
        "id": "-Jp84Fjtn8QZ"
      },
      "source": [
        "Now instead of our standard block, let us define a **full pre-activation** block instead:\n",
        "\n",
        "* `[ conv - norm - relu ]` ==> original (standard) \n",
        "* `[ norm - relu - conv ]` ==> full pre-activation"
      ]
    },
    {
      "cell_type": "code",
      "execution_count": 11,
      "metadata": {
        "id": "MHU53OIZn8QZ"
      },
      "outputs": [],
      "source": [
        "# --- Define stride-1, stride-2 blocks\n",
        "conv1 = lambda filters, x : conv(relu(norm(x)), filters, strides=1)\n",
        "conv2 = lambda filters, x : conv(relu(norm(x)), filters, strides=(1, 2, 2))"
      ]
    },
    {
      "cell_type": "markdown",
      "metadata": {
        "id": "Zh_GEkpwn8QZ"
      },
      "source": [
        "To seed a **full pre-activation** ResNet, start by applying a naive convolution (no activation) to the first input layer:"
      ]
    },
    {
      "cell_type": "code",
      "execution_count": 12,
      "metadata": {
        "id": "wPDkpPJSn8Qa"
      },
      "outputs": [],
      "source": [
        "# --- First standard conv layer\n",
        "l0 = conv(x, filters=16, strides=1) "
      ]
    },
    {
      "cell_type": "markdown",
      "metadata": {
        "id": "FY2k6y2mn8Qa"
      },
      "source": [
        "For the remaining network blocks, implementation of a residual function is straightforward as recent versions of Tensorflow / Keras layers can utilize the native Python addition `+` operator directly:"
      ]
    },
    {
      "cell_type": "code",
      "execution_count": 13,
      "metadata": {
        "id": "vOfcgbA1n8Qa"
      },
      "outputs": [],
      "source": [
        "# --- Define blocks\n",
        "l1 = conv1(16, l0)\n",
        "l2 = conv1(16, l1)\n",
        "\n",
        "# --- Define third block with residual connection\n",
        "l3 = conv1(16, l2) + l1"
      ]
    },
    {
      "cell_type": "markdown",
      "metadata": {
        "id": "jJG2GZ6vn8Qb"
      },
      "source": [
        "### Projection\n",
        "\n",
        "Note that layers can added **only if** the layer sizes match exactly. What happens if the total number of feature maps (e.g. layer depth) is different? The solution is use of the `1 x 1` projection matrix (e.g. convolutional operation without corresponding nonlinearity). Here the third and fourth dimension of the convolutional kernel are designed to match the number of channels in the input and target output tensors, respectively:\n",
        "\n",
        "```\n",
        "filter size = I x J x C0 x C1\n",
        "\n",
        "I  ==> 1\n",
        "J  ==> 1\n",
        "C0 ==> # of channels in input tensor\n",
        "C1 ==> # of channels in output tensor\n",
        "```\n",
        "\n",
        "Recall that in Tensorflow, only the output layer channel size needs to be defined (the third channel of the convolutional kernel is inferred based on the input tensor). Consider the following example:"
      ]
    },
    {
      "cell_type": "code",
      "execution_count": 14,
      "metadata": {
        "id": "FYJPoEv6n8Qb"
      },
      "outputs": [],
      "source": [
        "# --- Define blocks\n",
        "l1 = conv1(16, l0)\n",
        "l2 = conv1(32, l1)\n",
        "\n",
        "# --- Define third block with residual connection\n",
        "l3 = conv1(32, l2) # + l1 would not work"
      ]
    },
    {
      "cell_type": "markdown",
      "metadata": {
        "id": "R0mjEvgRn8Qb"
      },
      "source": [
        "At this point, `l1` cannot be added since dimensions do not match. Thus consider the following projection operation:"
      ]
    },
    {
      "cell_type": "code",
      "execution_count": 15,
      "metadata": {
        "id": "ZlATdwHVn8Qb"
      },
      "outputs": [],
      "source": [
        "# --- Define projection\n",
        "proj = lambda filters, x : layers.Conv3D(\n",
        "    filters=filters, \n",
        "    strides=1, \n",
        "    kernel_size=(1, 1, 1),\n",
        "    padding='same')(x)\n",
        "\n",
        "# --- Define third block with residual connection\n",
        "l3 = conv1(32, l2) + proj(32, l1)"
      ]
    },
    {
      "cell_type": "markdown",
      "metadata": {
        "id": "-Y-H7OFfn8Qb"
      },
      "source": [
        "What about differences not only in channel depth but also feature map size?"
      ]
    },
    {
      "cell_type": "code",
      "execution_count": 16,
      "metadata": {
        "id": "aMN8_UKjn8Qb"
      },
      "outputs": [],
      "source": [
        "# --- Define blocks\n",
        "l1 = conv1(16, l0)\n",
        "l2 = conv2(32, l1)\n",
        "\n",
        "# --- Define third block with residual connection\n",
        "l3 = conv1(32, l2) # + l1 would not work"
      ]
    },
    {
      "cell_type": "markdown",
      "metadata": {
        "id": "8_VCJbhCn8Qb"
      },
      "source": [
        "To match the subsample operation, the projection operation now also must strided as well. Given this, it may be useful to increase the `kernel_size` of the project operation as you recall so that all activations are contributing to the output projection tensor:"
      ]
    },
    {
      "cell_type": "code",
      "execution_count": 17,
      "metadata": {
        "id": "7z3ovIBPn8Qb"
      },
      "outputs": [],
      "source": [
        "# --- Define projection\n",
        "proj = lambda filters, x : layers.Conv3D(\n",
        "    filters=filters, \n",
        "    strides=(1, 2, 2), \n",
        "    kernel_size=(1, 1, 1),\n",
        "    padding='same')(x)\n",
        "\n",
        "# --- Define third block with residual connection\n",
        "l3 = conv1(32, l2) + proj(32, l1)"
      ]
    },
    {
      "cell_type": "markdown",
      "metadata": {
        "id": "Quy1llZBn8Qb"
      },
      "source": [
        "### Bottleneck\n",
        "\n",
        "![Bottleneck](https://raw.githubusercontent.com/peterchang77/dl_tutor/master/cs190/spring_2022/notebooks/detection/pngs/bottleneck.png)\n",
        "\n",
        "Bottleneck operations are used to decrease the total number of feature maps (filters) for convolutional efficiency. They are similar to projection operations in that both utilize a `1 x 1 x 1` convolutional kernel, however a bottleneck operation includes a nonlinearity term e.g., it is defined as a full convolutional *block*. "
      ]
    },
    {
      "cell_type": "code",
      "execution_count": 18,
      "metadata": {
        "id": "tKcClMPHn8Qb"
      },
      "outputs": [],
      "source": [
        "# --- Define projection\n",
        "bneck = lambda filters, x : layers.Conv3D(\n",
        "    filters=filters, \n",
        "    strides=1, \n",
        "    kernel_size=(1, 1, 1),\n",
        "    padding='same')(relu(norm(x)))\n",
        "\n",
        "# --- Define standard conv-conv block\n",
        "l1 = conv1(32, l0)\n",
        "l2 = conv1(32, l1)\n",
        "\n",
        "# --- Define bottleneck conv-conv block\n",
        "l1 = conv1(32, l0)\n",
        "l2 = bneck(32, conv1(8, bneck(8, l1)))"
      ]
    },
    {
      "cell_type": "code",
      "source": [
        "conv1(32,l0)"
      ],
      "metadata": {
        "id": "arwM7_aV1U00",
        "outputId": "cbe63edb-ce8e-420d-e31f-ce3dd9726940",
        "colab": {
          "base_uri": "https://localhost:8080/"
        }
      },
      "execution_count": 19,
      "outputs": [
        {
          "output_type": "execute_result",
          "data": {
            "text/plain": [
              "<KerasTensor: shape=(None, None, 128, 128, 32) dtype=float32 (created by layer 'conv3d_20')>"
            ]
          },
          "metadata": {},
          "execution_count": 19
        }
      ]
    },
    {
      "cell_type": "code",
      "source": [
        "bneck(8,l1)"
      ],
      "metadata": {
        "id": "lHrGBkq11Xsw",
        "outputId": "9c5e5a53-1572-4e0c-a154-2e21fd902f60",
        "colab": {
          "base_uri": "https://localhost:8080/"
        }
      },
      "execution_count": 20,
      "outputs": [
        {
          "output_type": "execute_result",
          "data": {
            "text/plain": [
              "<KerasTensor: shape=(None, None, 128, 128, 8) dtype=float32 (created by layer 'conv3d_21')>"
            ]
          },
          "metadata": {},
          "execution_count": 20
        }
      ]
    },
    {
      "cell_type": "code",
      "source": [
        "conv1(8, bneck(8, l1))"
      ],
      "metadata": {
        "id": "n2cUE2y21ay5",
        "outputId": "657185c4-2f91-4a41-f951-2ac54a6a0de6",
        "colab": {
          "base_uri": "https://localhost:8080/"
        }
      },
      "execution_count": 21,
      "outputs": [
        {
          "output_type": "execute_result",
          "data": {
            "text/plain": [
              "<KerasTensor: shape=(None, None, 128, 128, 8) dtype=float32 (created by layer 'conv3d_23')>"
            ]
          },
          "metadata": {},
          "execution_count": 21
        }
      ]
    },
    {
      "cell_type": "code",
      "source": [
        "bneck(32, conv1(8, bneck(8,l1)))"
      ],
      "metadata": {
        "id": "MkGRK6Jg1evP",
        "outputId": "e266fe40-f958-449d-bced-a18c0a5552c4",
        "colab": {
          "base_uri": "https://localhost:8080/"
        }
      },
      "execution_count": 22,
      "outputs": [
        {
          "output_type": "execute_result",
          "data": {
            "text/plain": [
              "<KerasTensor: shape=(None, None, 128, 128, 32) dtype=float32 (created by layer 'conv3d_26')>"
            ]
          },
          "metadata": {},
          "execution_count": 22
        }
      ]
    },
    {
      "cell_type": "markdown",
      "metadata": {
        "id": "RDyKpbpmn8Qb"
      },
      "source": [
        "What is the computational efficiency of the bottleneck vs. the standard conv block in this example?"
      ]
    },
    {
      "cell_type": "markdown",
      "metadata": {
        "id": "MeFagMWyn8Qb"
      },
      "source": [
        "# Inception"
      ]
    },
    {
      "cell_type": "markdown",
      "metadata": {
        "id": "MNgUIHCpn8Qc"
      },
      "source": [
        "Recall the definition of an Inception module:\n",
        "\n",
        "![Inception](https://raw.githubusercontent.com/peterchang77/dl_tutor/master/cs190/spring_2021/notebooks/detection/pngs/inception.png)"
      ]
    },
    {
      "cell_type": "markdown",
      "metadata": {
        "id": "86lMSbkkn8Qc"
      },
      "source": [
        "Let us first implement a naive Inception module without any bottlenecks. Recall that we will need four different paths implemented:\n",
        "\n",
        "* 1x1 convolution\n",
        "* 3x3 convolution\n",
        "* 5x5 convolution\n",
        "* 3x3 max-pool\n",
        "\n",
        "Let us define these building blocks with the following lambda functions:"
      ]
    },
    {
      "cell_type": "code",
      "execution_count": 23,
      "metadata": {
        "id": "PLHxtLvQn8Qc"
      },
      "outputs": [],
      "source": [
        "# --- Define lambda functions\n",
        "conv = lambda x, filters,kernel_size : layers.Conv3D(\n",
        "    filters=filters, \n",
        "    kernel_size=kernel_size, \n",
        "    padding='same')(x)\n",
        "\n",
        "norm = lambda x : layers.BatchNormalization()(x)\n",
        "relu = lambda x : layers.ReLU()(x)\n",
        "\n",
        "# --- Define 1x1, 3x3, 5x5 convs and 3x3 pools\n",
        "conv1 = lambda filters, x : relu(norm(conv(x, filters, kernel_size=(1, 1, 1))))\n",
        "conv3 = lambda filters, x : relu(norm(conv(x, filters, kernel_size=(1, 3, 3))))\n",
        "conv5 = lambda filters, x : relu(norm(conv(x, filters, kernel_size=(1, 5, 5))))\n",
        "mpool = lambda x : layers.MaxPool3D(pool_size=(1, 3, 3), strides=1, padding='same')(x)"
      ]
    },
    {
      "cell_type": "markdown",
      "metadata": {
        "id": "ac0tFAKjn8Qc"
      },
      "source": [
        "Note that in the above implementation, max-pooling is used as a standard layer without any subsampling."
      ]
    },
    {
      "cell_type": "markdown",
      "metadata": {
        "id": "Saaour8un8Qc"
      },
      "source": [
        "Let us now use these lambda functions to create a test Inception module:"
      ]
    },
    {
      "cell_type": "code",
      "execution_count": 24,
      "metadata": {
        "id": "Ta1S7Csen8Qc"
      },
      "outputs": [],
      "source": [
        "# --- Define first layer operation\n",
        "l1 = conv3(16, x)\n",
        "\n",
        "# --- Define four different paths\n",
        "filters = 16\n",
        "p1 = conv1(filters, l1)\n",
        "p2 = conv3(filters, l1)\n",
        "p3 = conv5(filters, l1)\n",
        "p4 = mpool(l1)\n",
        "\n",
        "# --- Concatenate\n",
        "l2 = layers.Concatenate()([p1, p2, p3, p4])"
      ]
    },
    {
      "cell_type": "markdown",
      "metadata": {
        "id": "KwLO8NJ2n8Qc"
      },
      "source": [
        "As discussed, naive implementation of the Inception module yields large channel depths over time. To avoid this, use bottleneck operations. In the current code blocks, note that the `conv1` lambda function e.g., 1 x 1 convolution, can be used for this purpose."
      ]
    },
    {
      "cell_type": "code",
      "execution_count": 25,
      "metadata": {
        "id": "OwZvMZ2Cn8Qc"
      },
      "outputs": [],
      "source": [
        "# --- Define first layer operation\n",
        "l1 = conv3(16, x)\n",
        "\n",
        "# --- Define four different paths\n",
        "filters = 4\n",
        "p1 = conv1(filters, l1)\n",
        "p2 = conv3(filters, conv1(filters, l1))\n",
        "p3 = conv5(filters, conv1(filters, l1))\n",
        "p4 = conv1(filters, mpool(l1))\n",
        "\n",
        "# --- Concatenate\n",
        "l2 = layers.Concatenate()([p1, p2, p3, p4])"
      ]
    },
    {
      "cell_type": "markdown",
      "metadata": {
        "id": "1dxb18BYn8Qc"
      },
      "source": [
        "# Squeeze-and-Excite\n",
        "\n",
        "Recall the definition of a squeeze-and-excite module:\n",
        "\n",
        "![SENet](https://pbs.twimg.com/media/DO25715W0AAxIKA.jpg)"
      ]
    },
    {
      "cell_type": "markdown",
      "metadata": {
        "id": "P_65UXp7n8Qc"
      },
      "source": [
        "### SE Module\n",
        "\n",
        "The SE module is a simple modification that can be applied to any existing architecture. Starting with the output of any standard convolutional block (e.g., convolution and activation function), the intermediate feature map is scaled by a constant value independently across all channels to *emphasize* the important features for any given single image (or volume). The scaling values are learned via an SE block, which is characterized by several key features:\n",
        "\n",
        "```\n",
        "# --- Define stride-1, stride-2 blocks\n",
        "conv1 = lambda filters, x : relu(norm(conv(x, filters, strides=1)))\n",
        "conv2 = lambda filters, x : relu(norm(conv(x, filters, strides=(1, 2, 2))))\n",
        "```\n",
        "\n",
        "* **squeeze**: collapse of N x N feature maps to 1 x 1 feature vectors via global pooling\n",
        "* **excitation**: two fully connected layers to model channel-wise (feature-wise) interdependencies\n",
        "* **scale**: scaling all feature maps by the learned *excitation* values"
      ]
    },
    {
      "cell_type": "markdown",
      "metadata": {
        "id": "qjfcjV-On8Qc"
      },
      "source": [
        "Start this implementation by creating a first layer feature map:"
      ]
    },
    {
      "cell_type": "code",
      "execution_count": 26,
      "metadata": {
        "id": "Pa4hndCNn8Qc"
      },
      "outputs": [],
      "source": [
        "# --- Define kwargs dictionary\n",
        "kwargs = {\n",
        "    'kernel_size': (1, 3, 3),\n",
        "    'padding': 'same'}\n",
        "\n",
        "# --- Define lambda functions\n",
        "conv = lambda x, filters, strides : layers.Conv3D(filters=filters, strides=strides, **kwargs)(x)\n",
        "norm = lambda x : layers.BatchNormalization()(x)\n",
        "relu = lambda x : layers.ReLU()(x)\n",
        "\n",
        "# --- Define stride-1, stride-2 blocks\n",
        "conv1 = lambda filters, x : relu(norm(conv(x, filters, strides=1)))\n",
        "conv2 = lambda filters, x : relu(norm(conv(x, filters, strides=(1, 2, 2))))\n",
        "\n",
        "# --- Define model\n",
        "l1 = conv1(32,  x)"
      ]
    },
    {
      "cell_type": "markdown",
      "metadata": {
        "id": "k03YlVT4n8Qc"
      },
      "source": [
        "Use the following lines of code to modify the output feature map `l1` by a scalar vector:"
      ]
    },
    {
      "cell_type": "code",
      "execution_count": 51,
      "metadata": {
        "id": "WeK6HHHun8Qc"
      },
      "outputs": [],
      "source": [
        "# --- Squeeze (global pool)\n",
        "sqz = layers.AveragePooling3D((1, l1.shape[2], l1.shape[3]))(l1)\n",
        "\n",
        "# --- Excitation (reduce channels to 1 / R) ==> in this example set R = 4 arbitrarily\n",
        "cha = int(l1.shape[-1] / 4)\n",
        "exc = layers.Conv3D(filters=cha, kernel_size=1, activation='relu')(sqz)\n",
        "\n",
        "# --- Scale (expand channels to original size)\n",
        "sca = layers.Conv3D(filters=l1.shape[-1], kernel_size=1, activation='sigmoid')(exc)\n",
        "\n",
        "# --- Modify l1\n",
        "l1 = l1 * sca"
      ]
    },
    {
      "cell_type": "code",
      "source": [
        "cha = int(l1.shape[-1]/4)"
      ],
      "metadata": {
        "id": "gm7BdsiQ3pFK"
      },
      "execution_count": 28,
      "outputs": []
    },
    {
      "cell_type": "code",
      "source": [
        "cha"
      ],
      "metadata": {
        "id": "jFEyTz8X3r4k",
        "outputId": "0e2180a7-8dfb-471a-8f4d-2b52357fc75b",
        "colab": {
          "base_uri": "https://localhost:8080/"
        }
      },
      "execution_count": 29,
      "outputs": [
        {
          "output_type": "execute_result",
          "data": {
            "text/plain": [
              "8"
            ]
          },
          "metadata": {},
          "execution_count": 29
        }
      ]
    },
    {
      "cell_type": "code",
      "source": [
        "sca"
      ],
      "metadata": {
        "id": "lwtG_bip3uxP",
        "outputId": "d982a16b-6439-4c2c-a55b-f38572064d11",
        "colab": {
          "base_uri": "https://localhost:8080/"
        }
      },
      "execution_count": 30,
      "outputs": [
        {
          "output_type": "execute_result",
          "data": {
            "text/plain": [
              "<KerasTensor: shape=(None, None, 1, 1, 32) dtype=float32 (created by layer 'conv3d_40')>"
            ]
          },
          "metadata": {},
          "execution_count": 30
        }
      ]
    },
    {
      "cell_type": "code",
      "source": [
        "l1.shape"
      ],
      "metadata": {
        "id": "U2mXFhQ_H_m-",
        "outputId": "d34c201d-3a17-4478-b55c-d5f573be9b1b",
        "colab": {
          "base_uri": "https://localhost:8080/"
        }
      },
      "execution_count": 52,
      "outputs": [
        {
          "output_type": "execute_result",
          "data": {
            "text/plain": [
              "TensorShape([None, None, 128, 128, 32])"
            ]
          },
          "metadata": {},
          "execution_count": 52
        }
      ]
    },
    {
      "cell_type": "markdown",
      "metadata": {
        "id": "Vjq7oJFMn8Qc"
      },
      "source": [
        "Now that `l1` has been modified, it can be passed to the next layer exactly as before (e.g., with another `conv1(...)` or `conv2(...)` operation."
      ]
    },
    {
      "cell_type": "markdown",
      "metadata": {
        "id": "WmUEIjRRn8Qd"
      },
      "source": [
        "# Creating Models\n",
        "\n",
        "Let us compile a temporary model for purposes of demontrating evaluation procedure. Note that in this example, no special motifs are used.\n",
        "\n",
        "## Backbone model\n",
        "\n",
        "Using the concepts introduced above, let us start by recreating the base `backbone` model (e.g., without training dependencies). Use the following line of code to create the `backbone` model:"
      ]
    },
    {
      "cell_type": "code",
      "execution_count": 56,
      "metadata": {
        "id": "eLORU7KTn8Qd"
      },
      "outputs": [],
      "source": [
        "# --- Define convolution parameters\n",
        "kwargs = {\n",
        "    'kernel_size': (1, 3, 3),\n",
        "    'padding': 'same',\n",
        "    'kernel_initializer': 'he_normal'}\n",
        "\n",
        "# --- Define block components\n",
        "conv = lambda x, filters, strides : layers.Conv3D(filters=filters, strides=strides, **kwargs)(x)\n",
        "norm = lambda x : layers.BatchNormalization()(x)\n",
        "relu = lambda x : layers.ReLU()(x)\n",
        "\n",
        "# --- Define stride-1, stride-2 blocks\n",
        "conv1 = lambda filters, x : relu(norm(conv(x, filters, strides=1)))\n",
        "conv2 = lambda filters, x : relu(norm(conv(x, filters, strides=(1, 2, 2)))) "
      ]
    },
    {
      "cell_type": "code",
      "execution_count": 57,
      "metadata": {
        "id": "PFnYcXr6n8Qd"
      },
      "outputs": [],
      "source": [
        "# --- Define model\n",
        "l1 = conv1(32,  x)\n",
        "l2 = conv1(48,  conv2(48,  l1))\n",
        "l3 = conv1(64,  conv2(64,  l2))\n",
        "l4 = conv1(80,  conv2(80,  l3))\n",
        "l5 = conv1(96,  conv2(96,  l4))\n",
        "l6 = conv1(128, conv2(128, l5))"
      ]
    },
    {
      "cell_type": "markdown",
      "metadata": {
        "id": "1OLHkyGen8Qd"
      },
      "source": [
        "### Transition from CNN to MLP\n",
        "\n",
        "At this point of the model, to convert from CNN to MLP architecture, the `(1, N, N, C)` feature maps need to be collapsed into vector form. A `layers.Flatten()` operation may accomplish this by converting our feature map to a single `(1 * N * N * C,)` vector. An alternative to this is to use a `layers.Reshape()` operation to convert our feature map to a `(1, 1, 1, N * N * C)` feature map; subsequently, any additional 3D convolutional operation with kernel size `(1, 1, 1, C-in, C-out)` will be **identical** to a matrix multiply operation.\n",
        "\n",
        "In other words:\n",
        "\n",
        "```\n",
        "input          | output                | output type    | downstream matrix multiply operations\n",
        "---------------------------------------------------------------------------------------------------\n",
        "(1, N, N, C)   | (N * N * C,)          | vector         | layers.Dense(...)\n",
        "(1, N, N, C)   | (1, 1, 1, N * N * C)  | feature map    | layers.Conv3D(filters=...)\n",
        "```\n",
        "\n",
        "In this implementation (and all other tutorial examples) we will use the second option using `layers.Reshape(...)`. The rationale is that while we are currently training with 2D input slices of shape `(1, 240, 240)`, once the model is trained we would like to pass any volume of arbitrary size into the model (e.g., many slices). A global `layers.Flatten()` operation will convert the entire 3D volume into a vector without preserving slice-by-slice information. A `layers.Reshape([-1, 1, 1, N * N * C])` operation however will be able to flexibly handle arbirary shapes.\n",
        "\n",
        "Fo example, let us assume we have an input with z- number of slices:\n",
        "\n",
        "```\n",
        "input          | operation                               | output\n",
        "---------------------------------------------------------------------------------------------------\n",
        "(Z, N, N, C)   | layers.Flatten()                        | (Z * N * N * C,)\n",
        "(Z, N, N, C)   | layers.Reshape([-1, 1, 1, N * N * C])   | (Z, 1, 1, N * N * C)\n",
        "```\n",
        "\n",
        "The output of the `layers.Flatten()` operation is a single vector (e.g., all slices are collapsed). By contrast, the output of the `layers.Reshape(...)` operation by contrast allows for a total of `z` feature vectors each of shape `N * N * C`."
      ]
    },
    {
      "cell_type": "code",
      "execution_count": 58,
      "metadata": {
        "id": "gE9jS7gYn8Qd"
      },
      "outputs": [],
      "source": [
        "# --- Extract shape and reshape\n",
        "n0, n1, c = l6.shape[-3:]\n",
        "f0 = layers.Reshape([-1, 1, 1, n0 * n1 * c])(l6)\n",
        "\n",
        "# --- Create logits\n",
        "logits = layers.Conv3D(filters=2, kernel_size=1)(f0)\n",
        "\n",
        "# --- Create model\n",
        "backbone = Model(inputs=x, outputs=logits)"
      ]
    },
    {
      "cell_type": "code",
      "source": [
        "logits"
      ],
      "metadata": {
        "id": "UFpCsIlPHO1L",
        "outputId": "f29adb43-43fb-4282-d301-8c2f45e9e661",
        "colab": {
          "base_uri": "https://localhost:8080/"
        }
      },
      "execution_count": 59,
      "outputs": [
        {
          "output_type": "execute_result",
          "data": {
            "text/plain": [
              "<KerasTensor: shape=(None, None, 1, 1, 2) dtype=float32 (created by layer 'conv3d_67')>"
            ]
          },
          "metadata": {},
          "execution_count": 59
        }
      ]
    },
    {
      "cell_type": "markdown",
      "metadata": {
        "id": "Nu-SkLDyn8Qd"
      },
      "source": [
        "## Training model"
      ]
    },
    {
      "cell_type": "markdown",
      "metadata": {
        "id": "gJTXcXhUn8Qd"
      },
      "source": [
        "Next, the `backbone` model architecture is wrapped in a second model with additional layer(s) that define optimization behavior including loss function derivations.\n",
        "\n",
        "### Inputs\n",
        "\n",
        "As before, we start by defining all `inputs` into our new *wrapper* model."
      ]
    },
    {
      "cell_type": "code",
      "execution_count": 34,
      "metadata": {
        "id": "--GXAhILn8Qd"
      },
      "outputs": [],
      "source": [
        "inputs = {\n",
        "    'dat': Input(shape=(1, 128, 128, 1), name='dat'),\n",
        "    'lbl': Input(shape=(1, 1, 1, 1), name='lbl')}"
      ]
    },
    {
      "cell_type": "markdown",
      "metadata": {
        "id": "yR5BbDbMn8Qd"
      },
      "source": [
        "Using this `inputs` Python dictionary, let us first recreate the CNN model operations by **reusing** the `backbone` object that we already defined. Doing so means that our new *wrapper* model is explicitly derived from the `backbone`. Any updates applied to our new *wrapper* model are propogated to the `backbone` model and vice versa. "
      ]
    },
    {
      "cell_type": "code",
      "execution_count": 35,
      "metadata": {
        "id": "ITJA_oSDn8Qd"
      },
      "outputs": [],
      "source": [
        "# --- Define first step of new wrapper model\n",
        "logits = backbone(inputs['dat'])"
      ]
    },
    {
      "cell_type": "markdown",
      "metadata": {
        "id": "p5Mz9tvyn8Qd"
      },
      "source": [
        "To define a softmax cross-entropy loss in Tensorflow, use the `losses.SparseCategoricalCrossentropy(...)` class:"
      ]
    },
    {
      "cell_type": "code",
      "execution_count": 36,
      "metadata": {
        "id": "3jcOtevAn8Qd"
      },
      "outputs": [],
      "source": [
        "# --- Define loss object\n",
        "sce = losses.SparseCategoricalCrossentropy(from_logits=True)\n",
        "\n",
        "# --- Create loss tensor\n",
        "loss = sce(y_true=inputs['lbl'], y_pred=logits)"
      ]
    },
    {
      "cell_type": "markdown",
      "metadata": {
        "id": "lSZ6RxKOn8Qd"
      },
      "source": [
        " Use the TensorFlow built-in method `metrics.sparse_categorical_accuracy(...)` to calculate per-batch accuracy:"
      ]
    },
    {
      "cell_type": "code",
      "execution_count": 37,
      "metadata": {
        "id": "g-GWDFZQn8Qd"
      },
      "outputs": [],
      "source": [
        "# --- Define accuracy\n",
        "acc = metrics.sparse_categorical_accuracy(y_true=inputs['lbl'], y_pred=logits)"
      ]
    },
    {
      "cell_type": "markdown",
      "metadata": {
        "id": "HrDuw323n8Qd"
      },
      "source": [
        "### Create model\n",
        "\n",
        "Now let us create the new wrapper model. The inputs are defined above already in our `inputs` Python dictionary. As outputs, let us return both the `logits` tensor as well as the `loss`. We will name this new wrapper model `training` because it will be used for training only. "
      ]
    },
    {
      "cell_type": "code",
      "execution_count": 38,
      "metadata": {
        "id": "7cFD0Jk-n8Qd"
      },
      "outputs": [],
      "source": [
        "training = Model(inputs=inputs, outputs={'logits': logits, 'loss': loss, 'acc': acc})"
      ]
    },
    {
      "cell_type": "markdown",
      "metadata": {
        "id": "1RIjbDWVn8Qe"
      },
      "source": [
        "Now let's add the `loss` and `metric` tensorws we defined above to the new `training` model:"
      ]
    },
    {
      "cell_type": "code",
      "execution_count": 39,
      "metadata": {
        "id": "43DplshXn8Qe"
      },
      "outputs": [],
      "source": [
        "# --- Add loss\n",
        "training.add_loss(loss)\n",
        "\n",
        "# --- Add metric\n",
        "training.add_metric(acc, name='acc')"
      ]
    },
    {
      "cell_type": "markdown",
      "metadata": {
        "id": "P488r2Jzn8Qe"
      },
      "source": [
        "### Compile model\n",
        "\n",
        " To prepare the model for learning, a graph must be **compiled** with a strategy for optimization."
      ]
    },
    {
      "cell_type": "code",
      "execution_count": 40,
      "metadata": {
        "id": "RgDlei2Bn8Qe"
      },
      "outputs": [],
      "source": [
        "# --- Define an Adam optimizer\n",
        "optimizer = optimizers.Adam(learning_rate=2e-4)\n",
        "\n",
        "# --- Compile model\n",
        "training.compile(optimizer=optimizer)"
      ]
    },
    {
      "cell_type": "markdown",
      "metadata": {
        "id": "O29__oIrn8Qe"
      },
      "source": [
        "## Model Training\n",
        "\n",
        "At this point, the model is ready for training using the standard `training.fit(...)` API with our train and valid generators."
      ]
    },
    {
      "cell_type": "markdown",
      "metadata": {
        "id": "o2HIpXZZn8Qe"
      },
      "source": [
        "### In-memory data\n",
        "\n",
        "For moderate sized datasets which are too large to fit into immediate hard-drive cache, but small enough to fit into RAM memory, it is often times a good idea to first load all training data into RAM memory for increased speed of training. The `client` can be used for this purpose as follows:"
      ]
    },
    {
      "cell_type": "code",
      "execution_count": 41,
      "metadata": {
        "id": "HlvxajF7n8Qe",
        "outputId": "ec8e65e6-7bbb-490a-f52b-d24a896e6863",
        "colab": {
          "base_uri": "https://localhost:8080/"
        }
      },
      "outputs": [
        {
          "output_type": "stream",
          "name": "stdout",
          "text": [
            "[ 2022-04-22 16:03:27 ] [====================] 100.000% : Iterating | 000203    "
          ]
        }
      ],
      "source": [
        "# --- Load data into memory for faster training\n",
        "client.load_data_in_memory()"
      ]
    },
    {
      "cell_type": "code",
      "execution_count": 42,
      "metadata": {
        "id": "xsejeoxun8Qe",
        "outputId": "928b4851-2134-4186-aa25-f17b00b69bef",
        "colab": {
          "base_uri": "https://localhost:8080/"
        }
      },
      "outputs": [
        {
          "output_type": "stream",
          "name": "stdout",
          "text": [
            "Epoch 1/10\n",
            "100/100 [==============================] - 65s 627ms/step - loss: 0.5932 - acc: 0.7325\n",
            "Epoch 2/10\n",
            "100/100 [==============================] - 66s 663ms/step - loss: 0.3462 - acc: 0.8425\n",
            "Epoch 3/10\n",
            "100/100 [==============================] - 70s 703ms/step - loss: 0.3027 - acc: 0.8800\n",
            "Epoch 4/10\n",
            "100/100 [==============================] - 71s 707ms/step - loss: 0.2539 - acc: 0.8975\n",
            "Epoch 5/10\n",
            "100/100 [==============================] - 90s 903ms/step - loss: 0.2424 - acc: 0.8963 - val_loss: 0.2910 - val_acc: 0.8737\n",
            "Epoch 6/10\n",
            "100/100 [==============================] - 64s 640ms/step - loss: 0.2030 - acc: 0.9225\n",
            "Epoch 7/10\n",
            "100/100 [==============================] - 60s 597ms/step - loss: 0.1767 - acc: 0.9187\n",
            "Epoch 8/10\n",
            "100/100 [==============================] - 65s 653ms/step - loss: 0.2130 - acc: 0.9150\n",
            "Epoch 9/10\n",
            "100/100 [==============================] - 71s 710ms/step - loss: 0.2114 - acc: 0.9175\n",
            "Epoch 10/10\n",
            "100/100 [==============================] - 79s 792ms/step - loss: 0.1951 - acc: 0.9212 - val_loss: 0.2663 - val_acc: 0.8938\n"
          ]
        },
        {
          "output_type": "execute_result",
          "data": {
            "text/plain": [
              "<keras.callbacks.History at 0x7f87e976ba10>"
            ]
          },
          "metadata": {},
          "execution_count": 42
        }
      ],
      "source": [
        "training.fit(\n",
        "    x=gen_train, \n",
        "    steps_per_epoch=100, \n",
        "    epochs=10,\n",
        "    validation_data=gen_valid,\n",
        "    validation_steps=100,\n",
        "    validation_freq=5)"
      ]
    },
    {
      "cell_type": "markdown",
      "metadata": {
        "id": "3mLwhaARn8Qe"
      },
      "source": [
        "# Evaluation\n",
        "\n",
        "To test the trained model, the following steps are required:\n",
        "\n",
        "* load data\n",
        "* use `model.predict(...)` to obtain logit scores\n",
        "* use `np.argmax(...)` to obtain prediction\n",
        "* compare prediction with ground-truth\n",
        "* serialize in Pandas DataFrame\n",
        "\n",
        "Recall that the generator used to train the model simply iterates through the dataset randomly. For model evaluation, the cohort must instead be loaded manually in an orderly way. For this tutorial, we will create new **test mode** data generators, which will simply load each example individually once for testing. "
      ]
    },
    {
      "cell_type": "code",
      "execution_count": 43,
      "metadata": {
        "id": "2xjE0I74n8Qe"
      },
      "outputs": [],
      "source": [
        "# --- Create validation generator\n",
        "test_train, test_valid = client.create_generators(test=True, expand=True)"
      ]
    },
    {
      "cell_type": "markdown",
      "metadata": {
        "id": "sZFL7_fan8Qe"
      },
      "source": [
        "**Important note**: although the model is trained using 2D slices, there is nothing to preclude passing an entire 3D volume through the model at one time (e.g. consider that the entire 3D volume is a single *batch* of data). When the`expand=True` flag is set in the `client.create_generators(...)` method above, one of the of the key generator modifications is to yield entire 3D volumes instead of slices.\n",
        "\n",
        "Note that typically performance metrics for medical imaging models are commonly reported on a volume-by-volume basis (not slice-by-slice). However in this example we will simply be evaluating slice-by-slice performance as each patient in this cohort does in fact have a brain tumor. "
      ]
    },
    {
      "cell_type": "code",
      "execution_count": 44,
      "metadata": {
        "id": "i8EVO73nn8Qe",
        "outputId": "4f8c9013-434f-440f-f358-3729d8b4f071",
        "colab": {
          "base_uri": "https://localhost:8080/"
        }
      },
      "outputs": [
        {
          "output_type": "stream",
          "name": "stdout",
          "text": [
            "\r[ 2022-04-22 16:15:51 ] [>...................] 0.617% : Iterating | 000001      "
          ]
        }
      ],
      "source": [
        "# --- Run entire volume through model\n",
        "x, _ = next(test_train)\n",
        "logits = backbone.predict(x['dat'])"
      ]
    },
    {
      "cell_type": "markdown",
      "metadata": {
        "id": "HKws8lIhn8Qe"
      },
      "source": [
        "Does the model properly generate a prediction for every slice in the 3D volume? What is the output shape? If you need to review concepts, please reference the discussion above."
      ]
    },
    {
      "cell_type": "markdown",
      "metadata": {
        "id": "cUibDgWIn8Qe"
      },
      "source": [
        "### Validation Code\n",
        "\n",
        "Use the following lines of code to run prediction through the **valid** cohort generator:"
      ]
    },
    {
      "cell_type": "code",
      "execution_count": 45,
      "metadata": {
        "id": "O1BuPFmwn8Qe",
        "outputId": "6e8248fb-85db-4451-e748-81824429c40f",
        "colab": {
          "base_uri": "https://localhost:8080/"
        }
      },
      "outputs": [
        {
          "output_type": "stream",
          "name": "stdout",
          "text": [
            "[ 2022-04-22 16:17:01 ] [====================] 100.000% : Iterating | 000041    "
          ]
        }
      ],
      "source": [
        "# --- Create validation generator\n",
        "test_train, test_valid = client.create_generators(test=True, expand=True)\n",
        "\n",
        "trues = []\n",
        "preds = []\n",
        "\n",
        "for x, _ in test_valid:\n",
        "    \n",
        "    # --- Predict\n",
        "    logits = backbone.predict(x['dat'])\n",
        "\n",
        "    # --- Argmax\n",
        "    pred = np.squeeze(np.argmax(logits, axis=-1))\n",
        "\n",
        "    trues.append(x['lbl'].ravel())\n",
        "    preds.append(pred.ravel())\n",
        "\n",
        "trues = np.concatenate(trues)\n",
        "preds = np.concatenate(preds)"
      ]
    },
    {
      "cell_type": "markdown",
      "metadata": {
        "id": "GZFyQFdCn8Qe"
      },
      "source": [
        "Prepare results in Pandas DataFrame for ease of analysis and sharing:"
      ]
    },
    {
      "cell_type": "code",
      "execution_count": 46,
      "metadata": {
        "id": "twIA3td3n8Qe",
        "outputId": "4eb28f61-81f8-482d-c541-74ed70de85ad",
        "colab": {
          "base_uri": "https://localhost:8080/"
        }
      },
      "outputs": [
        {
          "output_type": "stream",
          "name": "stdout",
          "text": [
            "0.9046009877826878\n"
          ]
        }
      ],
      "source": [
        "# --- Create DataFrame\n",
        "df = pd.DataFrame(index=np.arange(preds.size))\n",
        "\n",
        "# --- Define columns\n",
        "df['true'] = trues\n",
        "df['pred'] = preds\n",
        "df['corr'] = df['true'] == df['pred']\n",
        "\n",
        "# --- Print accuracy\n",
        "print(df['corr'].mean())"
      ]
    },
    {
      "cell_type": "markdown",
      "metadata": {
        "id": "vyleleAwn8Qe"
      },
      "source": [
        "## Saving and Loading a Model\n",
        "\n",
        "After a model has been successfully trained, it can be saved and/or loaded by simply using the `backbone.save()` and `backbone.load_model()` methods. "
      ]
    },
    {
      "cell_type": "code",
      "execution_count": null,
      "metadata": {
        "id": "hkji55Vkn8Qe"
      },
      "outputs": [],
      "source": [
        "# --- Serialize a model\n",
        "backbone.save('./model.hdf5')"
      ]
    },
    {
      "cell_type": "code",
      "execution_count": null,
      "metadata": {
        "id": "elzKZim8n8Qe"
      },
      "outputs": [],
      "source": [
        "# --- Load a serialized model\n",
        "del backbone\n",
        "backbone = models.load_model('./model.hdf5', compile=False)"
      ]
    },
    {
      "cell_type": "markdown",
      "metadata": {
        "id": "3TmBaCXqn8Qf"
      },
      "source": [
        "# Exercises\n",
        "\n",
        "Up until this point, this tutorial has presented key implementation details for three advanced CNN motifs: residual operation (with bottleneck); Inception module; Squeeze-and-Excite (SE) module. However the working examples above may become tedious to use in a large network architecture. To facilitate additional organization, consider the following helper methods to generically implement these motifs in various settings."
      ]
    },
    {
      "cell_type": "markdown",
      "metadata": {
        "id": "El02VJtin8Qf"
      },
      "source": [
        "### Exercise 1\n",
        "\n",
        "Create a general method to facilitate a residual connection between any arbitrary two tensors. Keep in mind that prior to the addition operation, one needs to account for potential feature map differences in:\n",
        "\n",
        "* feature map size\n",
        "* feature map depth\n",
        "\n",
        "Use the following cell to implement this method:"
      ]
    },
    {
      "cell_type": "code",
      "execution_count": null,
      "metadata": {
        "id": "dO89miV3n8Qf"
      },
      "outputs": [],
      "source": [
        "def residual(a, b):\n",
        "    \"\"\"\n",
        "    Method to implement residual connection between two arbitrary tensors (a + b)\n",
        "    \n",
        "    \"\"\"\n",
        "    pass"
      ]
    },
    {
      "cell_type": "markdown",
      "metadata": {
        "id": "rMaxdOQ0n8Qf"
      },
      "source": [
        "#### Hints\n",
        "\n",
        "Consider the following psuedocode:"
      ]
    },
    {
      "cell_type": "code",
      "execution_count": null,
      "metadata": {
        "id": "lTXNd4n7n8Qf"
      },
      "outputs": [],
      "source": [
        "# --- Check to see if projection is needed (how to determine?)\n",
        "\n",
        "# --- If projection is needed:\n",
        "\n",
        "    # --- Account for potential change in feature map depth\n",
        "\n",
        "    # --- Account for potential change in feature map size (subsample)\n",
        "\n",
        "    # --- Modify kernel_size if needed\n",
        "\n",
        "    # --- Perform projection\n",
        "\n",
        "# --- Perform residual operation"
      ]
    },
    {
      "cell_type": "markdown",
      "metadata": {
        "id": "2176BX-pn8Qf"
      },
      "source": [
        "### Exercise 2"
      ]
    },
    {
      "cell_type": "markdown",
      "metadata": {
        "id": "Yd06WPlRn8Qf"
      },
      "source": [
        "Create a general method to facilitate an Inception module for any given single input tensor. Allow for the total number of output feature maps (after concatenation) to be determined dynamically as an argument for the method. Assume that the number of feature maps for each of the four Inception **paths** to yield an equal number of channels.\n",
        "\n",
        "Use the following cell to implement this method:"
      ]
    },
    {
      "cell_type": "code",
      "execution_count": null,
      "metadata": {
        "id": "nMyVKJVdn8Qf"
      },
      "outputs": [],
      "source": [
        "def inception(a, filters):\n",
        "    \"\"\"\n",
        "    Method to implement Inception module\n",
        "    \n",
        "      p1 = 1 x 1 conv\n",
        "      p2 = BN > 3 x 3 conv\n",
        "      p3 = BN > 5 x 5 conv\n",
        "      p4 = 3 x 3 pool > BN\n",
        "      \n",
        "      BN = bottleneck operation\n",
        "    \n",
        "    :return\n",
        "    \n",
        "      (tf.Tensor) None * i * j * c tensor\n",
        "      \n",
        "        i == a.shape[1]\n",
        "        j == a.shape[2]\n",
        "        c == filters\n",
        "        \n",
        "    \"\"\"\n",
        "    pass"
      ]
    },
    {
      "cell_type": "markdown",
      "metadata": {
        "id": "2jZ5kMoPn8Qf"
      },
      "source": [
        "#### Hints\n",
        "\n",
        "Use the template code from above. The only minor modification that needs to be made is to automatically account for number of output filters in each individual pathway to yield a concatenated filter that is the desired output shape.\n",
        "\n",
        "Consider the following pseudocode:"
      ]
    },
    {
      "cell_type": "code",
      "execution_count": null,
      "metadata": {
        "id": "SAbAffm0n8Qf"
      },
      "outputs": [],
      "source": [
        "# --- Defiine lambda functions for: conv, proj, norm, relu, pool\n",
        "\n",
        "# --- Define 1x1, 3x3 and 5x5 convs\n",
        "\n",
        "# --- Define requisite filter size for each individual path\n",
        "\n",
        "# --- Define four different paths\n",
        "\n",
        "# --- Create bottlenecked operations\n",
        "\n",
        "# --- Concatenate"
      ]
    },
    {
      "cell_type": "markdown",
      "metadata": {
        "id": "SxsiM_40n8Qf"
      },
      "source": [
        "### Exercise 3\n",
        "\n",
        "Create a general method to facilitate an SE module for any given single input tensor. Allow for the relative amount of compression performed prior to excitation  be determined dynamically as an argument for the method.\n",
        "\n",
        "Use the following cell to implement this method:"
      ]
    },
    {
      "cell_type": "code",
      "execution_count": null,
      "metadata": {
        "id": "3mfF9AGon8Qf"
      },
      "outputs": [],
      "source": [
        "def se(a, r=4):\n",
        "    \"\"\"\n",
        "    Method to implement squeeze-and-exication module\n",
        "    \n",
        "    :params\n",
        "    \n",
        "      (int) r  : scalar to compress representation\n",
        "      \n",
        "    \"\"\"\n",
        "    pass"
      ]
    },
    {
      "cell_type": "markdown",
      "metadata": {
        "id": "FQIrBN_vn8Qf"
      },
      "source": [
        "#### Hints\n",
        "\n",
        "Consider the following pseudocode:"
      ]
    },
    {
      "cell_type": "code",
      "execution_count": null,
      "metadata": {
        "id": "dkoTq9G8n8Qf"
      },
      "outputs": [],
      "source": [
        "# --- Squeeze (global pool)\n",
        "\n",
        "# --- Excitation (reduce channels to 1 / R)\n",
        "\n",
        "# --- Scale (expand channels to original size)"
      ]
    }
  ],
  "metadata": {
    "kernelspec": {
      "display_name": "Python 3",
      "language": "python",
      "name": "python3"
    },
    "language_info": {
      "codemirror_mode": {
        "name": "ipython",
        "version": 3
      },
      "file_extension": ".py",
      "mimetype": "text/x-python",
      "name": "python",
      "nbconvert_exporter": "python",
      "pygments_lexer": "ipython3",
      "version": "3.8.5"
    },
    "colab": {
      "name": "tutorial.ipynb",
      "provenance": []
    }
  },
  "nbformat": 4,
  "nbformat_minor": 0
}