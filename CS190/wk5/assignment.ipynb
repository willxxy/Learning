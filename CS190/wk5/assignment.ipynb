{
  "cells": [
    {
      "cell_type": "markdown",
      "metadata": {
        "id": "sQDc2OaNfA3q"
      },
      "source": [
        "# Assignment\n",
        "\n",
        "In this assignment we will explore the building blocks required to create a contracting-expanding convolutional neural network (CNN) to perform kidney segmentation on CT.\n",
        "\n",
        "This tutorial is part of the class **Introduction to Deep Learning for Medical Imaging** at University of California Irvine (CS190); more information can be found at: https://github.com/peterchang77/dl_tutor/tree/master/cs190."
      ]
    },
    {
      "cell_type": "markdown",
      "metadata": {
        "id": "5rJ9eZOzfA3t"
      },
      "source": [
        "### Submission\n",
        "\n",
        "Once complete, the following items must be submitted:\n",
        "\n",
        "* final `*.ipynb` notebook\n",
        "* final trained `*.hdf5` model file\n",
        "* final compiled `*.csv` file with performance statistics"
      ]
    },
    {
      "cell_type": "markdown",
      "metadata": {
        "id": "56d3oMiMw8Wm"
      },
      "source": [
        "# Google Colab\n",
        "\n",
        "The following lines of code will configure your Google Colab environment for this assignment."
      ]
    },
    {
      "cell_type": "markdown",
      "metadata": {
        "id": "5UetqSn0fA3u"
      },
      "source": [
        "### Enable GPU runtime\n",
        "\n",
        "Use the following instructions to switch the default Colab instance into a GPU-enabled runtime:\n",
        "\n",
        "```\n",
        "Runtime > Change runtime type > Hardware accelerator > GPU\n",
        "```"
      ]
    },
    {
      "cell_type": "markdown",
      "metadata": {
        "id": "YoOuG9IOfA3u"
      },
      "source": [
        "# Environment"
      ]
    },
    {
      "cell_type": "markdown",
      "metadata": {
        "id": "F3BcY3fJfA3u"
      },
      "source": [
        "### Jarvis library\n",
        "\n",
        "In this notebook we will Jarvis, a custom Python package to facilitate data science and deep learning for healthcare. Among other things, this library will be used for low-level data management, stratification and visualization of high-dimensional medical data."
      ]
    },
    {
      "cell_type": "code",
      "execution_count": 1,
      "metadata": {
        "id": "CgAl6tcffA3v",
        "outputId": "af8bc2ec-92c4-4b0e-8b7a-81609b73a065",
        "colab": {
          "base_uri": "https://localhost:8080/"
        }
      },
      "outputs": [
        {
          "output_type": "stream",
          "name": "stdout",
          "text": [
            "Collecting jarvis-md\n",
            "  Downloading jarvis_md-0.0.1a17-py3-none-any.whl (89 kB)\n",
            "\u001b[K     |████████████████████████████████| 89 kB 3.4 MB/s \n",
            "\u001b[?25hRequirement already satisfied: requests in /usr/local/lib/python3.7/dist-packages (from jarvis-md) (2.23.0)\n",
            "Requirement already satisfied: numpy in /usr/local/lib/python3.7/dist-packages (from jarvis-md) (1.21.6)\n",
            "Requirement already satisfied: h5py in /usr/local/lib/python3.7/dist-packages (from jarvis-md) (3.1.0)\n",
            "Requirement already satisfied: scipy in /usr/local/lib/python3.7/dist-packages (from jarvis-md) (1.4.1)\n",
            "Collecting pyyaml>=5.2\n",
            "  Downloading PyYAML-6.0-cp37-cp37m-manylinux_2_5_x86_64.manylinux1_x86_64.manylinux_2_12_x86_64.manylinux2010_x86_64.whl (596 kB)\n",
            "\u001b[K     |████████████████████████████████| 596 kB 30.7 MB/s \n",
            "\u001b[?25hRequirement already satisfied: matplotlib in /usr/local/lib/python3.7/dist-packages (from jarvis-md) (3.2.2)\n",
            "Requirement already satisfied: pandas in /usr/local/lib/python3.7/dist-packages (from jarvis-md) (1.3.5)\n",
            "Requirement already satisfied: cached-property in /usr/local/lib/python3.7/dist-packages (from h5py->jarvis-md) (1.5.2)\n",
            "Requirement already satisfied: python-dateutil>=2.1 in /usr/local/lib/python3.7/dist-packages (from matplotlib->jarvis-md) (2.8.2)\n",
            "Requirement already satisfied: pyparsing!=2.0.4,!=2.1.2,!=2.1.6,>=2.0.1 in /usr/local/lib/python3.7/dist-packages (from matplotlib->jarvis-md) (3.0.8)\n",
            "Requirement already satisfied: kiwisolver>=1.0.1 in /usr/local/lib/python3.7/dist-packages (from matplotlib->jarvis-md) (1.4.2)\n",
            "Requirement already satisfied: cycler>=0.10 in /usr/local/lib/python3.7/dist-packages (from matplotlib->jarvis-md) (0.11.0)\n",
            "Requirement already satisfied: typing-extensions in /usr/local/lib/python3.7/dist-packages (from kiwisolver>=1.0.1->matplotlib->jarvis-md) (4.2.0)\n",
            "Requirement already satisfied: six>=1.5 in /usr/local/lib/python3.7/dist-packages (from python-dateutil>=2.1->matplotlib->jarvis-md) (1.15.0)\n",
            "Requirement already satisfied: pytz>=2017.3 in /usr/local/lib/python3.7/dist-packages (from pandas->jarvis-md) (2022.1)\n",
            "Requirement already satisfied: chardet<4,>=3.0.2 in /usr/local/lib/python3.7/dist-packages (from requests->jarvis-md) (3.0.4)\n",
            "Requirement already satisfied: certifi>=2017.4.17 in /usr/local/lib/python3.7/dist-packages (from requests->jarvis-md) (2021.10.8)\n",
            "Requirement already satisfied: idna<3,>=2.5 in /usr/local/lib/python3.7/dist-packages (from requests->jarvis-md) (2.10)\n",
            "Requirement already satisfied: urllib3!=1.25.0,!=1.25.1,<1.26,>=1.21.1 in /usr/local/lib/python3.7/dist-packages (from requests->jarvis-md) (1.24.3)\n",
            "Installing collected packages: pyyaml, jarvis-md\n",
            "  Attempting uninstall: pyyaml\n",
            "    Found existing installation: PyYAML 3.13\n",
            "    Uninstalling PyYAML-3.13:\n",
            "      Successfully uninstalled PyYAML-3.13\n",
            "Successfully installed jarvis-md-0.0.1a17 pyyaml-6.0\n"
          ]
        }
      ],
      "source": [
        "# --- Install jarvis (only in Google Colab or local runtime)\n",
        "% pip install jarvis-md"
      ]
    },
    {
      "cell_type": "markdown",
      "metadata": {
        "id": "NcnAh1GKfA3v"
      },
      "source": [
        "### Imports\n",
        "\n",
        "Use the following lines to import any additional needed libraries:"
      ]
    },
    {
      "cell_type": "code",
      "execution_count": 24,
      "metadata": {
        "id": "UjDEp9_PfA3w"
      },
      "outputs": [],
      "source": [
        "import numpy as np, pandas as pd\n",
        "from tensorflow.keras import Input, Model, models, layers, losses, metrics, optimizers\n",
        "from jarvis.train import datasets\n",
        "import tensorflow as tf"
      ]
    },
    {
      "cell_type": "markdown",
      "metadata": {
        "id": "bCasD7hefA3w"
      },
      "source": [
        "# Data\n",
        "\n",
        "The data used in this tutorial will consist of kidney tumor CT exams derived from the Kidney Tumor Segmentation Challenge (KiTS). More information about he KiTS Challenge can be found here: https://kits21.kits-challenge.org/. In this exercise, we will use this dataset to derive a model for slice-by-slice kidney segmentation. The custom `datasets.download(...)` method can be used to download a local copy of the dataset. By default the dataset will be archived at `/data/raw/ct_kits`; as needed an alternate location may be specified using `datasets.download(name=..., path=...)`. \n",
        "\n",
        "The following lines of code will:\n",
        "\n",
        "1. Download the dataset (if not already present) \n",
        "2. Prepare the necessary Python generators to iterate through dataset"
      ]
    },
    {
      "cell_type": "code",
      "execution_count": 3,
      "metadata": {
        "id": "DmRrPK27fA3w",
        "outputId": "53b7eeeb-6bad-4d73-bf88-2b1ae68f1932",
        "colab": {
          "base_uri": "https://localhost:8080/"
        }
      },
      "outputs": [
        {
          "output_type": "stream",
          "name": "stdout",
          "text": [
            "[ 2022-05-03 21:44:27 ] [====================] 100.000% : Extracting archive (0000818 / 0000818) "
          ]
        }
      ],
      "source": [
        "# --- Download dataset\n",
        "datasets.download(name='ct/kits')\n",
        "\n",
        "# --- Prepare generators and model inputs\n",
        "gen_train, gen_valid, client = datasets.prepare(name='ct/kits', keyword='2d-bin', custom_layers=True)"
      ]
    },
    {
      "cell_type": "markdown",
      "metadata": {
        "id": "L4JLPlR7fA3x"
      },
      "source": [
        "# Training\n",
        "\n",
        "In this assignment we will train a standard 2D U-Net for kidney segmentation. In addition to the baseline U-Net architecture, at minimum **one** of the following modifications must be implemented:\n",
        "\n",
        "* modification of the contracting / expanding backbone (e.g., incorporating ResNet, Inception, SENet, etc)\n",
        "* modification of the skip connection to include residual connections\n",
        "* modification of the skip connection to include additional convolution operations\n",
        "\n",
        "You are also **encouraged** to try different permuations and customizations to achieve optimal validation accuracy."
      ]
    },
    {
      "cell_type": "markdown",
      "metadata": {
        "id": "9-HAL-uqfA3x"
      },
      "source": [
        "### Define backbone model\n",
        "\n",
        "Feel free to use the `lambda` helper functions as demonstrated in the tutorial."
      ]
    },
    {
      "cell_type": "code",
      "source": [
        "# ---- kwargs dic, lambda, se func, dsc func\n",
        "\n",
        "kwargs = {\n",
        "    'kernel_size': (1, 3, 3),\n",
        "    'padding': 'same'\n",
        "}\n",
        "\n",
        "conv = lambda x, filters, strides : layers.Conv3D(filters = filters, strides = strides, **kwargs)(x)\n",
        "norm = lambda x : layers.BatchNormalization()(x)\n",
        "relu = lambda x : layers.ReLU()(x)\n",
        "\n",
        "conv1 = lambda filters, x : relu(norm(conv(x, filters, strides = 1)))\n",
        "conv2 = lambda filters, x : relu(norm(conv(x, filters, strides = (1, 2, 2))))\n",
        "\n",
        "tran = lambda x, filters, strides : layers.Conv3DTranspose(filters = filters, strides = strides, **kwargs)(x)\n",
        "tran2 = lambda filters, x: relu(norm(tran(x, filters, strides = (1,2 ,2))))\n",
        "\n",
        "concat = lambda a, b : layers.Concatenate()([a, b])\n",
        "\n",
        "def se(layer):\n",
        "  \n",
        "  sqz = layers.AveragePooling3D((1, layer.shape[2], layer.shape[3]))(layer)\n",
        "  cha = int(layer.shape[-1]/4)\n",
        "  exc = layers.Conv3D(filters = cha, kernel_size = 1, activation = 'relu')(sqz)\n",
        "  sca = layers.Conv3D(filters = layer.shape[-1], kernel_size = 1, activation = 'sigmoid')(exc)\n",
        "\n",
        "  return layer * sca\n",
        "\n",
        "def calc_dsc(y_true, y_pred, c=1):\n",
        "\n",
        "  true = y_true[..., 0] == c\n",
        "  pred = tf.math.argmax(y_pred, axis =-1) == c\n",
        "\n",
        "  A = tf.math.count_nonzero(true & pred) * 2\n",
        "  B = tf.math.count_nonzero(true) + tf.math.count_nonzero(pred)\n",
        "\n",
        "  return tf.math.divide_no_nan(\n",
        "      tf.cast(A, tf.float32),\n",
        "      tf.cast(B, tf.float32)\n",
        "  )"
      ],
      "metadata": {
        "id": "NhCtqiSo4-Be"
      },
      "execution_count": 25,
      "outputs": []
    },
    {
      "cell_type": "code",
      "execution_count": 26,
      "metadata": {
        "id": "PtuWDKELfA3x"
      },
      "outputs": [],
      "source": [
        "# --- Define input\n",
        "x = Input(shape=(None, 96, 96, 1), dtype='float32')\n",
        "\n",
        "# --- Define model\n",
        "\n",
        "l1 = conv1(8, x)\n",
        "l1 = se(l1)\n",
        "\n",
        "l2 = conv1(16, conv2(16, l1))\n",
        "l2 = se(l2)\n",
        "\n",
        "l3 = conv1(32, conv2(32,l2))\n",
        "l3 = se(l3)\n",
        "\n",
        "l4 = conv1(48, conv2(48, l3))\n",
        "l4 = se(l4)\n",
        "\n",
        "l5 = conv1(64, conv2(64, l4))\n",
        "l5 = se(l5)\n",
        "\n",
        "l6 = tran2(48, l5)\n",
        "\n",
        "l7 = tran2(32, conv1(48, concat(l4, l6))) \n",
        "\n",
        "l8 = tran2(16, conv1(32, concat(l3, l7)))\n",
        "\n",
        "l9 = tran2(8, conv1(16, concat(l2, l8)))\n",
        "\n",
        "l10 = conv1(8, l9)\n",
        "\n",
        "\n",
        "\n",
        "\n",
        "# --- Define logits\n",
        "logits = layers.Conv3D(filters = 2, **kwargs)(l10)\n",
        "\n",
        "# --- Create model\n",
        "backbone = Model(inputs=x, outputs=logits)"
      ]
    },
    {
      "cell_type": "code",
      "source": [
        "backbone.summary()"
      ],
      "metadata": {
        "id": "JlLRNutY9R1Q",
        "outputId": "dc187f77-0925-41da-e33d-524f4c8bf5c7",
        "colab": {
          "base_uri": "https://localhost:8080/"
        }
      },
      "execution_count": 27,
      "outputs": [
        {
          "output_type": "stream",
          "name": "stdout",
          "text": [
            "Model: \"model_2\"\n",
            "__________________________________________________________________________________________________\n",
            " Layer (type)                   Output Shape         Param #     Connected to                     \n",
            "==================================================================================================\n",
            " input_6 (InputLayer)           [(None, None, 96, 9  0           []                               \n",
            "                                6, 1)]                                                            \n",
            "                                                                                                  \n",
            " conv3d_72 (Conv3D)             (None, None, 96, 96  80          ['input_6[0][0]']                \n",
            "                                , 8)                                                              \n",
            "                                                                                                  \n",
            " batch_normalization_49 (BatchN  (None, None, 96, 96  32         ['conv3d_72[0][0]']              \n",
            " ormalization)                  , 8)                                                              \n",
            "                                                                                                  \n",
            " re_lu_48 (ReLU)                (None, None, 96, 96  0           ['batch_normalization_49[0][0]'] \n",
            "                                , 8)                                                              \n",
            "                                                                                                  \n",
            " average_pooling3d_16 (AverageP  (None, None, 1, 1,   0          ['re_lu_48[0][0]']               \n",
            " ooling3D)                      8)                                                                \n",
            "                                                                                                  \n",
            " conv3d_73 (Conv3D)             (None, None, 1, 1,   18          ['average_pooling3d_16[0][0]']   \n",
            "                                2)                                                                \n",
            "                                                                                                  \n",
            " conv3d_74 (Conv3D)             (None, None, 1, 1,   24          ['conv3d_73[0][0]']              \n",
            "                                8)                                                                \n",
            "                                                                                                  \n",
            " tf.math.multiply_16 (TFOpLambd  (None, None, 96, 96  0          ['re_lu_48[0][0]',               \n",
            " a)                             , 8)                              'conv3d_74[0][0]']              \n",
            "                                                                                                  \n",
            " conv3d_75 (Conv3D)             (None, None, 48, 48  1168        ['tf.math.multiply_16[0][0]']    \n",
            "                                , 16)                                                             \n",
            "                                                                                                  \n",
            " batch_normalization_50 (BatchN  (None, None, 48, 48  64         ['conv3d_75[0][0]']              \n",
            " ormalization)                  , 16)                                                             \n",
            "                                                                                                  \n",
            " re_lu_49 (ReLU)                (None, None, 48, 48  0           ['batch_normalization_50[0][0]'] \n",
            "                                , 16)                                                             \n",
            "                                                                                                  \n",
            " conv3d_76 (Conv3D)             (None, None, 48, 48  2320        ['re_lu_49[0][0]']               \n",
            "                                , 16)                                                             \n",
            "                                                                                                  \n",
            " batch_normalization_51 (BatchN  (None, None, 48, 48  64         ['conv3d_76[0][0]']              \n",
            " ormalization)                  , 16)                                                             \n",
            "                                                                                                  \n",
            " re_lu_50 (ReLU)                (None, None, 48, 48  0           ['batch_normalization_51[0][0]'] \n",
            "                                , 16)                                                             \n",
            "                                                                                                  \n",
            " average_pooling3d_17 (AverageP  (None, None, 1, 1,   0          ['re_lu_50[0][0]']               \n",
            " ooling3D)                      16)                                                               \n",
            "                                                                                                  \n",
            " conv3d_77 (Conv3D)             (None, None, 1, 1,   68          ['average_pooling3d_17[0][0]']   \n",
            "                                4)                                                                \n",
            "                                                                                                  \n",
            " conv3d_78 (Conv3D)             (None, None, 1, 1,   80          ['conv3d_77[0][0]']              \n",
            "                                16)                                                               \n",
            "                                                                                                  \n",
            " tf.math.multiply_17 (TFOpLambd  (None, None, 48, 48  0          ['re_lu_50[0][0]',               \n",
            " a)                             , 16)                             'conv3d_78[0][0]']              \n",
            "                                                                                                  \n",
            " conv3d_79 (Conv3D)             (None, None, 24, 24  4640        ['tf.math.multiply_17[0][0]']    \n",
            "                                , 32)                                                             \n",
            "                                                                                                  \n",
            " batch_normalization_52 (BatchN  (None, None, 24, 24  128        ['conv3d_79[0][0]']              \n",
            " ormalization)                  , 32)                                                             \n",
            "                                                                                                  \n",
            " re_lu_51 (ReLU)                (None, None, 24, 24  0           ['batch_normalization_52[0][0]'] \n",
            "                                , 32)                                                             \n",
            "                                                                                                  \n",
            " conv3d_80 (Conv3D)             (None, None, 24, 24  9248        ['re_lu_51[0][0]']               \n",
            "                                , 32)                                                             \n",
            "                                                                                                  \n",
            " batch_normalization_53 (BatchN  (None, None, 24, 24  128        ['conv3d_80[0][0]']              \n",
            " ormalization)                  , 32)                                                             \n",
            "                                                                                                  \n",
            " re_lu_52 (ReLU)                (None, None, 24, 24  0           ['batch_normalization_53[0][0]'] \n",
            "                                , 32)                                                             \n",
            "                                                                                                  \n",
            " average_pooling3d_18 (AverageP  (None, None, 1, 1,   0          ['re_lu_52[0][0]']               \n",
            " ooling3D)                      32)                                                               \n",
            "                                                                                                  \n",
            " conv3d_81 (Conv3D)             (None, None, 1, 1,   264         ['average_pooling3d_18[0][0]']   \n",
            "                                8)                                                                \n",
            "                                                                                                  \n",
            " conv3d_82 (Conv3D)             (None, None, 1, 1,   288         ['conv3d_81[0][0]']              \n",
            "                                32)                                                               \n",
            "                                                                                                  \n",
            " tf.math.multiply_18 (TFOpLambd  (None, None, 24, 24  0          ['re_lu_52[0][0]',               \n",
            " a)                             , 32)                             'conv3d_82[0][0]']              \n",
            "                                                                                                  \n",
            " conv3d_83 (Conv3D)             (None, None, 12, 12  13872       ['tf.math.multiply_18[0][0]']    \n",
            "                                , 48)                                                             \n",
            "                                                                                                  \n",
            " batch_normalization_54 (BatchN  (None, None, 12, 12  192        ['conv3d_83[0][0]']              \n",
            " ormalization)                  , 48)                                                             \n",
            "                                                                                                  \n",
            " re_lu_53 (ReLU)                (None, None, 12, 12  0           ['batch_normalization_54[0][0]'] \n",
            "                                , 48)                                                             \n",
            "                                                                                                  \n",
            " conv3d_84 (Conv3D)             (None, None, 12, 12  20784       ['re_lu_53[0][0]']               \n",
            "                                , 48)                                                             \n",
            "                                                                                                  \n",
            " batch_normalization_55 (BatchN  (None, None, 12, 12  192        ['conv3d_84[0][0]']              \n",
            " ormalization)                  , 48)                                                             \n",
            "                                                                                                  \n",
            " re_lu_54 (ReLU)                (None, None, 12, 12  0           ['batch_normalization_55[0][0]'] \n",
            "                                , 48)                                                             \n",
            "                                                                                                  \n",
            " average_pooling3d_19 (AverageP  (None, None, 1, 1,   0          ['re_lu_54[0][0]']               \n",
            " ooling3D)                      48)                                                               \n",
            "                                                                                                  \n",
            " conv3d_85 (Conv3D)             (None, None, 1, 1,   588         ['average_pooling3d_19[0][0]']   \n",
            "                                12)                                                               \n",
            "                                                                                                  \n",
            " conv3d_86 (Conv3D)             (None, None, 1, 1,   624         ['conv3d_85[0][0]']              \n",
            "                                48)                                                               \n",
            "                                                                                                  \n",
            " tf.math.multiply_19 (TFOpLambd  (None, None, 12, 12  0          ['re_lu_54[0][0]',               \n",
            " a)                             , 48)                             'conv3d_86[0][0]']              \n",
            "                                                                                                  \n",
            " conv3d_87 (Conv3D)             (None, None, 6, 6,   27712       ['tf.math.multiply_19[0][0]']    \n",
            "                                64)                                                               \n",
            "                                                                                                  \n",
            " batch_normalization_56 (BatchN  (None, None, 6, 6,   256        ['conv3d_87[0][0]']              \n",
            " ormalization)                  64)                                                               \n",
            "                                                                                                  \n",
            " re_lu_55 (ReLU)                (None, None, 6, 6,   0           ['batch_normalization_56[0][0]'] \n",
            "                                64)                                                               \n",
            "                                                                                                  \n",
            " conv3d_88 (Conv3D)             (None, None, 6, 6,   36928       ['re_lu_55[0][0]']               \n",
            "                                64)                                                               \n",
            "                                                                                                  \n",
            " batch_normalization_57 (BatchN  (None, None, 6, 6,   256        ['conv3d_88[0][0]']              \n",
            " ormalization)                  64)                                                               \n",
            "                                                                                                  \n",
            " re_lu_56 (ReLU)                (None, None, 6, 6,   0           ['batch_normalization_57[0][0]'] \n",
            "                                64)                                                               \n",
            "                                                                                                  \n",
            " average_pooling3d_20 (AverageP  (None, None, 1, 1,   0          ['re_lu_56[0][0]']               \n",
            " ooling3D)                      64)                                                               \n",
            "                                                                                                  \n",
            " conv3d_89 (Conv3D)             (None, None, 1, 1,   1040        ['average_pooling3d_20[0][0]']   \n",
            "                                16)                                                               \n",
            "                                                                                                  \n",
            " conv3d_90 (Conv3D)             (None, None, 1, 1,   1088        ['conv3d_89[0][0]']              \n",
            "                                64)                                                               \n",
            "                                                                                                  \n",
            " tf.math.multiply_20 (TFOpLambd  (None, None, 6, 6,   0          ['re_lu_56[0][0]',               \n",
            " a)                             64)                               'conv3d_90[0][0]']              \n",
            "                                                                                                  \n",
            " conv3d_transpose_11 (Conv3DTra  (None, None, 12, 12  27696      ['tf.math.multiply_20[0][0]']    \n",
            " nspose)                        , 48)                                                             \n",
            "                                                                                                  \n",
            " batch_normalization_58 (BatchN  (None, None, 12, 12  192        ['conv3d_transpose_11[0][0]']    \n",
            " ormalization)                  , 48)                                                             \n",
            "                                                                                                  \n",
            " re_lu_57 (ReLU)                (None, None, 12, 12  0           ['batch_normalization_58[0][0]'] \n",
            "                                , 48)                                                             \n",
            "                                                                                                  \n",
            " concatenate_8 (Concatenate)    (None, None, 12, 12  0           ['tf.math.multiply_19[0][0]',    \n",
            "                                , 96)                             're_lu_57[0][0]']               \n",
            "                                                                                                  \n",
            " conv3d_91 (Conv3D)             (None, None, 12, 12  41520       ['concatenate_8[0][0]']          \n",
            "                                , 48)                                                             \n",
            "                                                                                                  \n",
            " batch_normalization_59 (BatchN  (None, None, 12, 12  192        ['conv3d_91[0][0]']              \n",
            " ormalization)                  , 48)                                                             \n",
            "                                                                                                  \n",
            " re_lu_58 (ReLU)                (None, None, 12, 12  0           ['batch_normalization_59[0][0]'] \n",
            "                                , 48)                                                             \n",
            "                                                                                                  \n",
            " conv3d_transpose_12 (Conv3DTra  (None, None, 24, 24  13856      ['re_lu_58[0][0]']               \n",
            " nspose)                        , 32)                                                             \n",
            "                                                                                                  \n",
            " batch_normalization_60 (BatchN  (None, None, 24, 24  128        ['conv3d_transpose_12[0][0]']    \n",
            " ormalization)                  , 32)                                                             \n",
            "                                                                                                  \n",
            " re_lu_59 (ReLU)                (None, None, 24, 24  0           ['batch_normalization_60[0][0]'] \n",
            "                                , 32)                                                             \n",
            "                                                                                                  \n",
            " concatenate_9 (Concatenate)    (None, None, 24, 24  0           ['tf.math.multiply_18[0][0]',    \n",
            "                                , 64)                             're_lu_59[0][0]']               \n",
            "                                                                                                  \n",
            " conv3d_92 (Conv3D)             (None, None, 24, 24  18464       ['concatenate_9[0][0]']          \n",
            "                                , 32)                                                             \n",
            "                                                                                                  \n",
            " batch_normalization_61 (BatchN  (None, None, 24, 24  128        ['conv3d_92[0][0]']              \n",
            " ormalization)                  , 32)                                                             \n",
            "                                                                                                  \n",
            " re_lu_60 (ReLU)                (None, None, 24, 24  0           ['batch_normalization_61[0][0]'] \n",
            "                                , 32)                                                             \n",
            "                                                                                                  \n",
            " conv3d_transpose_13 (Conv3DTra  (None, None, 48, 48  4624       ['re_lu_60[0][0]']               \n",
            " nspose)                        , 16)                                                             \n",
            "                                                                                                  \n",
            " batch_normalization_62 (BatchN  (None, None, 48, 48  64         ['conv3d_transpose_13[0][0]']    \n",
            " ormalization)                  , 16)                                                             \n",
            "                                                                                                  \n",
            " re_lu_61 (ReLU)                (None, None, 48, 48  0           ['batch_normalization_62[0][0]'] \n",
            "                                , 16)                                                             \n",
            "                                                                                                  \n",
            " concatenate_10 (Concatenate)   (None, None, 48, 48  0           ['tf.math.multiply_17[0][0]',    \n",
            "                                , 32)                             're_lu_61[0][0]']               \n",
            "                                                                                                  \n",
            " conv3d_93 (Conv3D)             (None, None, 48, 48  4624        ['concatenate_10[0][0]']         \n",
            "                                , 16)                                                             \n",
            "                                                                                                  \n",
            " batch_normalization_63 (BatchN  (None, None, 48, 48  64         ['conv3d_93[0][0]']              \n",
            " ormalization)                  , 16)                                                             \n",
            "                                                                                                  \n",
            " re_lu_62 (ReLU)                (None, None, 48, 48  0           ['batch_normalization_63[0][0]'] \n",
            "                                , 16)                                                             \n",
            "                                                                                                  \n",
            " conv3d_transpose_14 (Conv3DTra  (None, None, 96, 96  1160       ['re_lu_62[0][0]']               \n",
            " nspose)                        , 8)                                                              \n",
            "                                                                                                  \n",
            " batch_normalization_64 (BatchN  (None, None, 96, 96  32         ['conv3d_transpose_14[0][0]']    \n",
            " ormalization)                  , 8)                                                              \n",
            "                                                                                                  \n",
            " re_lu_63 (ReLU)                (None, None, 96, 96  0           ['batch_normalization_64[0][0]'] \n",
            "                                , 8)                                                              \n",
            "                                                                                                  \n",
            " conv3d_94 (Conv3D)             (None, None, 96, 96  584         ['re_lu_63[0][0]']               \n",
            "                                , 8)                                                              \n",
            "                                                                                                  \n",
            " batch_normalization_65 (BatchN  (None, None, 96, 96  32         ['conv3d_94[0][0]']              \n",
            " ormalization)                  , 8)                                                              \n",
            "                                                                                                  \n",
            " re_lu_64 (ReLU)                (None, None, 96, 96  0           ['batch_normalization_65[0][0]'] \n",
            "                                , 8)                                                              \n",
            "                                                                                                  \n",
            " conv3d_95 (Conv3D)             (None, None, 96, 96  146         ['re_lu_64[0][0]']               \n",
            "                                , 2)                                                              \n",
            "                                                                                                  \n",
            "==================================================================================================\n",
            "Total params: 235,652\n",
            "Trainable params: 234,580\n",
            "Non-trainable params: 1,072\n",
            "__________________________________________________________________________________________________\n"
          ]
        }
      ]
    },
    {
      "cell_type": "markdown",
      "metadata": {
        "id": "hB6SFgOwfA3x"
      },
      "source": [
        "### Define training model"
      ]
    },
    {
      "cell_type": "code",
      "execution_count": 28,
      "metadata": {
        "id": "og4BCDi8fA3x"
      },
      "outputs": [],
      "source": [
        "# --- Define inputs\n",
        "inputs = {\n",
        "    'dat': Input(shape= (None, 96, 96, 1), name = 'dat'),\n",
        "    'lbl': Input(shape = (None, 96, 96, 1), name = 'lbl')}\n",
        "\n",
        "# --- Define model\n",
        "logits = backbone(inputs['dat'])\n",
        "\n",
        "# --- Define loss\n",
        "sce = losses.SparseCategoricalCrossentropy(from_logits = True)\n",
        "loss = sce(y_true=inputs['lbl'], y_pred = logits)\n",
        "\n",
        "# --- Define metric\n",
        "dsc = calc_dsc(y_true = inputs['lbl'], y_pred = logits)"
      ]
    },
    {
      "cell_type": "markdown",
      "metadata": {
        "id": "UoFjLUuKfA3x"
      },
      "source": [
        "Now, we are ready to create the `training` model and add the corresponding loss and accuracy tensors:"
      ]
    },
    {
      "cell_type": "code",
      "execution_count": 29,
      "metadata": {
        "id": "fQGYiF_4fA3y"
      },
      "outputs": [],
      "source": [
        "# --- Create model\n",
        "training = Model(inputs=inputs, outputs={'logits': logits, 'loss' : loss, 'dsc' : dsc})\n",
        "\n",
        "# --- Add loss\n",
        "training.add_loss(loss)\n",
        "\n",
        "# --- Add metric\n",
        "training.add_metric(dsc, name = 'dsc')"
      ]
    },
    {
      "cell_type": "markdown",
      "metadata": {
        "id": "dgr9S_lKfA3y"
      },
      "source": [
        "### Compiling\n",
        "\n",
        "Once the `training` model has been created, use the following to define an optimizer and compile:"
      ]
    },
    {
      "cell_type": "code",
      "execution_count": 30,
      "metadata": {
        "id": "NZtpZiFCfA3y"
      },
      "outputs": [],
      "source": [
        "# --- Define optimizer \n",
        "optimizer = optimizers.Adam(learning_rate = 2e-4)\n",
        "\n",
        "# --- Compile model\n",
        "training.compile(optimizer = optimizer)"
      ]
    },
    {
      "cell_type": "markdown",
      "metadata": {
        "id": "uGoOiu8gfA3y"
      },
      "source": [
        "The model is now compiled and ready for training!"
      ]
    },
    {
      "cell_type": "markdown",
      "metadata": {
        "id": "9ZWgBUozfA3y"
      },
      "source": [
        "### In-memory data\n",
        "\n",
        "To speed up training, consider loading all your model data into RAM memory:"
      ]
    },
    {
      "cell_type": "code",
      "execution_count": 31,
      "metadata": {
        "id": "Gu3FyN3DfA3y",
        "outputId": "97530dae-789a-4b17-da61-4e1e75d7fbc8",
        "colab": {
          "base_uri": "https://localhost:8080/"
        }
      },
      "outputs": [
        {
          "output_type": "stream",
          "name": "stdout",
          "text": [
            "[ 2022-05-03 22:13:19 ] [====================] 100.000% : Iterating | 000402    "
          ]
        }
      ],
      "source": [
        "# --- Load data into memory for faster training\n",
        "client.load_data_in_memory()"
      ]
    },
    {
      "cell_type": "markdown",
      "metadata": {
        "id": "pJW3nrBsfA3y"
      },
      "source": [
        "### Train the model"
      ]
    },
    {
      "cell_type": "code",
      "execution_count": 32,
      "metadata": {
        "id": "FlawmuMZfA3y",
        "outputId": "85d06c01-ca4f-427d-f1d8-03ce98825d12",
        "colab": {
          "base_uri": "https://localhost:8080/"
        }
      },
      "outputs": [
        {
          "output_type": "stream",
          "name": "stdout",
          "text": [
            "Epoch 1/20\n",
            "100/100 [==============================] - 18s 28ms/step - loss: 0.6829 - dsc: 0.2298\n",
            "Epoch 2/20\n",
            "100/100 [==============================] - 3s 28ms/step - loss: 0.3549 - dsc: 0.2450\n",
            "Epoch 3/20\n",
            "100/100 [==============================] - 3s 27ms/step - loss: 0.1990 - dsc: 0.7986\n",
            "Epoch 4/20\n",
            "100/100 [==============================] - 3s 27ms/step - loss: 0.1257 - dsc: 0.8743\n",
            "Epoch 5/20\n",
            "100/100 [==============================] - 5s 51ms/step - loss: 0.0873 - dsc: 0.8995 - val_loss: 0.0871 - val_dsc: 0.8527\n",
            "Epoch 6/20\n",
            "100/100 [==============================] - 3s 27ms/step - loss: 0.0658 - dsc: 0.9163\n",
            "Epoch 7/20\n",
            "100/100 [==============================] - 3s 28ms/step - loss: 0.0531 - dsc: 0.9281\n",
            "Epoch 8/20\n",
            "100/100 [==============================] - 3s 27ms/step - loss: 0.0472 - dsc: 0.9294\n",
            "Epoch 9/20\n",
            "100/100 [==============================] - 3s 27ms/step - loss: 0.0421 - dsc: 0.9336\n",
            "Epoch 10/20\n",
            "100/100 [==============================] - 5s 46ms/step - loss: 0.0371 - dsc: 0.9407 - val_loss: 0.0500 - val_dsc: 0.9061\n",
            "Epoch 11/20\n",
            "100/100 [==============================] - 3s 27ms/step - loss: 0.0341 - dsc: 0.9447\n",
            "Epoch 12/20\n",
            "100/100 [==============================] - 3s 27ms/step - loss: 0.0307 - dsc: 0.9504\n",
            "Epoch 13/20\n",
            "100/100 [==============================] - 3s 27ms/step - loss: 0.0312 - dsc: 0.9456\n",
            "Epoch 14/20\n",
            "100/100 [==============================] - 3s 27ms/step - loss: 0.0271 - dsc: 0.9544\n",
            "Epoch 15/20\n",
            "100/100 [==============================] - 5s 53ms/step - loss: 0.0253 - dsc: 0.9552 - val_loss: 0.0367 - val_dsc: 0.9311\n",
            "Epoch 16/20\n",
            "100/100 [==============================] - 3s 28ms/step - loss: 0.0242 - dsc: 0.9571\n",
            "Epoch 17/20\n",
            "100/100 [==============================] - 3s 28ms/step - loss: 0.0229 - dsc: 0.9584\n",
            "Epoch 18/20\n",
            "100/100 [==============================] - 3s 27ms/step - loss: 0.0235 - dsc: 0.9565\n",
            "Epoch 19/20\n",
            "100/100 [==============================] - 3s 27ms/step - loss: 0.0216 - dsc: 0.9601\n",
            "Epoch 20/20\n",
            "100/100 [==============================] - 5s 46ms/step - loss: 0.0201 - dsc: 0.9617 - val_loss: 0.0386 - val_dsc: 0.9264\n"
          ]
        },
        {
          "output_type": "execute_result",
          "data": {
            "text/plain": [
              "<keras.callbacks.History at 0x7fec68b30d10>"
            ]
          },
          "metadata": {},
          "execution_count": 32
        }
      ],
      "source": [
        "training.fit(\n",
        "    x=gen_train, \n",
        "    steps_per_epoch=100, \n",
        "    epochs=20,\n",
        "    validation_data=gen_valid,\n",
        "    validation_steps=100,\n",
        "    validation_freq=5)"
      ]
    },
    {
      "cell_type": "markdown",
      "metadata": {
        "id": "4u5qH9eLfA3y"
      },
      "source": [
        "# Evaluation\n",
        "\n",
        "Based on the tutorial discussion, use the following cells to check your algorithm performance. Consider loading a saved model and running prediction using `model.predict(...)` on the data aggregated via a test generator.\n",
        "\n",
        "The Dice score values should be calculated for the foreground class (tumor); the Dice score for background does not need to be evaluated. As discussed in the tutorial, accuracy is determined on a patient by patient (volume by volume) basis, so please calculate the Dice score values on the entire 3D volume (not slice-by-slice).\n",
        "\n",
        "### Performance\n",
        "\n",
        "The following minimum performance metrics must be met for full credit:\n",
        "\n",
        "* kidney: mean Dice score > 0.80"
      ]
    },
    {
      "cell_type": "code",
      "execution_count": 35,
      "metadata": {
        "id": "KPanKZWpfA3z",
        "outputId": "32b69dde-bebd-4092-8fa5-26abdd93095e",
        "colab": {
          "base_uri": "https://localhost:8080/"
        }
      },
      "outputs": [
        {
          "output_type": "stream",
          "name": "stdout",
          "text": [
            "[ 2022-05-03 22:16:20 ] [====================] 100.000% : Iterating | 000081    "
          ]
        }
      ],
      "source": [
        "# --- Create validation generator\n",
        "test_train, test_valid = client.create_generators(test=True, expand=True)\n",
        "\n",
        "dsc = []\n",
        "\n",
        "for x, _ in test_valid:\n",
        "\n",
        "    # pass\n",
        "\n",
        "    outputs = training.predict(x)\n",
        "\n",
        "    dsc.append(outputs['dsc'])\n",
        "\n",
        "dsc = np.array(dsc)"
      ]
    },
    {
      "cell_type": "markdown",
      "metadata": {
        "id": "8wg26SIdfA3z"
      },
      "source": [
        "**Note**: this cell is used only to check for model performance prior to submission. It will not be graded. Once submitted, your model will be benchmarked against the (same) validation cohort to determine final algorithm performance and grade. If your evaluation code above is correct the algorithm accuracy should match and you can confident that you will recieve full credit for the assignment. Once you are satisfied with your model, proceed to submission of your assignment below."
      ]
    },
    {
      "cell_type": "markdown",
      "metadata": {
        "id": "AYnpN82yfA3z"
      },
      "source": [
        "### Results\n",
        "\n",
        "When ready, create a `*.csv` file with your compiled **validation** cohort Dice score statistics. There is no need to submit training performance accuracy. As in the tutorial, ensure that the tumor Dice score calculation column is present in the `*.csv` file."
      ]
    },
    {
      "cell_type": "code",
      "execution_count": 36,
      "metadata": {
        "id": "xrAE1l9nfA3z",
        "outputId": "7bbd47b6-6da5-4201-ef58-c401d7bbf4cb",
        "colab": {
          "base_uri": "https://localhost:8080/"
        }
      },
      "outputs": [
        {
          "output_type": "stream",
          "name": "stdout",
          "text": [
            "0.9323396101410006\n"
          ]
        }
      ],
      "source": [
        "# --- Create *.csv\n",
        "df = pd.DataFrame(index = np.arange(dsc.size))\n",
        "df['Dice']= dsc\n",
        "# --- Serialize *.csv\n",
        "print(df['Dice'].mean())\n",
        "df.to_csv('./dice_results.csv')"
      ]
    },
    {
      "cell_type": "markdown",
      "metadata": {
        "id": "H3ec5VVffA3z"
      },
      "source": [
        "# Submission\n",
        "\n",
        "Use the following line to save your model for submission (in Google Colab this should save your model file into your personal Google Drive):"
      ]
    },
    {
      "cell_type": "code",
      "execution_count": 37,
      "metadata": {
        "id": "VBEjNzVQfA3z",
        "outputId": "fa708f06-974f-4330-8547-3bf9bc5b1216",
        "colab": {
          "base_uri": "https://localhost:8080/"
        }
      },
      "outputs": [
        {
          "output_type": "stream",
          "name": "stdout",
          "text": [
            "WARNING:tensorflow:Compiled the loaded model, but the compiled metrics have yet to be built. `model.compile_metrics` will be empty until you train or evaluate the model.\n"
          ]
        }
      ],
      "source": [
        "# --- Serialize a model\n",
        "backbone.save('./wjhan_model.hdf5')"
      ]
    },
    {
      "cell_type": "markdown",
      "metadata": {
        "id": "WxIgvZ-xfA3z"
      },
      "source": [
        "### Canvas\n",
        "\n",
        "Once you have completed this assignment, download the necessary files from Google Colab and your Google Drive. You will then need to submit the following items:\n",
        "\n",
        "* final (completed) notebook: `[UCInetID]_assignment.ipynb`\n",
        "* final (results) spreadsheet: `[UCInetID]_results.csv`\n",
        "* final (trained) model: `[UCInetID]_model.hdf5`\n",
        "\n",
        "**Important**: please submit all your files prefixed with your UCInetID as listed above. Your UCInetID is the part of your UCI email address that comes before `@uci.edu`. For example, Peter Anteater has an email address of panteater@uci.edu, so his notebooke file would be submitted under the name `panteater_notebook.ipynb`, his spreadshhet would be submitted under the name `panteater_results.csv` and and his model file would be submitted under the name `panteater_model.hdf5`."
      ]
    }
  ],
  "metadata": {
    "kernelspec": {
      "display_name": "Python 3",
      "language": "python",
      "name": "python3"
    },
    "language_info": {
      "codemirror_mode": {
        "name": "ipython",
        "version": 3
      },
      "file_extension": ".py",
      "mimetype": "text/x-python",
      "name": "python",
      "nbconvert_exporter": "python",
      "pygments_lexer": "ipython3",
      "version": "3.8.5"
    },
    "colab": {
      "name": "assignment.ipynb",
      "provenance": []
    },
    "accelerator": "GPU"
  },
  "nbformat": 4,
  "nbformat_minor": 0
}