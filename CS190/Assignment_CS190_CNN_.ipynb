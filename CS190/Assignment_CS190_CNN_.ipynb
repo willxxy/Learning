{
  "cells": [
    {
      "cell_type": "markdown",
      "metadata": {
        "id": "6DuMJJ8dC1Cq"
      },
      "source": [
        "# Assignment\n",
        "\n",
        "In this assignment we will train a convolutional neural network (CNN) on the CIFAR-10 dataset.\n",
        "\n",
        "This assignment is part of the class **Introduction to Deep Learning for Medical Imaging** at University of California Irvine (CS190); more information can be found: https://github.com/peterchang77/dl_tutor/tree/master/cs190."
      ]
    },
    {
      "cell_type": "markdown",
      "metadata": {
        "id": "gw-QDnJbC1Ct"
      },
      "source": [
        "### Submission\n",
        "\n",
        "Once complete, the following items must be submitted:\n",
        "\n",
        "* final `*.ipynb` notebook (push to https://github.com/[username]/cs190/cnn/assignment.ipynb)\n",
        "* final trained `*.hdf5` model file\n",
        "* final compiled `*.csv` file with performance statistics"
      ]
    },
    {
      "cell_type": "markdown",
      "metadata": {
        "id": "56d3oMiMw8Wm"
      },
      "source": [
        "# Google Colab\n",
        "\n",
        "The following lines of code will configure your Google Colab environment for this assignment."
      ]
    },
    {
      "cell_type": "markdown",
      "metadata": {
        "id": "ZLK2D0FAC1Cu"
      },
      "source": [
        "### Enable GPU runtime\n",
        "\n",
        "Use the following instructions to switch the default Colab instance into a GPU-enabled runtime:\n",
        "\n",
        "```\n",
        "Runtime > Change runtime type > Hardware accelerator > GPU\n",
        "```"
      ]
    },
    {
      "cell_type": "markdown",
      "metadata": {
        "id": "navjhP8gC1Cu"
      },
      "source": [
        "### Mount Google Drive\n",
        "\n",
        "The Google Colab environment is transient and will reset after any prolonged break in activity. To retain important and/or large files between sessions, use the following lines of code to mount your personal Google drive to this Colab instance:"
      ]
    },
    {
      "cell_type": "code",
      "execution_count": null,
      "metadata": {
        "id": "zehL9DdjC1Cu",
        "colab": {
          "base_uri": "https://localhost:8080/"
        },
        "outputId": "014b124e-1f85-4328-f373-3598f17dcec1"
      },
      "outputs": [
        {
          "output_type": "stream",
          "name": "stdout",
          "text": [
            "Mounted at /content/drive\n"
          ]
        }
      ],
      "source": [
        "try:\n",
        "    # --- Mount gdrive to /content/drive/My Drive/\n",
        "    from google.colab import drive\n",
        "    drive.mount('/content/drive')\n",
        "    \n",
        "except: pass"
      ]
    },
    {
      "cell_type": "markdown",
      "metadata": {
        "id": "qa6bspBvC1Cv"
      },
      "source": [
        "Throughout this assignment we will use the following global `MOUNT_ROOT` variable to reference a location to store long-term data. If you are using a local Jupyter server and/or wish to store your data elsewhere, please update this variable now."
      ]
    },
    {
      "cell_type": "code",
      "execution_count": null,
      "metadata": {
        "id": "jdjX_rJYC1Cv"
      },
      "outputs": [],
      "source": [
        "# --- Set data directory\n",
        "MOUNT_ROOT = '/content/drive/My Drive'"
      ]
    },
    {
      "cell_type": "markdown",
      "metadata": {
        "id": "sMyKnvV5C1Cw"
      },
      "source": [
        "### Select Tensorflow library version\n",
        "\n",
        "This assignment will use the (new) Tensorflow 2.0 library. Use the following line of code to select this updated version:"
      ]
    },
    {
      "cell_type": "code",
      "execution_count": null,
      "metadata": {
        "id": "HohD_HczC1Cw"
      },
      "outputs": [],
      "source": [
        "# --- Select Tensorflow 2.0 (only in Google Colab)\n",
        "% tensorflow_version 2.x"
      ]
    },
    {
      "cell_type": "markdown",
      "metadata": {
        "id": "ecoANBd8C1Cw"
      },
      "source": [
        "# Environment"
      ]
    },
    {
      "cell_type": "markdown",
      "metadata": {
        "id": "Amuw2Dy_C1Cw"
      },
      "source": [
        "### Jarvis library\n",
        "\n",
        "In this notebook we will Jarvis, a custom Python package to facilitate data science and deep learning for healthcare. Among other things, this library will be used for low-level data management, stratification and visualization of high-dimensional medical data."
      ]
    },
    {
      "cell_type": "code",
      "execution_count": null,
      "metadata": {
        "id": "5KJgXT2tC1Cw",
        "colab": {
          "base_uri": "https://localhost:8080/"
        },
        "outputId": "a3af23d0-c235-4af2-aa06-4c5f170d8765"
      },
      "outputs": [
        {
          "output_type": "stream",
          "name": "stdout",
          "text": [
            "Collecting jarvis-md\n",
            "  Downloading jarvis_md-0.0.1a14-py3-none-any.whl (81 kB)\n",
            "\u001b[?25l\r\u001b[K     |████                            | 10 kB 20.1 MB/s eta 0:00:01\r\u001b[K     |████████                        | 20 kB 25.3 MB/s eta 0:00:01\r\u001b[K     |████████████                    | 30 kB 23.0 MB/s eta 0:00:01\r\u001b[K     |████████████████▏               | 40 kB 13.4 MB/s eta 0:00:01\r\u001b[K     |████████████████████▏           | 51 kB 9.0 MB/s eta 0:00:01\r\u001b[K     |████████████████████████▏       | 61 kB 9.4 MB/s eta 0:00:01\r\u001b[K     |████████████████████████████▏   | 71 kB 7.9 MB/s eta 0:00:01\r\u001b[K     |████████████████████████████████| 81 kB 5.1 MB/s \n",
            "\u001b[?25hRequirement already satisfied: pandas in /usr/local/lib/python3.7/dist-packages (from jarvis-md) (1.1.5)\n",
            "Requirement already satisfied: scipy in /usr/local/lib/python3.7/dist-packages (from jarvis-md) (1.4.1)\n",
            "Requirement already satisfied: requests in /usr/local/lib/python3.7/dist-packages (from jarvis-md) (2.23.0)\n",
            "Requirement already satisfied: h5py in /usr/local/lib/python3.7/dist-packages (from jarvis-md) (3.1.0)\n",
            "Requirement already satisfied: matplotlib in /usr/local/lib/python3.7/dist-packages (from jarvis-md) (3.2.2)\n",
            "Collecting pyyaml>=5.2\n",
            "  Downloading PyYAML-6.0-cp37-cp37m-manylinux_2_5_x86_64.manylinux1_x86_64.manylinux_2_12_x86_64.manylinux2010_x86_64.whl (596 kB)\n",
            "\u001b[K     |████████████████████████████████| 596 kB 16.0 MB/s \n",
            "\u001b[?25hRequirement already satisfied: numpy in /usr/local/lib/python3.7/dist-packages (from jarvis-md) (1.19.5)\n",
            "Requirement already satisfied: cached-property in /usr/local/lib/python3.7/dist-packages (from h5py->jarvis-md) (1.5.2)\n",
            "Requirement already satisfied: kiwisolver>=1.0.1 in /usr/local/lib/python3.7/dist-packages (from matplotlib->jarvis-md) (1.3.2)\n",
            "Requirement already satisfied: pyparsing!=2.0.4,!=2.1.2,!=2.1.6,>=2.0.1 in /usr/local/lib/python3.7/dist-packages (from matplotlib->jarvis-md) (3.0.6)\n",
            "Requirement already satisfied: cycler>=0.10 in /usr/local/lib/python3.7/dist-packages (from matplotlib->jarvis-md) (0.11.0)\n",
            "Requirement already satisfied: python-dateutil>=2.1 in /usr/local/lib/python3.7/dist-packages (from matplotlib->jarvis-md) (2.8.2)\n",
            "Requirement already satisfied: six>=1.5 in /usr/local/lib/python3.7/dist-packages (from python-dateutil>=2.1->matplotlib->jarvis-md) (1.15.0)\n",
            "Requirement already satisfied: pytz>=2017.2 in /usr/local/lib/python3.7/dist-packages (from pandas->jarvis-md) (2018.9)\n",
            "Requirement already satisfied: certifi>=2017.4.17 in /usr/local/lib/python3.7/dist-packages (from requests->jarvis-md) (2021.10.8)\n",
            "Requirement already satisfied: urllib3!=1.25.0,!=1.25.1,<1.26,>=1.21.1 in /usr/local/lib/python3.7/dist-packages (from requests->jarvis-md) (1.24.3)\n",
            "Requirement already satisfied: chardet<4,>=3.0.2 in /usr/local/lib/python3.7/dist-packages (from requests->jarvis-md) (3.0.4)\n",
            "Requirement already satisfied: idna<3,>=2.5 in /usr/local/lib/python3.7/dist-packages (from requests->jarvis-md) (2.10)\n",
            "Installing collected packages: pyyaml, jarvis-md\n",
            "  Attempting uninstall: pyyaml\n",
            "    Found existing installation: PyYAML 3.13\n",
            "    Uninstalling PyYAML-3.13:\n",
            "      Successfully uninstalled PyYAML-3.13\n",
            "Successfully installed jarvis-md-0.0.1a14 pyyaml-6.0\n"
          ]
        }
      ],
      "source": [
        "# --- Install jarvis (only in Google Colab or local runtime)\n",
        "% pip install jarvis-md"
      ]
    },
    {
      "cell_type": "markdown",
      "metadata": {
        "id": "oPPvCLX2C1Cx"
      },
      "source": [
        "### Imports\n",
        "\n",
        "Use the following lines to import any additional needed libraries:"
      ]
    },
    {
      "cell_type": "code",
      "execution_count": null,
      "metadata": {
        "id": "gFjT1QU1C1Cx"
      },
      "outputs": [],
      "source": [
        "import os, numpy as np, pandas as pd\n",
        "from tensorflow import losses, optimizers\n",
        "from tensorflow.keras import Input, Model, models, layers\n",
        "from jarvis.train import datasets"
      ]
    },
    {
      "cell_type": "markdown",
      "metadata": {
        "id": "Ukte9lmTC1Cx"
      },
      "source": [
        "# Data\n",
        "\n",
        "As in the tutorial, data for this assignment will consist of the CIFAR-10 dataset comprising 10 different everyday objects (airplane, automobile, bird, cat, deer, dog, frog, horse, ship, truck). The following lines of code will:\n",
        "\n",
        "1. Download the dataset (if not already present) \n",
        "2. Prepare the necessary Python generators to iterate through dataset\n",
        "3. Prepare the corresponding Tensorflow Input(...) objects for model definition"
      ]
    },
    {
      "cell_type": "code",
      "execution_count": null,
      "metadata": {
        "id": "yuRSyRJ_C1Cx",
        "colab": {
          "base_uri": "https://localhost:8080/"
        },
        "outputId": "fd1f5678-7a7a-4637-b1e7-8f2a4e14f2be"
      },
      "outputs": [
        {
          "output_type": "stream",
          "name": "stdout",
          "text": [
            "[ 2021-12-30 01:58:34 ] [====================] 100.000% : Iterating | 000001    "
          ]
        }
      ],
      "source": [
        "# --- Download dataset\n",
        "datasets.download(name='cifar')\n",
        "\n",
        "# --- Prepare generators and model inputs\n",
        "gen_train, gen_valid, client = datasets.prepare(name='cifar')\n",
        "inputs = client.get_inputs(Input)"
      ]
    },
    {
      "cell_type": "markdown",
      "metadata": {
        "id": "uKBQEGO-C1Cy"
      },
      "source": [
        "# Training\n",
        "\n",
        "In this assignment we will train a basic convolutional neural network on the CIFAR-10 dataset. At minumum you must include the following baseline techniques covered in the tutorial:\n",
        "\n",
        "* convolutional operations\n",
        "* batch normalization\n",
        "* activation function\n",
        "* subsampling\n",
        "\n",
        "You are also **encouraged** to try different permuations and customizations to achieve optimal validation accuracy."
      ]
    },
    {
      "cell_type": "markdown",
      "metadata": {
        "id": "Bc5BpGPrC1Cy"
      },
      "source": [
        "### Define the model"
      ]
    },
    {
      "cell_type": "code",
      "source": [
        "print(inputs['dat'].shape)"
      ],
      "metadata": {
        "colab": {
          "base_uri": "https://localhost:8080/"
        },
        "id": "0kTbJlyrEKe0",
        "outputId": "c2a7e264-8f7c-4ad1-c4f0-0b1a47bfe339"
      },
      "execution_count": null,
      "outputs": [
        {
          "output_type": "stream",
          "name": "stdout",
          "text": [
            "(None, 32, 32, 3)\n"
          ]
        }
      ]
    },
    {
      "cell_type": "code",
      "execution_count": null,
      "metadata": {
        "id": "94RswJ_IC1Cy"
      },
      "outputs": [],
      "source": [
        "# --- Define model\n",
        "# ...\n",
        "# ...\n",
        "\n",
        "kwargs = {\n",
        "    'kernel_size': (3,3),\n",
        "    'padding': 'same'\n",
        "}\n",
        "\n",
        "c1 = layers.Conv2D(filters=16, **kwargs)(inputs['dat'])\n",
        "n1 = layers.BatchNormalization()(c1)\n",
        "r1 = layers.ReLU()(n1)\n",
        "\n",
        "\n",
        "conv = lambda x, filters, strides : layers.Conv2D(filters=filters, strides=strides, **kwargs)(x)\n",
        "norm = lambda x : layers.BatchNormalization()(x)\n",
        "relu = lambda x : layers.ReLU()(x)\n",
        "\n",
        "b1 = relu(norm(conv(inputs['dat'], 16, (1,1))))\n",
        "\n",
        "conv1 = lambda filters, x : relu(norm(conv(x, filters, strides = 1)))\n",
        "conv2 = lambda filters, x : relu(norm(conv(x, filters, strides = (2,2))))\n",
        "\n",
        "l1 = conv1(16, inputs['dat'])\n",
        "l2 = conv1(24, conv2(24, l1))\n",
        "l3 = conv1(32, conv2(32, l2))\n",
        "l4 = conv1(48, conv2(48, l3))\n",
        "\n",
        "f0 = layers.Flatten()(l4)\n",
        "\n",
        "drop = layers.Dropout(rate=0.25)\n",
        "\n",
        "h1 = drop(layers.Dense(64, activation = 'relu')(f0))\n",
        "\n",
        "\n",
        "logits = {}\n",
        "logits['class'] = layers.Dense(10, name='class')(h1)\n",
        "\n",
        "# --- Create model\n",
        "model = Model(inputs=inputs, outputs=logits)"
      ]
    },
    {
      "cell_type": "code",
      "source": [
        "model"
      ],
      "metadata": {
        "colab": {
          "base_uri": "https://localhost:8080/"
        },
        "id": "dWICa0u4e8c4",
        "outputId": "32f50cfd-fcdf-4c78-a9e2-cd5d0cb76bde"
      },
      "execution_count": null,
      "outputs": [
        {
          "output_type": "execute_result",
          "data": {
            "text/plain": [
              "<keras.engine.functional.Functional at 0x7fc165d0a990>"
            ]
          },
          "metadata": {},
          "execution_count": 40
        }
      ]
    },
    {
      "cell_type": "markdown",
      "metadata": {
        "id": "rS-lpKuWC1Cy"
      },
      "source": [
        "### Compile the model"
      ]
    },
    {
      "cell_type": "code",
      "execution_count": null,
      "metadata": {
        "id": "bq80Tp_OC1Cy"
      },
      "outputs": [],
      "source": [
        "# --- Compile model\n",
        "model.compile(\n",
        "    optimizer = optimizers.Adam(learning_rate = 2e-4),\n",
        "    loss={'class': losses.SparseCategoricalCrossentropy(from_logits=True)},\n",
        "    metrics={'class' : 'sparse_categorical_accuracy'})"
      ]
    },
    {
      "cell_type": "markdown",
      "metadata": {
        "id": "RJySy2FdC1Cy"
      },
      "source": [
        "### Train the model"
      ]
    },
    {
      "cell_type": "code",
      "execution_count": null,
      "metadata": {
        "id": "9-g13DCJC1Cz",
        "colab": {
          "base_uri": "https://localhost:8080/"
        },
        "outputId": "b4fa1322-d72a-487a-c54a-357b4aa93191"
      },
      "outputs": [
        {
          "output_type": "stream",
          "name": "stdout",
          "text": [
            "Epoch 1/12\n",
            "500/500 [==============================] - 41s 82ms/step - loss: 0.8331 - sparse_categorical_accuracy: 0.7072\n",
            "Epoch 2/12\n",
            "500/500 [==============================] - 42s 83ms/step - loss: 0.7589 - sparse_categorical_accuracy: 0.7313\n",
            "Epoch 3/12\n",
            "500/500 [==============================] - 42s 83ms/step - loss: 0.7810 - sparse_categorical_accuracy: 0.7276\n",
            "Epoch 4/12\n",
            "500/500 [==============================] - 60s 121ms/step - loss: 0.7756 - sparse_categorical_accuracy: 0.7263 - val_loss: 0.9327 - val_sparse_categorical_accuracy: 0.6768\n",
            "Epoch 5/12\n",
            "500/500 [==============================] - 42s 84ms/step - loss: 0.7183 - sparse_categorical_accuracy: 0.7494\n",
            "Epoch 6/12\n",
            "500/500 [==============================] - 42s 83ms/step - loss: 0.7234 - sparse_categorical_accuracy: 0.7427\n",
            "Epoch 7/12\n",
            "500/500 [==============================] - 42s 83ms/step - loss: 0.7477 - sparse_categorical_accuracy: 0.7388\n",
            "Epoch 8/12\n",
            "500/500 [==============================] - 60s 121ms/step - loss: 0.6763 - sparse_categorical_accuracy: 0.7616 - val_loss: 0.9684 - val_sparse_categorical_accuracy: 0.6767\n",
            "Epoch 9/12\n",
            "500/500 [==============================] - 43s 86ms/step - loss: 0.7018 - sparse_categorical_accuracy: 0.7534\n",
            "Epoch 10/12\n",
            "500/500 [==============================] - 43s 86ms/step - loss: 0.7002 - sparse_categorical_accuracy: 0.7504\n",
            "Epoch 11/12\n",
            "500/500 [==============================] - 43s 86ms/step - loss: 0.6525 - sparse_categorical_accuracy: 0.7704\n",
            "Epoch 12/12\n",
            "500/500 [==============================] - 61s 122ms/step - loss: 0.6580 - sparse_categorical_accuracy: 0.7667 - val_loss: 0.9799 - val_sparse_categorical_accuracy: 0.6794\n"
          ]
        },
        {
          "output_type": "execute_result",
          "data": {
            "text/plain": [
              "<keras.callbacks.History at 0x7fc167e52590>"
            ]
          },
          "metadata": {},
          "execution_count": 34
        }
      ],
      "source": [
        "model.fit(\n",
        "    x=gen_train,\n",
        "    steps_per_epoch=500,\n",
        "    epochs=12,\n",
        "    validation_data=gen_valid,\n",
        "    validation_steps=500,\n",
        "    validation_freq=4\n",
        ")"
      ]
    },
    {
      "cell_type": "markdown",
      "metadata": {
        "id": "xA62rVfwC1Cz"
      },
      "source": [
        "# Evaluation\n",
        "\n",
        "Based on the tutorial discussion, use the following cells to check your algorithm performance. Consider loading a saved model and running prediction using `model.predict(...)` on the data aggregated via a test generator."
      ]
    },
    {
      "cell_type": "code",
      "execution_count": null,
      "metadata": {
        "id": "eyBG_fApC1Cz",
        "colab": {
          "base_uri": "https://localhost:8080/"
        },
        "outputId": "5248565c-abe4-4208-847f-809c62a6701c"
      },
      "outputs": [
        {
          "output_type": "stream",
          "name": "stdout",
          "text": [
            "[ 2021-12-30 03:48:44 ] [====================] 100.000% : Iterating | 012000    "
          ]
        }
      ],
      "source": [
        "# --- Create validation generator\n",
        "test_train, test_valid = client.create_generators(test=True)\n",
        "\n",
        "# --- Aggregate all examples\n",
        "xs = []\n",
        "ys = []\n",
        "\n",
        "for x, y in test_valid:\n",
        "    xs.append(x['dat'])\n",
        "    ys.append(y['class'])\n",
        "\n",
        "xs = np.concatenate(xs)\n",
        "ys = np.concatenate(ys)\n",
        "# --- Predict\n",
        "logits = model.predict(xs)\n",
        "\n",
        "if type(logits) is dict:\n",
        "    logits = logits['class']\n",
        "\n",
        "# --- Argmax\n",
        "pred = np.argmax(logits, axis=1)\n"
      ]
    },
    {
      "cell_type": "code",
      "source": [
        "df = pd.DataFrame(index=np.arange(pred.size))\n",
        "\n",
        "# --- Define columns\n",
        "df['true'] = ys[:, 0]\n",
        "df['pred'] = pred\n",
        "df['corr'] = df['true'] == df['pred']\n",
        "\n",
        "# --- Print accuracy\n",
        "print(df['corr'].mean())"
      ],
      "metadata": {
        "colab": {
          "base_uri": "https://localhost:8080/"
        },
        "id": "HMz16gdfTbgW",
        "outputId": "25c85669-558a-40ac-e067-50b75633f5a5"
      },
      "execution_count": null,
      "outputs": [
        {
          "output_type": "stream",
          "name": "stdout",
          "text": [
            "0.683\n"
          ]
        }
      ]
    },
    {
      "cell_type": "markdown",
      "metadata": {
        "id": "FKZCvYwjC1Cz"
      },
      "source": [
        "**Note**: this cell is used only to check for model performance. It will not be graded. Once you are satisfied with your model, proceed to submission of your assignment below."
      ]
    },
    {
      "cell_type": "markdown",
      "metadata": {
        "id": "gVzDYcBFC1Cz"
      },
      "source": [
        "### Results\n",
        "\n",
        "When ready, create a `*.csv` file with your compiled **validation** cohort statistics. There is no need to submit training performance accuracy. As in the tutorial, ensure that there are at least three columns in the `*.csv` file:\n",
        "\n",
        "* true (ground-truth)\n",
        "* pred (prediction)\n",
        "* corr (correction prediction, True or False)"
      ]
    },
    {
      "cell_type": "code",
      "execution_count": null,
      "metadata": {
        "id": "FSdRP-8yC1Cz"
      },
      "outputs": [],
      "source": [
        "# --- Create *.csv\n",
        "\n",
        "                              \n",
        "# --- Serialize *.csv\n",
        "fname = '{}/models/cnn/results.csv'.format(MOUNT_ROOT)\n",
        "os.makedirs(os.path.dirname(fname), exist_ok=True)\n",
        "df.to_csv(path)"
      ]
    },
    {
      "cell_type": "markdown",
      "metadata": {
        "id": "4mddhwEfC1C0"
      },
      "source": [
        "# Submission\n",
        "\n",
        "Use the following line to save your model for submission (in Google Colab this should save your model file into your personal Google Drive):"
      ]
    },
    {
      "cell_type": "code",
      "execution_count": null,
      "metadata": {
        "id": "qMdVu59VC1C0"
      },
      "outputs": [],
      "source": [
        "# --- Serialize a model\n",
        "fname = '{}/models/cnn/final.hdf5'.format(MOUNT_ROOT)\n",
        "os.makedirs(os.path.dirname(fname), exist_ok=True)\n",
        "model.save(fname)"
      ]
    },
    {
      "cell_type": "markdown",
      "metadata": {
        "id": "lgIST2ruC1C0"
      },
      "source": [
        "### Canvas\n",
        "\n",
        "Once you have completed this assignment, download the necessary files from Google Colab and your Google Drive. You will then need to submit the following items:\n",
        "\n",
        "* final (completed) notebook: `[UCInetID]_assignment.ipynb`\n",
        "* final (results) spreadsheet: `[UCInetID]_results.csv`\n",
        "* final (trained) model: `[UCInetID]_model.hdf5`\n",
        "\n",
        "**Important**: please submit all your files prefixed with your UCInetID as listed above. Your UCInetID is the part of your UCI email address that comes before `@uci.edu`. For example, Peter Anteater has an email address of panteater@uci.edu, so his notebooke file would be submitted under the name `panteater_notebook.ipynb`, his spreadshhet would be submitted under the name `panteater_results.csv` and and his model file would be submitted under the name `panteater_model.hdf5`."
      ]
    }
  ],
  "metadata": {
    "kernelspec": {
      "display_name": "Python 3",
      "language": "python",
      "name": "python3"
    },
    "language_info": {
      "codemirror_mode": {
        "name": "ipython",
        "version": 3
      },
      "file_extension": ".py",
      "mimetype": "text/x-python",
      "name": "python",
      "nbconvert_exporter": "python",
      "pygments_lexer": "ipython3",
      "version": "3.6.10"
    },
    "colab": {
      "name": "Assignment CS190 CNN .ipynb",
      "provenance": []
    }
  },
  "nbformat": 4,
  "nbformat_minor": 0
}