{
  "cells": [
    {
      "cell_type": "markdown",
      "metadata": {
        "id": "CRVlPfzul3dU"
      },
      "source": [
        "# Final\n",
        "\n",
        "The final project will consist of a comparison between several CNN architectures for tumor detection. The goal is both to create a high-performing algorithm for differentiating kidneys with tumor from those that are normal, as well as to analyze performance across several different architecture permutations. In total, three different network designs will be tested. As each model is built and trained, ensure to serialize the final model `*.hdf5` file before moving to the next iteration.\n",
        "\n",
        "This assignment is part of the class **Introduction to Deep Learning for Medical Imaging** at University of California Irvine (CS190); more information can be found: https://github.com/peterchang77/dl_tutor/tree/master/cs190."
      ]
    },
    {
      "cell_type": "markdown",
      "metadata": {
        "id": "7eZMyJSQl3dY"
      },
      "source": [
        "### Submission\n",
        "\n",
        "Once complete, the following items must be submitted:\n",
        "\n",
        "* final `*.ipynb` notebook\n",
        "* final trained `*.hdf5` model files for all three models\n",
        "* final compiled `*.csv` file with performance statistics across the different architectures\n",
        "* final 1-page write-up with methods and results of experiments"
      ]
    },
    {
      "cell_type": "markdown",
      "metadata": {
        "id": "56d3oMiMw8Wm"
      },
      "source": [
        "# Google Colab\n",
        "\n",
        "The following lines of code will configure your Google Colab environment for this assignment."
      ]
    },
    {
      "cell_type": "markdown",
      "metadata": {
        "id": "p2pN5-3Ml3dZ"
      },
      "source": [
        "### Enable GPU runtime\n",
        "\n",
        "Use the following instructions to switch the default Colab instance into a GPU-enabled runtime:\n",
        "\n",
        "```\n",
        "Runtime > Change runtime type > Hardware accelerator > GPU\n",
        "```"
      ]
    },
    {
      "cell_type": "markdown",
      "metadata": {
        "id": "D6MNIC1Cl3da"
      },
      "source": [
        "# Environment"
      ]
    },
    {
      "cell_type": "markdown",
      "metadata": {
        "id": "BvqUtmdWl3da"
      },
      "source": [
        "### Jarvis library\n",
        "\n",
        "In this notebook we will Jarvis, a custom Python package to facilitate data science and deep learning for healthcare. Among other things, this library will be used for low-level data management, stratification and visualization of high-dimensional medical data."
      ]
    },
    {
      "cell_type": "code",
      "execution_count": 1,
      "metadata": {
        "id": "HMEPx3CXl3da",
        "outputId": "ee86c9d0-33da-4744-bb4d-475a712345cc",
        "colab": {
          "base_uri": "https://localhost:8080/"
        }
      },
      "outputs": [
        {
          "output_type": "stream",
          "name": "stdout",
          "text": [
            "Looking in indexes: https://pypi.org/simple, https://us-python.pkg.dev/colab-wheels/public/simple/\n",
            "Requirement already satisfied: jarvis-md in /usr/local/lib/python3.7/dist-packages (0.0.1a17)\n",
            "Requirement already satisfied: pyyaml>=5.2 in /usr/local/lib/python3.7/dist-packages (from jarvis-md) (6.0)\n",
            "Requirement already satisfied: matplotlib in /usr/local/lib/python3.7/dist-packages (from jarvis-md) (3.2.2)\n",
            "Requirement already satisfied: requests in /usr/local/lib/python3.7/dist-packages (from jarvis-md) (2.23.0)\n",
            "Requirement already satisfied: h5py in /usr/local/lib/python3.7/dist-packages (from jarvis-md) (3.1.0)\n",
            "Requirement already satisfied: numpy in /usr/local/lib/python3.7/dist-packages (from jarvis-md) (1.21.6)\n",
            "Requirement already satisfied: pandas in /usr/local/lib/python3.7/dist-packages (from jarvis-md) (1.3.5)\n",
            "Requirement already satisfied: scipy in /usr/local/lib/python3.7/dist-packages (from jarvis-md) (1.4.1)\n",
            "Requirement already satisfied: cached-property in /usr/local/lib/python3.7/dist-packages (from h5py->jarvis-md) (1.5.2)\n",
            "Requirement already satisfied: cycler>=0.10 in /usr/local/lib/python3.7/dist-packages (from matplotlib->jarvis-md) (0.11.0)\n",
            "Requirement already satisfied: pyparsing!=2.0.4,!=2.1.2,!=2.1.6,>=2.0.1 in /usr/local/lib/python3.7/dist-packages (from matplotlib->jarvis-md) (3.0.9)\n",
            "Requirement already satisfied: kiwisolver>=1.0.1 in /usr/local/lib/python3.7/dist-packages (from matplotlib->jarvis-md) (1.4.2)\n",
            "Requirement already satisfied: python-dateutil>=2.1 in /usr/local/lib/python3.7/dist-packages (from matplotlib->jarvis-md) (2.8.2)\n",
            "Requirement already satisfied: typing-extensions in /usr/local/lib/python3.7/dist-packages (from kiwisolver>=1.0.1->matplotlib->jarvis-md) (4.2.0)\n",
            "Requirement already satisfied: six>=1.5 in /usr/local/lib/python3.7/dist-packages (from python-dateutil>=2.1->matplotlib->jarvis-md) (1.15.0)\n",
            "Requirement already satisfied: pytz>=2017.3 in /usr/local/lib/python3.7/dist-packages (from pandas->jarvis-md) (2022.1)\n",
            "Requirement already satisfied: chardet<4,>=3.0.2 in /usr/local/lib/python3.7/dist-packages (from requests->jarvis-md) (3.0.4)\n",
            "Requirement already satisfied: urllib3!=1.25.0,!=1.25.1,<1.26,>=1.21.1 in /usr/local/lib/python3.7/dist-packages (from requests->jarvis-md) (1.24.3)\n",
            "Requirement already satisfied: certifi>=2017.4.17 in /usr/local/lib/python3.7/dist-packages (from requests->jarvis-md) (2022.5.18.1)\n",
            "Requirement already satisfied: idna<3,>=2.5 in /usr/local/lib/python3.7/dist-packages (from requests->jarvis-md) (2.10)\n"
          ]
        }
      ],
      "source": [
        "# --- Install jarvis (only in Google Colab or local runtime)\n",
        "% pip install jarvis-md"
      ]
    },
    {
      "cell_type": "markdown",
      "metadata": {
        "id": "k3Un6ptil3db"
      },
      "source": [
        "### Imports\n",
        "\n",
        "Use the following lines to import any additional needed libraries:"
      ]
    },
    {
      "cell_type": "code",
      "execution_count": 2,
      "metadata": {
        "id": "0QSUFtn8l3db"
      },
      "outputs": [],
      "source": [
        "import numpy as np, pandas as pd\n",
        "import tensorflow as tf\n",
        "from tensorflow.keras import Input, Model, models, layers, losses, metrics, optimizers\n",
        "from jarvis.train import datasets\n",
        "from jarvis.utils.display import imshow"
      ]
    },
    {
      "cell_type": "markdown",
      "metadata": {
        "id": "WdE-EFhDl3dc"
      },
      "source": [
        "# Data\n",
        "\n",
        "The data used in this tutorial will consist of kidney tumor CT exams derived from the Kidney Tumor Segmentation Challenge (KiTS). More information about the KiTS Challenge can be found here: https://kits21.kits-challenge.org/. The custom `datasets.download(...)` method can be used to download a local copy of the dataset. By default the dataset will be archived at `/data/raw/ct_kits`; as needed an alternate location may be specified using `datasets.download(name=..., path=...)`. "
      ]
    },
    {
      "cell_type": "code",
      "execution_count": 3,
      "metadata": {
        "id": "pMwfk4lOl3dc",
        "outputId": "a398a2ad-9fef-47d2-8ade-06c0db5bf4d9",
        "colab": {
          "base_uri": "https://localhost:8080/"
        }
      },
      "outputs": [
        {
          "output_type": "execute_result",
          "data": {
            "text/plain": [
              "{'code': '/data/raw/ct_kits', 'data': '/data/raw/ct_kits'}"
            ]
          },
          "metadata": {},
          "execution_count": 3
        }
      ],
      "source": [
        "# --- Download dataset\n",
        "datasets.download(name='ct/kits')"
      ]
    },
    {
      "cell_type": "markdown",
      "metadata": {
        "id": "UwWwg8JIl3dc"
      },
      "source": [
        "Since the algorithms below may require slightly different model inputs, the required generators and inputs will be defined dyanically in the code blocks later in this notebook."
      ]
    },
    {
      "cell_type": "markdown",
      "metadata": {
        "id": "QKRfSimtl3dc"
      },
      "source": [
        "### Data Generator\n",
        "\n",
        "To accomodate these various permutations, consider the following custom code to implement a nested generator strategy:"
      ]
    },
    {
      "cell_type": "code",
      "execution_count": 4,
      "metadata": {
        "id": "kK8p8GH0l3dd"
      },
      "outputs": [],
      "source": [
        "def G(gen, dims=2, task='cls', binarize=True):\n",
        "    \"\"\"\n",
        "    Custom generator to modify raw labels for 2D/3D classification or segmentation tasks\n",
        "    \n",
        "    :params\n",
        "    \n",
        "      (generator) gen      : original unmodified generator\n",
        "      (int)       dims     : 2D or 3D model\n",
        "      (str)       task     : 'cls' or 'seg' \n",
        "      (bool)      binarize : whether or not to binarize original 3-class labels\n",
        "    \n",
        "    \"\"\"\n",
        "    assert task in ['cls', 'seg']\n",
        "\n",
        "    for xs, _ in gen:\n",
        "\n",
        "        # --- Convert segmentation into classification labels\n",
        "        if task == 'cls':\n",
        "            axis = (2, 3, 4) if dims == 2 else (1, 2, 3, 4)\n",
        "            xs['lbl'] = np.max(xs['lbl'], axis=axis, keepdims=True)\n",
        "            \n",
        "        # --- Binarize\n",
        "        if binarize:\n",
        "            xs['lbl'] = xs['lbl'] == 2\n",
        "\n",
        "        yield xs"
      ]
    },
    {
      "cell_type": "markdown",
      "metadata": {
        "id": "WOJNPuNil3dd"
      },
      "source": [
        "# Training\n",
        "\n",
        "A total of three different network architectures will be tested. The goal is to compare the incremental benefit of several design choices. After building and training each model to convergence, do not forget to save each model as a separate `*.hdf5` file."
      ]
    },
    {
      "cell_type": "markdown",
      "metadata": {
        "id": "zUwfsY_2l3dd"
      },
      "source": [
        "## 1. Classification\n",
        "\n",
        "The first task is to create any classification model for binary tumor detection. A 2D model will predict tumor vs. no tumor on a slice-by-slice basis whereas a 3D model will predict tumor vs. no tumor on a volume basis. Regardless of implementation choice, all statistical analysis will be performed on a **volume basis**. For those that choose a 2D model, a reduction strategy must be implemented (see details further below)."
      ]
    },
    {
      "cell_type": "code",
      "source": [
        "def create_blocks(dims=None):\n",
        "    \n",
        "    kernel_size = (1, 3, 3) if dims == 2 else (3, 3, 3)\n",
        "    strides = (1, 2, 2) if dims == 2 else (2, 2, 2)\n",
        "    \n",
        "    # --- Define kwargs\n",
        "    kwargs = {\n",
        "        'kernel_size': kernel_size,\n",
        "        'padding': 'same',\n",
        "        'kernel_initializer': 'he_normal'}\n",
        "\n",
        "    # --- Define block components\n",
        "    conv = lambda x, filters, strides : layers.Conv3D(filters=filters, strides=strides, **kwargs)(x)\n",
        "    tran = lambda x, filters, strides : layers.Conv3DTranspose(filters=filters, strides=strides, **kwargs)(x)\n",
        "\n",
        "    norm = lambda x : layers.BatchNormalization()(x)\n",
        "    relu = lambda x : layers.ReLU()(x)\n",
        "\n",
        "    conv1 = lambda filters, x : relu(norm(conv(x, filters, strides=1)))\n",
        "    conv2 = lambda filters, x : relu(norm(conv(x, filters, strides=strides)))\n",
        "    tran2 = lambda filters, x : relu(norm(tran(x, filters, strides=strides)))\n",
        "\n",
        "    concat = lambda a, b : layers.Concatenate()([a, b])\n",
        "                                     \n",
        "    return conv1, conv2, tran2, concat"
      ],
      "metadata": {
        "id": "PSRO0yxhp7su"
      },
      "execution_count": 5,
      "outputs": []
    },
    {
      "cell_type": "code",
      "source": [
        "def s_e(layer):\n",
        "\n",
        "  sqz = layers.AveragePooling3D((1, layer.shape[2], layer.shape[3]))(layer)\n",
        "  cha = int(layer.shape[-1]/4)\n",
        "  exc = layers.Conv3D(filters = cha, kernel_size = 1, activation = 'relu')(sqz)\n",
        "\n",
        "  sca = layers.Conv3D(filters = layer.shape[-1], kernel_size = 1, activation = 'sigmoid')(exc)\n",
        "  return layer * sca"
      ],
      "metadata": {
        "id": "E5GXnoQwy-8C"
      },
      "execution_count": 6,
      "outputs": []
    },
    {
      "cell_type": "markdown",
      "metadata": {
        "id": "4JoDoEA2l3dd"
      },
      "source": [
        "### Create generators\n",
        "\n",
        "Use the following code cells to choose either a 2D or 3D input. As needed, feel free to modify the batch size and/or implement stratified sampling."
      ]
    },
    {
      "cell_type": "markdown",
      "metadata": {
        "id": "RsrPL0QRl3dd"
      },
      "source": [
        "**2D dataset**: To select the 2D data of input size `(1, 96, 96, 1)` use the keyword `2d`:"
      ]
    },
    {
      "cell_type": "code",
      "execution_count": 7,
      "metadata": {
        "id": "2XbVdUgll3dd"
      },
      "outputs": [],
      "source": [
        "# --- Prepare generators\n",
        "configs = {'batch': {'size': 16, 'fold': 0}}\n",
        "gen_train, gen_valid, client = datasets.prepare(name='ct/kits', keyword='2d', configs=configs, custom_layers=True)"
      ]
    },
    {
      "cell_type": "markdown",
      "metadata": {
        "id": "OZDWrnqWl3de"
      },
      "source": [
        "**3D dataset**: To select the 3D data of input size `(96, 96, 96, 1)` use the keyword `3d`:"
      ]
    },
    {
      "cell_type": "code",
      "execution_count": 26,
      "metadata": {
        "id": "6YlSMN7al3de"
      },
      "outputs": [],
      "source": [
        "# --- Prepare generators\n",
        "configs = {'batch': {'size': 2, 'fold': 0}}\n",
        "gen_train, gen_valid, client = datasets.prepare(name='ct/kits', keyword='3d', configs=configs, custom_layers=True)"
      ]
    },
    {
      "cell_type": "markdown",
      "metadata": {
        "id": "JH_EiAUIl3de"
      },
      "source": [
        "### Define model"
      ]
    },
    {
      "cell_type": "code",
      "source": [
        "conv1, conv2, tran2, concat = create_blocks(dims = 2)"
      ],
      "metadata": {
        "id": "mUxerTmvp_Wy"
      },
      "execution_count": 8,
      "outputs": []
    },
    {
      "cell_type": "code",
      "execution_count": 9,
      "metadata": {
        "id": "2VzHwvHel3de"
      },
      "outputs": [],
      "source": [
        "# --- Create backbone model\n",
        "\n",
        "x = Input(shape=(None, 96, 96, 1), dtype = 'float32')\n",
        "\n",
        "l1 = conv1(8, x)\n",
        "l2 = conv1(16, conv2(16, l1))\n",
        "l3 = conv1(32, conv2(32, l2))\n",
        "l4 = conv1(48, conv2(48, l3))\n",
        "l5 = conv1(64, conv2(64, l4))\n",
        "l6 = conv1(80, conv2(80, l5))\n",
        "\n",
        "n0, n1, c = l6.shape[-3:]\n",
        "f0 = layers.Reshape([-1, 1, 1, n0 * n1 * c])(l6)\n",
        "\n",
        "logits = layers.Conv3D(filters=2, kernel_size=1)(f0)\n",
        "\n",
        "backbone = Model(inputs = x, outputs= logits)"
      ]
    },
    {
      "cell_type": "code",
      "execution_count": 10,
      "metadata": {
        "id": "iYh8QtBvl3de"
      },
      "outputs": [],
      "source": [
        "# --- Create training model\n",
        "\n",
        "inputs = {\n",
        "    'dat': Input(shape=(1, 96, 96, 1), name='dat'),\n",
        "    'lbl': Input(shape=(1, 1, 1, 1), name='lbl')}\n",
        "\n",
        "logits = backbone(inputs['dat'])\n",
        "\n",
        "sce = losses.SparseCategoricalCrossentropy(from_logits=True)\n",
        "\n",
        "loss = sce(y_true=inputs['lbl'], y_pred=logits)\n",
        "\n",
        "acc = metrics.sparse_categorical_accuracy(y_true=inputs['lbl'], y_pred=logits)\n",
        "\n",
        "training = Model(inputs=inputs, outputs={'logits': logits, 'loss': loss, 'acc': acc})\n",
        "\n",
        "training.add_loss(loss)\n",
        "\n",
        "training.add_metric(acc, name='acc')\n",
        "\n",
        "optimizer = optimizers.Adam(learning_rate=2e-4)"
      ]
    },
    {
      "cell_type": "markdown",
      "metadata": {
        "id": "NWGI2Qf_l3de"
      },
      "source": [
        "### Compile and train model"
      ]
    },
    {
      "cell_type": "code",
      "source": [
        "client.load_data_in_memory()"
      ],
      "metadata": {
        "id": "GHBdRUB9sRhZ",
        "outputId": "039d41ee-f46e-474d-e514-8025c4854d56",
        "colab": {
          "base_uri": "https://localhost:8080/"
        }
      },
      "execution_count": 11,
      "outputs": [
        {
          "output_type": "stream",
          "name": "stdout",
          "text": [
            "[ 2022-06-06 21:32:37 ] [====================] 100.000% : Iterating | 000402    "
          ]
        }
      ]
    },
    {
      "cell_type": "code",
      "execution_count": 12,
      "metadata": {
        "id": "0DV0VM6_l3df",
        "outputId": "9a846602-c4cb-404a-b835-956b4ba42cc5",
        "colab": {
          "base_uri": "https://localhost:8080/"
        }
      },
      "outputs": [
        {
          "output_type": "stream",
          "name": "stdout",
          "text": [
            "Epoch 1/30\n",
            "100/100 [==============================] - 8s 35ms/step - loss: 0.6989 - acc: 0.6137\n",
            "Epoch 2/30\n",
            "100/100 [==============================] - 4s 35ms/step - loss: 0.6013 - acc: 0.6894\n",
            "Epoch 3/30\n",
            "100/100 [==============================] - 3s 29ms/step - loss: 0.5747 - acc: 0.7094\n",
            "Epoch 4/30\n",
            "100/100 [==============================] - 2s 23ms/step - loss: 0.4998 - acc: 0.7638\n",
            "Epoch 5/30\n",
            "100/100 [==============================] - 4s 43ms/step - loss: 0.5196 - acc: 0.7419 - val_loss: 0.6960 - val_acc: 0.6469\n",
            "Epoch 6/30\n",
            "100/100 [==============================] - 2s 23ms/step - loss: 0.4579 - acc: 0.7850\n",
            "Epoch 7/30\n",
            "100/100 [==============================] - 2s 22ms/step - loss: 0.4495 - acc: 0.7975\n",
            "Epoch 8/30\n",
            "100/100 [==============================] - 2s 22ms/step - loss: 0.4142 - acc: 0.8194\n",
            "Epoch 9/30\n",
            "100/100 [==============================] - 2s 22ms/step - loss: 0.3565 - acc: 0.8506\n",
            "Epoch 10/30\n",
            "100/100 [==============================] - 5s 49ms/step - loss: 0.3186 - acc: 0.8756 - val_loss: 0.7135 - val_acc: 0.6569\n",
            "Epoch 11/30\n",
            "100/100 [==============================] - 2s 23ms/step - loss: 0.2995 - acc: 0.8675\n",
            "Epoch 12/30\n",
            "100/100 [==============================] - 2s 23ms/step - loss: 0.3052 - acc: 0.8775\n",
            "Epoch 13/30\n",
            "100/100 [==============================] - 2s 23ms/step - loss: 0.2694 - acc: 0.8881\n",
            "Epoch 14/30\n",
            "100/100 [==============================] - 2s 24ms/step - loss: 0.2784 - acc: 0.8788\n",
            "Epoch 15/30\n",
            "100/100 [==============================] - 5s 49ms/step - loss: 0.2428 - acc: 0.8975 - val_loss: 0.8755 - val_acc: 0.6737\n",
            "Epoch 16/30\n",
            "100/100 [==============================] - 2s 22ms/step - loss: 0.2354 - acc: 0.9056\n",
            "Epoch 17/30\n",
            "100/100 [==============================] - 2s 22ms/step - loss: 0.2347 - acc: 0.9056\n",
            "Epoch 18/30\n",
            "100/100 [==============================] - 2s 23ms/step - loss: 0.1650 - acc: 0.9287\n",
            "Epoch 19/30\n",
            "100/100 [==============================] - 2s 22ms/step - loss: 0.1717 - acc: 0.9362\n",
            "Epoch 20/30\n",
            "100/100 [==============================] - 5s 48ms/step - loss: 0.1716 - acc: 0.9344 - val_loss: 1.0337 - val_acc: 0.6750\n",
            "Epoch 21/30\n",
            "100/100 [==============================] - 2s 22ms/step - loss: 0.1616 - acc: 0.9375\n",
            "Epoch 22/30\n",
            "100/100 [==============================] - 2s 22ms/step - loss: 0.1479 - acc: 0.9463\n",
            "Epoch 23/30\n",
            "100/100 [==============================] - 2s 23ms/step - loss: 0.1666 - acc: 0.9362\n",
            "Epoch 24/30\n",
            "100/100 [==============================] - 2s 24ms/step - loss: 0.1451 - acc: 0.9419\n",
            "Epoch 25/30\n",
            "100/100 [==============================] - 4s 39ms/step - loss: 0.1296 - acc: 0.9538 - val_loss: 1.1452 - val_acc: 0.6706\n",
            "Epoch 26/30\n",
            "100/100 [==============================] - 2s 24ms/step - loss: 0.1222 - acc: 0.9600\n",
            "Epoch 27/30\n",
            "100/100 [==============================] - 2s 22ms/step - loss: 0.0999 - acc: 0.9631\n",
            "Epoch 28/30\n",
            "100/100 [==============================] - 2s 23ms/step - loss: 0.0996 - acc: 0.9663\n",
            "Epoch 29/30\n",
            "100/100 [==============================] - 2s 23ms/step - loss: 0.0953 - acc: 0.9688\n",
            "Epoch 30/30\n",
            "100/100 [==============================] - 4s 39ms/step - loss: 0.1069 - acc: 0.9569 - val_loss: 1.5335 - val_acc: 0.6444\n"
          ]
        },
        {
          "output_type": "execute_result",
          "data": {
            "text/plain": [
              "<keras.callbacks.History at 0x7f7ab01a6690>"
            ]
          },
          "metadata": {},
          "execution_count": 12
        }
      ],
      "source": [
        "# --- Compile model\n",
        "training.compile(optimizer = optimizer)\n",
        "\n",
        "# --- Train the model\n",
        "training.fit(\n",
        "    x=G(gen_train, dims=2, task='cls'),\n",
        "    epochs = 30,\n",
        "    steps_per_epoch = 100,\n",
        "    validation_data=G(gen_valid, dims=2, task='cls'),\n",
        "    validation_steps = 100,\n",
        "    validation_freq = 5\n",
        "    )"
      ]
    },
    {
      "cell_type": "code",
      "source": [
        "test_train, test_valid = client.create_generators(test=True, expand=True)\n",
        "test_train = G(test_train, dims=2, task='cls')\n",
        "test_valid = G(test_valid, dims=2, task='cls')\n",
        "\n",
        "preds = []\n",
        "trues = []\n",
        "\n",
        "for x in test_valid:\n",
        "    \n",
        "    pred = backbone.predict(x['dat'])\n",
        "    preds.append(np.argmax(pred, axis=-1).sum())\n",
        "\n",
        "    trues.append(x['lbl'].any())\n",
        "\n",
        "preds = np.array(preds)\n",
        "trues = np.array(trues)\n",
        "\n",
        "thresh = np.mean(preds)\n",
        "preds_ = preds >= thresh\n",
        "\n",
        "\n",
        "corr = preds_ == trues\n",
        "tp = np.sum(corr & trues)\n",
        "tn = np.sum(corr & ~trues)\n",
        "fn = np.sum(~corr & trues)\n",
        "fp = np.sum(~corr & ~trues)\n",
        "\n",
        "acc = (tp + tn) / corr.size\n",
        "sen = tp / (tp + fn)\n",
        "spe = tn / (tn + fp)\n",
        "ppv = tp / (tp + fp)\n",
        "npv = tn / (tn + fn)\n",
        "\n",
        "print('Acc: {:0.4f}'.format(acc))\n",
        "print('Sen: {:0.4f}'.format(sen))\n",
        "print('Spe: {:0.4f}'.format(spe))\n",
        "print('PPV: {:0.4f}'.format(ppv))\n",
        "print('NPV: {:0.4f}'.format(npv))"
      ],
      "metadata": {
        "id": "3TkB58AHtHEX",
        "outputId": "1128505a-6215-408b-db24-bd7c2996d822",
        "colab": {
          "base_uri": "https://localhost:8080/"
        }
      },
      "execution_count": 14,
      "outputs": [
        {
          "output_type": "stream",
          "name": "stdout",
          "text": [
            "[ 2022-06-06 21:36:05 ] [====================] 100.000% : Iterating | 000081    Acc: 0.6296\n",
            "Sen: 0.4681\n",
            "Spe: 0.8529\n",
            "PPV: 0.8148\n",
            "NPV: 0.5370\n"
          ]
        }
      ]
    },
    {
      "cell_type": "code",
      "source": [
        "backbone.save('./wjhan_model1.hdf5')\n",
        "del backbone"
      ],
      "metadata": {
        "id": "EZ1Fqasm7mRK",
        "outputId": "d41938ac-4679-4b8a-aa6c-3409763b7eaa",
        "colab": {
          "base_uri": "https://localhost:8080/"
        }
      },
      "execution_count": 15,
      "outputs": [
        {
          "output_type": "stream",
          "name": "stdout",
          "text": [
            "WARNING:tensorflow:Compiled the loaded model, but the compiled metrics have yet to be built. `model.compile_metrics` will be empty until you train or evaluate the model.\n"
          ]
        }
      ]
    },
    {
      "cell_type": "markdown",
      "metadata": {
        "id": "Vw3GPEXkl3df"
      },
      "source": [
        "## 2. Segmentation\n",
        "\n",
        "The second task is to create any segmentation model for binary tumor localization. A 2D model will predict tumor segmentation masks on a slice-by-slice basis whereas a 3D model will predict tumor segmentation masks on a volume basis. Regardless of implementation choice, all statistical analysis will be performed on a **volume basis**. To do so, a reduction strategy must be implemented (see details further below)."
      ]
    },
    {
      "cell_type": "markdown",
      "metadata": {
        "id": "RPn6Hihkl3df"
      },
      "source": [
        "### Create generators\n",
        "\n",
        "Use the following code cells to choose either a 2D or 3D input. As needed, feel free to modify the batch size and/or implement stratified sampling."
      ]
    },
    {
      "cell_type": "markdown",
      "metadata": {
        "id": "LXmDMJT6l3df"
      },
      "source": [
        "**2D dataset**: To select the 2D data of input size `(1, 96, 96, 1)` use the keyword `2d`:"
      ]
    },
    {
      "cell_type": "code",
      "execution_count": 17,
      "metadata": {
        "id": "Ij_ILQ57l3df"
      },
      "outputs": [],
      "source": [
        "# --- Prepare generators\n",
        "configs = {'batch': {'size': 16, 'fold': 0}}\n",
        "gen_train, gen_valid, client = datasets.prepare(name='ct/kits', keyword='2d', configs=configs, custom_layers=True)"
      ]
    },
    {
      "cell_type": "markdown",
      "metadata": {
        "id": "Klk0wYgul3df"
      },
      "source": [
        "**3D dataset**: To select the 3D data of input size `(96, 96, 96, 1)` use the keyword `3d`:"
      ]
    },
    {
      "cell_type": "code",
      "execution_count": null,
      "metadata": {
        "id": "_EJflljkl3df"
      },
      "outputs": [],
      "source": [
        "# --- Prepare generators\n",
        "configs = {'batch': {'size': 2, 'fold': 0}}\n",
        "gen_train, gen_valid, client = datasets.prepare(name='ct/kits', keyword='3d', configs=configs, custom_layers=True)"
      ]
    },
    {
      "cell_type": "markdown",
      "metadata": {
        "id": "GePAEO9Dl3df"
      },
      "source": [
        "### Define model"
      ]
    },
    {
      "cell_type": "code",
      "source": [
        "conv1, conv2, tran2, concat = create_blocks(dims = 2)"
      ],
      "metadata": {
        "id": "R1Bbv-G81qbf"
      },
      "execution_count": 32,
      "outputs": []
    },
    {
      "cell_type": "code",
      "source": [
        "kwargs = {\n",
        "    'kernel_size': (1, 3, 3),\n",
        "    'padding': 'same'\n",
        "}"
      ],
      "metadata": {
        "id": "5Z0Xfr7g2mBe"
      },
      "execution_count": 33,
      "outputs": []
    },
    {
      "cell_type": "code",
      "execution_count": 34,
      "metadata": {
        "id": "mYsYVk28l3df"
      },
      "outputs": [],
      "source": [
        "# --- Create backbone model\n",
        "\n",
        "x = Input(shape=(None, 96, 96, 1), dtype='float32')\n",
        "\n",
        "l1 = conv1(8, x)\n",
        "l2 = conv1(16, conv2(16, l1))\n",
        "l3 = conv1(32, conv2(32, l2))\n",
        "l4 = conv1(48, conv2(48, l3))\n",
        "l5 = conv1(64, conv2(64, l4))\n",
        "l6 = tran2(48, l5)\n",
        "l7  = tran2(32, conv1(48, concat(l4, l6)))\n",
        "l8  = tran2(16, conv1(32, concat(l3, l7)))\n",
        "l9  = tran2(8,  conv1(16, concat(l2, l8)))\n",
        "l10 = conv1(8,  l9)\n",
        "\n",
        "logits = layers.Conv3D(filters=2, **kwargs)(l10)\n",
        "\n",
        "backbone = Model(inputs=x, outputs=logits)"
      ]
    },
    {
      "cell_type": "code",
      "source": [
        "inputs = {\n",
        "    'dat': Input(shape=(None, 96, 96, 1), name='dat'),\n",
        "    'lbl': Input(shape=(None, 96, 96, 1), name='lbl')}\n",
        "\n",
        "logits = backbone(inputs['dat'])\n"
      ],
      "metadata": {
        "id": "K1XEh0Am2pon"
      },
      "execution_count": 35,
      "outputs": []
    },
    {
      "cell_type": "code",
      "execution_count": 36,
      "metadata": {
        "id": "96YbZgT8l3df"
      },
      "outputs": [],
      "source": [
        "# --- Create training model\n",
        "sce = losses.SparseCategoricalCrossentropy(from_logits=True)\n",
        "loss = sce(y_true=inputs['lbl'], y_pred=logits)\n",
        "acc = metrics.sparse_categorical_accuracy(y_true=inputs['lbl'], y_pred=logits)\n",
        "training = Model(inputs=inputs, outputs={'logits': logits, 'loss': loss, 'acc': acc})\n",
        "training.add_loss(loss)\n",
        "\n",
        "training.add_metric(acc, name = 'acc')\n",
        "optimizer = optimizers.Adam(learning_rate=2e-4)"
      ]
    },
    {
      "cell_type": "markdown",
      "metadata": {
        "id": "xaWtCT8Yl3df"
      },
      "source": [
        "### Compile and train model"
      ]
    },
    {
      "cell_type": "code",
      "execution_count": 37,
      "metadata": {
        "id": "g_oGGLaal3dg",
        "outputId": "202e56e7-10c5-4cec-da49-93ff98294a17",
        "colab": {
          "base_uri": "https://localhost:8080/"
        }
      },
      "outputs": [
        {
          "output_type": "stream",
          "name": "stdout",
          "text": [
            "Epoch 1/30\n",
            "100/100 [==============================] - 14s 122ms/step - loss: 0.5566 - acc: 0.8074\n",
            "Epoch 2/30\n",
            "100/100 [==============================] - 13s 126ms/step - loss: 0.2492 - acc: 0.9748\n",
            "Epoch 3/30\n",
            "100/100 [==============================] - 12s 122ms/step - loss: 0.1526 - acc: 0.9770\n",
            "Epoch 4/30\n",
            "100/100 [==============================] - 13s 127ms/step - loss: 0.1078 - acc: 0.9792\n",
            "Epoch 5/30\n",
            "100/100 [==============================] - 28s 284ms/step - loss: 0.0845 - acc: 0.9808 - val_loss: 0.0938 - val_acc: 0.9768\n",
            "Epoch 6/30\n",
            "100/100 [==============================] - 13s 126ms/step - loss: 0.0688 - acc: 0.9825\n",
            "Epoch 7/30\n",
            "100/100 [==============================] - 12s 124ms/step - loss: 0.0574 - acc: 0.9844\n",
            "Epoch 8/30\n",
            "100/100 [==============================] - 12s 120ms/step - loss: 0.0526 - acc: 0.9844\n",
            "Epoch 9/30\n",
            "100/100 [==============================] - 12s 120ms/step - loss: 0.0468 - acc: 0.9861\n",
            "Epoch 10/30\n",
            "100/100 [==============================] - 23s 236ms/step - loss: 0.0415 - acc: 0.9883 - val_loss: 0.0579 - val_acc: 0.9826\n",
            "Epoch 11/30\n",
            "100/100 [==============================] - 12s 119ms/step - loss: 0.0357 - acc: 0.9901\n",
            "Epoch 12/30\n",
            "100/100 [==============================] - 13s 126ms/step - loss: 0.0340 - acc: 0.9899\n",
            "Epoch 13/30\n",
            "100/100 [==============================] - 12s 123ms/step - loss: 0.0306 - acc: 0.9910\n",
            "Epoch 14/30\n",
            "100/100 [==============================] - 12s 119ms/step - loss: 0.0258 - acc: 0.9925\n",
            "Epoch 15/30\n",
            "100/100 [==============================] - 24s 238ms/step - loss: 0.0265 - acc: 0.9919 - val_loss: 0.0510 - val_acc: 0.9828\n",
            "Epoch 16/30\n",
            "100/100 [==============================] - 12s 125ms/step - loss: 0.0240 - acc: 0.9926\n",
            "Epoch 17/30\n",
            "100/100 [==============================] - 12s 120ms/step - loss: 0.0214 - acc: 0.9934\n",
            "Epoch 18/30\n",
            "100/100 [==============================] - 12s 119ms/step - loss: 0.0214 - acc: 0.9932\n",
            "Epoch 19/30\n",
            "100/100 [==============================] - 12s 120ms/step - loss: 0.0205 - acc: 0.9933\n",
            "Epoch 20/30\n",
            "100/100 [==============================] - 23s 232ms/step - loss: 0.0189 - acc: 0.9940 - val_loss: 0.0708 - val_acc: 0.9816\n",
            "Epoch 21/30\n",
            "100/100 [==============================] - 12s 119ms/step - loss: 0.0175 - acc: 0.9942\n",
            "Epoch 22/30\n",
            "100/100 [==============================] - 12s 120ms/step - loss: 0.0163 - acc: 0.9945\n",
            "Epoch 23/30\n",
            "100/100 [==============================] - 12s 120ms/step - loss: 0.0173 - acc: 0.9941\n",
            "Epoch 24/30\n",
            "100/100 [==============================] - 12s 118ms/step - loss: 0.0150 - acc: 0.9950\n",
            "Epoch 25/30\n",
            "100/100 [==============================] - 27s 273ms/step - loss: 0.0147 - acc: 0.9949 - val_loss: 0.0604 - val_acc: 0.9840\n",
            "Epoch 26/30\n",
            "100/100 [==============================] - 12s 120ms/step - loss: 0.0143 - acc: 0.9951\n",
            "Epoch 27/30\n",
            "100/100 [==============================] - 12s 119ms/step - loss: 0.0142 - acc: 0.9950\n",
            "Epoch 28/30\n",
            "100/100 [==============================] - 12s 118ms/step - loss: 0.0127 - acc: 0.9956\n",
            "Epoch 29/30\n",
            "100/100 [==============================] - 12s 120ms/step - loss: 0.0124 - acc: 0.9957\n",
            "Epoch 30/30\n",
            "100/100 [==============================] - 23s 231ms/step - loss: 0.0131 - acc: 0.9954 - val_loss: 0.0801 - val_acc: 0.9817\n"
          ]
        },
        {
          "output_type": "execute_result",
          "data": {
            "text/plain": [
              "<keras.callbacks.History at 0x7f796ce4f590>"
            ]
          },
          "metadata": {},
          "execution_count": 37
        }
      ],
      "source": [
        "# --- Compile model\n",
        "training.compile(optimizer = optimizer)\n",
        "\n",
        "# --- Train the model\n",
        "training.fit(\n",
        "    x=G(gen_train, dims=2, task='seg'),\n",
        "    epochs = 30,\n",
        "    validation_steps = 100,\n",
        "    steps_per_epoch = 100,\n",
        "    validation_freq = 5,\n",
        "    validation_data=G(gen_valid, dims=2, task='seg')\n",
        "    )"
      ]
    },
    {
      "cell_type": "code",
      "source": [
        "test_train, test_valid = client.create_generators(test=True, expand=True)\n",
        "test_train = G(test_train, dims=2, task='seg')\n",
        "test_valid = G(test_valid, dims=2, task='seg')\n",
        "\n",
        "preds = []\n",
        "trues = []\n",
        "\n",
        "for x in test_train:\n",
        "    \n",
        "    pred = backbone.predict(x['dat'])\n",
        "    preds.append(np.argmax(pred, axis=-1).sum())\n",
        "\n",
        "    trues.append(x['lbl'].any())\n",
        "\n",
        "preds = np.array(preds)\n",
        "trues = np.array(trues)\n",
        "\n",
        "thresh = np.mean(preds)\n",
        "preds_ = preds >= thresh\n",
        "\n",
        "\n",
        "corr = preds_ == trues\n",
        "tp = np.sum(corr & trues)\n",
        "tn = np.sum(corr & ~trues)\n",
        "fn = np.sum(~corr & trues)\n",
        "fp = np.sum(~corr & ~trues)\n",
        "\n",
        "acc = (tp + tn) / corr.size\n",
        "sen = tp / (tp + fn)\n",
        "spe = tn / (tn + fp)\n",
        "ppv = tp / (tp + fp)\n",
        "npv = tn / (tn + fn)\n",
        "\n",
        "print('Acc: {:0.4f}'.format(acc))\n",
        "print('Sen: {:0.4f}'.format(sen))\n",
        "print('Spe: {:0.4f}'.format(spe))\n",
        "print('PPV: {:0.4f}'.format(ppv))\n",
        "print('NPV: {:0.4f}'.format(npv))"
      ],
      "metadata": {
        "id": "PL3m7W3U5Jwt",
        "outputId": "f8eed258-127c-409e-8d35-d349b44a2551",
        "colab": {
          "base_uri": "https://localhost:8080/"
        }
      },
      "execution_count": 39,
      "outputs": [
        {
          "output_type": "stream",
          "name": "stdout",
          "text": [
            "[ 2022-06-06 21:56:23 ] [====================] 100.000% : Iterating | 000321    Acc: 0.7383\n",
            "Sen: 0.4717\n",
            "Spe: 1.0000\n",
            "PPV: 1.0000\n",
            "NPV: 0.6585\n"
          ]
        }
      ]
    },
    {
      "cell_type": "code",
      "source": [
        "backbone.save('./wjhan_model2.hdf5')\n",
        "del backbone"
      ],
      "metadata": {
        "id": "9Z0fJOGWBY1e",
        "outputId": "8ba19633-ee30-46e4-c609-1176453471b0",
        "colab": {
          "base_uri": "https://localhost:8080/"
        }
      },
      "execution_count": 40,
      "outputs": [
        {
          "output_type": "stream",
          "name": "stdout",
          "text": [
            "WARNING:tensorflow:Compiled the loaded model, but the compiled metrics have yet to be built. `model.compile_metrics` will be empty until you train or evaluate the model.\n"
          ]
        }
      ]
    },
    {
      "cell_type": "markdown",
      "metadata": {
        "id": "O2ef8xZEl3dg"
      },
      "source": [
        "## 3. Custom architecture\n",
        "\n",
        "Finally, using any of the customizations described in class, find a top-performing model that may potentially yield some incremental benefit over the two baseline models above."
      ]
    },
    {
      "cell_type": "markdown",
      "metadata": {
        "id": "m79TtC84l3dg"
      },
      "source": [
        "### Create generators"
      ]
    },
    {
      "cell_type": "code",
      "execution_count": 41,
      "metadata": {
        "id": "RzJVAAs7l3dg"
      },
      "outputs": [],
      "source": [
        "# --- Choose input (may copy the generator code from above)\n",
        "\n",
        "configs = {'batch': {'size': 16, 'fold': 0}}\n",
        "gen_train, gen_valid, client = datasets.prepare(name='ct/kits', keyword='2d', configs=configs, custom_layers=True)"
      ]
    },
    {
      "cell_type": "markdown",
      "metadata": {
        "id": "Uq4CUg3al3dg"
      },
      "source": [
        "### Define model"
      ]
    },
    {
      "cell_type": "code",
      "source": [
        "conv1, conv2, tran2, concat = create_blocks(dims = 2)"
      ],
      "metadata": {
        "id": "BD96Mhle6e1s"
      },
      "execution_count": 42,
      "outputs": []
    },
    {
      "cell_type": "code",
      "execution_count": 43,
      "metadata": {
        "id": "E9Y0qXzWl3dg"
      },
      "outputs": [],
      "source": [
        "# --- Create backbone model\n",
        "\n",
        "x = Input(shape=(None, 96, 96, 1), dtype = 'float32')\n",
        "\n",
        "l1 = conv1(8, x)\n",
        "\n",
        "l2 = conv1(16, conv2(16, l1))\n",
        "l2 = s_e(l2)\n",
        "\n",
        "l3 = conv1(32, conv2(32, l2))\n",
        "\n",
        "l4 = conv1(48, conv2(48, l3))\n",
        "l4 = s_e(l4)\n",
        "\n",
        "l5 = conv1(64, conv2(64, l4))\n",
        "\n",
        "l6 = conv1(80, conv2(80, l5))\n",
        "l6 = s_e(l6)\n",
        "\n",
        "n0, n1, c = l6.shape[-3:]\n",
        "f0 = layers.Reshape([-1, 1, 1, n0 * n1 * c])(l6)\n",
        "\n",
        "logits = layers.Conv3D(filters=2, kernel_size=1)(f0)\n",
        "\n",
        "backbone = Model(inputs = x, outputs= logits)"
      ]
    },
    {
      "cell_type": "code",
      "execution_count": 44,
      "metadata": {
        "id": "FbGSObYbl3dg"
      },
      "outputs": [],
      "source": [
        "# --- Create training model\n",
        "\n",
        "inputs = {\n",
        "    'dat': Input(shape=(1, 96, 96, 1), name='dat'),\n",
        "    'lbl': Input(shape=(1, 1, 1, 1), name='lbl')}\n",
        "\n",
        "logits = backbone(inputs['dat'])\n",
        "\n",
        "sce = losses.SparseCategoricalCrossentropy(from_logits=True)\n",
        "\n",
        "loss = sce(y_true=inputs['lbl'], y_pred=logits)\n",
        "\n",
        "acc = metrics.sparse_categorical_accuracy(y_true=inputs['lbl'], y_pred=logits)\n",
        "\n",
        "training = Model(inputs=inputs, outputs={'logits': logits, 'loss': loss, 'acc': acc})\n",
        "\n",
        "training.add_loss(loss)\n",
        "\n",
        "training.add_metric(acc, name='acc')\n",
        "\n",
        "optimizer = optimizers.Adam(learning_rate=2e-4)"
      ]
    },
    {
      "cell_type": "markdown",
      "metadata": {
        "id": "UZ_kqEvLl3dg"
      },
      "source": [
        "### Compile and train model"
      ]
    },
    {
      "cell_type": "code",
      "execution_count": 48,
      "metadata": {
        "id": "dZ1HIqngl3dg",
        "outputId": "7b75baa4-b376-48b0-bcd3-2c5af3875bbc",
        "colab": {
          "base_uri": "https://localhost:8080/"
        }
      },
      "outputs": [
        {
          "output_type": "stream",
          "name": "stdout",
          "text": [
            "Epoch 1/30\n",
            "100/100 [==============================] - 13s 122ms/step - loss: 0.1052 - acc: 0.9631\n",
            "Epoch 2/30\n",
            "100/100 [==============================] - 12s 120ms/step - loss: 0.0847 - acc: 0.9650\n",
            "Epoch 3/30\n",
            "100/100 [==============================] - 12s 122ms/step - loss: 0.0798 - acc: 0.9700\n",
            "Epoch 4/30\n",
            "100/100 [==============================] - 12s 123ms/step - loss: 0.0735 - acc: 0.9737\n",
            "Epoch 5/30\n",
            "100/100 [==============================] - 25s 250ms/step - loss: 0.0762 - acc: 0.9700 - val_loss: 1.3903 - val_acc: 0.6925\n",
            "Epoch 6/30\n",
            "100/100 [==============================] - 12s 118ms/step - loss: 0.0587 - acc: 0.9800\n",
            "Epoch 7/30\n",
            "100/100 [==============================] - 12s 118ms/step - loss: 0.0551 - acc: 0.9806\n",
            "Epoch 8/30\n",
            "100/100 [==============================] - 12s 116ms/step - loss: 0.0557 - acc: 0.9806\n",
            "Epoch 9/30\n",
            "100/100 [==============================] - 13s 125ms/step - loss: 0.0635 - acc: 0.9756\n",
            "Epoch 10/30\n",
            "100/100 [==============================] - 24s 241ms/step - loss: 0.0765 - acc: 0.9744 - val_loss: 1.3532 - val_acc: 0.6894\n",
            "Epoch 11/30\n",
            "100/100 [==============================] - 12s 118ms/step - loss: 0.0607 - acc: 0.9781\n",
            "Epoch 12/30\n",
            "100/100 [==============================] - 13s 130ms/step - loss: 0.0804 - acc: 0.9750\n",
            "Epoch 13/30\n",
            "100/100 [==============================] - 12s 121ms/step - loss: 0.0800 - acc: 0.9725\n",
            "Epoch 14/30\n",
            "100/100 [==============================] - 13s 126ms/step - loss: 0.0441 - acc: 0.9837\n",
            "Epoch 15/30\n",
            "100/100 [==============================] - 23s 235ms/step - loss: 0.0474 - acc: 0.9856 - val_loss: 1.9201 - val_acc: 0.6637\n",
            "Epoch 16/30\n",
            "100/100 [==============================] - 12s 122ms/step - loss: 0.0505 - acc: 0.9800\n",
            "Epoch 17/30\n",
            "100/100 [==============================] - 12s 121ms/step - loss: 0.0487 - acc: 0.9825\n",
            "Epoch 18/30\n",
            "100/100 [==============================] - 12s 120ms/step - loss: 0.0597 - acc: 0.9775\n",
            "Epoch 19/30\n",
            "100/100 [==============================] - 12s 119ms/step - loss: 0.0547 - acc: 0.9806\n",
            "Epoch 20/30\n",
            "100/100 [==============================] - 32s 326ms/step - loss: 0.0455 - acc: 0.9869 - val_loss: 1.5701 - val_acc: 0.6913\n",
            "Epoch 21/30\n",
            "100/100 [==============================] - 12s 122ms/step - loss: 0.0425 - acc: 0.9837\n",
            "Epoch 22/30\n",
            "100/100 [==============================] - 13s 128ms/step - loss: 0.0339 - acc: 0.9881\n",
            "Epoch 23/30\n",
            "100/100 [==============================] - 13s 127ms/step - loss: 0.0313 - acc: 0.9887\n",
            "Epoch 24/30\n",
            "100/100 [==============================] - 12s 118ms/step - loss: 0.0387 - acc: 0.9881\n",
            "Epoch 25/30\n",
            "100/100 [==============================] - 32s 325ms/step - loss: 0.0483 - acc: 0.9837 - val_loss: 1.2661 - val_acc: 0.7362\n",
            "Epoch 26/30\n",
            "100/100 [==============================] - 13s 130ms/step - loss: 0.0468 - acc: 0.9787\n",
            "Epoch 27/30\n",
            "100/100 [==============================] - 13s 130ms/step - loss: 0.0418 - acc: 0.9850\n",
            "Epoch 28/30\n",
            "100/100 [==============================] - 12s 123ms/step - loss: 0.0474 - acc: 0.9850\n",
            "Epoch 29/30\n",
            "100/100 [==============================] - 12s 119ms/step - loss: 0.0580 - acc: 0.9800\n",
            "Epoch 30/30\n",
            "100/100 [==============================] - 23s 230ms/step - loss: 0.0451 - acc: 0.9825 - val_loss: 2.0676 - val_acc: 0.6794\n"
          ]
        },
        {
          "output_type": "execute_result",
          "data": {
            "text/plain": [
              "<keras.callbacks.History at 0x7f7a2b693750>"
            ]
          },
          "metadata": {},
          "execution_count": 48
        }
      ],
      "source": [
        "# --- Compile model\n",
        "training.compile(optimizer = optimizer)\n",
        "\n",
        "# --- Train the model\n",
        "training.fit(\n",
        "    x=G(gen_train, dims=2, task='cls'),\n",
        "    epochs = 30,\n",
        "    steps_per_epoch = 100,\n",
        "    validation_data=G(gen_valid, dims=2, task='cls'),\n",
        "    validation_steps = 100,\n",
        "    validation_freq = 5\n",
        "    )"
      ]
    },
    {
      "cell_type": "code",
      "source": [
        "test_train, test_valid = client.create_generators(test=True, expand=True)\n",
        "test_train = G(test_train, dims=2, task='seg')\n",
        "test_valid = G(test_valid, dims=2, task='seg')\n",
        "\n",
        "preds = []\n",
        "trues = []\n",
        "\n",
        "for x in test_train:\n",
        "    \n",
        "    pred = backbone.predict(x['dat'])\n",
        "    preds.append(np.argmax(pred, axis=-1).sum())\n",
        "\n",
        "    trues.append(x['lbl'].any())\n",
        "\n",
        "preds = np.array(preds)\n",
        "trues = np.array(trues)\n",
        "\n",
        "thresh = np.mean(preds)\n",
        "preds_ = preds >= thresh\n",
        "\n",
        "\n",
        "corr = preds_ == trues\n",
        "tp = np.sum(corr & trues)\n",
        "tn = np.sum(corr & ~trues)\n",
        "fn = np.sum(~corr & trues)\n",
        "fp = np.sum(~corr & ~trues)\n",
        "\n",
        "acc = (tp + tn) / corr.size\n",
        "sen = tp / (tp + fn)\n",
        "spe = tn / (tn + fp)\n",
        "ppv = tp / (tp + fp)\n",
        "npv = tn / (tn + fn)\n",
        "\n",
        "print('Acc: {:0.4f}'.format(acc))\n",
        "print('Sen: {:0.4f}'.format(sen))\n",
        "print('Spe: {:0.4f}'.format(spe))\n",
        "print('PPV: {:0.4f}'.format(ppv))\n",
        "print('NPV: {:0.4f}'.format(npv))"
      ],
      "metadata": {
        "id": "xcsfybYH_d7_",
        "outputId": "bece2f38-fc9d-4db8-d4a1-247e1aea043c",
        "colab": {
          "base_uri": "https://localhost:8080/"
        }
      },
      "execution_count": 50,
      "outputs": [
        {
          "output_type": "stream",
          "name": "stdout",
          "text": [
            "[ 2022-06-06 22:17:01 ] [====================] 100.000% : Iterating | 000321    Acc: 0.9502\n",
            "Sen: 0.8994\n",
            "Spe: 1.0000\n",
            "PPV: 1.0000\n",
            "NPV: 0.9101\n"
          ]
        }
      ]
    },
    {
      "cell_type": "code",
      "source": [
        "backbone.save('./wjhan_model3.hdf5')\n",
        "del backbone"
      ],
      "metadata": {
        "id": "3PMIcURhGFHM",
        "outputId": "5e60e0aa-6e4c-44f7-9d7f-987ec8eedd3b",
        "colab": {
          "base_uri": "https://localhost:8080/"
        }
      },
      "execution_count": 51,
      "outputs": [
        {
          "output_type": "stream",
          "name": "stdout",
          "text": [
            "WARNING:tensorflow:Compiled the loaded model, but the compiled metrics have yet to be built. `model.compile_metrics` will be empty until you train or evaluate the model.\n"
          ]
        }
      ]
    },
    {
      "cell_type": "markdown",
      "metadata": {
        "id": "AZX9YfJhl3dg"
      },
      "source": [
        "# Evaluation\n",
        "\n",
        "For each of the three models, the following metrics should be calculated for **both the training and validation** cohorts:\n",
        "\n",
        "* accuracy\n",
        "* sensitivity\n",
        "* specificity\n",
        "* positive predictive value (PPV)\n",
        "* negative predictive value (NPV)\n",
        "\n",
        "As in prior assignments, accuracy is determined on a patient by patient (volume by volume) basis, so please implement a prediction reduction strategy as needed for your models."
      ]
    },
    {
      "cell_type": "markdown",
      "metadata": {
        "id": "YHPdr6zyl3dg"
      },
      "source": [
        "### Performance\n",
        "\n",
        "The following minimum **validation cohort** performance metrics must be met for full credit:\n",
        "\n",
        "1. **Classification**: accuracy > 0.55\n",
        "2. **Segmentation**: accuracy > 0.55\n",
        "3. **Custom architecture**: accuracy > 0.60\n",
        "\n",
        "**Bonus**: the top three overall models based on **validation cohort** accuracy will recieve a +5 point (+15%) extra credit towards the final assignment."
      ]
    },
    {
      "cell_type": "markdown",
      "metadata": {
        "id": "GC-Mz6Gul3dg"
      },
      "source": [
        "### Results\n",
        "\n",
        "When ready, create a `*.csv` file with your compiled **training and validation** cohort statistics for the three different models. Consider the following table format (although any format that contains the required information is sufficient):\n",
        "\n",
        "```\n",
        "          TRAINING                              VALIDATION\n",
        "          accuracy | sens | spec | PPV |  NPV | accuracy | sens | spec | PPV |  NPV\n",
        "model 1\n",
        "model 2\n",
        "model 3\n",
        "```\n",
        "\n",
        "As above, statistics for both training and validation should be provided."
      ]
    },
    {
      "cell_type": "code",
      "execution_count": 52,
      "metadata": {
        "id": "wjKW_URUl3dg"
      },
      "outputs": [],
      "source": [
        "# --- Create *.csv\n",
        "model_eval = {'train accuracy': [0.9315, 0.7383, 0.9502],\n",
        " 'train sens'    : [0.8616, 0.4717, 0.8994],\n",
        " 'train spec'    : [1.0000, 1.0000, 1.0000],\n",
        " 'train PPV'     : [1.0000, 1.0000, 1.0000],\n",
        " 'train NPV'     : [0.8804, 0.6585, 0.9101],\n",
        " 'valid accuracy': [0.6296, 0.5802,0.6420],\n",
        " 'valid sens'    : [0.4681, 0.3191, 0.4681],\n",
        " 'valid spec'    : [0.8529, 0.9412, 0.8824],\n",
        " 'valid PPV'     : [0.8148, 0.8824, 0.8462],\n",
        " 'valid NPV'     : [0.5370, 0.5000, 0.5455]\n",
        "}\n",
        "\n",
        "df = pd.DataFrame(model_eval, index = ['model1', 'model2', 'model3'])               \n",
        "# --- Serialize *.csv\n",
        "df.to_csv('./wjhan_results.csv')"
      ]
    },
    {
      "cell_type": "markdown",
      "metadata": {
        "id": "M5N8gytql3dg"
      },
      "source": [
        "# Summary\n",
        "\n",
        "In addition to algorithm training as above, a 1-2 page write-up is required for this project. The goal is to *briefly* summarize algorithm design and key results. The write-up should be divided into three sections: methods; results; discussion. More detailed information and tips can be found here: https://github.com/peterchang77/dl_tutor/blob/master/cs190/spring_2021/notebooks/midterm/checklist.md.\n",
        "\n",
        "### Methods\n",
        "\n",
        "In this section, include details such as:\n",
        "\n",
        "* **Data**: How much data was used. How many cases were utilized for training and validation?\n",
        "* **Network design**: What are the different network architectures? How many layers and parameters? Were 2D or 3D operations used? Recall that the `model.summary(...)` can be used to provide key summary statistics for this purpose. If desired, feel free to include a model figure or diagram.\n",
        "* **Implementation**: How was training implemented. What are the key hyperparameters (e.g. learning rate, batch size, optimizer, etc)? How many training iterations were required for convergence? Did these hyperparameters change during the course of training?\n",
        "* **Statistics**: What statistics do you plan to use to evaluate model accuracy? \n",
        "\n",
        "### Results\n",
        "\n",
        "In this section, briefly summarize experimental results (a few sentences), and include the result table(s) as derived above.\n",
        "\n",
        "### Discussion\n",
        "\n",
        "Were the results expected or unexpected? What accounts for the differences in performance between the algorithms? How did you choose the network architecture implemented in your final model? Feel free to elaborate on any additional observations noted during the course of this expierment."
      ]
    },
    {
      "cell_type": "markdown",
      "metadata": {
        "id": "NCAa7gvwl3dh"
      },
      "source": [
        "# Submission\n"
      ]
    },
    {
      "cell_type": "markdown",
      "metadata": {
        "id": "BCcESSFCl3dh"
      },
      "source": [
        "### Canvas\n",
        "\n",
        "Once you have completed the midterm assignment, download the necessary files from Google Colab and your Google Drive. As in prior assigments, be sure to prepare:\n",
        "\n",
        "* final (completed) notebook: `[UCInetID]_assignment.ipynb`\n",
        "* final (results) spreadsheet: `[UCInetID]_results.csv` (compiled for all three parts)\n",
        "* final (trained) model: `[UCInetID]_model.hdf5` (three separate files for all three parts)\n",
        "\n",
        "In addition, submit the summary write-up as in any common document format (`.docx`, `.tex`, `.pdf`, etc):\n",
        "\n",
        "* final summary write-up: `[UCInetID]_summary.[docx|tex|pdf]`\n",
        "\n",
        "**Important**: please submit all your files prefixed with your UCInetID as listed above. Your UCInetID is the part of your UCI email address that comes before `@uci.edu`. For example, Peter Anteater has an email address of panteater@uci.edu, so his notebooke file would be submitted under the name `panteater_notebook.ipynb`, his spreadsheet would be submitted under the name `panteater_results.csv` and and his model file would be submitted under the name `panteater_model.hdf5`."
      ]
    }
  ],
  "metadata": {
    "kernelspec": {
      "display_name": "Python 3",
      "language": "python",
      "name": "python3"
    },
    "language_info": {
      "codemirror_mode": {
        "name": "ipython",
        "version": 3
      },
      "file_extension": ".py",
      "mimetype": "text/x-python",
      "name": "python",
      "nbconvert_exporter": "python",
      "pygments_lexer": "ipython3",
      "version": "3.8.5"
    },
    "colab": {
      "name": "assignment.ipynb",
      "provenance": []
    },
    "accelerator": "GPU"
  },
  "nbformat": 4,
  "nbformat_minor": 0
}