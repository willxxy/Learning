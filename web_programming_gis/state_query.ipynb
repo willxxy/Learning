{
 "cells": [
  {
   "cell_type": "code",
   "execution_count": 213,
   "id": "5f702dd9-42c5-4704-99fa-68c08dd2446a",
   "metadata": {},
   "outputs": [],
   "source": [
    "import scipy.io as io\n",
    "import mat73\n",
    "import pandas as pd\n",
    "import numpy as np\n",
    "from ipywidgets import widgets\n",
    "from IPython.display import clear_output\n",
    "from arcgis.gis import GIS\n",
    "from arcgis.raster.functions import *\n",
    "from arcgis.mapping.ogc import GeoJSONLayer\n",
    "import time\n",
    "\n",
    "from osm_runner import Runner  # pip install osm-runner\n",
    "import pandas as pd\n",
    "from arcgis.geocoding import geocode\n",
    "from arcgis.features import FeatureLayer, GeoAccessor, GeoSeriesAccessor, use_proximity\n",
    "from arcgis.geoenrichment import enrich\n",
    "from arcgis import dissolve_boundaries\n",
    "from arcgis.geometry import project, Point, Polyline, Polygon, Geometry, lengths, areas_and_lengths"
   ]
  },
  {
   "cell_type": "code",
   "execution_count": 220,
   "id": "cf1ab2a1-e9ec-4302-9634-b0beebfa0b51",
   "metadata": {},
   "outputs": [
    {
     "data": {
      "application/vnd.jupyter.widget-view+json": {
       "model_id": "46b7423c9d714ce09111a68496378df6",
       "version_major": 2,
       "version_minor": 0
      },
      "text/plain": [
       "MapView(layout=Layout(height='400px', width='100%'))"
      ]
     },
     "metadata": {},
     "output_type": "display_data"
    },
    {
     "data": {
      "text/html": [
       "<div class=\"map-static-img-preview-9d7bedc6-2ec6-4583-9004-a7273876b88b\"><img src=\"\"></img></div>"
      ],
      "text/plain": [
       "<IPython.core.display.HTML object>"
      ]
     },
     "metadata": {},
     "output_type": "display_data"
    },
    {
     "data": {
      "text/html": [
       "<div class=\"map-html-embed-preview-9d7bedc6-2ec6-4583-9004-a7273876b88b\"></div>"
      ],
      "text/plain": [
       "<IPython.core.display.HTML object>"
      ]
     },
     "metadata": {},
     "output_type": "display_data"
    }
   ],
   "source": [
    "#Log In\n",
    "gis = GIS('https://foretifydev.maps.arcgis.com/home/index.html', 'analyst2022', 'ForetifyTillIDie2022!!')\n",
    "\n",
    "#map\n",
    "map1 = gis.map()\n",
    "map1"
   ]
  },
  {
   "cell_type": "code",
   "execution_count": 3,
   "id": "0a2ecc62",
   "metadata": {},
   "outputs": [
    {
     "data": {
      "application/vnd.jupyter.widget-view+json": {
       "model_id": "1fc5e7b7fb6a4f5e812200683a1c0887",
       "version_major": 2,
       "version_minor": 0
      },
      "text/plain": [
       "Dropdown(description='Region to Process:', options=('California', 'Montana', 'Nevada', 'Oregon', 'Texas'), val…"
      ]
     },
     "metadata": {},
     "output_type": "display_data"
    }
   ],
   "source": [
    "study_area_dict = {'California':'http://services.arcgis.com/PpEMp4p6SBYbe0zW/arcgis/rest/services/California_Counties/FeatureServer/0',\n",
    "                   'Montana':'http://services.arcgis.com/iTQUx5ZpNUh47Geb/arcgis/rest/services/Montana_Mask/FeatureServer/0',\n",
    "                   'Oregon':'https://services.arcgis.com/uUvqNMGPm7axC2dD/arcgis/rest/services/Oregon_Boundary_generalized/FeatureServer/0',\n",
    "                   'Texas':'http://services2.arcgis.com/5MVN2jsqIrNZD4tP/arcgis/rest/services/Texas_Outline/FeatureServer/0'}\n",
    "\n",
    "study_areas = ['California',\n",
    "               'Montana',\n",
    "               'Nevada',\n",
    "               'Oregon',\n",
    "               'Texas']\n",
    "\n",
    "country = widgets.Dropdown(\n",
    "    options=study_areas,\n",
    "    value='California',\n",
    "    description='Region to Process:',\n",
    "    disabled=False,\n",
    ")\n",
    "\n",
    "def on_change(change):\n",
    "    if change['type'] == 'change' and change['name'] == 'value':\n",
    "        location = geocode(str(country.value) + ', USA')[0]\n",
    "        map1.extent = location['extent']\n",
    "\n",
    "\n",
    "country.observe(on_change)\n",
    "\n",
    "display(country)"
   ]
  },
  {
   "cell_type": "code",
   "execution_count": 4,
   "id": "dabd5de9",
   "metadata": {},
   "outputs": [],
   "source": [
    "data_dictionary = {\n",
    "'EPTL'   : 'https://services1.arcgis.com/Hp6G80Pky0om7QvQ/ArcGIS/rest/services/Transmission_Lines_gdb/FeatureServer/0',\n",
    "'ES'     : 'https://services1.arcgis.com/Hp6G80Pky0om7QvQ/ArcGIS/rest/services/Electric_Substations_1/FeatureServer/0',\n",
    "'CA'     : 'https://services1.arcgis.com/Hp6G80Pky0om7QvQ/ArcGIS/rest/services/Control_Area/FeatureServer/0',\n",
    "'PTR'    : 'https://services1.arcgis.com/Hp6G80Pky0om7QvQ/ArcGIS/rest/services/Public_Transit_Routes/FeatureServer/0',\n",
    "'NGP'    : 'https://services1.arcgis.com/Hp6G80Pky0om7QvQ/ArcGIS/rest/services/Natural_Gas_Liquid_Pipelines/FeatureServer/0',\n",
    "'ERST'   : 'https://services1.arcgis.com/Hp6G80Pky0om7QvQ/ArcGIS/rest/services/Retail_Service_Territories/FeatureServer/0',\n",
    "'NSLPCA' : '',\n",
    "'PADUS'  : '',\n",
    "'FHZ'    : 'https://hazards.fema.gov/gis/nfhl/rest/services/FIRMette/NFHLREST_FIRMette/MapServer/20'\n",
    "}"
   ]
  },
  {
   "cell_type": "code",
   "execution_count": 6,
   "id": "8aade868",
   "metadata": {},
   "outputs": [],
   "source": [
    "def feature_server_to_df(feature_layer = None):\n",
    "    '''\n",
    "    Grab feature layer from server and turn into DataFrame.\n",
    "    \n",
    "    Choose one of the following feature_layer options (name (type) - option), \n",
    "    ### denotes unavailability for server:\n",
    "    \n",
    "    Electric Power Transmission Lines (str) - EPTL\n",
    "    \n",
    "    Electric Substations (str) - ES\n",
    "    \n",
    "    Control Areas (str) - CA\n",
    "    \n",
    "    Public Transit Routes (str) - PTR\n",
    "    \n",
    "    Natural Gas Pipelines (str)  - NGP\n",
    "    \n",
    "    Electric Retail Service Territories (str) - ERST\n",
    "    \n",
    "    ### National State Local and Private Conservation Areas (str) - NSLPCA \n",
    "    \n",
    "    ### Protected Database of the US (str) - PADUS\n",
    "    \n",
    "    Flood Hazard Zones (str) - FHZ\n",
    "    \n",
    "    '''\n",
    "    \n",
    "    if feature_layer == 'EPTL':\n",
    "        \n",
    "        grab_data = FeatureLayer(data_dictionary[feature_layer])\n",
    "        \n",
    "        data_df = GeoAccessor.from_layer(grab_data)\n",
    "                        \n",
    "        return data_df\n",
    "        \n",
    "    elif feature_layer == 'ES':\n",
    "        \n",
    "        grab_data = FeatureLayer(data_dictionary[feature_layer])\n",
    "        \n",
    "        data_df = GeoAccessor.from_layer(grab_data)\n",
    "                \n",
    "        return data_df\n",
    "        \n",
    "    elif feature_layer == 'CA':\n",
    "        \n",
    "        grab_data = FeatureLayer(data_dictionary[feature_layer])\n",
    "        \n",
    "        data_df = GeoAccessor.from_layer(grab_data)\n",
    "                \n",
    "        return data_df\n",
    "        \n",
    "    elif feature_layer == 'PTR':\n",
    "        \n",
    "        grab_data = FeatureLayer(data_dictionary[feature_layer])\n",
    "        \n",
    "        data_df = GeoAccessor.from_layer(grab_data)\n",
    "                \n",
    "        return data_df\n",
    "    \n",
    "    elif feature_layer == 'NGP':\n",
    "        \n",
    "        grab_data = FeatureLayer(data_dictionary[feature_layer])\n",
    "        \n",
    "        data_df = GeoAccessor.from_layer(grab_data)\n",
    "                \n",
    "        return data_df\n",
    "\n",
    "    elif feature_layer == 'ERST':\n",
    "        \n",
    "        grab_data = FeatureLayer(data_dictionary[feature_layer])\n",
    "        \n",
    "        data_df = GeoAccessor.from_layer(grab_data)\n",
    "                \n",
    "        return data_df\n",
    "        \n",
    "    elif feature_layer == 'NSLPCA':\n",
    "        \n",
    "        print('Currently unavailable, please choose another feature')\n",
    "        \n",
    "        return None\n",
    "\n",
    "    elif feature_layer == 'PADUS':\n",
    "\n",
    "        print('Currently unavailable, please choose another feature')\n",
    "        \n",
    "        return None\n",
    "\n",
    "    elif feature_layer == 'FHZ':\n",
    "\n",
    "        grab_data = FeatureLayer(data_dictionary[feature_layer])\n",
    "\n",
    "        data_df = GeoAccessor.from_layer(grab_data)\n",
    "        \n",
    "        return data_df"
   ]
  },
  {
   "cell_type": "code",
   "execution_count": 8,
   "id": "3ce0370b",
   "metadata": {},
   "outputs": [],
   "source": [
    "ERST_df = feature_server_to_df('ERST')"
   ]
  },
  {
   "cell_type": "code",
   "execution_count": 202,
   "id": "380cb2dd",
   "metadata": {},
   "outputs": [],
   "source": [
    "def get_geometry(dataframe, state = None, idx = None, end_idx = None):\n",
    "    '''\n",
    "    To return all, by state, or by index geometries from dataframe.\n",
    "    from a dataframe and display map centered on geometry.\n",
    "    \n",
    "    state (str) - Capitalized abbreviation of state\n",
    "    \n",
    "    idx (int) - Index of DataFrame\n",
    "    \n",
    "    map_object (map variable) - Variable name of map\n",
    "    '''\n",
    "    \n",
    "    dataframe = dataframe.loc[dataframe['COUNTRY'] == 'USA'].reset_index(drop=True)\n",
    "    \n",
    "    map_object = gis.map()\n",
    "    \n",
    "    if state == None and idx == None:\n",
    "        \n",
    "        all_raw_geometry = dataframe['SHAPE']\n",
    "        \n",
    "        for i in range(len(dataframe)):\n",
    "            \n",
    "            map_object.draw(all_raw_geometry[i])\n",
    "            \n",
    "        return all_raw_geometry, map_object\n",
    "            \n",
    "    if state != None:\n",
    "        \n",
    "        dataframe = dataframe.loc[dataframe['STATE'] == state].reset_index(drop=True)\n",
    "        \n",
    "        state_geometry = dataframe['SHAPE']\n",
    "        \n",
    "        map_object = gis.map(f'{state}, USA')\n",
    "        \n",
    "        for j in range(len(dataframe)):\n",
    "            \n",
    "            map_object.draw(state_geometry[j])\n",
    "            \n",
    "        return state_geometry, map_object\n",
    "    \n",
    "    if idx != None and end_idx == None:\n",
    "        \n",
    "        dataframe = dataframe.iloc[[idx]].reset_index(drop=True)\n",
    "        \n",
    "        idx_geometry = dataframe['SHAPE']\n",
    "        \n",
    "        state = dataframe['STATE'][idx]\n",
    "    \n",
    "        map_object = gis.map(f'{state}, USA')\n",
    "        \n",
    "        for j in range(len(dataframe)):\n",
    "            \n",
    "            map_object.draw(idx_geometry[j])\n",
    "            \n",
    "        return idx_geometry, map_object\n",
    "    \n",
    "    if idx != None and end_idx != None:\n",
    "        \n",
    "        dataframe=dataframe.iloc[idx:end_idx].reset_index(drop=True)\n",
    "        \n",
    "        idx_to_idx_geometry = dataframe['SHAPE']\n",
    "        \n",
    "        for k in range(len(dataframe)):\n",
    "            \n",
    "            map_object.draw(idx_to_idx_geometry[k])\n",
    "            \n",
    "        return idx_to_idx_geometry, map_object\n",
    "        "
   ]
  },
  {
   "cell_type": "code",
   "execution_count": 206,
   "id": "4b703765",
   "metadata": {
    "scrolled": true
   },
   "outputs": [],
   "source": [
    "rawgeom, testmap1 = get_geometry(ERST_df, idx = 0, end_idx = 2)"
   ]
  },
  {
   "cell_type": "code",
   "execution_count": 211,
   "id": "f369a66a",
   "metadata": {},
   "outputs": [],
   "source": [
    "poly = rawgeom[0]"
   ]
  },
  {
   "cell_type": "code",
   "execution_count": 212,
   "id": "1550c870",
   "metadata": {},
   "outputs": [],
   "source": [
    "def create_buffer(geometry, distance):\n",
    "    pass"
   ]
  },
  {
   "cell_type": "code",
   "execution_count": 221,
   "id": "d462cd54",
   "metadata": {},
   "outputs": [
    {
     "name": "stderr",
     "output_type": "stream",
     "text": [
      "Invalid value for parameter inputLayer - Details : Invalid JSON for GPFeatureRecordSetLayer or GPRecordSet datatype \n",
      "Failed.\n"
     ]
    },
    {
     "ename": "Exception",
     "evalue": "Job failed.",
     "output_type": "error",
     "traceback": [
      "\u001b[0;31m---------------------------------------------------------------------------\u001b[0m",
      "\u001b[0;31mException\u001b[0m                                 Traceback (most recent call last)",
      "\u001b[0;32m/var/folders/70/s03t_xm53wq9db1vxd6l5d8c0000gn/T/ipykernel_2591/4148131237.py\u001b[0m in \u001b[0;36m<module>\u001b[0;34m\u001b[0m\n\u001b[0;32m----> 1\u001b[0;31m \u001b[0muse_proximity\u001b[0m\u001b[0;34m.\u001b[0m\u001b[0mcreate_buffers\u001b[0m\u001b[0;34m(\u001b[0m\u001b[0mpoly\u001b[0m\u001b[0;34m,\u001b[0m \u001b[0mdistances\u001b[0m\u001b[0;34m=\u001b[0m\u001b[0;34m[\u001b[0m\u001b[0;36m50\u001b[0m\u001b[0;34m]\u001b[0m\u001b[0;34m,\u001b[0m \u001b[0munits\u001b[0m \u001b[0;34m=\u001b[0m \u001b[0;34m'Miles'\u001b[0m\u001b[0;34m)\u001b[0m\u001b[0;34m\u001b[0m\u001b[0;34m\u001b[0m\u001b[0m\n\u001b[0m",
      "\u001b[0;32m~/opt/anaconda3/lib/python3.9/site-packages/arcgis/features/use_proximity.py\u001b[0m in \u001b[0;36mcreate_buffers\u001b[0;34m(input_layer, distances, field, units, dissolve_type, ring_type, side_type, end_type, output_name, context, gis, estimate, future)\u001b[0m\n\u001b[1;32m    588\u001b[0m         \u001b[0mfn\u001b[0m\u001b[0;34m=\u001b[0m\u001b[0mgis\u001b[0m\u001b[0;34m.\u001b[0m\u001b[0m_tools\u001b[0m\u001b[0;34m.\u001b[0m\u001b[0mfeatureanalysis\u001b[0m\u001b[0;34m.\u001b[0m\u001b[0m_tbx\u001b[0m\u001b[0;34m.\u001b[0m\u001b[0mcreate_buffers\u001b[0m\u001b[0;34m,\u001b[0m \u001b[0;34m**\u001b[0m\u001b[0mkwargs\u001b[0m\u001b[0;34m\u001b[0m\u001b[0;34m\u001b[0m\u001b[0m\n\u001b[1;32m    589\u001b[0m     )\n\u001b[0;32m--> 590\u001b[0;31m     \u001b[0;32mreturn\u001b[0m \u001b[0mgis\u001b[0m\u001b[0;34m.\u001b[0m\u001b[0m_tools\u001b[0m\u001b[0;34m.\u001b[0m\u001b[0mfeatureanalysis\u001b[0m\u001b[0;34m.\u001b[0m\u001b[0mcreate_buffers\u001b[0m\u001b[0;34m(\u001b[0m\u001b[0;34m**\u001b[0m\u001b[0mparams\u001b[0m\u001b[0;34m)\u001b[0m\u001b[0;34m\u001b[0m\u001b[0;34m\u001b[0m\u001b[0m\n\u001b[0m\u001b[1;32m    591\u001b[0m \u001b[0;34m\u001b[0m\u001b[0m\n\u001b[1;32m    592\u001b[0m \u001b[0;34m\u001b[0m\u001b[0m\n",
      "\u001b[0;32m~/opt/anaconda3/lib/python3.9/site-packages/arcgis/_impl/tools.py\u001b[0m in \u001b[0;36mcreate_buffers\u001b[0;34m(self, input_layer, distances, field, units, dissolve_type, ring_type, side_type, end_type, output_name, context, estimate, future)\u001b[0m\n\u001b[1;32m   2300\u001b[0m         \u001b[0;32mif\u001b[0m \u001b[0mfuture\u001b[0m\u001b[0;34m:\u001b[0m\u001b[0;34m\u001b[0m\u001b[0;34m\u001b[0m\u001b[0m\n\u001b[1;32m   2301\u001b[0m             \u001b[0;32mreturn\u001b[0m \u001b[0mgpjob\u001b[0m\u001b[0;34m\u001b[0m\u001b[0;34m\u001b[0m\u001b[0m\n\u001b[0;32m-> 2302\u001b[0;31m         \u001b[0mret\u001b[0m \u001b[0;34m=\u001b[0m \u001b[0mgpjob\u001b[0m\u001b[0;34m.\u001b[0m\u001b[0mresult\u001b[0m\u001b[0;34m(\u001b[0m\u001b[0;34m)\u001b[0m\u001b[0;34m\u001b[0m\u001b[0;34m\u001b[0m\u001b[0m\n\u001b[0m\u001b[1;32m   2303\u001b[0m         \u001b[0;32mif\u001b[0m \u001b[0moutput_name\u001b[0m \u001b[0;32mis\u001b[0m \u001b[0;32mnot\u001b[0m \u001b[0;32mNone\u001b[0m \u001b[0;32mand\u001b[0m \u001b[0;34m\"bufferLayer\"\u001b[0m \u001b[0;32min\u001b[0m \u001b[0mret\u001b[0m\u001b[0;34m:\u001b[0m\u001b[0;34m\u001b[0m\u001b[0;34m\u001b[0m\u001b[0m\n\u001b[1;32m   2304\u001b[0m             \u001b[0;32mreturn\u001b[0m \u001b[0mret\u001b[0m\u001b[0;34m[\u001b[0m\u001b[0;34m\"bufferLayer\"\u001b[0m\u001b[0;34m]\u001b[0m\u001b[0;34m\u001b[0m\u001b[0;34m\u001b[0m\u001b[0m\n",
      "\u001b[0;32m~/opt/anaconda3/lib/python3.9/site-packages/arcgis/geoprocessing/_job.py\u001b[0m in \u001b[0;36mresult\u001b[0;34m(self)\u001b[0m\n\u001b[1;32m    218\u001b[0m             \u001b[0;32mreturn\u001b[0m \u001b[0;32mNone\u001b[0m\u001b[0;34m\u001b[0m\u001b[0;34m\u001b[0m\u001b[0m\n\u001b[1;32m    219\u001b[0m         \u001b[0;32mif\u001b[0m \u001b[0mself\u001b[0m\u001b[0;34m.\u001b[0m\u001b[0m_is_fa\u001b[0m\u001b[0;34m:\u001b[0m\u001b[0;34m\u001b[0m\u001b[0;34m\u001b[0m\u001b[0m\n\u001b[0;32m--> 220\u001b[0;31m             \u001b[0;32mreturn\u001b[0m \u001b[0mself\u001b[0m\u001b[0;34m.\u001b[0m\u001b[0m_process_fa\u001b[0m\u001b[0;34m(\u001b[0m\u001b[0mself\u001b[0m\u001b[0;34m.\u001b[0m\u001b[0m_future\u001b[0m\u001b[0;34m.\u001b[0m\u001b[0mresult\u001b[0m\u001b[0;34m(\u001b[0m\u001b[0;34m)\u001b[0m\u001b[0;34m)\u001b[0m\u001b[0;34m\u001b[0m\u001b[0;34m\u001b[0m\u001b[0m\n\u001b[0m\u001b[1;32m    221\u001b[0m         \u001b[0;32melif\u001b[0m \u001b[0mself\u001b[0m\u001b[0;34m.\u001b[0m\u001b[0m_is_ra\u001b[0m\u001b[0;34m:\u001b[0m\u001b[0;34m\u001b[0m\u001b[0;34m\u001b[0m\u001b[0m\n\u001b[1;32m    222\u001b[0m             \u001b[0;32mreturn\u001b[0m \u001b[0mself\u001b[0m\u001b[0;34m.\u001b[0m\u001b[0m_process_ra\u001b[0m\u001b[0;34m(\u001b[0m\u001b[0mself\u001b[0m\u001b[0;34m.\u001b[0m\u001b[0m_future\u001b[0m\u001b[0;34m.\u001b[0m\u001b[0mresult\u001b[0m\u001b[0;34m(\u001b[0m\u001b[0;34m)\u001b[0m\u001b[0;34m)\u001b[0m\u001b[0;34m\u001b[0m\u001b[0;34m\u001b[0m\u001b[0m\n",
      "\u001b[0;32m~/opt/anaconda3/lib/python3.9/concurrent/futures/_base.py\u001b[0m in \u001b[0;36mresult\u001b[0;34m(self, timeout)\u001b[0m\n\u001b[1;32m    443\u001b[0m                     \u001b[0;32mraise\u001b[0m \u001b[0mCancelledError\u001b[0m\u001b[0;34m(\u001b[0m\u001b[0;34m)\u001b[0m\u001b[0;34m\u001b[0m\u001b[0;34m\u001b[0m\u001b[0m\n\u001b[1;32m    444\u001b[0m                 \u001b[0;32melif\u001b[0m \u001b[0mself\u001b[0m\u001b[0;34m.\u001b[0m\u001b[0m_state\u001b[0m \u001b[0;34m==\u001b[0m \u001b[0mFINISHED\u001b[0m\u001b[0;34m:\u001b[0m\u001b[0;34m\u001b[0m\u001b[0;34m\u001b[0m\u001b[0m\n\u001b[0;32m--> 445\u001b[0;31m                     \u001b[0;32mreturn\u001b[0m \u001b[0mself\u001b[0m\u001b[0;34m.\u001b[0m\u001b[0m__get_result\u001b[0m\u001b[0;34m(\u001b[0m\u001b[0;34m)\u001b[0m\u001b[0;34m\u001b[0m\u001b[0;34m\u001b[0m\u001b[0m\n\u001b[0m\u001b[1;32m    446\u001b[0m                 \u001b[0;32melse\u001b[0m\u001b[0;34m:\u001b[0m\u001b[0;34m\u001b[0m\u001b[0;34m\u001b[0m\u001b[0m\n\u001b[1;32m    447\u001b[0m                     \u001b[0;32mraise\u001b[0m \u001b[0mTimeoutError\u001b[0m\u001b[0;34m(\u001b[0m\u001b[0;34m)\u001b[0m\u001b[0;34m\u001b[0m\u001b[0;34m\u001b[0m\u001b[0m\n",
      "\u001b[0;32m~/opt/anaconda3/lib/python3.9/concurrent/futures/_base.py\u001b[0m in \u001b[0;36m__get_result\u001b[0;34m(self)\u001b[0m\n\u001b[1;32m    388\u001b[0m         \u001b[0;32mif\u001b[0m \u001b[0mself\u001b[0m\u001b[0;34m.\u001b[0m\u001b[0m_exception\u001b[0m\u001b[0;34m:\u001b[0m\u001b[0;34m\u001b[0m\u001b[0;34m\u001b[0m\u001b[0m\n\u001b[1;32m    389\u001b[0m             \u001b[0;32mtry\u001b[0m\u001b[0;34m:\u001b[0m\u001b[0;34m\u001b[0m\u001b[0;34m\u001b[0m\u001b[0m\n\u001b[0;32m--> 390\u001b[0;31m                 \u001b[0;32mraise\u001b[0m \u001b[0mself\u001b[0m\u001b[0;34m.\u001b[0m\u001b[0m_exception\u001b[0m\u001b[0;34m\u001b[0m\u001b[0;34m\u001b[0m\u001b[0m\n\u001b[0m\u001b[1;32m    391\u001b[0m             \u001b[0;32mfinally\u001b[0m\u001b[0;34m:\u001b[0m\u001b[0;34m\u001b[0m\u001b[0;34m\u001b[0m\u001b[0m\n\u001b[1;32m    392\u001b[0m                 \u001b[0;31m# Break a reference cycle with the exception in self._exception\u001b[0m\u001b[0;34m\u001b[0m\u001b[0;34m\u001b[0m\u001b[0m\n",
      "\u001b[0;32m~/opt/anaconda3/lib/python3.9/concurrent/futures/thread.py\u001b[0m in \u001b[0;36mrun\u001b[0;34m(self)\u001b[0m\n\u001b[1;32m     50\u001b[0m \u001b[0;34m\u001b[0m\u001b[0m\n\u001b[1;32m     51\u001b[0m         \u001b[0;32mtry\u001b[0m\u001b[0;34m:\u001b[0m\u001b[0;34m\u001b[0m\u001b[0;34m\u001b[0m\u001b[0m\n\u001b[0;32m---> 52\u001b[0;31m             \u001b[0mresult\u001b[0m \u001b[0;34m=\u001b[0m \u001b[0mself\u001b[0m\u001b[0;34m.\u001b[0m\u001b[0mfn\u001b[0m\u001b[0;34m(\u001b[0m\u001b[0;34m*\u001b[0m\u001b[0mself\u001b[0m\u001b[0;34m.\u001b[0m\u001b[0margs\u001b[0m\u001b[0;34m,\u001b[0m \u001b[0;34m**\u001b[0m\u001b[0mself\u001b[0m\u001b[0;34m.\u001b[0m\u001b[0mkwargs\u001b[0m\u001b[0;34m)\u001b[0m\u001b[0;34m\u001b[0m\u001b[0;34m\u001b[0m\u001b[0m\n\u001b[0m\u001b[1;32m     53\u001b[0m         \u001b[0;32mexcept\u001b[0m \u001b[0mBaseException\u001b[0m \u001b[0;32mas\u001b[0m \u001b[0mexc\u001b[0m\u001b[0;34m:\u001b[0m\u001b[0;34m\u001b[0m\u001b[0;34m\u001b[0m\u001b[0m\n\u001b[1;32m     54\u001b[0m             \u001b[0mself\u001b[0m\u001b[0;34m.\u001b[0m\u001b[0mfuture\u001b[0m\u001b[0;34m.\u001b[0m\u001b[0mset_exception\u001b[0m\u001b[0;34m(\u001b[0m\u001b[0mexc\u001b[0m\u001b[0;34m)\u001b[0m\u001b[0;34m\u001b[0m\u001b[0;34m\u001b[0m\u001b[0m\n",
      "\u001b[0;32m~/opt/anaconda3/lib/python3.9/site-packages/arcgis/geoprocessing/_support.py\u001b[0m in \u001b[0;36m_future_op\u001b[0;34m(gptool, task_url, job_info, job_id, param_db, return_values, return_messages)\u001b[0m\n\u001b[1;32m    320\u001b[0m ):\n\u001b[1;32m    321\u001b[0m \u001b[0;34m\u001b[0m\u001b[0m\n\u001b[0;32m--> 322\u001b[0;31m     \u001b[0mjob_info\u001b[0m \u001b[0;34m=\u001b[0m \u001b[0m_analysis_job_status\u001b[0m\u001b[0;34m(\u001b[0m\u001b[0mgptool\u001b[0m\u001b[0;34m,\u001b[0m \u001b[0mtask_url\u001b[0m\u001b[0;34m,\u001b[0m \u001b[0mjob_info\u001b[0m\u001b[0;34m)\u001b[0m\u001b[0;34m\u001b[0m\u001b[0;34m\u001b[0m\u001b[0m\n\u001b[0m\u001b[1;32m    323\u001b[0m     \u001b[0mresp\u001b[0m \u001b[0;34m=\u001b[0m \u001b[0m_analysis_job_results\u001b[0m\u001b[0;34m(\u001b[0m\u001b[0mgptool\u001b[0m\u001b[0;34m,\u001b[0m \u001b[0mtask_url\u001b[0m\u001b[0;34m,\u001b[0m \u001b[0mjob_info\u001b[0m\u001b[0;34m,\u001b[0m \u001b[0mjob_id\u001b[0m\u001b[0;34m)\u001b[0m\u001b[0;34m\u001b[0m\u001b[0;34m\u001b[0m\u001b[0m\n\u001b[1;32m    324\u001b[0m \u001b[0;34m\u001b[0m\u001b[0m\n",
      "\u001b[0;32m~/opt/anaconda3/lib/python3.9/site-packages/arcgis/geoprocessing/_support.py\u001b[0m in \u001b[0;36m_analysis_job_status\u001b[0;34m(gptool, task_url, job_info)\u001b[0m\n\u001b[1;32m    245\u001b[0m \u001b[0;34m\u001b[0m\u001b[0m\n\u001b[1;32m    246\u001b[0m                     \u001b[0;32mif\u001b[0m \u001b[0mjob_response\u001b[0m\u001b[0;34m.\u001b[0m\u001b[0mget\u001b[0m\u001b[0;34m(\u001b[0m\u001b[0;34m\"jobStatus\"\u001b[0m\u001b[0;34m)\u001b[0m \u001b[0;34m==\u001b[0m \u001b[0;34m\"esriJobFailed\"\u001b[0m\u001b[0;34m:\u001b[0m\u001b[0;34m\u001b[0m\u001b[0;34m\u001b[0m\u001b[0m\n\u001b[0;32m--> 247\u001b[0;31m                         \u001b[0;32mraise\u001b[0m \u001b[0mException\u001b[0m\u001b[0;34m(\u001b[0m\u001b[0;34m\"Job failed.\"\u001b[0m\u001b[0;34m)\u001b[0m\u001b[0;34m\u001b[0m\u001b[0;34m\u001b[0m\u001b[0m\n\u001b[0m\u001b[1;32m    248\u001b[0m                     \u001b[0;32melif\u001b[0m \u001b[0mjob_response\u001b[0m\u001b[0;34m.\u001b[0m\u001b[0mget\u001b[0m\u001b[0;34m(\u001b[0m\u001b[0;34m\"jobStatus\"\u001b[0m\u001b[0;34m)\u001b[0m \u001b[0;34m==\u001b[0m \u001b[0;34m\"esriJobCancelled\"\u001b[0m\u001b[0;34m:\u001b[0m\u001b[0;34m\u001b[0m\u001b[0;34m\u001b[0m\u001b[0m\n\u001b[1;32m    249\u001b[0m                         \u001b[0;32mraise\u001b[0m \u001b[0mException\u001b[0m\u001b[0;34m(\u001b[0m\u001b[0;34m\"Job cancelled.\"\u001b[0m\u001b[0;34m)\u001b[0m\u001b[0;34m\u001b[0m\u001b[0;34m\u001b[0m\u001b[0m\n",
      "\u001b[0;31mException\u001b[0m: Job failed."
     ]
    }
   ],
   "source": [
    "use_proximity.create_buffers(poly, distances=[50], units = 'Miles')"
   ]
  },
  {
   "cell_type": "code",
   "execution_count": null,
   "id": "0607a863",
   "metadata": {},
   "outputs": [],
   "source": []
  }
 ],
 "metadata": {
  "kernelspec": {
   "display_name": "Python 3 (ipykernel)",
   "language": "python",
   "name": "python3"
  },
  "language_info": {
   "codemirror_mode": {
    "name": "ipython",
    "version": 3
   },
   "file_extension": ".py",
   "mimetype": "text/x-python",
   "name": "python",
   "nbconvert_exporter": "python",
   "pygments_lexer": "ipython3",
   "version": "3.9.7"
  }
 },
 "nbformat": 4,
 "nbformat_minor": 5
}
